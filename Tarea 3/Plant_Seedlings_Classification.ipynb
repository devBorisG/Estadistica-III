{
 "cells": [
  {
   "cell_type": "code",
   "execution_count": 1,
   "id": "initial_id",
   "metadata": {
    "collapsed": true,
    "ExecuteTime": {
     "end_time": "2023-10-15T22:20:05.586307800Z",
     "start_time": "2023-10-15T22:19:59.650679700Z"
    }
   },
   "outputs": [],
   "source": [
    "import glob\n",
    "import seaborn as sns\n",
    "import pandas as pd\n",
    "import matplotlib.image as img\n",
    "from PIL import Image\n",
    "import matplotlib.pyplot as plt\n",
    "import numpy as np\n",
    "from keras.utils import to_categorical\n",
    "import cv2\n",
    "from sklearn import preprocessing\n",
    "from sklearn.model_selection import train_test_split\n",
    "import keras\n",
    "from keras.models import Sequential\n",
    "from sklearn.metrics import accuracy_score\n",
    "from keras.layers import Dense, Activation, Dropout, Flatten, Conv2D, MaxPooling2D\n",
    "from keras.utils import to_categorical\n",
    "from tensorflow.keras.layers import BatchNormalization\n",
    "from sklearn.metrics import confusion_matrix\n",
    "from  sklearn.linear_model import LogisticRegression\n",
    "import tensorflow as tf\n",
    "import PIL\n",
    "from tensorflow import keras\n",
    "from tensorflow.keras import layers\n",
    "from tensorflow.keras.models import Sequential\n",
    "from tensorflow.keras.preprocessing.image import ImageDataGenerator\n"
   ]
  },
  {
   "cell_type": "code",
   "execution_count": 2,
   "outputs": [
    {
     "data": {
      "text/plain": "Loose Silky-bent             620\nCommon Chickweed             566\nScentless Mayweed            480\nSmall-flowered Cranesbill    480\nFat Hen                      432\nSugar beet                   361\nCharlock                     355\nCleavers                     263\nBlack-grass                  246\nShepherds Purse              233\nMaize                        216\nName: count, dtype: int64"
     },
     "execution_count": 2,
     "metadata": {},
     "output_type": "execute_result"
    }
   ],
   "source": [
    "desire_size = (90, 90)\n",
    "labels = list(map(lambda x: x.split(\"\\\\\")[1], glob.glob(\"data/train/*/*\")))\n",
    "IDS = list(map(lambda x: x.split(\"\\\\\")[2], glob.glob(\"data/train/*/*\")))\n",
    "le = preprocessing.LabelEncoder()\n",
    "le.fit(list(set(labels)))\n",
    "num_out = len(le.classes_)\n",
    "pd.Series(labels).value_counts()"
   ],
   "metadata": {
    "collapsed": false,
    "ExecuteTime": {
     "end_time": "2023-10-15T22:20:05.696180600Z",
     "start_time": "2023-10-15T22:20:05.584306200Z"
    }
   },
   "id": "64e33cb61f454d3f"
  },
  {
   "cell_type": "code",
   "execution_count": 3,
   "outputs": [
    {
     "data": {
      "text/plain": "['Black-grass',\n 'Black-grass',\n 'Black-grass',\n 'Black-grass',\n 'Black-grass',\n 'Black-grass',\n 'Black-grass',\n 'Black-grass',\n 'Black-grass',\n 'Black-grass',\n 'Black-grass',\n 'Black-grass',\n 'Black-grass',\n 'Black-grass',\n 'Black-grass',\n 'Black-grass',\n 'Black-grass',\n 'Black-grass',\n 'Black-grass',\n 'Black-grass',\n 'Black-grass',\n 'Black-grass',\n 'Black-grass',\n 'Black-grass',\n 'Black-grass',\n 'Black-grass',\n 'Black-grass',\n 'Black-grass',\n 'Black-grass',\n 'Black-grass',\n 'Black-grass',\n 'Black-grass',\n 'Black-grass',\n 'Black-grass',\n 'Black-grass',\n 'Black-grass',\n 'Black-grass',\n 'Black-grass',\n 'Black-grass',\n 'Black-grass',\n 'Black-grass',\n 'Black-grass',\n 'Black-grass',\n 'Black-grass',\n 'Black-grass',\n 'Black-grass',\n 'Black-grass',\n 'Black-grass',\n 'Black-grass',\n 'Black-grass',\n 'Black-grass',\n 'Black-grass',\n 'Black-grass',\n 'Black-grass',\n 'Black-grass',\n 'Black-grass',\n 'Black-grass',\n 'Black-grass',\n 'Black-grass',\n 'Black-grass',\n 'Black-grass',\n 'Black-grass',\n 'Black-grass',\n 'Black-grass',\n 'Black-grass',\n 'Black-grass',\n 'Black-grass',\n 'Black-grass',\n 'Black-grass',\n 'Black-grass',\n 'Black-grass',\n 'Black-grass',\n 'Black-grass',\n 'Black-grass',\n 'Black-grass',\n 'Black-grass',\n 'Black-grass',\n 'Black-grass',\n 'Black-grass',\n 'Black-grass',\n 'Black-grass',\n 'Black-grass',\n 'Black-grass',\n 'Black-grass',\n 'Black-grass',\n 'Black-grass',\n 'Black-grass',\n 'Black-grass',\n 'Black-grass',\n 'Black-grass',\n 'Black-grass',\n 'Black-grass',\n 'Black-grass',\n 'Black-grass',\n 'Black-grass',\n 'Black-grass',\n 'Black-grass',\n 'Black-grass',\n 'Black-grass',\n 'Black-grass',\n 'Black-grass',\n 'Black-grass',\n 'Black-grass',\n 'Black-grass',\n 'Black-grass',\n 'Black-grass',\n 'Black-grass',\n 'Black-grass',\n 'Black-grass',\n 'Black-grass',\n 'Black-grass',\n 'Black-grass',\n 'Black-grass',\n 'Black-grass',\n 'Black-grass',\n 'Black-grass',\n 'Black-grass',\n 'Black-grass',\n 'Black-grass',\n 'Black-grass',\n 'Black-grass',\n 'Black-grass',\n 'Black-grass',\n 'Black-grass',\n 'Black-grass',\n 'Black-grass',\n 'Black-grass',\n 'Black-grass',\n 'Black-grass',\n 'Black-grass',\n 'Black-grass',\n 'Black-grass',\n 'Black-grass',\n 'Black-grass',\n 'Black-grass',\n 'Black-grass',\n 'Black-grass',\n 'Black-grass',\n 'Black-grass',\n 'Black-grass',\n 'Black-grass',\n 'Black-grass',\n 'Black-grass',\n 'Black-grass',\n 'Black-grass',\n 'Black-grass',\n 'Black-grass',\n 'Black-grass',\n 'Black-grass',\n 'Black-grass',\n 'Black-grass',\n 'Black-grass',\n 'Black-grass',\n 'Black-grass',\n 'Black-grass',\n 'Black-grass',\n 'Black-grass',\n 'Black-grass',\n 'Black-grass',\n 'Black-grass',\n 'Black-grass',\n 'Black-grass',\n 'Black-grass',\n 'Black-grass',\n 'Black-grass',\n 'Black-grass',\n 'Black-grass',\n 'Black-grass',\n 'Black-grass',\n 'Black-grass',\n 'Black-grass',\n 'Black-grass',\n 'Black-grass',\n 'Black-grass',\n 'Black-grass',\n 'Black-grass',\n 'Black-grass',\n 'Black-grass',\n 'Black-grass',\n 'Black-grass',\n 'Black-grass',\n 'Black-grass',\n 'Black-grass',\n 'Black-grass',\n 'Black-grass',\n 'Black-grass',\n 'Black-grass',\n 'Black-grass',\n 'Black-grass',\n 'Black-grass',\n 'Black-grass',\n 'Black-grass',\n 'Black-grass',\n 'Black-grass',\n 'Black-grass',\n 'Black-grass',\n 'Black-grass',\n 'Black-grass',\n 'Black-grass',\n 'Black-grass',\n 'Black-grass',\n 'Black-grass',\n 'Black-grass',\n 'Black-grass',\n 'Black-grass',\n 'Black-grass',\n 'Black-grass',\n 'Black-grass',\n 'Black-grass',\n 'Black-grass',\n 'Black-grass',\n 'Black-grass',\n 'Black-grass',\n 'Black-grass',\n 'Black-grass',\n 'Black-grass',\n 'Black-grass',\n 'Black-grass',\n 'Black-grass',\n 'Black-grass',\n 'Black-grass',\n 'Black-grass',\n 'Black-grass',\n 'Black-grass',\n 'Black-grass',\n 'Black-grass',\n 'Black-grass',\n 'Black-grass',\n 'Black-grass',\n 'Black-grass',\n 'Black-grass',\n 'Black-grass',\n 'Black-grass',\n 'Black-grass',\n 'Black-grass',\n 'Black-grass',\n 'Black-grass',\n 'Black-grass',\n 'Black-grass',\n 'Black-grass',\n 'Black-grass',\n 'Black-grass',\n 'Black-grass',\n 'Black-grass',\n 'Black-grass',\n 'Black-grass',\n 'Charlock',\n 'Charlock',\n 'Charlock',\n 'Charlock',\n 'Charlock',\n 'Charlock',\n 'Charlock',\n 'Charlock',\n 'Charlock',\n 'Charlock',\n 'Charlock',\n 'Charlock',\n 'Charlock',\n 'Charlock',\n 'Charlock',\n 'Charlock',\n 'Charlock',\n 'Charlock',\n 'Charlock',\n 'Charlock',\n 'Charlock',\n 'Charlock',\n 'Charlock',\n 'Charlock',\n 'Charlock',\n 'Charlock',\n 'Charlock',\n 'Charlock',\n 'Charlock',\n 'Charlock',\n 'Charlock',\n 'Charlock',\n 'Charlock',\n 'Charlock',\n 'Charlock',\n 'Charlock',\n 'Charlock',\n 'Charlock',\n 'Charlock',\n 'Charlock',\n 'Charlock',\n 'Charlock',\n 'Charlock',\n 'Charlock',\n 'Charlock',\n 'Charlock',\n 'Charlock',\n 'Charlock',\n 'Charlock',\n 'Charlock',\n 'Charlock',\n 'Charlock',\n 'Charlock',\n 'Charlock',\n 'Charlock',\n 'Charlock',\n 'Charlock',\n 'Charlock',\n 'Charlock',\n 'Charlock',\n 'Charlock',\n 'Charlock',\n 'Charlock',\n 'Charlock',\n 'Charlock',\n 'Charlock',\n 'Charlock',\n 'Charlock',\n 'Charlock',\n 'Charlock',\n 'Charlock',\n 'Charlock',\n 'Charlock',\n 'Charlock',\n 'Charlock',\n 'Charlock',\n 'Charlock',\n 'Charlock',\n 'Charlock',\n 'Charlock',\n 'Charlock',\n 'Charlock',\n 'Charlock',\n 'Charlock',\n 'Charlock',\n 'Charlock',\n 'Charlock',\n 'Charlock',\n 'Charlock',\n 'Charlock',\n 'Charlock',\n 'Charlock',\n 'Charlock',\n 'Charlock',\n 'Charlock',\n 'Charlock',\n 'Charlock',\n 'Charlock',\n 'Charlock',\n 'Charlock',\n 'Charlock',\n 'Charlock',\n 'Charlock',\n 'Charlock',\n 'Charlock',\n 'Charlock',\n 'Charlock',\n 'Charlock',\n 'Charlock',\n 'Charlock',\n 'Charlock',\n 'Charlock',\n 'Charlock',\n 'Charlock',\n 'Charlock',\n 'Charlock',\n 'Charlock',\n 'Charlock',\n 'Charlock',\n 'Charlock',\n 'Charlock',\n 'Charlock',\n 'Charlock',\n 'Charlock',\n 'Charlock',\n 'Charlock',\n 'Charlock',\n 'Charlock',\n 'Charlock',\n 'Charlock',\n 'Charlock',\n 'Charlock',\n 'Charlock',\n 'Charlock',\n 'Charlock',\n 'Charlock',\n 'Charlock',\n 'Charlock',\n 'Charlock',\n 'Charlock',\n 'Charlock',\n 'Charlock',\n 'Charlock',\n 'Charlock',\n 'Charlock',\n 'Charlock',\n 'Charlock',\n 'Charlock',\n 'Charlock',\n 'Charlock',\n 'Charlock',\n 'Charlock',\n 'Charlock',\n 'Charlock',\n 'Charlock',\n 'Charlock',\n 'Charlock',\n 'Charlock',\n 'Charlock',\n 'Charlock',\n 'Charlock',\n 'Charlock',\n 'Charlock',\n 'Charlock',\n 'Charlock',\n 'Charlock',\n 'Charlock',\n 'Charlock',\n 'Charlock',\n 'Charlock',\n 'Charlock',\n 'Charlock',\n 'Charlock',\n 'Charlock',\n 'Charlock',\n 'Charlock',\n 'Charlock',\n 'Charlock',\n 'Charlock',\n 'Charlock',\n 'Charlock',\n 'Charlock',\n 'Charlock',\n 'Charlock',\n 'Charlock',\n 'Charlock',\n 'Charlock',\n 'Charlock',\n 'Charlock',\n 'Charlock',\n 'Charlock',\n 'Charlock',\n 'Charlock',\n 'Charlock',\n 'Charlock',\n 'Charlock',\n 'Charlock',\n 'Charlock',\n 'Charlock',\n 'Charlock',\n 'Charlock',\n 'Charlock',\n 'Charlock',\n 'Charlock',\n 'Charlock',\n 'Charlock',\n 'Charlock',\n 'Charlock',\n 'Charlock',\n 'Charlock',\n 'Charlock',\n 'Charlock',\n 'Charlock',\n 'Charlock',\n 'Charlock',\n 'Charlock',\n 'Charlock',\n 'Charlock',\n 'Charlock',\n 'Charlock',\n 'Charlock',\n 'Charlock',\n 'Charlock',\n 'Charlock',\n 'Charlock',\n 'Charlock',\n 'Charlock',\n 'Charlock',\n 'Charlock',\n 'Charlock',\n 'Charlock',\n 'Charlock',\n 'Charlock',\n 'Charlock',\n 'Charlock',\n 'Charlock',\n 'Charlock',\n 'Charlock',\n 'Charlock',\n 'Charlock',\n 'Charlock',\n 'Charlock',\n 'Charlock',\n 'Charlock',\n 'Charlock',\n 'Charlock',\n 'Charlock',\n 'Charlock',\n 'Charlock',\n 'Charlock',\n 'Charlock',\n 'Charlock',\n 'Charlock',\n 'Charlock',\n 'Charlock',\n 'Charlock',\n 'Charlock',\n 'Charlock',\n 'Charlock',\n 'Charlock',\n 'Charlock',\n 'Charlock',\n 'Charlock',\n 'Charlock',\n 'Charlock',\n 'Charlock',\n 'Charlock',\n 'Charlock',\n 'Charlock',\n 'Charlock',\n 'Charlock',\n 'Charlock',\n 'Charlock',\n 'Charlock',\n 'Charlock',\n 'Charlock',\n 'Charlock',\n 'Charlock',\n 'Charlock',\n 'Charlock',\n 'Charlock',\n 'Charlock',\n 'Charlock',\n 'Charlock',\n 'Charlock',\n 'Charlock',\n 'Charlock',\n 'Charlock',\n 'Charlock',\n 'Charlock',\n 'Charlock',\n 'Charlock',\n 'Charlock',\n 'Charlock',\n 'Charlock',\n 'Charlock',\n 'Charlock',\n 'Charlock',\n 'Charlock',\n 'Charlock',\n 'Charlock',\n 'Charlock',\n 'Charlock',\n 'Charlock',\n 'Charlock',\n 'Charlock',\n 'Charlock',\n 'Charlock',\n 'Charlock',\n 'Charlock',\n 'Charlock',\n 'Charlock',\n 'Charlock',\n 'Charlock',\n 'Charlock',\n 'Charlock',\n 'Charlock',\n 'Charlock',\n 'Charlock',\n 'Charlock',\n 'Charlock',\n 'Charlock',\n 'Charlock',\n 'Charlock',\n 'Charlock',\n 'Charlock',\n 'Charlock',\n 'Charlock',\n 'Charlock',\n 'Charlock',\n 'Charlock',\n 'Charlock',\n 'Charlock',\n 'Charlock',\n 'Charlock',\n 'Charlock',\n 'Charlock',\n 'Charlock',\n 'Charlock',\n 'Charlock',\n 'Charlock',\n 'Charlock',\n 'Charlock',\n 'Charlock',\n 'Charlock',\n 'Charlock',\n 'Charlock',\n 'Charlock',\n 'Charlock',\n 'Charlock',\n 'Charlock',\n 'Charlock',\n 'Charlock',\n 'Charlock',\n 'Charlock',\n 'Cleavers',\n 'Cleavers',\n 'Cleavers',\n 'Cleavers',\n 'Cleavers',\n 'Cleavers',\n 'Cleavers',\n 'Cleavers',\n 'Cleavers',\n 'Cleavers',\n 'Cleavers',\n 'Cleavers',\n 'Cleavers',\n 'Cleavers',\n 'Cleavers',\n 'Cleavers',\n 'Cleavers',\n 'Cleavers',\n 'Cleavers',\n 'Cleavers',\n 'Cleavers',\n 'Cleavers',\n 'Cleavers',\n 'Cleavers',\n 'Cleavers',\n 'Cleavers',\n 'Cleavers',\n 'Cleavers',\n 'Cleavers',\n 'Cleavers',\n 'Cleavers',\n 'Cleavers',\n 'Cleavers',\n 'Cleavers',\n 'Cleavers',\n 'Cleavers',\n 'Cleavers',\n 'Cleavers',\n 'Cleavers',\n 'Cleavers',\n 'Cleavers',\n 'Cleavers',\n 'Cleavers',\n 'Cleavers',\n 'Cleavers',\n 'Cleavers',\n 'Cleavers',\n 'Cleavers',\n 'Cleavers',\n 'Cleavers',\n 'Cleavers',\n 'Cleavers',\n 'Cleavers',\n 'Cleavers',\n 'Cleavers',\n 'Cleavers',\n 'Cleavers',\n 'Cleavers',\n 'Cleavers',\n 'Cleavers',\n 'Cleavers',\n 'Cleavers',\n 'Cleavers',\n 'Cleavers',\n 'Cleavers',\n 'Cleavers',\n 'Cleavers',\n 'Cleavers',\n 'Cleavers',\n 'Cleavers',\n 'Cleavers',\n 'Cleavers',\n 'Cleavers',\n 'Cleavers',\n 'Cleavers',\n 'Cleavers',\n 'Cleavers',\n 'Cleavers',\n 'Cleavers',\n 'Cleavers',\n 'Cleavers',\n 'Cleavers',\n 'Cleavers',\n 'Cleavers',\n 'Cleavers',\n 'Cleavers',\n 'Cleavers',\n 'Cleavers',\n 'Cleavers',\n 'Cleavers',\n 'Cleavers',\n 'Cleavers',\n 'Cleavers',\n 'Cleavers',\n 'Cleavers',\n 'Cleavers',\n 'Cleavers',\n 'Cleavers',\n 'Cleavers',\n 'Cleavers',\n 'Cleavers',\n 'Cleavers',\n 'Cleavers',\n 'Cleavers',\n 'Cleavers',\n 'Cleavers',\n 'Cleavers',\n 'Cleavers',\n 'Cleavers',\n 'Cleavers',\n 'Cleavers',\n 'Cleavers',\n 'Cleavers',\n 'Cleavers',\n 'Cleavers',\n 'Cleavers',\n 'Cleavers',\n 'Cleavers',\n 'Cleavers',\n 'Cleavers',\n 'Cleavers',\n 'Cleavers',\n 'Cleavers',\n 'Cleavers',\n 'Cleavers',\n 'Cleavers',\n 'Cleavers',\n 'Cleavers',\n 'Cleavers',\n 'Cleavers',\n 'Cleavers',\n 'Cleavers',\n 'Cleavers',\n 'Cleavers',\n 'Cleavers',\n 'Cleavers',\n 'Cleavers',\n 'Cleavers',\n 'Cleavers',\n 'Cleavers',\n 'Cleavers',\n 'Cleavers',\n 'Cleavers',\n 'Cleavers',\n 'Cleavers',\n 'Cleavers',\n 'Cleavers',\n 'Cleavers',\n 'Cleavers',\n 'Cleavers',\n 'Cleavers',\n 'Cleavers',\n 'Cleavers',\n 'Cleavers',\n 'Cleavers',\n 'Cleavers',\n 'Cleavers',\n 'Cleavers',\n 'Cleavers',\n 'Cleavers',\n 'Cleavers',\n 'Cleavers',\n 'Cleavers',\n 'Cleavers',\n 'Cleavers',\n 'Cleavers',\n 'Cleavers',\n 'Cleavers',\n 'Cleavers',\n 'Cleavers',\n 'Cleavers',\n 'Cleavers',\n 'Cleavers',\n 'Cleavers',\n 'Cleavers',\n 'Cleavers',\n 'Cleavers',\n 'Cleavers',\n 'Cleavers',\n 'Cleavers',\n 'Cleavers',\n 'Cleavers',\n 'Cleavers',\n 'Cleavers',\n 'Cleavers',\n 'Cleavers',\n 'Cleavers',\n 'Cleavers',\n 'Cleavers',\n 'Cleavers',\n 'Cleavers',\n 'Cleavers',\n 'Cleavers',\n 'Cleavers',\n 'Cleavers',\n 'Cleavers',\n 'Cleavers',\n 'Cleavers',\n 'Cleavers',\n 'Cleavers',\n 'Cleavers',\n 'Cleavers',\n 'Cleavers',\n 'Cleavers',\n 'Cleavers',\n 'Cleavers',\n 'Cleavers',\n 'Cleavers',\n 'Cleavers',\n 'Cleavers',\n 'Cleavers',\n 'Cleavers',\n 'Cleavers',\n 'Cleavers',\n 'Cleavers',\n 'Cleavers',\n 'Cleavers',\n 'Cleavers',\n 'Cleavers',\n 'Cleavers',\n 'Cleavers',\n 'Cleavers',\n 'Cleavers',\n 'Cleavers',\n 'Cleavers',\n 'Cleavers',\n 'Cleavers',\n 'Cleavers',\n 'Cleavers',\n 'Cleavers',\n 'Cleavers',\n 'Cleavers',\n 'Cleavers',\n 'Cleavers',\n 'Cleavers',\n 'Cleavers',\n 'Cleavers',\n 'Cleavers',\n 'Cleavers',\n 'Cleavers',\n 'Cleavers',\n 'Cleavers',\n 'Cleavers',\n 'Cleavers',\n 'Cleavers',\n 'Cleavers',\n 'Cleavers',\n 'Cleavers',\n 'Cleavers',\n 'Cleavers',\n 'Cleavers',\n 'Cleavers',\n 'Cleavers',\n 'Cleavers',\n 'Cleavers',\n 'Cleavers',\n 'Cleavers',\n 'Cleavers',\n 'Cleavers',\n 'Cleavers',\n 'Cleavers',\n 'Cleavers',\n 'Cleavers',\n 'Common Chickweed',\n 'Common Chickweed',\n 'Common Chickweed',\n 'Common Chickweed',\n 'Common Chickweed',\n 'Common Chickweed',\n 'Common Chickweed',\n 'Common Chickweed',\n 'Common Chickweed',\n 'Common Chickweed',\n 'Common Chickweed',\n 'Common Chickweed',\n 'Common Chickweed',\n 'Common Chickweed',\n 'Common Chickweed',\n 'Common Chickweed',\n 'Common Chickweed',\n 'Common Chickweed',\n 'Common Chickweed',\n 'Common Chickweed',\n 'Common Chickweed',\n 'Common Chickweed',\n 'Common Chickweed',\n 'Common Chickweed',\n 'Common Chickweed',\n 'Common Chickweed',\n 'Common Chickweed',\n 'Common Chickweed',\n 'Common Chickweed',\n 'Common Chickweed',\n 'Common Chickweed',\n 'Common Chickweed',\n 'Common Chickweed',\n 'Common Chickweed',\n 'Common Chickweed',\n 'Common Chickweed',\n 'Common Chickweed',\n 'Common Chickweed',\n 'Common Chickweed',\n 'Common Chickweed',\n 'Common Chickweed',\n 'Common Chickweed',\n 'Common Chickweed',\n 'Common Chickweed',\n 'Common Chickweed',\n 'Common Chickweed',\n 'Common Chickweed',\n 'Common Chickweed',\n 'Common Chickweed',\n 'Common Chickweed',\n 'Common Chickweed',\n 'Common Chickweed',\n 'Common Chickweed',\n 'Common Chickweed',\n 'Common Chickweed',\n 'Common Chickweed',\n 'Common Chickweed',\n 'Common Chickweed',\n 'Common Chickweed',\n 'Common Chickweed',\n 'Common Chickweed',\n 'Common Chickweed',\n 'Common Chickweed',\n 'Common Chickweed',\n 'Common Chickweed',\n 'Common Chickweed',\n 'Common Chickweed',\n 'Common Chickweed',\n 'Common Chickweed',\n 'Common Chickweed',\n 'Common Chickweed',\n 'Common Chickweed',\n 'Common Chickweed',\n 'Common Chickweed',\n 'Common Chickweed',\n 'Common Chickweed',\n 'Common Chickweed',\n 'Common Chickweed',\n 'Common Chickweed',\n 'Common Chickweed',\n 'Common Chickweed',\n 'Common Chickweed',\n 'Common Chickweed',\n 'Common Chickweed',\n 'Common Chickweed',\n 'Common Chickweed',\n 'Common Chickweed',\n 'Common Chickweed',\n 'Common Chickweed',\n 'Common Chickweed',\n 'Common Chickweed',\n 'Common Chickweed',\n 'Common Chickweed',\n 'Common Chickweed',\n 'Common Chickweed',\n 'Common Chickweed',\n 'Common Chickweed',\n 'Common Chickweed',\n 'Common Chickweed',\n 'Common Chickweed',\n 'Common Chickweed',\n 'Common Chickweed',\n 'Common Chickweed',\n 'Common Chickweed',\n 'Common Chickweed',\n 'Common Chickweed',\n 'Common Chickweed',\n 'Common Chickweed',\n 'Common Chickweed',\n 'Common Chickweed',\n 'Common Chickweed',\n 'Common Chickweed',\n 'Common Chickweed',\n 'Common Chickweed',\n 'Common Chickweed',\n 'Common Chickweed',\n 'Common Chickweed',\n 'Common Chickweed',\n 'Common Chickweed',\n 'Common Chickweed',\n 'Common Chickweed',\n 'Common Chickweed',\n 'Common Chickweed',\n 'Common Chickweed',\n 'Common Chickweed',\n 'Common Chickweed',\n 'Common Chickweed',\n 'Common Chickweed',\n 'Common Chickweed',\n 'Common Chickweed',\n 'Common Chickweed',\n 'Common Chickweed',\n 'Common Chickweed',\n 'Common Chickweed',\n 'Common Chickweed',\n 'Common Chickweed',\n ...]"
     },
     "execution_count": 3,
     "metadata": {},
     "output_type": "execute_result"
    }
   ],
   "source": [
    "labels"
   ],
   "metadata": {
    "collapsed": false,
    "ExecuteTime": {
     "end_time": "2023-10-15T22:20:05.737673800Z",
     "start_time": "2023-10-15T22:20:05.686142800Z"
    }
   },
   "id": "23ad8a1608150572"
  },
  {
   "cell_type": "code",
   "execution_count": 4,
   "outputs": [],
   "source": [
    "ls_size = []\n",
    "X = []\n",
    "y = []\n",
    "for file in glob.glob(\"data/train/*/*\"):\n",
    "    label = file.split(\"\\\\\")[1]\n",
    "    id_img = file.split(\"\\\\\")[2]\n",
    "    # gray scale para tener los 3 colores quite la L\n",
    "    im = Image.open(file).convert(\"L\")\n",
    "    ls_size.append([im.size[0],im.size[1],label,id_img])\n",
    "    img_resize = im.resize(desire_size)\n",
    "    X.append(np.array(img_resize).flatten())\n",
    "    y.append(label)"
   ],
   "metadata": {
    "collapsed": false,
    "ExecuteTime": {
     "end_time": "2023-10-15T22:20:39.422604100Z",
     "start_time": "2023-10-15T22:20:05.707719700Z"
    }
   },
   "id": "488f0df1ad43ae0d"
  },
  {
   "cell_type": "code",
   "execution_count": 5,
   "outputs": [],
   "source": [
    "# datos ready for CNN\n",
    "y_img = to_categorical(le.transform(y), dtype =\"uint8\")\n",
    "X_img = np.reshape(np.array(X), (-1, desire_size[0], desire_size[1]))\n",
    "X_train,X_test, y_train,y_test = train_test_split(X_img,y_img,test_size=0.2)"
   ],
   "metadata": {
    "collapsed": false,
    "ExecuteTime": {
     "end_time": "2023-10-15T22:20:39.474573900Z",
     "start_time": "2023-10-15T22:20:39.424609Z"
    }
   },
   "id": "587aa9e92d1bfa6"
  },
  {
   "cell_type": "code",
   "execution_count": 6,
   "outputs": [],
   "source": [
    "X_oob = []\n",
    "file_oob = []\n",
    "for file in glob.glob(\"data/test/*\"):\n",
    "    im = Image.open(file).convert('L')\n",
    "    img_resize = im.resize(desire_size)\n",
    "    X_oob.append(np.array(img_resize).flatten())\n",
    "    file_oob.append(file.split(\"\\\\\")[1])"
   ],
   "metadata": {
    "collapsed": false,
    "ExecuteTime": {
     "end_time": "2023-10-15T22:20:48.259719300Z",
     "start_time": "2023-10-15T22:20:39.475574400Z"
    }
   },
   "id": "4c3ed80e227ecf9e"
  },
  {
   "cell_type": "code",
   "execution_count": 7,
   "outputs": [
    {
     "name": "stdout",
     "output_type": "stream",
     "text": [
      "Model: \"sequential\"\n",
      "_________________________________________________________________\n",
      " Layer (type)                Output Shape              Param #   \n",
      "=================================================================\n",
      " conv2d (Conv2D)             (None, 90, 90, 8)         136       \n",
      "                                                                 \n",
      " max_pooling2d (MaxPooling2  (None, 44, 44, 8)         0         \n",
      " D)                                                              \n",
      "                                                                 \n",
      " conv2d_1 (Conv2D)           (None, 44, 44, 16)        1168      \n",
      "                                                                 \n",
      " max_pooling2d_1 (MaxPoolin  (None, 22, 22, 16)        0         \n",
      " g2D)                                                            \n",
      "                                                                 \n",
      " conv2d_2 (Conv2D)           (None, 22, 22, 32)        2080      \n",
      "                                                                 \n",
      " conv2d_3 (Conv2D)           (None, 22, 22, 64)        8256      \n",
      "                                                                 \n",
      " conv2d_4 (Conv2D)           (None, 22, 22, 128)       32896     \n",
      "                                                                 \n",
      " max_pooling2d_2 (MaxPoolin  (None, 11, 11, 128)       0         \n",
      " g2D)                                                            \n",
      "                                                                 \n",
      " flatten (Flatten)           (None, 15488)             0         \n",
      "                                                                 \n",
      " dense (Dense)               (None, 200)               3097800   \n",
      "                                                                 \n",
      " dropout (Dropout)           (None, 200)               0         \n",
      "                                                                 \n",
      " dense_1 (Dense)             (None, 100)               20100     \n",
      "                                                                 \n",
      " dropout_1 (Dropout)         (None, 100)               0         \n",
      "                                                                 \n",
      " dense_2 (Dense)             (None, 50)                5050      \n",
      "                                                                 \n",
      " dropout_2 (Dropout)         (None, 50)                0         \n",
      "                                                                 \n",
      " dense_3 (Dense)             (None, 11)                561       \n",
      "                                                                 \n",
      "=================================================================\n",
      "Total params: 3168047 (12.09 MB)\n",
      "Trainable params: 3168047 (12.09 MB)\n",
      "Non-trainable params: 0 (0.00 Byte)\n",
      "_________________________________________________________________\n"
     ]
    }
   ],
   "source": [
    "#Instantiate an empty model\n",
    "model = Sequential()\n",
    "\n",
    "# 1st Convolutional Layer\n",
    "model.add(Conv2D(filters=8, input_shape=(desire_size[0],desire_size[1],1),\n",
    "                 kernel_size=(4,4),padding='same', activation='relu'))\n",
    "# Max Pooling\n",
    "model.add(MaxPooling2D(pool_size=(3,3), strides=(2,2), padding='valid'))\n",
    "\n",
    "# 2nd Convolutional Layer\n",
    "model.add(Conv2D(filters=16, kernel_size=(3,3), strides=(1,1), padding='same', activation='relu'))\n",
    "# Max Pooling\n",
    "model.add(MaxPooling2D(pool_size=(2,2), strides=(2,2), padding='valid'))\n",
    "\n",
    "# 3rd Convolutional Layer\n",
    "model.add(Conv2D(filters=32, kernel_size=(2,2), strides=(1,1), padding='same', activation='relu'))\n",
    "\n",
    "# 4th Convolutional Layer\n",
    "model.add(Conv2D(filters=64, kernel_size=(2,2), strides=(1,1), padding='same', activation='relu'))\n",
    "\n",
    "# 5th Convolutional Layer\n",
    "model.add(Conv2D(filters=128, kernel_size=(2,2), strides=(1,1), padding='same', activation='relu'))\n",
    "# Max Pooling\n",
    "model.add(MaxPooling2D(pool_size=(2,2), strides=(2,2), padding='same'))\n",
    "\n",
    "# Passing it to a Fully Connected layer\n",
    "model.add(Flatten())\n",
    "# 1st Fully Connected Layer\n",
    "model.add(Dense(200, activation='relu'))\n",
    "\n",
    "# Add Dropout\n",
    "model.add(Dropout(0.1))\n",
    "\n",
    "# 2nd Fully Connected Layer\n",
    "model.add(Dense(100, activation='relu'))\n",
    "\n",
    "# Add Dropout\n",
    "model.add(Dropout(0.1))\n",
    "\n",
    "# 3rd Fully Connected Layer\n",
    "model.add(Dense(50, activation='relu'))\n",
    "\n",
    "# Add Dropout\n",
    "model.add(Dropout(0.1))\n",
    "\n",
    "# Output Layer\n",
    "model.add(Dense(num_out, activation='softmax'))\n",
    "\n",
    "model.summary()\n",
    "\n",
    "# Compile the model\n",
    "model.compile(loss=keras.losses.categorical_crossentropy, optimizer='adam', metrics=[\"accuracy\"])"
   ],
   "metadata": {
    "collapsed": false,
    "ExecuteTime": {
     "end_time": "2023-10-15T22:20:48.900965100Z",
     "start_time": "2023-10-15T22:20:48.255718300Z"
    }
   },
   "id": "68c7c620f6c12d75"
  },
  {
   "cell_type": "code",
   "execution_count": 8,
   "outputs": [],
   "source": [
    "data_generator = ImageDataGenerator(\n",
    "    rotation_range=40,     # Rango de rotación\n",
    "    width_shift_range=0.2, # Rango de traslación horizontal\n",
    "    height_shift_range=0.2, # Rango de traslación vertical\n",
    "    shear_range=0.2,       # Rango de deformación\n",
    "    zoom_range=0.2,        # Rango de zoom\n",
    "    horizontal_flip=True,  # Inversión horizontal\n",
    "    fill_mode='nearest'    # Modo de relleno en caso de transformación\n",
    ")"
   ],
   "metadata": {
    "collapsed": false,
    "ExecuteTime": {
     "end_time": "2023-10-15T22:20:48.931200500Z",
     "start_time": "2023-10-15T22:20:48.831920Z"
    }
   },
   "id": "1dbd992fe6e3b2dc"
  },
  {
   "cell_type": "code",
   "execution_count": 10,
   "outputs": [
    {
     "name": "stdout",
     "output_type": "stream",
     "text": [
      "Epoch 1/10\n",
      " 1/13 [=>............................] - ETA: 45s - loss: 3.8981 - accuracy: 0.1194"
     ]
    },
    {
     "ename": "KeyboardInterrupt",
     "evalue": "",
     "output_type": "error",
     "traceback": [
      "\u001B[1;31m---------------------------------------------------------------------------\u001B[0m",
      "\u001B[1;31mKeyboardInterrupt\u001B[0m                         Traceback (most recent call last)",
      "Cell \u001B[1;32mIn[10], line 1\u001B[0m\n\u001B[1;32m----> 1\u001B[0m \u001B[43mmodel\u001B[49m\u001B[38;5;241;43m.\u001B[39;49m\u001B[43mfit\u001B[49m\u001B[43m(\u001B[49m\u001B[43mX_train\u001B[49m\u001B[43m,\u001B[49m\u001B[43my_train\u001B[49m\u001B[43m,\u001B[49m\u001B[43m  \u001B[49m\u001B[43mepochs\u001B[49m\u001B[38;5;241;43m=\u001B[39;49m\u001B[38;5;241;43m10\u001B[39;49m\u001B[43m,\u001B[49m\u001B[43m \u001B[49m\u001B[43mbatch_size\u001B[49m\u001B[38;5;241;43m=\u001B[39;49m\u001B[38;5;241;43m268\u001B[39;49m\u001B[43m,\u001B[49m\u001B[43m \u001B[49m\u001B[43mvalidation_data\u001B[49m\u001B[38;5;241;43m=\u001B[39;49m\u001B[43m(\u001B[49m\u001B[43mX_test\u001B[49m\u001B[43m,\u001B[49m\u001B[43m \u001B[49m\u001B[43my_test\u001B[49m\u001B[43m)\u001B[49m\u001B[43m)\u001B[49m\n",
      "File \u001B[1;32m~\\Documents\\GitHub\\Estadistica III\\venv\\Lib\\site-packages\\keras\\src\\utils\\traceback_utils.py:65\u001B[0m, in \u001B[0;36mfilter_traceback.<locals>.error_handler\u001B[1;34m(*args, **kwargs)\u001B[0m\n\u001B[0;32m     63\u001B[0m filtered_tb \u001B[38;5;241m=\u001B[39m \u001B[38;5;28;01mNone\u001B[39;00m\n\u001B[0;32m     64\u001B[0m \u001B[38;5;28;01mtry\u001B[39;00m:\n\u001B[1;32m---> 65\u001B[0m     \u001B[38;5;28;01mreturn\u001B[39;00m \u001B[43mfn\u001B[49m\u001B[43m(\u001B[49m\u001B[38;5;241;43m*\u001B[39;49m\u001B[43margs\u001B[49m\u001B[43m,\u001B[49m\u001B[43m \u001B[49m\u001B[38;5;241;43m*\u001B[39;49m\u001B[38;5;241;43m*\u001B[39;49m\u001B[43mkwargs\u001B[49m\u001B[43m)\u001B[49m\n\u001B[0;32m     66\u001B[0m \u001B[38;5;28;01mexcept\u001B[39;00m \u001B[38;5;167;01mException\u001B[39;00m \u001B[38;5;28;01mas\u001B[39;00m e:\n\u001B[0;32m     67\u001B[0m     filtered_tb \u001B[38;5;241m=\u001B[39m _process_traceback_frames(e\u001B[38;5;241m.\u001B[39m__traceback__)\n",
      "File \u001B[1;32m~\\Documents\\GitHub\\Estadistica III\\venv\\Lib\\site-packages\\keras\\src\\engine\\training.py:1783\u001B[0m, in \u001B[0;36mModel.fit\u001B[1;34m(self, x, y, batch_size, epochs, verbose, callbacks, validation_split, validation_data, shuffle, class_weight, sample_weight, initial_epoch, steps_per_epoch, validation_steps, validation_batch_size, validation_freq, max_queue_size, workers, use_multiprocessing)\u001B[0m\n\u001B[0;32m   1775\u001B[0m \u001B[38;5;28;01mwith\u001B[39;00m tf\u001B[38;5;241m.\u001B[39mprofiler\u001B[38;5;241m.\u001B[39mexperimental\u001B[38;5;241m.\u001B[39mTrace(\n\u001B[0;32m   1776\u001B[0m     \u001B[38;5;124m\"\u001B[39m\u001B[38;5;124mtrain\u001B[39m\u001B[38;5;124m\"\u001B[39m,\n\u001B[0;32m   1777\u001B[0m     epoch_num\u001B[38;5;241m=\u001B[39mepoch,\n\u001B[1;32m   (...)\u001B[0m\n\u001B[0;32m   1780\u001B[0m     _r\u001B[38;5;241m=\u001B[39m\u001B[38;5;241m1\u001B[39m,\n\u001B[0;32m   1781\u001B[0m ):\n\u001B[0;32m   1782\u001B[0m     callbacks\u001B[38;5;241m.\u001B[39mon_train_batch_begin(step)\n\u001B[1;32m-> 1783\u001B[0m     tmp_logs \u001B[38;5;241m=\u001B[39m \u001B[38;5;28;43mself\u001B[39;49m\u001B[38;5;241;43m.\u001B[39;49m\u001B[43mtrain_function\u001B[49m\u001B[43m(\u001B[49m\u001B[43miterator\u001B[49m\u001B[43m)\u001B[49m\n\u001B[0;32m   1784\u001B[0m     \u001B[38;5;28;01mif\u001B[39;00m data_handler\u001B[38;5;241m.\u001B[39mshould_sync:\n\u001B[0;32m   1785\u001B[0m         context\u001B[38;5;241m.\u001B[39masync_wait()\n",
      "File \u001B[1;32m~\\Documents\\GitHub\\Estadistica III\\venv\\Lib\\site-packages\\tensorflow\\python\\util\\traceback_utils.py:150\u001B[0m, in \u001B[0;36mfilter_traceback.<locals>.error_handler\u001B[1;34m(*args, **kwargs)\u001B[0m\n\u001B[0;32m    148\u001B[0m filtered_tb \u001B[38;5;241m=\u001B[39m \u001B[38;5;28;01mNone\u001B[39;00m\n\u001B[0;32m    149\u001B[0m \u001B[38;5;28;01mtry\u001B[39;00m:\n\u001B[1;32m--> 150\u001B[0m   \u001B[38;5;28;01mreturn\u001B[39;00m \u001B[43mfn\u001B[49m\u001B[43m(\u001B[49m\u001B[38;5;241;43m*\u001B[39;49m\u001B[43margs\u001B[49m\u001B[43m,\u001B[49m\u001B[43m \u001B[49m\u001B[38;5;241;43m*\u001B[39;49m\u001B[38;5;241;43m*\u001B[39;49m\u001B[43mkwargs\u001B[49m\u001B[43m)\u001B[49m\n\u001B[0;32m    151\u001B[0m \u001B[38;5;28;01mexcept\u001B[39;00m \u001B[38;5;167;01mException\u001B[39;00m \u001B[38;5;28;01mas\u001B[39;00m e:\n\u001B[0;32m    152\u001B[0m   filtered_tb \u001B[38;5;241m=\u001B[39m _process_traceback_frames(e\u001B[38;5;241m.\u001B[39m__traceback__)\n",
      "File \u001B[1;32m~\\Documents\\GitHub\\Estadistica III\\venv\\Lib\\site-packages\\tensorflow\\python\\eager\\polymorphic_function\\polymorphic_function.py:831\u001B[0m, in \u001B[0;36mFunction.__call__\u001B[1;34m(self, *args, **kwds)\u001B[0m\n\u001B[0;32m    828\u001B[0m compiler \u001B[38;5;241m=\u001B[39m \u001B[38;5;124m\"\u001B[39m\u001B[38;5;124mxla\u001B[39m\u001B[38;5;124m\"\u001B[39m \u001B[38;5;28;01mif\u001B[39;00m \u001B[38;5;28mself\u001B[39m\u001B[38;5;241m.\u001B[39m_jit_compile \u001B[38;5;28;01melse\u001B[39;00m \u001B[38;5;124m\"\u001B[39m\u001B[38;5;124mnonXla\u001B[39m\u001B[38;5;124m\"\u001B[39m\n\u001B[0;32m    830\u001B[0m \u001B[38;5;28;01mwith\u001B[39;00m OptionalXlaContext(\u001B[38;5;28mself\u001B[39m\u001B[38;5;241m.\u001B[39m_jit_compile):\n\u001B[1;32m--> 831\u001B[0m   result \u001B[38;5;241m=\u001B[39m \u001B[38;5;28;43mself\u001B[39;49m\u001B[38;5;241;43m.\u001B[39;49m\u001B[43m_call\u001B[49m\u001B[43m(\u001B[49m\u001B[38;5;241;43m*\u001B[39;49m\u001B[43margs\u001B[49m\u001B[43m,\u001B[49m\u001B[43m \u001B[49m\u001B[38;5;241;43m*\u001B[39;49m\u001B[38;5;241;43m*\u001B[39;49m\u001B[43mkwds\u001B[49m\u001B[43m)\u001B[49m\n\u001B[0;32m    833\u001B[0m new_tracing_count \u001B[38;5;241m=\u001B[39m \u001B[38;5;28mself\u001B[39m\u001B[38;5;241m.\u001B[39mexperimental_get_tracing_count()\n\u001B[0;32m    834\u001B[0m without_tracing \u001B[38;5;241m=\u001B[39m (tracing_count \u001B[38;5;241m==\u001B[39m new_tracing_count)\n",
      "File \u001B[1;32m~\\Documents\\GitHub\\Estadistica III\\venv\\Lib\\site-packages\\tensorflow\\python\\eager\\polymorphic_function\\polymorphic_function.py:867\u001B[0m, in \u001B[0;36mFunction._call\u001B[1;34m(self, *args, **kwds)\u001B[0m\n\u001B[0;32m    864\u001B[0m   \u001B[38;5;28mself\u001B[39m\u001B[38;5;241m.\u001B[39m_lock\u001B[38;5;241m.\u001B[39mrelease()\n\u001B[0;32m    865\u001B[0m   \u001B[38;5;66;03m# In this case we have created variables on the first call, so we run the\u001B[39;00m\n\u001B[0;32m    866\u001B[0m   \u001B[38;5;66;03m# defunned version which is guaranteed to never create variables.\u001B[39;00m\n\u001B[1;32m--> 867\u001B[0m   \u001B[38;5;28;01mreturn\u001B[39;00m \u001B[43mtracing_compilation\u001B[49m\u001B[38;5;241;43m.\u001B[39;49m\u001B[43mcall_function\u001B[49m\u001B[43m(\u001B[49m\n\u001B[0;32m    868\u001B[0m \u001B[43m      \u001B[49m\u001B[43margs\u001B[49m\u001B[43m,\u001B[49m\u001B[43m \u001B[49m\u001B[43mkwds\u001B[49m\u001B[43m,\u001B[49m\u001B[43m \u001B[49m\u001B[38;5;28;43mself\u001B[39;49m\u001B[38;5;241;43m.\u001B[39;49m\u001B[43m_no_variable_creation_config\u001B[49m\n\u001B[0;32m    869\u001B[0m \u001B[43m  \u001B[49m\u001B[43m)\u001B[49m\n\u001B[0;32m    870\u001B[0m \u001B[38;5;28;01melif\u001B[39;00m \u001B[38;5;28mself\u001B[39m\u001B[38;5;241m.\u001B[39m_variable_creation_config \u001B[38;5;129;01mis\u001B[39;00m \u001B[38;5;129;01mnot\u001B[39;00m \u001B[38;5;28;01mNone\u001B[39;00m:\n\u001B[0;32m    871\u001B[0m   \u001B[38;5;66;03m# Release the lock early so that multiple threads can perform the call\u001B[39;00m\n\u001B[0;32m    872\u001B[0m   \u001B[38;5;66;03m# in parallel.\u001B[39;00m\n\u001B[0;32m    873\u001B[0m   \u001B[38;5;28mself\u001B[39m\u001B[38;5;241m.\u001B[39m_lock\u001B[38;5;241m.\u001B[39mrelease()\n",
      "File \u001B[1;32m~\\Documents\\GitHub\\Estadistica III\\venv\\Lib\\site-packages\\tensorflow\\python\\eager\\polymorphic_function\\tracing_compilation.py:139\u001B[0m, in \u001B[0;36mcall_function\u001B[1;34m(args, kwargs, tracing_options)\u001B[0m\n\u001B[0;32m    137\u001B[0m bound_args \u001B[38;5;241m=\u001B[39m function\u001B[38;5;241m.\u001B[39mfunction_type\u001B[38;5;241m.\u001B[39mbind(\u001B[38;5;241m*\u001B[39margs, \u001B[38;5;241m*\u001B[39m\u001B[38;5;241m*\u001B[39mkwargs)\n\u001B[0;32m    138\u001B[0m flat_inputs \u001B[38;5;241m=\u001B[39m function\u001B[38;5;241m.\u001B[39mfunction_type\u001B[38;5;241m.\u001B[39munpack_inputs(bound_args)\n\u001B[1;32m--> 139\u001B[0m \u001B[38;5;28;01mreturn\u001B[39;00m \u001B[43mfunction\u001B[49m\u001B[38;5;241;43m.\u001B[39;49m\u001B[43m_call_flat\u001B[49m\u001B[43m(\u001B[49m\u001B[43m  \u001B[49m\u001B[38;5;66;43;03m# pylint: disable=protected-access\u001B[39;49;00m\n\u001B[0;32m    140\u001B[0m \u001B[43m    \u001B[49m\u001B[43mflat_inputs\u001B[49m\u001B[43m,\u001B[49m\u001B[43m \u001B[49m\u001B[43mcaptured_inputs\u001B[49m\u001B[38;5;241;43m=\u001B[39;49m\u001B[43mfunction\u001B[49m\u001B[38;5;241;43m.\u001B[39;49m\u001B[43mcaptured_inputs\u001B[49m\n\u001B[0;32m    141\u001B[0m \u001B[43m\u001B[49m\u001B[43m)\u001B[49m\n",
      "File \u001B[1;32m~\\Documents\\GitHub\\Estadistica III\\venv\\Lib\\site-packages\\tensorflow\\python\\eager\\polymorphic_function\\concrete_function.py:1264\u001B[0m, in \u001B[0;36mConcreteFunction._call_flat\u001B[1;34m(self, tensor_inputs, captured_inputs)\u001B[0m\n\u001B[0;32m   1260\u001B[0m possible_gradient_type \u001B[38;5;241m=\u001B[39m gradients_util\u001B[38;5;241m.\u001B[39mPossibleTapeGradientTypes(args)\n\u001B[0;32m   1261\u001B[0m \u001B[38;5;28;01mif\u001B[39;00m (possible_gradient_type \u001B[38;5;241m==\u001B[39m gradients_util\u001B[38;5;241m.\u001B[39mPOSSIBLE_GRADIENT_TYPES_NONE\n\u001B[0;32m   1262\u001B[0m     \u001B[38;5;129;01mand\u001B[39;00m executing_eagerly):\n\u001B[0;32m   1263\u001B[0m   \u001B[38;5;66;03m# No tape is watching; skip to running the function.\u001B[39;00m\n\u001B[1;32m-> 1264\u001B[0m   \u001B[38;5;28;01mreturn\u001B[39;00m \u001B[38;5;28;43mself\u001B[39;49m\u001B[38;5;241;43m.\u001B[39;49m\u001B[43m_inference_function\u001B[49m\u001B[38;5;241;43m.\u001B[39;49m\u001B[43mflat_call\u001B[49m\u001B[43m(\u001B[49m\u001B[43margs\u001B[49m\u001B[43m)\u001B[49m\n\u001B[0;32m   1265\u001B[0m forward_backward \u001B[38;5;241m=\u001B[39m \u001B[38;5;28mself\u001B[39m\u001B[38;5;241m.\u001B[39m_select_forward_and_backward_functions(\n\u001B[0;32m   1266\u001B[0m     args,\n\u001B[0;32m   1267\u001B[0m     possible_gradient_type,\n\u001B[0;32m   1268\u001B[0m     executing_eagerly)\n\u001B[0;32m   1269\u001B[0m forward_function, args_with_tangents \u001B[38;5;241m=\u001B[39m forward_backward\u001B[38;5;241m.\u001B[39mforward()\n",
      "File \u001B[1;32m~\\Documents\\GitHub\\Estadistica III\\venv\\Lib\\site-packages\\tensorflow\\python\\eager\\polymorphic_function\\atomic_function.py:217\u001B[0m, in \u001B[0;36mAtomicFunction.flat_call\u001B[1;34m(self, args)\u001B[0m\n\u001B[0;32m    215\u001B[0m \u001B[38;5;28;01mdef\u001B[39;00m \u001B[38;5;21mflat_call\u001B[39m(\u001B[38;5;28mself\u001B[39m, args: Sequence[core\u001B[38;5;241m.\u001B[39mTensor]) \u001B[38;5;241m-\u001B[39m\u001B[38;5;241m>\u001B[39m Any:\n\u001B[0;32m    216\u001B[0m \u001B[38;5;250m  \u001B[39m\u001B[38;5;124;03m\"\"\"Calls with tensor inputs and returns the structured output.\"\"\"\u001B[39;00m\n\u001B[1;32m--> 217\u001B[0m   flat_outputs \u001B[38;5;241m=\u001B[39m \u001B[38;5;28;43mself\u001B[39;49m\u001B[43m(\u001B[49m\u001B[38;5;241;43m*\u001B[39;49m\u001B[43margs\u001B[49m\u001B[43m)\u001B[49m\n\u001B[0;32m    218\u001B[0m   \u001B[38;5;28;01mreturn\u001B[39;00m \u001B[38;5;28mself\u001B[39m\u001B[38;5;241m.\u001B[39mfunction_type\u001B[38;5;241m.\u001B[39mpack_output(flat_outputs)\n",
      "File \u001B[1;32m~\\Documents\\GitHub\\Estadistica III\\venv\\Lib\\site-packages\\tensorflow\\python\\eager\\polymorphic_function\\atomic_function.py:252\u001B[0m, in \u001B[0;36mAtomicFunction.__call__\u001B[1;34m(self, *args)\u001B[0m\n\u001B[0;32m    250\u001B[0m \u001B[38;5;28;01mwith\u001B[39;00m record\u001B[38;5;241m.\u001B[39mstop_recording():\n\u001B[0;32m    251\u001B[0m   \u001B[38;5;28;01mif\u001B[39;00m \u001B[38;5;28mself\u001B[39m\u001B[38;5;241m.\u001B[39m_bound_context\u001B[38;5;241m.\u001B[39mexecuting_eagerly():\n\u001B[1;32m--> 252\u001B[0m     outputs \u001B[38;5;241m=\u001B[39m \u001B[38;5;28;43mself\u001B[39;49m\u001B[38;5;241;43m.\u001B[39;49m\u001B[43m_bound_context\u001B[49m\u001B[38;5;241;43m.\u001B[39;49m\u001B[43mcall_function\u001B[49m\u001B[43m(\u001B[49m\n\u001B[0;32m    253\u001B[0m \u001B[43m        \u001B[49m\u001B[38;5;28;43mself\u001B[39;49m\u001B[38;5;241;43m.\u001B[39;49m\u001B[43mname\u001B[49m\u001B[43m,\u001B[49m\n\u001B[0;32m    254\u001B[0m \u001B[43m        \u001B[49m\u001B[38;5;28;43mlist\u001B[39;49m\u001B[43m(\u001B[49m\u001B[43margs\u001B[49m\u001B[43m)\u001B[49m\u001B[43m,\u001B[49m\n\u001B[0;32m    255\u001B[0m \u001B[43m        \u001B[49m\u001B[38;5;28;43mlen\u001B[39;49m\u001B[43m(\u001B[49m\u001B[38;5;28;43mself\u001B[39;49m\u001B[38;5;241;43m.\u001B[39;49m\u001B[43mfunction_type\u001B[49m\u001B[38;5;241;43m.\u001B[39;49m\u001B[43mflat_outputs\u001B[49m\u001B[43m)\u001B[49m\u001B[43m,\u001B[49m\n\u001B[0;32m    256\u001B[0m \u001B[43m    \u001B[49m\u001B[43m)\u001B[49m\n\u001B[0;32m    257\u001B[0m   \u001B[38;5;28;01melse\u001B[39;00m:\n\u001B[0;32m    258\u001B[0m     outputs \u001B[38;5;241m=\u001B[39m make_call_op_in_graph(\n\u001B[0;32m    259\u001B[0m         \u001B[38;5;28mself\u001B[39m,\n\u001B[0;32m    260\u001B[0m         \u001B[38;5;28mlist\u001B[39m(args),\n\u001B[0;32m    261\u001B[0m         \u001B[38;5;28mself\u001B[39m\u001B[38;5;241m.\u001B[39m_bound_context\u001B[38;5;241m.\u001B[39mfunction_call_options\u001B[38;5;241m.\u001B[39mas_attrs(),\n\u001B[0;32m    262\u001B[0m     )\n",
      "File \u001B[1;32m~\\Documents\\GitHub\\Estadistica III\\venv\\Lib\\site-packages\\tensorflow\\python\\eager\\context.py:1479\u001B[0m, in \u001B[0;36mContext.call_function\u001B[1;34m(self, name, tensor_inputs, num_outputs)\u001B[0m\n\u001B[0;32m   1477\u001B[0m cancellation_context \u001B[38;5;241m=\u001B[39m cancellation\u001B[38;5;241m.\u001B[39mcontext()\n\u001B[0;32m   1478\u001B[0m \u001B[38;5;28;01mif\u001B[39;00m cancellation_context \u001B[38;5;129;01mis\u001B[39;00m \u001B[38;5;28;01mNone\u001B[39;00m:\n\u001B[1;32m-> 1479\u001B[0m   outputs \u001B[38;5;241m=\u001B[39m \u001B[43mexecute\u001B[49m\u001B[38;5;241;43m.\u001B[39;49m\u001B[43mexecute\u001B[49m\u001B[43m(\u001B[49m\n\u001B[0;32m   1480\u001B[0m \u001B[43m      \u001B[49m\u001B[43mname\u001B[49m\u001B[38;5;241;43m.\u001B[39;49m\u001B[43mdecode\u001B[49m\u001B[43m(\u001B[49m\u001B[38;5;124;43m\"\u001B[39;49m\u001B[38;5;124;43mutf-8\u001B[39;49m\u001B[38;5;124;43m\"\u001B[39;49m\u001B[43m)\u001B[49m\u001B[43m,\u001B[49m\n\u001B[0;32m   1481\u001B[0m \u001B[43m      \u001B[49m\u001B[43mnum_outputs\u001B[49m\u001B[38;5;241;43m=\u001B[39;49m\u001B[43mnum_outputs\u001B[49m\u001B[43m,\u001B[49m\n\u001B[0;32m   1482\u001B[0m \u001B[43m      \u001B[49m\u001B[43minputs\u001B[49m\u001B[38;5;241;43m=\u001B[39;49m\u001B[43mtensor_inputs\u001B[49m\u001B[43m,\u001B[49m\n\u001B[0;32m   1483\u001B[0m \u001B[43m      \u001B[49m\u001B[43mattrs\u001B[49m\u001B[38;5;241;43m=\u001B[39;49m\u001B[43mattrs\u001B[49m\u001B[43m,\u001B[49m\n\u001B[0;32m   1484\u001B[0m \u001B[43m      \u001B[49m\u001B[43mctx\u001B[49m\u001B[38;5;241;43m=\u001B[39;49m\u001B[38;5;28;43mself\u001B[39;49m\u001B[43m,\u001B[49m\n\u001B[0;32m   1485\u001B[0m \u001B[43m  \u001B[49m\u001B[43m)\u001B[49m\n\u001B[0;32m   1486\u001B[0m \u001B[38;5;28;01melse\u001B[39;00m:\n\u001B[0;32m   1487\u001B[0m   outputs \u001B[38;5;241m=\u001B[39m execute\u001B[38;5;241m.\u001B[39mexecute_with_cancellation(\n\u001B[0;32m   1488\u001B[0m       name\u001B[38;5;241m.\u001B[39mdecode(\u001B[38;5;124m\"\u001B[39m\u001B[38;5;124mutf-8\u001B[39m\u001B[38;5;124m\"\u001B[39m),\n\u001B[0;32m   1489\u001B[0m       num_outputs\u001B[38;5;241m=\u001B[39mnum_outputs,\n\u001B[1;32m   (...)\u001B[0m\n\u001B[0;32m   1493\u001B[0m       cancellation_manager\u001B[38;5;241m=\u001B[39mcancellation_context,\n\u001B[0;32m   1494\u001B[0m   )\n",
      "File \u001B[1;32m~\\Documents\\GitHub\\Estadistica III\\venv\\Lib\\site-packages\\tensorflow\\python\\eager\\execute.py:60\u001B[0m, in \u001B[0;36mquick_execute\u001B[1;34m(op_name, num_outputs, inputs, attrs, ctx, name)\u001B[0m\n\u001B[0;32m     53\u001B[0m   \u001B[38;5;66;03m# Convert any objects of type core_types.Tensor to Tensor.\u001B[39;00m\n\u001B[0;32m     54\u001B[0m   inputs \u001B[38;5;241m=\u001B[39m [\n\u001B[0;32m     55\u001B[0m       tensor_conversion_registry\u001B[38;5;241m.\u001B[39mconvert(t)\n\u001B[0;32m     56\u001B[0m       \u001B[38;5;28;01mif\u001B[39;00m \u001B[38;5;28misinstance\u001B[39m(t, core_types\u001B[38;5;241m.\u001B[39mTensor)\n\u001B[0;32m     57\u001B[0m       \u001B[38;5;28;01melse\u001B[39;00m t\n\u001B[0;32m     58\u001B[0m       \u001B[38;5;28;01mfor\u001B[39;00m t \u001B[38;5;129;01min\u001B[39;00m inputs\n\u001B[0;32m     59\u001B[0m   ]\n\u001B[1;32m---> 60\u001B[0m   tensors \u001B[38;5;241m=\u001B[39m \u001B[43mpywrap_tfe\u001B[49m\u001B[38;5;241;43m.\u001B[39;49m\u001B[43mTFE_Py_Execute\u001B[49m\u001B[43m(\u001B[49m\u001B[43mctx\u001B[49m\u001B[38;5;241;43m.\u001B[39;49m\u001B[43m_handle\u001B[49m\u001B[43m,\u001B[49m\u001B[43m \u001B[49m\u001B[43mdevice_name\u001B[49m\u001B[43m,\u001B[49m\u001B[43m \u001B[49m\u001B[43mop_name\u001B[49m\u001B[43m,\u001B[49m\n\u001B[0;32m     61\u001B[0m \u001B[43m                                      \u001B[49m\u001B[43minputs\u001B[49m\u001B[43m,\u001B[49m\u001B[43m \u001B[49m\u001B[43mattrs\u001B[49m\u001B[43m,\u001B[49m\u001B[43m \u001B[49m\u001B[43mnum_outputs\u001B[49m\u001B[43m)\u001B[49m\n\u001B[0;32m     62\u001B[0m \u001B[38;5;28;01mexcept\u001B[39;00m core\u001B[38;5;241m.\u001B[39m_NotOkStatusException \u001B[38;5;28;01mas\u001B[39;00m e:\n\u001B[0;32m     63\u001B[0m   \u001B[38;5;28;01mif\u001B[39;00m name \u001B[38;5;129;01mis\u001B[39;00m \u001B[38;5;129;01mnot\u001B[39;00m \u001B[38;5;28;01mNone\u001B[39;00m:\n",
      "\u001B[1;31mKeyboardInterrupt\u001B[0m: "
     ]
    }
   ],
   "source": [
    "model.fit(X_train,y_train,  epochs=10, batch_size=268, validation_data=(X_test, y_test))"
   ],
   "metadata": {
    "collapsed": false,
    "ExecuteTime": {
     "end_time": "2023-10-15T22:21:09.825709Z",
     "start_time": "2023-10-15T22:21:03.532380800Z"
    }
   },
   "id": "aa42a041d9bc88a2"
  },
  {
   "cell_type": "markdown",
   "source": [],
   "metadata": {
    "collapsed": false
   },
   "id": "45743b7bb8ec29e5"
  },
  {
   "cell_type": "code",
   "execution_count": null,
   "outputs": [],
   "source": [
    "#oob = Out Of Bag\n",
    "X_oob_img = np.reshape(np.array(X_oob), (-1, desire_size[0], desire_size[1]))\n",
    "y_hat = le.inverse_transform(np.argmax(model.predict(X_oob_img), axis=1))\n",
    "df_oob = pd.DataFrame(data= zip(file_oob, y_hat),\n",
    "                      columns=[\"file\",\"species\"])\n",
    "df_oob.to_csv(\"data/prediction_cnn.csv\", index=False)"
   ],
   "metadata": {
    "collapsed": false,
    "ExecuteTime": {
     "start_time": "2023-10-15T22:20:51.209390Z"
    }
   },
   "id": "c9fbc786379fe75a"
  }
 ],
 "metadata": {
  "kernelspec": {
   "display_name": "Python 3",
   "language": "python",
   "name": "python3"
  },
  "language_info": {
   "codemirror_mode": {
    "name": "ipython",
    "version": 2
   },
   "file_extension": ".py",
   "mimetype": "text/x-python",
   "name": "python",
   "nbconvert_exporter": "python",
   "pygments_lexer": "ipython2",
   "version": "2.7.6"
  }
 },
 "nbformat": 4,
 "nbformat_minor": 5
}
