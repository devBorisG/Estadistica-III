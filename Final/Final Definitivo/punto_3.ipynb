{
 "cells": [
  {
   "cell_type": "code",
   "execution_count": 32,
   "id": "initial_id",
   "metadata": {
    "collapsed": true,
    "ExecuteTime": {
     "end_time": "2023-11-15T06:02:27.774704800Z",
     "start_time": "2023-11-15T06:02:27.650880100Z"
    }
   },
   "outputs": [],
   "source": [
    "import pandas as pd\n",
    "import re\n",
    "from unidecode import unidecode\n",
    "import math\n",
    "import numpy as np\n",
    "import random"
   ]
  },
  {
   "cell_type": "code",
   "execution_count": 33,
   "outputs": [
    {
     "data": {
      "text/plain": "                                              \\nTexto  aprendi\\n     las\\n  \\\n0                                 aprendi regresiones   0.298919  0.000000   \n1                                         mucha tarea   0.000000  0.000000   \n2                            aprendi modelos de texto   0.149459  0.000000   \n3                                   tareas muy largas   0.000000  0.000000   \n4                         aprendi a utilizar imagenes   0.149459  0.000000   \n5            el profe se demora en entregar las notas   0.000000  0.150497   \n6               me gusto competir por el mejor modelo   0.000000  0.000000   \n7                             los examenes son largos   0.000000  0.000000   \n8                                  aprendi gradientes   0.298919  0.000000   \n9                                         aprendi nlp   0.298919  0.000000   \n10                           aprendi redes neuronales   0.199279  0.000000   \n11                           falto aprender mas spark   0.000000  0.000000   \n12                   las office hours son los sabados   0.000000  0.200662   \n13                                     aprendi python   0.298919  0.000000   \n14                                 aprendi que es pca   0.149459  0.000000   \n15                          aprendi que es un cluster   0.119567  0.000000   \n16                       las tareas son muy practicas   0.000000  0.240795   \n17             aprendi q las derivadas son muy utiles   0.085405  0.171996   \n18                  pandas es com un excel y me gusto   0.000000  0.000000   \n19  me confio de las grabaciones y me distraigo en...   0.000000  0.100331   \n\n       son\\n      me\\n      es\\n     muy\\n   gusto\\n      un\\n      en\\n  ...  \\\n0   0.000000  0.000000  0.000000  0.000000  0.000000  0.000000  0.000000  ...   \n1   0.000000  0.000000  0.000000  0.000000  0.000000  0.000000  0.000000  ...   \n2   0.000000  0.000000  0.000000  0.000000  0.000000  0.000000  0.000000  ...   \n3   0.000000  0.000000  0.000000  0.536479  0.000000  0.000000  0.000000  ...   \n4   0.000000  0.000000  0.000000  0.000000  0.000000  0.000000  0.000000  ...   \n5   0.000000  0.000000  0.000000  0.000000  0.000000  0.000000  0.237140  ...   \n6   0.000000  0.198042  0.000000  0.000000  0.271017  0.000000  0.000000  ...   \n7   0.346574  0.000000  0.000000  0.000000  0.000000  0.000000  0.000000  ...   \n8   0.000000  0.000000  0.000000  0.000000  0.000000  0.000000  0.000000  ...   \n9   0.000000  0.000000  0.000000  0.000000  0.000000  0.000000  0.000000  ...   \n10  0.000000  0.000000  0.000000  0.000000  0.000000  0.000000  0.000000  ...   \n11  0.000000  0.000000  0.000000  0.000000  0.000000  0.000000  0.000000  ...   \n12  0.231049  0.000000  0.000000  0.000000  0.000000  0.000000  0.000000  ...   \n13  0.000000  0.000000  0.000000  0.000000  0.000000  0.000000  0.000000  ...   \n14  0.000000  0.000000  0.402359  0.000000  0.000000  0.000000  0.000000  ...   \n15  0.000000  0.000000  0.321888  0.000000  0.000000  0.379424  0.000000  ...   \n16  0.277259  0.000000  0.000000  0.321888  0.000000  0.000000  0.000000  ...   \n17  0.198042  0.000000  0.000000  0.229920  0.000000  0.000000  0.000000  ...   \n18  0.000000  0.173287  0.201180  0.000000  0.237140  0.237140  0.000000  ...   \n19  0.000000  0.231049  0.000000  0.000000  0.000000  0.000000  0.158093  ...   \n\n    competir\\n     por\\n   mejor\\n  modelo\\n  examenes\\n  largos\\n  \\\n0     0.000000  0.000000  0.000000  0.000000    0.000000  0.000000   \n1     0.000000  0.000000  0.000000  0.000000    0.000000  0.000000   \n2     0.000000  0.000000  0.000000  0.000000    0.000000  0.000000   \n3     0.000000  0.000000  0.000000  0.000000    0.000000  0.000000   \n4     0.000000  0.000000  0.000000  0.000000    0.000000  0.000000   \n5     0.000000  0.000000  0.000000  0.000000    0.000000  0.000000   \n6     0.328941  0.328941  0.328941  0.328941    0.000000  0.000000   \n7     0.000000  0.000000  0.000000  0.000000    0.575646  0.575646   \n8     0.000000  0.000000  0.000000  0.000000    0.000000  0.000000   \n9     0.000000  0.000000  0.000000  0.000000    0.000000  0.000000   \n10    0.000000  0.000000  0.000000  0.000000    0.000000  0.000000   \n11    0.000000  0.000000  0.000000  0.000000    0.000000  0.000000   \n12    0.000000  0.000000  0.000000  0.000000    0.000000  0.000000   \n13    0.000000  0.000000  0.000000  0.000000    0.000000  0.000000   \n14    0.000000  0.000000  0.000000  0.000000    0.000000  0.000000   \n15    0.000000  0.000000  0.000000  0.000000    0.000000  0.000000   \n16    0.000000  0.000000  0.000000  0.000000    0.000000  0.000000   \n17    0.000000  0.000000  0.000000  0.000000    0.000000  0.000000   \n18    0.000000  0.000000  0.000000  0.000000    0.000000  0.000000   \n19    0.000000  0.000000  0.000000  0.000000    0.000000  0.000000   \n\n    regresiones\\n     nlp\\n   redes\\n  teorica\\n  \n0        1.151293  0.000000  0.000000   0.000000  \n1        0.000000  0.000000  0.000000   0.000000  \n2        0.000000  0.000000  0.000000   0.000000  \n3        0.000000  0.000000  0.000000   0.000000  \n4        0.000000  0.000000  0.000000   0.000000  \n5        0.000000  0.000000  0.000000   0.000000  \n6        0.000000  0.000000  0.000000   0.000000  \n7        0.000000  0.000000  0.000000   0.000000  \n8        0.000000  0.000000  0.000000   0.000000  \n9        0.000000  1.151293  0.000000   0.000000  \n10       0.000000  0.000000  0.767528   0.000000  \n11       0.000000  0.000000  0.000000   0.000000  \n12       0.000000  0.000000  0.000000   0.000000  \n13       0.000000  0.000000  0.000000   0.000000  \n14       0.000000  0.000000  0.000000   0.000000  \n15       0.000000  0.000000  0.000000   0.000000  \n16       0.000000  0.000000  0.000000   0.000000  \n17       0.000000  0.000000  0.000000   0.000000  \n18       0.000000  0.000000  0.000000   0.000000  \n19       0.000000  0.000000  0.000000   0.191882  \n\n[20 rows x 63 columns]",
      "text/html": "<div>\n<style scoped>\n    .dataframe tbody tr th:only-of-type {\n        vertical-align: middle;\n    }\n\n    .dataframe tbody tr th {\n        vertical-align: top;\n    }\n\n    .dataframe thead th {\n        text-align: right;\n    }\n</style>\n<table border=\"1\" class=\"dataframe\">\n  <thead>\n    <tr style=\"text-align: right;\">\n      <th></th>\n      <th>\\nTexto</th>\n      <th>aprendi\\n</th>\n      <th>las\\n</th>\n      <th>son\\n</th>\n      <th>me\\n</th>\n      <th>es\\n</th>\n      <th>muy\\n</th>\n      <th>gusto\\n</th>\n      <th>un\\n</th>\n      <th>en\\n</th>\n      <th>...</th>\n      <th>competir\\n</th>\n      <th>por\\n</th>\n      <th>mejor\\n</th>\n      <th>modelo\\n</th>\n      <th>examenes\\n</th>\n      <th>largos\\n</th>\n      <th>regresiones\\n</th>\n      <th>nlp\\n</th>\n      <th>redes\\n</th>\n      <th>teorica\\n</th>\n    </tr>\n  </thead>\n  <tbody>\n    <tr>\n      <th>0</th>\n      <td>aprendi regresiones</td>\n      <td>0.298919</td>\n      <td>0.000000</td>\n      <td>0.000000</td>\n      <td>0.000000</td>\n      <td>0.000000</td>\n      <td>0.000000</td>\n      <td>0.000000</td>\n      <td>0.000000</td>\n      <td>0.000000</td>\n      <td>...</td>\n      <td>0.000000</td>\n      <td>0.000000</td>\n      <td>0.000000</td>\n      <td>0.000000</td>\n      <td>0.000000</td>\n      <td>0.000000</td>\n      <td>1.151293</td>\n      <td>0.000000</td>\n      <td>0.000000</td>\n      <td>0.000000</td>\n    </tr>\n    <tr>\n      <th>1</th>\n      <td>mucha tarea</td>\n      <td>0.000000</td>\n      <td>0.000000</td>\n      <td>0.000000</td>\n      <td>0.000000</td>\n      <td>0.000000</td>\n      <td>0.000000</td>\n      <td>0.000000</td>\n      <td>0.000000</td>\n      <td>0.000000</td>\n      <td>...</td>\n      <td>0.000000</td>\n      <td>0.000000</td>\n      <td>0.000000</td>\n      <td>0.000000</td>\n      <td>0.000000</td>\n      <td>0.000000</td>\n      <td>0.000000</td>\n      <td>0.000000</td>\n      <td>0.000000</td>\n      <td>0.000000</td>\n    </tr>\n    <tr>\n      <th>2</th>\n      <td>aprendi modelos de texto</td>\n      <td>0.149459</td>\n      <td>0.000000</td>\n      <td>0.000000</td>\n      <td>0.000000</td>\n      <td>0.000000</td>\n      <td>0.000000</td>\n      <td>0.000000</td>\n      <td>0.000000</td>\n      <td>0.000000</td>\n      <td>...</td>\n      <td>0.000000</td>\n      <td>0.000000</td>\n      <td>0.000000</td>\n      <td>0.000000</td>\n      <td>0.000000</td>\n      <td>0.000000</td>\n      <td>0.000000</td>\n      <td>0.000000</td>\n      <td>0.000000</td>\n      <td>0.000000</td>\n    </tr>\n    <tr>\n      <th>3</th>\n      <td>tareas muy largas</td>\n      <td>0.000000</td>\n      <td>0.000000</td>\n      <td>0.000000</td>\n      <td>0.000000</td>\n      <td>0.000000</td>\n      <td>0.536479</td>\n      <td>0.000000</td>\n      <td>0.000000</td>\n      <td>0.000000</td>\n      <td>...</td>\n      <td>0.000000</td>\n      <td>0.000000</td>\n      <td>0.000000</td>\n      <td>0.000000</td>\n      <td>0.000000</td>\n      <td>0.000000</td>\n      <td>0.000000</td>\n      <td>0.000000</td>\n      <td>0.000000</td>\n      <td>0.000000</td>\n    </tr>\n    <tr>\n      <th>4</th>\n      <td>aprendi a utilizar imagenes</td>\n      <td>0.149459</td>\n      <td>0.000000</td>\n      <td>0.000000</td>\n      <td>0.000000</td>\n      <td>0.000000</td>\n      <td>0.000000</td>\n      <td>0.000000</td>\n      <td>0.000000</td>\n      <td>0.000000</td>\n      <td>...</td>\n      <td>0.000000</td>\n      <td>0.000000</td>\n      <td>0.000000</td>\n      <td>0.000000</td>\n      <td>0.000000</td>\n      <td>0.000000</td>\n      <td>0.000000</td>\n      <td>0.000000</td>\n      <td>0.000000</td>\n      <td>0.000000</td>\n    </tr>\n    <tr>\n      <th>5</th>\n      <td>el profe se demora en entregar las notas</td>\n      <td>0.000000</td>\n      <td>0.150497</td>\n      <td>0.000000</td>\n      <td>0.000000</td>\n      <td>0.000000</td>\n      <td>0.000000</td>\n      <td>0.000000</td>\n      <td>0.000000</td>\n      <td>0.237140</td>\n      <td>...</td>\n      <td>0.000000</td>\n      <td>0.000000</td>\n      <td>0.000000</td>\n      <td>0.000000</td>\n      <td>0.000000</td>\n      <td>0.000000</td>\n      <td>0.000000</td>\n      <td>0.000000</td>\n      <td>0.000000</td>\n      <td>0.000000</td>\n    </tr>\n    <tr>\n      <th>6</th>\n      <td>me gusto competir por el mejor modelo</td>\n      <td>0.000000</td>\n      <td>0.000000</td>\n      <td>0.000000</td>\n      <td>0.198042</td>\n      <td>0.000000</td>\n      <td>0.000000</td>\n      <td>0.271017</td>\n      <td>0.000000</td>\n      <td>0.000000</td>\n      <td>...</td>\n      <td>0.328941</td>\n      <td>0.328941</td>\n      <td>0.328941</td>\n      <td>0.328941</td>\n      <td>0.000000</td>\n      <td>0.000000</td>\n      <td>0.000000</td>\n      <td>0.000000</td>\n      <td>0.000000</td>\n      <td>0.000000</td>\n    </tr>\n    <tr>\n      <th>7</th>\n      <td>los examenes son largos</td>\n      <td>0.000000</td>\n      <td>0.000000</td>\n      <td>0.346574</td>\n      <td>0.000000</td>\n      <td>0.000000</td>\n      <td>0.000000</td>\n      <td>0.000000</td>\n      <td>0.000000</td>\n      <td>0.000000</td>\n      <td>...</td>\n      <td>0.000000</td>\n      <td>0.000000</td>\n      <td>0.000000</td>\n      <td>0.000000</td>\n      <td>0.575646</td>\n      <td>0.575646</td>\n      <td>0.000000</td>\n      <td>0.000000</td>\n      <td>0.000000</td>\n      <td>0.000000</td>\n    </tr>\n    <tr>\n      <th>8</th>\n      <td>aprendi gradientes</td>\n      <td>0.298919</td>\n      <td>0.000000</td>\n      <td>0.000000</td>\n      <td>0.000000</td>\n      <td>0.000000</td>\n      <td>0.000000</td>\n      <td>0.000000</td>\n      <td>0.000000</td>\n      <td>0.000000</td>\n      <td>...</td>\n      <td>0.000000</td>\n      <td>0.000000</td>\n      <td>0.000000</td>\n      <td>0.000000</td>\n      <td>0.000000</td>\n      <td>0.000000</td>\n      <td>0.000000</td>\n      <td>0.000000</td>\n      <td>0.000000</td>\n      <td>0.000000</td>\n    </tr>\n    <tr>\n      <th>9</th>\n      <td>aprendi nlp</td>\n      <td>0.298919</td>\n      <td>0.000000</td>\n      <td>0.000000</td>\n      <td>0.000000</td>\n      <td>0.000000</td>\n      <td>0.000000</td>\n      <td>0.000000</td>\n      <td>0.000000</td>\n      <td>0.000000</td>\n      <td>...</td>\n      <td>0.000000</td>\n      <td>0.000000</td>\n      <td>0.000000</td>\n      <td>0.000000</td>\n      <td>0.000000</td>\n      <td>0.000000</td>\n      <td>0.000000</td>\n      <td>1.151293</td>\n      <td>0.000000</td>\n      <td>0.000000</td>\n    </tr>\n    <tr>\n      <th>10</th>\n      <td>aprendi redes neuronales</td>\n      <td>0.199279</td>\n      <td>0.000000</td>\n      <td>0.000000</td>\n      <td>0.000000</td>\n      <td>0.000000</td>\n      <td>0.000000</td>\n      <td>0.000000</td>\n      <td>0.000000</td>\n      <td>0.000000</td>\n      <td>...</td>\n      <td>0.000000</td>\n      <td>0.000000</td>\n      <td>0.000000</td>\n      <td>0.000000</td>\n      <td>0.000000</td>\n      <td>0.000000</td>\n      <td>0.000000</td>\n      <td>0.000000</td>\n      <td>0.767528</td>\n      <td>0.000000</td>\n    </tr>\n    <tr>\n      <th>11</th>\n      <td>falto aprender mas spark</td>\n      <td>0.000000</td>\n      <td>0.000000</td>\n      <td>0.000000</td>\n      <td>0.000000</td>\n      <td>0.000000</td>\n      <td>0.000000</td>\n      <td>0.000000</td>\n      <td>0.000000</td>\n      <td>0.000000</td>\n      <td>...</td>\n      <td>0.000000</td>\n      <td>0.000000</td>\n      <td>0.000000</td>\n      <td>0.000000</td>\n      <td>0.000000</td>\n      <td>0.000000</td>\n      <td>0.000000</td>\n      <td>0.000000</td>\n      <td>0.000000</td>\n      <td>0.000000</td>\n    </tr>\n    <tr>\n      <th>12</th>\n      <td>las office hours son los sabados</td>\n      <td>0.000000</td>\n      <td>0.200662</td>\n      <td>0.231049</td>\n      <td>0.000000</td>\n      <td>0.000000</td>\n      <td>0.000000</td>\n      <td>0.000000</td>\n      <td>0.000000</td>\n      <td>0.000000</td>\n      <td>...</td>\n      <td>0.000000</td>\n      <td>0.000000</td>\n      <td>0.000000</td>\n      <td>0.000000</td>\n      <td>0.000000</td>\n      <td>0.000000</td>\n      <td>0.000000</td>\n      <td>0.000000</td>\n      <td>0.000000</td>\n      <td>0.000000</td>\n    </tr>\n    <tr>\n      <th>13</th>\n      <td>aprendi python</td>\n      <td>0.298919</td>\n      <td>0.000000</td>\n      <td>0.000000</td>\n      <td>0.000000</td>\n      <td>0.000000</td>\n      <td>0.000000</td>\n      <td>0.000000</td>\n      <td>0.000000</td>\n      <td>0.000000</td>\n      <td>...</td>\n      <td>0.000000</td>\n      <td>0.000000</td>\n      <td>0.000000</td>\n      <td>0.000000</td>\n      <td>0.000000</td>\n      <td>0.000000</td>\n      <td>0.000000</td>\n      <td>0.000000</td>\n      <td>0.000000</td>\n      <td>0.000000</td>\n    </tr>\n    <tr>\n      <th>14</th>\n      <td>aprendi que es pca</td>\n      <td>0.149459</td>\n      <td>0.000000</td>\n      <td>0.000000</td>\n      <td>0.000000</td>\n      <td>0.402359</td>\n      <td>0.000000</td>\n      <td>0.000000</td>\n      <td>0.000000</td>\n      <td>0.000000</td>\n      <td>...</td>\n      <td>0.000000</td>\n      <td>0.000000</td>\n      <td>0.000000</td>\n      <td>0.000000</td>\n      <td>0.000000</td>\n      <td>0.000000</td>\n      <td>0.000000</td>\n      <td>0.000000</td>\n      <td>0.000000</td>\n      <td>0.000000</td>\n    </tr>\n    <tr>\n      <th>15</th>\n      <td>aprendi que es un cluster</td>\n      <td>0.119567</td>\n      <td>0.000000</td>\n      <td>0.000000</td>\n      <td>0.000000</td>\n      <td>0.321888</td>\n      <td>0.000000</td>\n      <td>0.000000</td>\n      <td>0.379424</td>\n      <td>0.000000</td>\n      <td>...</td>\n      <td>0.000000</td>\n      <td>0.000000</td>\n      <td>0.000000</td>\n      <td>0.000000</td>\n      <td>0.000000</td>\n      <td>0.000000</td>\n      <td>0.000000</td>\n      <td>0.000000</td>\n      <td>0.000000</td>\n      <td>0.000000</td>\n    </tr>\n    <tr>\n      <th>16</th>\n      <td>las tareas son muy practicas</td>\n      <td>0.000000</td>\n      <td>0.240795</td>\n      <td>0.277259</td>\n      <td>0.000000</td>\n      <td>0.000000</td>\n      <td>0.321888</td>\n      <td>0.000000</td>\n      <td>0.000000</td>\n      <td>0.000000</td>\n      <td>...</td>\n      <td>0.000000</td>\n      <td>0.000000</td>\n      <td>0.000000</td>\n      <td>0.000000</td>\n      <td>0.000000</td>\n      <td>0.000000</td>\n      <td>0.000000</td>\n      <td>0.000000</td>\n      <td>0.000000</td>\n      <td>0.000000</td>\n    </tr>\n    <tr>\n      <th>17</th>\n      <td>aprendi q las derivadas son muy utiles</td>\n      <td>0.085405</td>\n      <td>0.171996</td>\n      <td>0.198042</td>\n      <td>0.000000</td>\n      <td>0.000000</td>\n      <td>0.229920</td>\n      <td>0.000000</td>\n      <td>0.000000</td>\n      <td>0.000000</td>\n      <td>...</td>\n      <td>0.000000</td>\n      <td>0.000000</td>\n      <td>0.000000</td>\n      <td>0.000000</td>\n      <td>0.000000</td>\n      <td>0.000000</td>\n      <td>0.000000</td>\n      <td>0.000000</td>\n      <td>0.000000</td>\n      <td>0.000000</td>\n    </tr>\n    <tr>\n      <th>18</th>\n      <td>pandas es com un excel y me gusto</td>\n      <td>0.000000</td>\n      <td>0.000000</td>\n      <td>0.000000</td>\n      <td>0.173287</td>\n      <td>0.201180</td>\n      <td>0.000000</td>\n      <td>0.237140</td>\n      <td>0.237140</td>\n      <td>0.000000</td>\n      <td>...</td>\n      <td>0.000000</td>\n      <td>0.000000</td>\n      <td>0.000000</td>\n      <td>0.000000</td>\n      <td>0.000000</td>\n      <td>0.000000</td>\n      <td>0.000000</td>\n      <td>0.000000</td>\n      <td>0.000000</td>\n      <td>0.000000</td>\n    </tr>\n    <tr>\n      <th>19</th>\n      <td>me confio de las grabaciones y me distraigo en...</td>\n      <td>0.000000</td>\n      <td>0.100331</td>\n      <td>0.000000</td>\n      <td>0.231049</td>\n      <td>0.000000</td>\n      <td>0.000000</td>\n      <td>0.000000</td>\n      <td>0.000000</td>\n      <td>0.158093</td>\n      <td>...</td>\n      <td>0.000000</td>\n      <td>0.000000</td>\n      <td>0.000000</td>\n      <td>0.000000</td>\n      <td>0.000000</td>\n      <td>0.000000</td>\n      <td>0.000000</td>\n      <td>0.000000</td>\n      <td>0.000000</td>\n      <td>0.191882</td>\n    </tr>\n  </tbody>\n</table>\n<p>20 rows × 63 columns</p>\n</div>"
     },
     "execution_count": 33,
     "metadata": {},
     "output_type": "execute_result"
    }
   ],
   "source": [
    "df_matriz_TF_IDF = pd.read_excel(\"../data/matriz_tf_idf.xlsx\")\n",
    "df_comentarios = pd.read_excel(\"../data/final.xlsx\")\n",
    "df_comentarios['Sentimiento'] = df_comentarios['Sentimiento'].map({'Positivo':1, 'Negativo':0})\n",
    "df_matriz_TF_IDF"
   ],
   "metadata": {
    "collapsed": false,
    "ExecuteTime": {
     "end_time": "2023-11-15T06:02:27.843037300Z",
     "start_time": "2023-11-15T06:02:27.661883600Z"
    }
   },
   "id": "21a8676fdcfa336e"
  },
  {
   "cell_type": "code",
   "execution_count": 34,
   "outputs": [
    {
     "data": {
      "text/plain": "array([0.01510316, 0.67113453, 0.94160657, 0.48165603, 0.41153103,\n       0.88625983, 0.7957832 , 0.62852321, 0.44855877, 0.04867273,\n       0.19068158, 0.42028253, 0.15755004, 0.31149766, 0.67241105,\n       0.1741596 , 0.42947303, 0.96310007, 0.52422359, 0.77280411,\n       0.09285645, 0.30010123, 0.22211077, 0.19104667, 0.29356617,\n       0.92629007, 0.91632931, 0.26806508, 0.94657722, 0.12077974,\n       0.0471616 , 0.48835144, 0.65601053, 0.04323346, 0.66911673,\n       0.5755787 , 0.96614132, 0.32911856, 0.58909946, 0.53802093,\n       0.6017146 , 0.14943535, 0.27334018, 0.74117795, 0.74387069,\n       0.9713587 , 0.39838078, 0.45371799, 0.27652879, 0.21359791,\n       0.59731798, 0.0672207 , 0.0013403 , 0.08795056, 0.12756232,\n       0.68197959, 0.201746  , 0.82373014, 0.09042696, 0.73359644,\n       0.27060401, 0.50758534, 0.86067081])"
     },
     "execution_count": 34,
     "metadata": {},
     "output_type": "execute_result"
    }
   ],
   "source": [
    "b = len(df_matriz_TF_IDF.columns)\n",
    "b = np.random.rand(b)\n",
    "b"
   ],
   "metadata": {
    "collapsed": false,
    "ExecuteTime": {
     "end_time": "2023-11-15T06:02:27.857039700Z",
     "start_time": "2023-11-15T06:02:27.797705500Z"
    }
   },
   "id": "d298c3571da24240"
  },
  {
   "cell_type": "code",
   "execution_count": 48,
   "outputs": [],
   "source": [
    "def sigmoid(b, x):\n",
    "    g = 0\n",
    "    for i in range(len(x)):\n",
    "        g+=b[i]*x[i]\n",
    "    return 1.0/(1.0+np.exp(-g))\n",
    "\n",
    "def grad_des(lr=float,batch=int,epochs=int,df=pd.DataFrame):\n",
    "    cant_b = len(df.columns)\n",
    "    b_vector = np.random.rand(cant_b).tolist()\n",
    "    rsl = []\n",
    "    for i in range(epochs):\n",
    "        log_t = 0\n",
    "        for j in df_matriz_TF_IDF.values:\n",
    "            data = j\n",
    "            print(data.tolist())\n",
    "            y_pred = sigmoid(b_vector,data[:-1])\n",
    "            log_t += ((1-data[-1])*np.log(1-y_pred)) + data[-1]*np.log(y_pred)\n",
    "        b_gradiente = np.zeros(cant_b).tolist()\n",
    "        for k in range(batch):\n",
    "            data = df.sample(n=1).values[0]\n",
    "            for l in range(len(b_vector)):\n",
    "                if l == 0:\n",
    "                    b_gradiente[l] += data[-1] - sigmoid(b_vector, data[:-1]) # unicamente para el primer valor ya que la derivada parcial de b0 es diferente\n",
    "                else:\n",
    "                    b_gradiente[l] += data[l-1] * (data[-1] - sigmoid(b_vector,data[:-1]))\n",
    "        \n",
    "        for l in range(len(b_vector)):\n",
    "            b_vector[l] = b_vector*b_gradiente[l]/batch\n",
    "        rsl.append([b_vector,log_t])\n",
    "        print(f'Epoca {i+1}: ')\n",
    "        for l in range(len(b_vector)):\n",
    "            print(f'\\n b{l}: {b_vector[l]}')\n",
    "        print(f'\\n log_likelihood: {log_t}\\n\\n')\n",
    "    return rsl"
   ],
   "metadata": {
    "collapsed": false,
    "ExecuteTime": {
     "end_time": "2023-11-15T06:08:14.572543100Z",
     "start_time": "2023-11-15T06:08:14.464716900Z"
    }
   },
   "id": "3d681721a83399e0"
  },
  {
   "cell_type": "code",
   "execution_count": 49,
   "outputs": [],
   "source": [
    "df_matriz_TF_IDF = pd.concat([df_matriz_TF_IDF,df_comentarios['Sentimiento']], axis=1)"
   ],
   "metadata": {
    "collapsed": false,
    "ExecuteTime": {
     "end_time": "2023-11-15T06:08:14.812763300Z",
     "start_time": "2023-11-15T06:08:14.685150300Z"
    }
   },
   "id": "968b4b2f4a528c9b"
  },
  {
   "cell_type": "code",
   "execution_count": 50,
   "outputs": [
    {
     "name": "stdout",
     "output_type": "stream",
     "text": [
      "['aprendi regresiones', 0.298919, 0.0, 0.0, 0.0, 0.0, 0.0, 0.0, 0.0, 0.0, 0.0, 0.0, 0.0, 0.0, 0.0, 0.0, 0.0, 0.0, 0.0, 0.0, 0.0, 0.0, 0.0, 0.0, 0.0, 0.0, 0.0, 0.0, 0.0, 0.0, 0.0, 0.0, 0.0, 0.0, 0.0, 0.0, 0.0, 0.0, 0.0, 0.0, 0.0, 0.0, 0.0, 0.0, 0.0, 0.0, 0.0, 0.0, 0.0, 0.0, 0.0, 0.0, 0.0, 0.0, 0.0, 0.0, 0.0, 0.0, 0.0, 1.151293, 0.0, 0.0, 0.0, 1, 1, 1, 1, 1]\n"
     ]
    },
    {
     "ename": "TypeError",
     "evalue": "can't multiply sequence by non-int of type 'float'",
     "output_type": "error",
     "traceback": [
      "\u001B[1;31m---------------------------------------------------------------------------\u001B[0m",
      "\u001B[1;31mTypeError\u001B[0m                                 Traceback (most recent call last)",
      "Cell \u001B[1;32mIn[50], line 4\u001B[0m\n\u001B[0;32m      2\u001B[0m batch \u001B[38;5;241m=\u001B[39m \u001B[38;5;241m3\u001B[39m\n\u001B[0;32m      3\u001B[0m epochs \u001B[38;5;241m=\u001B[39m \u001B[38;5;241m5\u001B[39m\n\u001B[1;32m----> 4\u001B[0m rsl \u001B[38;5;241m=\u001B[39m \u001B[43mgrad_des\u001B[49m\u001B[43m(\u001B[49m\u001B[43mlr\u001B[49m\u001B[43m,\u001B[49m\u001B[43mbatch\u001B[49m\u001B[43m,\u001B[49m\u001B[43mepochs\u001B[49m\u001B[43m,\u001B[49m\u001B[43mdf_matriz_TF_IDF\u001B[49m\u001B[43m)\u001B[49m\n",
      "Cell \u001B[1;32mIn[48], line 16\u001B[0m, in \u001B[0;36mgrad_des\u001B[1;34m(lr, batch, epochs, df)\u001B[0m\n\u001B[0;32m     14\u001B[0m     data \u001B[38;5;241m=\u001B[39m j\n\u001B[0;32m     15\u001B[0m     \u001B[38;5;28mprint\u001B[39m(data\u001B[38;5;241m.\u001B[39mtolist())\n\u001B[1;32m---> 16\u001B[0m     y_pred \u001B[38;5;241m=\u001B[39m \u001B[43msigmoid\u001B[49m\u001B[43m(\u001B[49m\u001B[43mb_vector\u001B[49m\u001B[43m,\u001B[49m\u001B[43mdata\u001B[49m\u001B[43m[\u001B[49m\u001B[43m:\u001B[49m\u001B[38;5;241;43m-\u001B[39;49m\u001B[38;5;241;43m1\u001B[39;49m\u001B[43m]\u001B[49m\u001B[43m)\u001B[49m\n\u001B[0;32m     17\u001B[0m     log_t \u001B[38;5;241m+\u001B[39m\u001B[38;5;241m=\u001B[39m ((\u001B[38;5;241m1\u001B[39m\u001B[38;5;241m-\u001B[39mdata[\u001B[38;5;241m-\u001B[39m\u001B[38;5;241m1\u001B[39m])\u001B[38;5;241m*\u001B[39mnp\u001B[38;5;241m.\u001B[39mlog(\u001B[38;5;241m1\u001B[39m\u001B[38;5;241m-\u001B[39my_pred)) \u001B[38;5;241m+\u001B[39m data[\u001B[38;5;241m-\u001B[39m\u001B[38;5;241m1\u001B[39m]\u001B[38;5;241m*\u001B[39mnp\u001B[38;5;241m.\u001B[39mlog(y_pred)\n\u001B[0;32m     18\u001B[0m b_gradiente \u001B[38;5;241m=\u001B[39m np\u001B[38;5;241m.\u001B[39mzeros(cant_b)\u001B[38;5;241m.\u001B[39mtolist()\n",
      "Cell \u001B[1;32mIn[48], line 4\u001B[0m, in \u001B[0;36msigmoid\u001B[1;34m(b, x)\u001B[0m\n\u001B[0;32m      2\u001B[0m g \u001B[38;5;241m=\u001B[39m \u001B[38;5;241m0\u001B[39m\n\u001B[0;32m      3\u001B[0m \u001B[38;5;28;01mfor\u001B[39;00m i \u001B[38;5;129;01min\u001B[39;00m \u001B[38;5;28mrange\u001B[39m(\u001B[38;5;28mlen\u001B[39m(x)):\n\u001B[1;32m----> 4\u001B[0m     g\u001B[38;5;241m+\u001B[39m\u001B[38;5;241m=\u001B[39m\u001B[43mb\u001B[49m\u001B[43m[\u001B[49m\u001B[43mi\u001B[49m\u001B[43m]\u001B[49m\u001B[38;5;241;43m*\u001B[39;49m\u001B[43mx\u001B[49m\u001B[43m[\u001B[49m\u001B[43mi\u001B[49m\u001B[43m]\u001B[49m\n\u001B[0;32m      5\u001B[0m \u001B[38;5;28;01mreturn\u001B[39;00m \u001B[38;5;241m1.0\u001B[39m\u001B[38;5;241m/\u001B[39m(\u001B[38;5;241m1.0\u001B[39m\u001B[38;5;241m+\u001B[39mnp\u001B[38;5;241m.\u001B[39mexp(\u001B[38;5;241m-\u001B[39mg))\n",
      "\u001B[1;31mTypeError\u001B[0m: can't multiply sequence by non-int of type 'float'"
     ]
    }
   ],
   "source": [
    "lr = 0.5\n",
    "batch = 3\n",
    "epochs = 5\n",
    "rsl = grad_des(lr,batch,epochs,df_matriz_TF_IDF)"
   ],
   "metadata": {
    "collapsed": false,
    "ExecuteTime": {
     "end_time": "2023-11-15T06:08:15.046797800Z",
     "start_time": "2023-11-15T06:08:14.863830700Z"
    }
   },
   "id": "59e130f66b32b141"
  },
  {
   "cell_type": "code",
   "execution_count": 56,
   "outputs": [
    {
     "ename": "KeyError",
     "evalue": "\"None of ['\\\\\\\\nTexto'] are in the columns\"",
     "output_type": "error",
     "traceback": [
      "\u001B[1;31m---------------------------------------------------------------------------\u001B[0m",
      "\u001B[1;31mKeyError\u001B[0m                                  Traceback (most recent call last)",
      "\u001B[1;32m~\\AppData\\Local\\Temp\\ipykernel_11900\\2960567959.py\u001B[0m in \u001B[0;36m?\u001B[1;34m()\u001B[0m\n\u001B[1;32m----> 1\u001B[1;33m \u001B[0mdf_matriz_TF_IDF\u001B[0m \u001B[1;33m=\u001B[0m \u001B[0mdf_matriz_TF_IDF\u001B[0m\u001B[1;33m.\u001B[0m\u001B[0mset_index\u001B[0m\u001B[1;33m(\u001B[0m\u001B[1;34m'\\\\nTexto'\u001B[0m\u001B[1;33m)\u001B[0m\u001B[1;33m\u001B[0m\u001B[1;33m\u001B[0m\u001B[0m\n\u001B[0m",
      "\u001B[1;32m~\\Documents\\GitHub\\Estadistica-III\\venv\\Lib\\site-packages\\pandas\\core\\frame.py\u001B[0m in \u001B[0;36m?\u001B[1;34m(self, keys, drop, append, inplace, verify_integrity)\u001B[0m\n\u001B[0;32m   5866\u001B[0m                     \u001B[1;32mif\u001B[0m \u001B[1;32mnot\u001B[0m \u001B[0mfound\u001B[0m\u001B[1;33m:\u001B[0m\u001B[1;33m\u001B[0m\u001B[1;33m\u001B[0m\u001B[0m\n\u001B[0;32m   5867\u001B[0m                         \u001B[0mmissing\u001B[0m\u001B[1;33m.\u001B[0m\u001B[0mappend\u001B[0m\u001B[1;33m(\u001B[0m\u001B[0mcol\u001B[0m\u001B[1;33m)\u001B[0m\u001B[1;33m\u001B[0m\u001B[1;33m\u001B[0m\u001B[0m\n\u001B[0;32m   5868\u001B[0m \u001B[1;33m\u001B[0m\u001B[0m\n\u001B[0;32m   5869\u001B[0m         \u001B[1;32mif\u001B[0m \u001B[0mmissing\u001B[0m\u001B[1;33m:\u001B[0m\u001B[1;33m\u001B[0m\u001B[1;33m\u001B[0m\u001B[0m\n\u001B[1;32m-> 5870\u001B[1;33m             \u001B[1;32mraise\u001B[0m \u001B[0mKeyError\u001B[0m\u001B[1;33m(\u001B[0m\u001B[1;33mf\"\u001B[0m\u001B[1;33mNone of \u001B[0m\u001B[1;33m{\u001B[0m\u001B[0mmissing\u001B[0m\u001B[1;33m}\u001B[0m\u001B[1;33m are in the columns\u001B[0m\u001B[1;33m\"\u001B[0m\u001B[1;33m)\u001B[0m\u001B[1;33m\u001B[0m\u001B[1;33m\u001B[0m\u001B[0m\n\u001B[0m\u001B[0;32m   5871\u001B[0m \u001B[1;33m\u001B[0m\u001B[0m\n\u001B[0;32m   5872\u001B[0m         \u001B[1;32mif\u001B[0m \u001B[0minplace\u001B[0m\u001B[1;33m:\u001B[0m\u001B[1;33m\u001B[0m\u001B[1;33m\u001B[0m\u001B[0m\n\u001B[0;32m   5873\u001B[0m             \u001B[0mframe\u001B[0m \u001B[1;33m=\u001B[0m \u001B[0mself\u001B[0m\u001B[1;33m\u001B[0m\u001B[1;33m\u001B[0m\u001B[0m\n",
      "\u001B[1;31mKeyError\u001B[0m: \"None of ['\\\\\\\\nTexto'] are in the columns\""
     ]
    }
   ],
   "source": [
    "df_matriz_TF_IDF = df_matriz_TF_IDF.set_index('\\\\nTexto')"
   ],
   "metadata": {
    "collapsed": false,
    "ExecuteTime": {
     "end_time": "2023-11-15T06:11:08.594440Z",
     "start_time": "2023-11-15T06:11:08.556262600Z"
    }
   },
   "id": "4b6d9a9af5b318f2"
  },
  {
   "cell_type": "code",
   "execution_count": null,
   "outputs": [],
   "source": [],
   "metadata": {
    "collapsed": false
   },
   "id": "f23c08a5164c89ac"
  }
 ],
 "metadata": {
  "kernelspec": {
   "display_name": "Python 3",
   "language": "python",
   "name": "python3"
  },
  "language_info": {
   "codemirror_mode": {
    "name": "ipython",
    "version": 2
   },
   "file_extension": ".py",
   "mimetype": "text/x-python",
   "name": "python",
   "nbconvert_exporter": "python",
   "pygments_lexer": "ipython2",
   "version": "2.7.6"
  }
 },
 "nbformat": 4,
 "nbformat_minor": 5
}
