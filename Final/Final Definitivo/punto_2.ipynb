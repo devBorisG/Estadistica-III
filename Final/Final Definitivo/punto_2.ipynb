{
 "cells": [
  {
   "cell_type": "code",
   "execution_count": 39,
   "id": "initial_id",
   "metadata": {
    "collapsed": true,
    "ExecuteTime": {
     "end_time": "2023-11-15T04:46:23.139580Z",
     "start_time": "2023-11-15T04:46:22.939043300Z"
    }
   },
   "outputs": [],
   "source": [
    "import pandas as pd\n",
    "import re\n",
    "from unidecode import unidecode\n",
    "import math\n",
    "import matplotlib.pyplot as plt"
   ]
  },
  {
   "cell_type": "code",
   "execution_count": 40,
   "outputs": [],
   "source": [
    "df_comentarios = pd.read_excel(\"../data/final.xlsx\")\n",
    "texto = df_comentarios['Texto']"
   ],
   "metadata": {
    "collapsed": false,
    "ExecuteTime": {
     "end_time": "2023-11-15T04:46:23.309976100Z",
     "start_time": "2023-11-15T04:46:22.945887600Z"
    }
   },
   "id": "bd522094498000ec"
  },
  {
   "cell_type": "code",
   "execution_count": 41,
   "outputs": [],
   "source": [
    "texto = texto.str.lower()\n",
    "texto = texto.apply(unidecode)"
   ],
   "metadata": {
    "collapsed": false,
    "ExecuteTime": {
     "end_time": "2023-11-15T04:46:23.309976100Z",
     "start_time": "2023-11-15T04:46:22.972079200Z"
    }
   },
   "id": "1a57753dbc379926"
  },
  {
   "cell_type": "code",
   "execution_count": 42,
   "outputs": [
    {
     "data": {
      "text/plain": "        Palabra\n0       aprendi\n1   regresiones\n2         mucha\n3         tarea\n4       modelos\n5            de\n6         texto\n7        tareas\n8           muy\n9        largas\n10            a\n11     utilizar\n12     imagenes\n13           el\n14        profe\n15           se\n16       demora\n17           en\n18     entregar\n19          las",
      "text/html": "<div>\n<style scoped>\n    .dataframe tbody tr th:only-of-type {\n        vertical-align: middle;\n    }\n\n    .dataframe tbody tr th {\n        vertical-align: top;\n    }\n\n    .dataframe thead th {\n        text-align: right;\n    }\n</style>\n<table border=\"1\" class=\"dataframe\">\n  <thead>\n    <tr style=\"text-align: right;\">\n      <th></th>\n      <th>Palabra</th>\n    </tr>\n  </thead>\n  <tbody>\n    <tr>\n      <th>0</th>\n      <td>aprendi</td>\n    </tr>\n    <tr>\n      <th>1</th>\n      <td>regresiones</td>\n    </tr>\n    <tr>\n      <th>2</th>\n      <td>mucha</td>\n    </tr>\n    <tr>\n      <th>3</th>\n      <td>tarea</td>\n    </tr>\n    <tr>\n      <th>4</th>\n      <td>modelos</td>\n    </tr>\n    <tr>\n      <th>5</th>\n      <td>de</td>\n    </tr>\n    <tr>\n      <th>6</th>\n      <td>texto</td>\n    </tr>\n    <tr>\n      <th>7</th>\n      <td>tareas</td>\n    </tr>\n    <tr>\n      <th>8</th>\n      <td>muy</td>\n    </tr>\n    <tr>\n      <th>9</th>\n      <td>largas</td>\n    </tr>\n    <tr>\n      <th>10</th>\n      <td>a</td>\n    </tr>\n    <tr>\n      <th>11</th>\n      <td>utilizar</td>\n    </tr>\n    <tr>\n      <th>12</th>\n      <td>imagenes</td>\n    </tr>\n    <tr>\n      <th>13</th>\n      <td>el</td>\n    </tr>\n    <tr>\n      <th>14</th>\n      <td>profe</td>\n    </tr>\n    <tr>\n      <th>15</th>\n      <td>se</td>\n    </tr>\n    <tr>\n      <th>16</th>\n      <td>demora</td>\n    </tr>\n    <tr>\n      <th>17</th>\n      <td>en</td>\n    </tr>\n    <tr>\n      <th>18</th>\n      <td>entregar</td>\n    </tr>\n    <tr>\n      <th>19</th>\n      <td>las</td>\n    </tr>\n  </tbody>\n</table>\n</div>"
     },
     "execution_count": 42,
     "metadata": {},
     "output_type": "execute_result"
    }
   ],
   "source": [
    "def obtener_palabras_unicas(texto, diccionario):\n",
    "    palabras = re.findall(r'\\b\\w+\\b', texto)\n",
    "    for palabra in palabras:\n",
    "        diccionario[palabra] = 0\n",
    "\n",
    "palabras_unicas = {}\n",
    "\n",
    "texto.apply(lambda x: obtener_palabras_unicas(x, palabras_unicas))\n",
    "\n",
    "df_palabras_unicas = pd.DataFrame(palabras_unicas.keys(), columns=[\"Palabra\"])\n",
    "df_palabras_unicas.head(20)"
   ],
   "metadata": {
    "collapsed": false,
    "ExecuteTime": {
     "end_time": "2023-11-15T04:46:23.310974800Z",
     "start_time": "2023-11-15T04:46:22.988863500Z"
    }
   },
   "id": "234f24a61cb46604"
  },
  {
   "cell_type": "code",
   "execution_count": 43,
   "outputs": [
    {
     "data": {
      "text/plain": "                                                    aprendi  regresiones  \\\nTexto                                                                      \naprendi regresiones                                     0.0          0.0   \nmucha tarea                                             0.0          0.0   \naprendi modelos de texto                                0.0          0.0   \ntareas muy largas                                       0.0          0.0   \naprendi a utilizar imagenes                             0.0          0.0   \nel profe se demora en entregar las notas                0.0          0.0   \nme gusto competir por el mejor modelo                   0.0          0.0   \nlos examenes son largos                                 0.0          0.0   \naprendi gradientes                                      0.0          0.0   \naprendi nlp                                             0.0          0.0   \naprendi redes neuronales                                0.0          0.0   \nfalto aprender mas spark                                0.0          0.0   \nlas office hours son los sabados                        0.0          0.0   \naprendi python                                          0.0          0.0   \naprendi que es pca                                      0.0          0.0   \naprendi que es un cluster                               0.0          0.0   \nlas tareas son muy practicas                            0.0          0.0   \naprendi q las derivadas son muy utiles                  0.0          0.0   \npandas es com un excel y me gusto                       0.0          0.0   \nme confio de las grabaciones y me distraigo en ...      0.0          0.0   \n\n                                                    mucha  tarea  modelos  \\\nTexto                                                                       \naprendi regresiones                                   0.0    0.0      0.0   \nmucha tarea                                           0.0    0.0      0.0   \naprendi modelos de texto                              0.0    0.0      0.0   \ntareas muy largas                                     0.0    0.0      0.0   \naprendi a utilizar imagenes                           0.0    0.0      0.0   \nel profe se demora en entregar las notas              0.0    0.0      0.0   \nme gusto competir por el mejor modelo                 0.0    0.0      0.0   \nlos examenes son largos                               0.0    0.0      0.0   \naprendi gradientes                                    0.0    0.0      0.0   \naprendi nlp                                           0.0    0.0      0.0   \naprendi redes neuronales                              0.0    0.0      0.0   \nfalto aprender mas spark                              0.0    0.0      0.0   \nlas office hours son los sabados                      0.0    0.0      0.0   \naprendi python                                        0.0    0.0      0.0   \naprendi que es pca                                    0.0    0.0      0.0   \naprendi que es un cluster                             0.0    0.0      0.0   \nlas tareas son muy practicas                          0.0    0.0      0.0   \naprendi q las derivadas son muy utiles                0.0    0.0      0.0   \npandas es com un excel y me gusto                     0.0    0.0      0.0   \nme confio de las grabaciones y me distraigo en ...    0.0    0.0      0.0   \n\n                                                     de  texto  \nTexto                                                           \naprendi regresiones                                 0.0    0.0  \nmucha tarea                                         0.0    0.0  \naprendi modelos de texto                            0.0    0.0  \ntareas muy largas                                   0.0    0.0  \naprendi a utilizar imagenes                         0.0    0.0  \nel profe se demora en entregar las notas            0.0    0.0  \nme gusto competir por el mejor modelo               0.0    0.0  \nlos examenes son largos                             0.0    0.0  \naprendi gradientes                                  0.0    0.0  \naprendi nlp                                         0.0    0.0  \naprendi redes neuronales                            0.0    0.0  \nfalto aprender mas spark                            0.0    0.0  \nlas office hours son los sabados                    0.0    0.0  \naprendi python                                      0.0    0.0  \naprendi que es pca                                  0.0    0.0  \naprendi que es un cluster                           0.0    0.0  \nlas tareas son muy practicas                        0.0    0.0  \naprendi q las derivadas son muy utiles              0.0    0.0  \npandas es com un excel y me gusto                   0.0    0.0  \nme confio de las grabaciones y me distraigo en ...  0.0    0.0  ",
      "text/html": "<div>\n<style scoped>\n    .dataframe tbody tr th:only-of-type {\n        vertical-align: middle;\n    }\n\n    .dataframe tbody tr th {\n        vertical-align: top;\n    }\n\n    .dataframe thead th {\n        text-align: right;\n    }\n</style>\n<table border=\"1\" class=\"dataframe\">\n  <thead>\n    <tr style=\"text-align: right;\">\n      <th></th>\n      <th>aprendi</th>\n      <th>regresiones</th>\n      <th>mucha</th>\n      <th>tarea</th>\n      <th>modelos</th>\n      <th>de</th>\n      <th>texto</th>\n    </tr>\n    <tr>\n      <th>Texto</th>\n      <th></th>\n      <th></th>\n      <th></th>\n      <th></th>\n      <th></th>\n      <th></th>\n      <th></th>\n    </tr>\n  </thead>\n  <tbody>\n    <tr>\n      <th>aprendi regresiones</th>\n      <td>0.0</td>\n      <td>0.0</td>\n      <td>0.0</td>\n      <td>0.0</td>\n      <td>0.0</td>\n      <td>0.0</td>\n      <td>0.0</td>\n    </tr>\n    <tr>\n      <th>mucha tarea</th>\n      <td>0.0</td>\n      <td>0.0</td>\n      <td>0.0</td>\n      <td>0.0</td>\n      <td>0.0</td>\n      <td>0.0</td>\n      <td>0.0</td>\n    </tr>\n    <tr>\n      <th>aprendi modelos de texto</th>\n      <td>0.0</td>\n      <td>0.0</td>\n      <td>0.0</td>\n      <td>0.0</td>\n      <td>0.0</td>\n      <td>0.0</td>\n      <td>0.0</td>\n    </tr>\n    <tr>\n      <th>tareas muy largas</th>\n      <td>0.0</td>\n      <td>0.0</td>\n      <td>0.0</td>\n      <td>0.0</td>\n      <td>0.0</td>\n      <td>0.0</td>\n      <td>0.0</td>\n    </tr>\n    <tr>\n      <th>aprendi a utilizar imagenes</th>\n      <td>0.0</td>\n      <td>0.0</td>\n      <td>0.0</td>\n      <td>0.0</td>\n      <td>0.0</td>\n      <td>0.0</td>\n      <td>0.0</td>\n    </tr>\n    <tr>\n      <th>el profe se demora en entregar las notas</th>\n      <td>0.0</td>\n      <td>0.0</td>\n      <td>0.0</td>\n      <td>0.0</td>\n      <td>0.0</td>\n      <td>0.0</td>\n      <td>0.0</td>\n    </tr>\n    <tr>\n      <th>me gusto competir por el mejor modelo</th>\n      <td>0.0</td>\n      <td>0.0</td>\n      <td>0.0</td>\n      <td>0.0</td>\n      <td>0.0</td>\n      <td>0.0</td>\n      <td>0.0</td>\n    </tr>\n    <tr>\n      <th>los examenes son largos</th>\n      <td>0.0</td>\n      <td>0.0</td>\n      <td>0.0</td>\n      <td>0.0</td>\n      <td>0.0</td>\n      <td>0.0</td>\n      <td>0.0</td>\n    </tr>\n    <tr>\n      <th>aprendi gradientes</th>\n      <td>0.0</td>\n      <td>0.0</td>\n      <td>0.0</td>\n      <td>0.0</td>\n      <td>0.0</td>\n      <td>0.0</td>\n      <td>0.0</td>\n    </tr>\n    <tr>\n      <th>aprendi nlp</th>\n      <td>0.0</td>\n      <td>0.0</td>\n      <td>0.0</td>\n      <td>0.0</td>\n      <td>0.0</td>\n      <td>0.0</td>\n      <td>0.0</td>\n    </tr>\n    <tr>\n      <th>aprendi redes neuronales</th>\n      <td>0.0</td>\n      <td>0.0</td>\n      <td>0.0</td>\n      <td>0.0</td>\n      <td>0.0</td>\n      <td>0.0</td>\n      <td>0.0</td>\n    </tr>\n    <tr>\n      <th>falto aprender mas spark</th>\n      <td>0.0</td>\n      <td>0.0</td>\n      <td>0.0</td>\n      <td>0.0</td>\n      <td>0.0</td>\n      <td>0.0</td>\n      <td>0.0</td>\n    </tr>\n    <tr>\n      <th>las office hours son los sabados</th>\n      <td>0.0</td>\n      <td>0.0</td>\n      <td>0.0</td>\n      <td>0.0</td>\n      <td>0.0</td>\n      <td>0.0</td>\n      <td>0.0</td>\n    </tr>\n    <tr>\n      <th>aprendi python</th>\n      <td>0.0</td>\n      <td>0.0</td>\n      <td>0.0</td>\n      <td>0.0</td>\n      <td>0.0</td>\n      <td>0.0</td>\n      <td>0.0</td>\n    </tr>\n    <tr>\n      <th>aprendi que es pca</th>\n      <td>0.0</td>\n      <td>0.0</td>\n      <td>0.0</td>\n      <td>0.0</td>\n      <td>0.0</td>\n      <td>0.0</td>\n      <td>0.0</td>\n    </tr>\n    <tr>\n      <th>aprendi que es un cluster</th>\n      <td>0.0</td>\n      <td>0.0</td>\n      <td>0.0</td>\n      <td>0.0</td>\n      <td>0.0</td>\n      <td>0.0</td>\n      <td>0.0</td>\n    </tr>\n    <tr>\n      <th>las tareas son muy practicas</th>\n      <td>0.0</td>\n      <td>0.0</td>\n      <td>0.0</td>\n      <td>0.0</td>\n      <td>0.0</td>\n      <td>0.0</td>\n      <td>0.0</td>\n    </tr>\n    <tr>\n      <th>aprendi q las derivadas son muy utiles</th>\n      <td>0.0</td>\n      <td>0.0</td>\n      <td>0.0</td>\n      <td>0.0</td>\n      <td>0.0</td>\n      <td>0.0</td>\n      <td>0.0</td>\n    </tr>\n    <tr>\n      <th>pandas es com un excel y me gusto</th>\n      <td>0.0</td>\n      <td>0.0</td>\n      <td>0.0</td>\n      <td>0.0</td>\n      <td>0.0</td>\n      <td>0.0</td>\n      <td>0.0</td>\n    </tr>\n    <tr>\n      <th>me confio de las grabaciones y me distraigo en la parte teorica</th>\n      <td>0.0</td>\n      <td>0.0</td>\n      <td>0.0</td>\n      <td>0.0</td>\n      <td>0.0</td>\n      <td>0.0</td>\n      <td>0.0</td>\n    </tr>\n  </tbody>\n</table>\n</div>"
     },
     "execution_count": 43,
     "metadata": {},
     "output_type": "execute_result"
    }
   ],
   "source": [
    "df_matriz_frecuencia = pd.DataFrame(palabras_unicas, index=texto).astype(float)\n",
    "df_matriz_frecuencia.iloc[:,:7]"
   ],
   "metadata": {
    "collapsed": false,
    "ExecuteTime": {
     "end_time": "2023-11-15T04:46:23.313974700Z",
     "start_time": "2023-11-15T04:46:23.007577100Z"
    }
   },
   "id": "b77aa57b971071ac"
  },
  {
   "cell_type": "code",
   "execution_count": 44,
   "outputs": [],
   "source": [
    "for indice, fila in df_matriz_frecuencia.iterrows():\n",
    "    for palabra in df_matriz_frecuencia.columns:\n",
    "        titulo_interno = fila.name\n",
    "        titulo_interno_vector = titulo_interno.split()\n",
    "        df_matriz_frecuencia.at[titulo_interno,palabra] = titulo_interno_vector.count(palabra)"
   ],
   "metadata": {
    "collapsed": false,
    "ExecuteTime": {
     "end_time": "2023-11-15T04:46:23.320976700Z",
     "start_time": "2023-11-15T04:46:23.052026800Z"
    }
   },
   "id": "e328a4560b1b1e98"
  },
  {
   "cell_type": "code",
   "execution_count": 45,
   "outputs": [
    {
     "data": {
      "text/plain": "                                                    aprendi  regresiones  \\\nTexto                                                                      \naprendi regresiones                                     1.0          1.0   \nmucha tarea                                             0.0          0.0   \naprendi modelos de texto                                1.0          0.0   \ntareas muy largas                                       0.0          0.0   \naprendi a utilizar imagenes                             1.0          0.0   \nel profe se demora en entregar las notas                0.0          0.0   \nme gusto competir por el mejor modelo                   0.0          0.0   \nlos examenes son largos                                 0.0          0.0   \naprendi gradientes                                      1.0          0.0   \naprendi nlp                                             1.0          0.0   \naprendi redes neuronales                                1.0          0.0   \nfalto aprender mas spark                                0.0          0.0   \nlas office hours son los sabados                        0.0          0.0   \naprendi python                                          1.0          0.0   \naprendi que es pca                                      1.0          0.0   \naprendi que es un cluster                               1.0          0.0   \nlas tareas son muy practicas                            0.0          0.0   \naprendi q las derivadas son muy utiles                  1.0          0.0   \npandas es com un excel y me gusto                       0.0          0.0   \nme confio de las grabaciones y me distraigo en ...      0.0          0.0   \n\n                                                    mucha  tarea  modelos  \\\nTexto                                                                       \naprendi regresiones                                   0.0    0.0      0.0   \nmucha tarea                                           1.0    1.0      0.0   \naprendi modelos de texto                              0.0    0.0      1.0   \ntareas muy largas                                     0.0    0.0      0.0   \naprendi a utilizar imagenes                           0.0    0.0      0.0   \nel profe se demora en entregar las notas              0.0    0.0      0.0   \nme gusto competir por el mejor modelo                 0.0    0.0      0.0   \nlos examenes son largos                               0.0    0.0      0.0   \naprendi gradientes                                    0.0    0.0      0.0   \naprendi nlp                                           0.0    0.0      0.0   \naprendi redes neuronales                              0.0    0.0      0.0   \nfalto aprender mas spark                              0.0    0.0      0.0   \nlas office hours son los sabados                      0.0    0.0      0.0   \naprendi python                                        0.0    0.0      0.0   \naprendi que es pca                                    0.0    0.0      0.0   \naprendi que es un cluster                             0.0    0.0      0.0   \nlas tareas son muy practicas                          0.0    0.0      0.0   \naprendi q las derivadas son muy utiles                0.0    0.0      0.0   \npandas es com un excel y me gusto                     0.0    0.0      0.0   \nme confio de las grabaciones y me distraigo en ...    0.0    0.0      0.0   \n\n                                                     de  texto  \nTexto                                                           \naprendi regresiones                                 0.0    0.0  \nmucha tarea                                         0.0    0.0  \naprendi modelos de texto                            1.0    1.0  \ntareas muy largas                                   0.0    0.0  \naprendi a utilizar imagenes                         0.0    0.0  \nel profe se demora en entregar las notas            0.0    0.0  \nme gusto competir por el mejor modelo               0.0    0.0  \nlos examenes son largos                             0.0    0.0  \naprendi gradientes                                  0.0    0.0  \naprendi nlp                                         0.0    0.0  \naprendi redes neuronales                            0.0    0.0  \nfalto aprender mas spark                            0.0    0.0  \nlas office hours son los sabados                    0.0    0.0  \naprendi python                                      0.0    0.0  \naprendi que es pca                                  0.0    0.0  \naprendi que es un cluster                           0.0    0.0  \nlas tareas son muy practicas                        0.0    0.0  \naprendi q las derivadas son muy utiles              0.0    0.0  \npandas es com un excel y me gusto                   0.0    0.0  \nme confio de las grabaciones y me distraigo en ...  1.0    0.0  ",
      "text/html": "<div>\n<style scoped>\n    .dataframe tbody tr th:only-of-type {\n        vertical-align: middle;\n    }\n\n    .dataframe tbody tr th {\n        vertical-align: top;\n    }\n\n    .dataframe thead th {\n        text-align: right;\n    }\n</style>\n<table border=\"1\" class=\"dataframe\">\n  <thead>\n    <tr style=\"text-align: right;\">\n      <th></th>\n      <th>aprendi</th>\n      <th>regresiones</th>\n      <th>mucha</th>\n      <th>tarea</th>\n      <th>modelos</th>\n      <th>de</th>\n      <th>texto</th>\n    </tr>\n    <tr>\n      <th>Texto</th>\n      <th></th>\n      <th></th>\n      <th></th>\n      <th></th>\n      <th></th>\n      <th></th>\n      <th></th>\n    </tr>\n  </thead>\n  <tbody>\n    <tr>\n      <th>aprendi regresiones</th>\n      <td>1.0</td>\n      <td>1.0</td>\n      <td>0.0</td>\n      <td>0.0</td>\n      <td>0.0</td>\n      <td>0.0</td>\n      <td>0.0</td>\n    </tr>\n    <tr>\n      <th>mucha tarea</th>\n      <td>0.0</td>\n      <td>0.0</td>\n      <td>1.0</td>\n      <td>1.0</td>\n      <td>0.0</td>\n      <td>0.0</td>\n      <td>0.0</td>\n    </tr>\n    <tr>\n      <th>aprendi modelos de texto</th>\n      <td>1.0</td>\n      <td>0.0</td>\n      <td>0.0</td>\n      <td>0.0</td>\n      <td>1.0</td>\n      <td>1.0</td>\n      <td>1.0</td>\n    </tr>\n    <tr>\n      <th>tareas muy largas</th>\n      <td>0.0</td>\n      <td>0.0</td>\n      <td>0.0</td>\n      <td>0.0</td>\n      <td>0.0</td>\n      <td>0.0</td>\n      <td>0.0</td>\n    </tr>\n    <tr>\n      <th>aprendi a utilizar imagenes</th>\n      <td>1.0</td>\n      <td>0.0</td>\n      <td>0.0</td>\n      <td>0.0</td>\n      <td>0.0</td>\n      <td>0.0</td>\n      <td>0.0</td>\n    </tr>\n    <tr>\n      <th>el profe se demora en entregar las notas</th>\n      <td>0.0</td>\n      <td>0.0</td>\n      <td>0.0</td>\n      <td>0.0</td>\n      <td>0.0</td>\n      <td>0.0</td>\n      <td>0.0</td>\n    </tr>\n    <tr>\n      <th>me gusto competir por el mejor modelo</th>\n      <td>0.0</td>\n      <td>0.0</td>\n      <td>0.0</td>\n      <td>0.0</td>\n      <td>0.0</td>\n      <td>0.0</td>\n      <td>0.0</td>\n    </tr>\n    <tr>\n      <th>los examenes son largos</th>\n      <td>0.0</td>\n      <td>0.0</td>\n      <td>0.0</td>\n      <td>0.0</td>\n      <td>0.0</td>\n      <td>0.0</td>\n      <td>0.0</td>\n    </tr>\n    <tr>\n      <th>aprendi gradientes</th>\n      <td>1.0</td>\n      <td>0.0</td>\n      <td>0.0</td>\n      <td>0.0</td>\n      <td>0.0</td>\n      <td>0.0</td>\n      <td>0.0</td>\n    </tr>\n    <tr>\n      <th>aprendi nlp</th>\n      <td>1.0</td>\n      <td>0.0</td>\n      <td>0.0</td>\n      <td>0.0</td>\n      <td>0.0</td>\n      <td>0.0</td>\n      <td>0.0</td>\n    </tr>\n    <tr>\n      <th>aprendi redes neuronales</th>\n      <td>1.0</td>\n      <td>0.0</td>\n      <td>0.0</td>\n      <td>0.0</td>\n      <td>0.0</td>\n      <td>0.0</td>\n      <td>0.0</td>\n    </tr>\n    <tr>\n      <th>falto aprender mas spark</th>\n      <td>0.0</td>\n      <td>0.0</td>\n      <td>0.0</td>\n      <td>0.0</td>\n      <td>0.0</td>\n      <td>0.0</td>\n      <td>0.0</td>\n    </tr>\n    <tr>\n      <th>las office hours son los sabados</th>\n      <td>0.0</td>\n      <td>0.0</td>\n      <td>0.0</td>\n      <td>0.0</td>\n      <td>0.0</td>\n      <td>0.0</td>\n      <td>0.0</td>\n    </tr>\n    <tr>\n      <th>aprendi python</th>\n      <td>1.0</td>\n      <td>0.0</td>\n      <td>0.0</td>\n      <td>0.0</td>\n      <td>0.0</td>\n      <td>0.0</td>\n      <td>0.0</td>\n    </tr>\n    <tr>\n      <th>aprendi que es pca</th>\n      <td>1.0</td>\n      <td>0.0</td>\n      <td>0.0</td>\n      <td>0.0</td>\n      <td>0.0</td>\n      <td>0.0</td>\n      <td>0.0</td>\n    </tr>\n    <tr>\n      <th>aprendi que es un cluster</th>\n      <td>1.0</td>\n      <td>0.0</td>\n      <td>0.0</td>\n      <td>0.0</td>\n      <td>0.0</td>\n      <td>0.0</td>\n      <td>0.0</td>\n    </tr>\n    <tr>\n      <th>las tareas son muy practicas</th>\n      <td>0.0</td>\n      <td>0.0</td>\n      <td>0.0</td>\n      <td>0.0</td>\n      <td>0.0</td>\n      <td>0.0</td>\n      <td>0.0</td>\n    </tr>\n    <tr>\n      <th>aprendi q las derivadas son muy utiles</th>\n      <td>1.0</td>\n      <td>0.0</td>\n      <td>0.0</td>\n      <td>0.0</td>\n      <td>0.0</td>\n      <td>0.0</td>\n      <td>0.0</td>\n    </tr>\n    <tr>\n      <th>pandas es com un excel y me gusto</th>\n      <td>0.0</td>\n      <td>0.0</td>\n      <td>0.0</td>\n      <td>0.0</td>\n      <td>0.0</td>\n      <td>0.0</td>\n      <td>0.0</td>\n    </tr>\n    <tr>\n      <th>me confio de las grabaciones y me distraigo en la parte teorica</th>\n      <td>0.0</td>\n      <td>0.0</td>\n      <td>0.0</td>\n      <td>0.0</td>\n      <td>0.0</td>\n      <td>1.0</td>\n      <td>0.0</td>\n    </tr>\n  </tbody>\n</table>\n</div>"
     },
     "execution_count": 45,
     "metadata": {},
     "output_type": "execute_result"
    }
   ],
   "source": [
    "df_matriz_frecuencia.iloc[:,:7]"
   ],
   "metadata": {
    "collapsed": false,
    "ExecuteTime": {
     "end_time": "2023-11-15T04:46:23.346981500Z",
     "start_time": "2023-11-15T04:46:23.100487900Z"
    }
   },
   "id": "883dacffa47647c4"
  },
  {
   "cell_type": "code",
   "execution_count": 46,
   "outputs": [],
   "source": [
    "df_matriz_TF = pd.DataFrame(palabras_unicas, index=texto)"
   ],
   "metadata": {
    "collapsed": false,
    "ExecuteTime": {
     "end_time": "2023-11-15T04:46:23.347978Z",
     "start_time": "2023-11-15T04:46:23.155097Z"
    }
   },
   "id": "736a6c152bad47d5"
  },
  {
   "cell_type": "code",
   "execution_count": 47,
   "outputs": [
    {
     "data": {
      "text/plain": "                                                     aprendi  regresiones  \\\nTexto                                                                       \naprendi regresiones                                 0.500000          0.5   \nmucha tarea                                         0.000000          0.0   \naprendi modelos de texto                            0.250000          0.0   \ntareas muy largas                                   0.000000          0.0   \naprendi a utilizar imagenes                         0.250000          0.0   \nel profe se demora en entregar las notas            0.000000          0.0   \nme gusto competir por el mejor modelo               0.000000          0.0   \nlos examenes son largos                             0.000000          0.0   \naprendi gradientes                                  0.500000          0.0   \naprendi nlp                                         0.500000          0.0   \naprendi redes neuronales                            0.333333          0.0   \nfalto aprender mas spark                            0.000000          0.0   \nlas office hours son los sabados                    0.000000          0.0   \naprendi python                                      0.500000          0.0   \naprendi que es pca                                  0.250000          0.0   \naprendi que es un cluster                           0.200000          0.0   \nlas tareas son muy practicas                        0.000000          0.0   \naprendi q las derivadas son muy utiles              0.142857          0.0   \npandas es com un excel y me gusto                   0.000000          0.0   \nme confio de las grabaciones y me distraigo en ...  0.000000          0.0   \n\n                                                    mucha  tarea  modelos  \\\nTexto                                                                       \naprendi regresiones                                   0.0    0.0     0.00   \nmucha tarea                                           0.5    0.5     0.00   \naprendi modelos de texto                              0.0    0.0     0.25   \ntareas muy largas                                     0.0    0.0     0.00   \naprendi a utilizar imagenes                           0.0    0.0     0.00   \nel profe se demora en entregar las notas              0.0    0.0     0.00   \nme gusto competir por el mejor modelo                 0.0    0.0     0.00   \nlos examenes son largos                               0.0    0.0     0.00   \naprendi gradientes                                    0.0    0.0     0.00   \naprendi nlp                                           0.0    0.0     0.00   \naprendi redes neuronales                              0.0    0.0     0.00   \nfalto aprender mas spark                              0.0    0.0     0.00   \nlas office hours son los sabados                      0.0    0.0     0.00   \naprendi python                                        0.0    0.0     0.00   \naprendi que es pca                                    0.0    0.0     0.00   \naprendi que es un cluster                             0.0    0.0     0.00   \nlas tareas son muy practicas                          0.0    0.0     0.00   \naprendi q las derivadas son muy utiles                0.0    0.0     0.00   \npandas es com un excel y me gusto                     0.0    0.0     0.00   \nme confio de las grabaciones y me distraigo en ...    0.0    0.0     0.00   \n\n                                                          de  texto  \nTexto                                                                \naprendi regresiones                                 0.000000   0.00  \nmucha tarea                                         0.000000   0.00  \naprendi modelos de texto                            0.250000   0.25  \ntareas muy largas                                   0.000000   0.00  \naprendi a utilizar imagenes                         0.000000   0.00  \nel profe se demora en entregar las notas            0.000000   0.00  \nme gusto competir por el mejor modelo               0.000000   0.00  \nlos examenes son largos                             0.000000   0.00  \naprendi gradientes                                  0.000000   0.00  \naprendi nlp                                         0.000000   0.00  \naprendi redes neuronales                            0.000000   0.00  \nfalto aprender mas spark                            0.000000   0.00  \nlas office hours son los sabados                    0.000000   0.00  \naprendi python                                      0.000000   0.00  \naprendi que es pca                                  0.000000   0.00  \naprendi que es un cluster                           0.000000   0.00  \nlas tareas son muy practicas                        0.000000   0.00  \naprendi q las derivadas son muy utiles              0.000000   0.00  \npandas es com un excel y me gusto                   0.000000   0.00  \nme confio de las grabaciones y me distraigo en ...  0.083333   0.00  ",
      "text/html": "<div>\n<style scoped>\n    .dataframe tbody tr th:only-of-type {\n        vertical-align: middle;\n    }\n\n    .dataframe tbody tr th {\n        vertical-align: top;\n    }\n\n    .dataframe thead th {\n        text-align: right;\n    }\n</style>\n<table border=\"1\" class=\"dataframe\">\n  <thead>\n    <tr style=\"text-align: right;\">\n      <th></th>\n      <th>aprendi</th>\n      <th>regresiones</th>\n      <th>mucha</th>\n      <th>tarea</th>\n      <th>modelos</th>\n      <th>de</th>\n      <th>texto</th>\n    </tr>\n    <tr>\n      <th>Texto</th>\n      <th></th>\n      <th></th>\n      <th></th>\n      <th></th>\n      <th></th>\n      <th></th>\n      <th></th>\n    </tr>\n  </thead>\n  <tbody>\n    <tr>\n      <th>aprendi regresiones</th>\n      <td>0.500000</td>\n      <td>0.5</td>\n      <td>0.0</td>\n      <td>0.0</td>\n      <td>0.00</td>\n      <td>0.000000</td>\n      <td>0.00</td>\n    </tr>\n    <tr>\n      <th>mucha tarea</th>\n      <td>0.000000</td>\n      <td>0.0</td>\n      <td>0.5</td>\n      <td>0.5</td>\n      <td>0.00</td>\n      <td>0.000000</td>\n      <td>0.00</td>\n    </tr>\n    <tr>\n      <th>aprendi modelos de texto</th>\n      <td>0.250000</td>\n      <td>0.0</td>\n      <td>0.0</td>\n      <td>0.0</td>\n      <td>0.25</td>\n      <td>0.250000</td>\n      <td>0.25</td>\n    </tr>\n    <tr>\n      <th>tareas muy largas</th>\n      <td>0.000000</td>\n      <td>0.0</td>\n      <td>0.0</td>\n      <td>0.0</td>\n      <td>0.00</td>\n      <td>0.000000</td>\n      <td>0.00</td>\n    </tr>\n    <tr>\n      <th>aprendi a utilizar imagenes</th>\n      <td>0.250000</td>\n      <td>0.0</td>\n      <td>0.0</td>\n      <td>0.0</td>\n      <td>0.00</td>\n      <td>0.000000</td>\n      <td>0.00</td>\n    </tr>\n    <tr>\n      <th>el profe se demora en entregar las notas</th>\n      <td>0.000000</td>\n      <td>0.0</td>\n      <td>0.0</td>\n      <td>0.0</td>\n      <td>0.00</td>\n      <td>0.000000</td>\n      <td>0.00</td>\n    </tr>\n    <tr>\n      <th>me gusto competir por el mejor modelo</th>\n      <td>0.000000</td>\n      <td>0.0</td>\n      <td>0.0</td>\n      <td>0.0</td>\n      <td>0.00</td>\n      <td>0.000000</td>\n      <td>0.00</td>\n    </tr>\n    <tr>\n      <th>los examenes son largos</th>\n      <td>0.000000</td>\n      <td>0.0</td>\n      <td>0.0</td>\n      <td>0.0</td>\n      <td>0.00</td>\n      <td>0.000000</td>\n      <td>0.00</td>\n    </tr>\n    <tr>\n      <th>aprendi gradientes</th>\n      <td>0.500000</td>\n      <td>0.0</td>\n      <td>0.0</td>\n      <td>0.0</td>\n      <td>0.00</td>\n      <td>0.000000</td>\n      <td>0.00</td>\n    </tr>\n    <tr>\n      <th>aprendi nlp</th>\n      <td>0.500000</td>\n      <td>0.0</td>\n      <td>0.0</td>\n      <td>0.0</td>\n      <td>0.00</td>\n      <td>0.000000</td>\n      <td>0.00</td>\n    </tr>\n    <tr>\n      <th>aprendi redes neuronales</th>\n      <td>0.333333</td>\n      <td>0.0</td>\n      <td>0.0</td>\n      <td>0.0</td>\n      <td>0.00</td>\n      <td>0.000000</td>\n      <td>0.00</td>\n    </tr>\n    <tr>\n      <th>falto aprender mas spark</th>\n      <td>0.000000</td>\n      <td>0.0</td>\n      <td>0.0</td>\n      <td>0.0</td>\n      <td>0.00</td>\n      <td>0.000000</td>\n      <td>0.00</td>\n    </tr>\n    <tr>\n      <th>las office hours son los sabados</th>\n      <td>0.000000</td>\n      <td>0.0</td>\n      <td>0.0</td>\n      <td>0.0</td>\n      <td>0.00</td>\n      <td>0.000000</td>\n      <td>0.00</td>\n    </tr>\n    <tr>\n      <th>aprendi python</th>\n      <td>0.500000</td>\n      <td>0.0</td>\n      <td>0.0</td>\n      <td>0.0</td>\n      <td>0.00</td>\n      <td>0.000000</td>\n      <td>0.00</td>\n    </tr>\n    <tr>\n      <th>aprendi que es pca</th>\n      <td>0.250000</td>\n      <td>0.0</td>\n      <td>0.0</td>\n      <td>0.0</td>\n      <td>0.00</td>\n      <td>0.000000</td>\n      <td>0.00</td>\n    </tr>\n    <tr>\n      <th>aprendi que es un cluster</th>\n      <td>0.200000</td>\n      <td>0.0</td>\n      <td>0.0</td>\n      <td>0.0</td>\n      <td>0.00</td>\n      <td>0.000000</td>\n      <td>0.00</td>\n    </tr>\n    <tr>\n      <th>las tareas son muy practicas</th>\n      <td>0.000000</td>\n      <td>0.0</td>\n      <td>0.0</td>\n      <td>0.0</td>\n      <td>0.00</td>\n      <td>0.000000</td>\n      <td>0.00</td>\n    </tr>\n    <tr>\n      <th>aprendi q las derivadas son muy utiles</th>\n      <td>0.142857</td>\n      <td>0.0</td>\n      <td>0.0</td>\n      <td>0.0</td>\n      <td>0.00</td>\n      <td>0.000000</td>\n      <td>0.00</td>\n    </tr>\n    <tr>\n      <th>pandas es com un excel y me gusto</th>\n      <td>0.000000</td>\n      <td>0.0</td>\n      <td>0.0</td>\n      <td>0.0</td>\n      <td>0.00</td>\n      <td>0.000000</td>\n      <td>0.00</td>\n    </tr>\n    <tr>\n      <th>me confio de las grabaciones y me distraigo en la parte teorica</th>\n      <td>0.000000</td>\n      <td>0.0</td>\n      <td>0.0</td>\n      <td>0.0</td>\n      <td>0.00</td>\n      <td>0.083333</td>\n      <td>0.00</td>\n    </tr>\n  </tbody>\n</table>\n</div>"
     },
     "execution_count": 47,
     "metadata": {},
     "output_type": "execute_result"
    }
   ],
   "source": [
    "df_matriz_TF = df_matriz_TF.astype(float)\n",
    "for indice, fila in df_matriz_TF.iterrows():\n",
    "    titulo_interno = fila.name\n",
    "    titulo_interno_vector = titulo_interno.split()\n",
    "    for palabra in df_matriz_TF.columns:\n",
    "        df_matriz_TF.at[titulo_interno,palabra] = (titulo_interno_vector.count(palabra))/len(titulo_interno_vector)\n",
    "df_matriz_TF.iloc[:,:7]"
   ],
   "metadata": {
    "collapsed": false,
    "ExecuteTime": {
     "end_time": "2023-11-15T04:46:23.350978800Z",
     "start_time": "2023-11-15T04:46:23.180641800Z"
    }
   },
   "id": "9440fec035002905"
  },
  {
   "cell_type": "code",
   "execution_count": 48,
   "outputs": [
    {
     "data": {
      "text/plain": "            Transformacion\naprendi           0.597837\nregresiones       2.302585\nmucha             2.302585\ntarea             2.302585\nmodelos           2.302585\n...                    ...\ngrabaciones       2.302585\ndistraigo         2.302585\nla                2.302585\nparte             2.302585\nteorica           2.302585\n\n[62 rows x 1 columns]",
      "text/html": "<div>\n<style scoped>\n    .dataframe tbody tr th:only-of-type {\n        vertical-align: middle;\n    }\n\n    .dataframe tbody tr th {\n        vertical-align: top;\n    }\n\n    .dataframe thead th {\n        text-align: right;\n    }\n</style>\n<table border=\"1\" class=\"dataframe\">\n  <thead>\n    <tr style=\"text-align: right;\">\n      <th></th>\n      <th>Transformacion</th>\n    </tr>\n  </thead>\n  <tbody>\n    <tr>\n      <th>aprendi</th>\n      <td>0.597837</td>\n    </tr>\n    <tr>\n      <th>regresiones</th>\n      <td>2.302585</td>\n    </tr>\n    <tr>\n      <th>mucha</th>\n      <td>2.302585</td>\n    </tr>\n    <tr>\n      <th>tarea</th>\n      <td>2.302585</td>\n    </tr>\n    <tr>\n      <th>modelos</th>\n      <td>2.302585</td>\n    </tr>\n    <tr>\n      <th>...</th>\n      <td>...</td>\n    </tr>\n    <tr>\n      <th>grabaciones</th>\n      <td>2.302585</td>\n    </tr>\n    <tr>\n      <th>distraigo</th>\n      <td>2.302585</td>\n    </tr>\n    <tr>\n      <th>la</th>\n      <td>2.302585</td>\n    </tr>\n    <tr>\n      <th>parte</th>\n      <td>2.302585</td>\n    </tr>\n    <tr>\n      <th>teorica</th>\n      <td>2.302585</td>\n    </tr>\n  </tbody>\n</table>\n<p>62 rows × 1 columns</p>\n</div>"
     },
     "execution_count": 48,
     "metadata": {},
     "output_type": "execute_result"
    }
   ],
   "source": [
    "cantidad_documentos = len(df_matriz_frecuencia)\n",
    "df_matriz_IDF = pd.DataFrame(columns=['Transformacion'], index=palabras_unicas)\n",
    "for indice, fila in df_matriz_IDF.iterrows():\n",
    "    palabra_interna = fila.name\n",
    "    cantidad_total_palabra = df_matriz_frecuencia[f'{palabra_interna}'].sum()\n",
    "    df_matriz_IDF.loc[palabra_interna] = math.log(cantidad_documentos/(cantidad_total_palabra+1))\n",
    "df_matriz_IDF.iloc[:,:7]"
   ],
   "metadata": {
    "collapsed": false,
    "ExecuteTime": {
     "end_time": "2023-11-15T04:46:23.559212200Z",
     "start_time": "2023-11-15T04:46:23.294977700Z"
    }
   },
   "id": "bae59ef16cf8d1cb"
  },
  {
   "cell_type": "code",
   "execution_count": null,
   "outputs": [],
   "source": [
    "df_matriz_IDF = df_matriz_IDF.transpose()"
   ],
   "metadata": {
    "collapsed": false
   },
   "id": "2e7b3072767f81"
  },
  {
   "cell_type": "code",
   "execution_count": null,
   "outputs": [],
   "source": [
    "df_matriz_TF_IDF = df_matriz_TF.copy()"
   ],
   "metadata": {
    "collapsed": false
   },
   "id": "a4d2a9e6025e34b3"
  },
  {
   "cell_type": "code",
   "execution_count": null,
   "outputs": [],
   "source": [],
   "metadata": {
    "collapsed": false
   },
   "id": "311e81873ffe1745"
  }
 ],
 "metadata": {
  "kernelspec": {
   "display_name": "Python 3",
   "language": "python",
   "name": "python3"
  },
  "language_info": {
   "codemirror_mode": {
    "name": "ipython",
    "version": 2
   },
   "file_extension": ".py",
   "mimetype": "text/x-python",
   "name": "python",
   "nbconvert_exporter": "python",
   "pygments_lexer": "ipython2",
   "version": "2.7.6"
  }
 },
 "nbformat": 4,
 "nbformat_minor": 5
}
