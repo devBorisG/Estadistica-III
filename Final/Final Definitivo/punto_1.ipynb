{
 "cells": [
  {
   "cell_type": "markdown",
   "source": [
    "# 1. Instalacion de librerias"
   ],
   "metadata": {
    "collapsed": false
   },
   "id": "71030f39b3905a24"
  },
  {
   "cell_type": "code",
   "execution_count": 185,
   "outputs": [],
   "source": [
    "import pandas as pd\n",
    "import re\n",
    "import matplotlib.pyplot as plt"
   ],
   "metadata": {
    "collapsed": false,
    "ExecuteTime": {
     "end_time": "2023-11-15T04:15:36.642732300Z",
     "start_time": "2023-11-15T04:15:30.485484100Z"
    }
   },
   "id": "e1be89a364a06b17"
  },
  {
   "cell_type": "code",
   "execution_count": 176,
   "outputs": [],
   "source": [
    "df_comentarios = pd.read_excel(\"../data/final.xlsx\")"
   ],
   "metadata": {
    "collapsed": false,
    "ExecuteTime": {
     "end_time": "2023-11-15T04:14:35.638314500Z",
     "start_time": "2023-11-15T04:14:35.443324100Z"
    }
   },
   "id": "1f8adc7f7e710e33"
  },
  {
   "cell_type": "code",
   "execution_count": 177,
   "outputs": [],
   "source": [
    "df_comentarios['Sentimiento'] = df_comentarios['Sentimiento'].map({'Positivo':1, 'Negativo':0})"
   ],
   "metadata": {
    "collapsed": false,
    "ExecuteTime": {
     "end_time": "2023-11-15T04:14:35.639312700Z",
     "start_time": "2023-11-15T04:14:35.547336300Z"
    }
   },
   "id": "8e8bf98f54ab455f"
  },
  {
   "cell_type": "code",
   "execution_count": 178,
   "outputs": [
    {
     "data": {
      "text/plain": "                                                Texto  Sentimiento\n0                                 Aprendi regresiones            1\n1                                         Mucha tarea            0\n2                            Aprendi modelos de texto            1\n3                                   Tareas muy largas            0\n4                         Aprendi a utilizar imágenes            1\n5            El profe se demora en entregar las notas            0\n6               Me gusto competir por el mejor modelo            1\n7                             Los examenes son largos            0\n8                                  Aprendi gradientes            1\n9                                         Aprendi NLP            1\n10                           Aprendi redes neuronales            1\n11                           Falto aprender mas spark            0\n12                   Las office hours son los sabados            0\n13                                     Aprendi python            1\n14                                 Aprendi que es PCA            1\n15                          Aprendi que es un cluster            1\n16                       Las tareas son muy practicas            1\n17             Aprendi q las derivadas son muy utiles            1\n18                  Pandas es com un excel y me gusto            1\n19  Me confio de las grabaciones y me distraigo en...            0",
      "text/html": "<div>\n<style scoped>\n    .dataframe tbody tr th:only-of-type {\n        vertical-align: middle;\n    }\n\n    .dataframe tbody tr th {\n        vertical-align: top;\n    }\n\n    .dataframe thead th {\n        text-align: right;\n    }\n</style>\n<table border=\"1\" class=\"dataframe\">\n  <thead>\n    <tr style=\"text-align: right;\">\n      <th></th>\n      <th>Texto</th>\n      <th>Sentimiento</th>\n    </tr>\n  </thead>\n  <tbody>\n    <tr>\n      <th>0</th>\n      <td>Aprendi regresiones</td>\n      <td>1</td>\n    </tr>\n    <tr>\n      <th>1</th>\n      <td>Mucha tarea</td>\n      <td>0</td>\n    </tr>\n    <tr>\n      <th>2</th>\n      <td>Aprendi modelos de texto</td>\n      <td>1</td>\n    </tr>\n    <tr>\n      <th>3</th>\n      <td>Tareas muy largas</td>\n      <td>0</td>\n    </tr>\n    <tr>\n      <th>4</th>\n      <td>Aprendi a utilizar imágenes</td>\n      <td>1</td>\n    </tr>\n    <tr>\n      <th>5</th>\n      <td>El profe se demora en entregar las notas</td>\n      <td>0</td>\n    </tr>\n    <tr>\n      <th>6</th>\n      <td>Me gusto competir por el mejor modelo</td>\n      <td>1</td>\n    </tr>\n    <tr>\n      <th>7</th>\n      <td>Los examenes son largos</td>\n      <td>0</td>\n    </tr>\n    <tr>\n      <th>8</th>\n      <td>Aprendi gradientes</td>\n      <td>1</td>\n    </tr>\n    <tr>\n      <th>9</th>\n      <td>Aprendi NLP</td>\n      <td>1</td>\n    </tr>\n    <tr>\n      <th>10</th>\n      <td>Aprendi redes neuronales</td>\n      <td>1</td>\n    </tr>\n    <tr>\n      <th>11</th>\n      <td>Falto aprender mas spark</td>\n      <td>0</td>\n    </tr>\n    <tr>\n      <th>12</th>\n      <td>Las office hours son los sabados</td>\n      <td>0</td>\n    </tr>\n    <tr>\n      <th>13</th>\n      <td>Aprendi python</td>\n      <td>1</td>\n    </tr>\n    <tr>\n      <th>14</th>\n      <td>Aprendi que es PCA</td>\n      <td>1</td>\n    </tr>\n    <tr>\n      <th>15</th>\n      <td>Aprendi que es un cluster</td>\n      <td>1</td>\n    </tr>\n    <tr>\n      <th>16</th>\n      <td>Las tareas son muy practicas</td>\n      <td>1</td>\n    </tr>\n    <tr>\n      <th>17</th>\n      <td>Aprendi q las derivadas son muy utiles</td>\n      <td>1</td>\n    </tr>\n    <tr>\n      <th>18</th>\n      <td>Pandas es com un excel y me gusto</td>\n      <td>1</td>\n    </tr>\n    <tr>\n      <th>19</th>\n      <td>Me confio de las grabaciones y me distraigo en...</td>\n      <td>0</td>\n    </tr>\n  </tbody>\n</table>\n</div>"
     },
     "execution_count": 178,
     "metadata": {},
     "output_type": "execute_result"
    }
   ],
   "source": [
    "df_comentarios"
   ],
   "metadata": {
    "collapsed": false,
    "ExecuteTime": {
     "end_time": "2023-11-15T04:14:35.656313900Z",
     "start_time": "2023-11-15T04:14:35.565966900Z"
    }
   },
   "id": "ac905e9e76293cbb"
  },
  {
   "cell_type": "code",
   "execution_count": 179,
   "outputs": [],
   "source": [
    "df_comentarios['Texto'] = df_comentarios['Texto'].str.lower()"
   ],
   "metadata": {
    "collapsed": false,
    "ExecuteTime": {
     "end_time": "2023-11-15T04:14:35.657312700Z",
     "start_time": "2023-11-15T04:14:35.583842900Z"
    }
   },
   "id": "529adede84b93d1e"
  },
  {
   "cell_type": "code",
   "execution_count": 180,
   "outputs": [
    {
     "data": {
      "text/plain": "                                                Texto  Sentimiento\n0                                 aprendi regresiones            1\n1                                         mucha tarea            0\n2                            aprendi modelos de texto            1\n3                                   tareas muy largas            0\n4                         aprendi a utilizar imágenes            1\n5            el profe se demora en entregar las notas            0\n6               me gusto competir por el mejor modelo            1\n7                             los examenes son largos            0\n8                                  aprendi gradientes            1\n9                                         aprendi nlp            1\n10                           aprendi redes neuronales            1\n11                           falto aprender mas spark            0\n12                   las office hours son los sabados            0\n13                                     aprendi python            1\n14                                 aprendi que es pca            1\n15                          aprendi que es un cluster            1\n16                       las tareas son muy practicas            1\n17             aprendi q las derivadas son muy utiles            1\n18                  pandas es com un excel y me gusto            1\n19  me confio de las grabaciones y me distraigo en...            0",
      "text/html": "<div>\n<style scoped>\n    .dataframe tbody tr th:only-of-type {\n        vertical-align: middle;\n    }\n\n    .dataframe tbody tr th {\n        vertical-align: top;\n    }\n\n    .dataframe thead th {\n        text-align: right;\n    }\n</style>\n<table border=\"1\" class=\"dataframe\">\n  <thead>\n    <tr style=\"text-align: right;\">\n      <th></th>\n      <th>Texto</th>\n      <th>Sentimiento</th>\n    </tr>\n  </thead>\n  <tbody>\n    <tr>\n      <th>0</th>\n      <td>aprendi regresiones</td>\n      <td>1</td>\n    </tr>\n    <tr>\n      <th>1</th>\n      <td>mucha tarea</td>\n      <td>0</td>\n    </tr>\n    <tr>\n      <th>2</th>\n      <td>aprendi modelos de texto</td>\n      <td>1</td>\n    </tr>\n    <tr>\n      <th>3</th>\n      <td>tareas muy largas</td>\n      <td>0</td>\n    </tr>\n    <tr>\n      <th>4</th>\n      <td>aprendi a utilizar imágenes</td>\n      <td>1</td>\n    </tr>\n    <tr>\n      <th>5</th>\n      <td>el profe se demora en entregar las notas</td>\n      <td>0</td>\n    </tr>\n    <tr>\n      <th>6</th>\n      <td>me gusto competir por el mejor modelo</td>\n      <td>1</td>\n    </tr>\n    <tr>\n      <th>7</th>\n      <td>los examenes son largos</td>\n      <td>0</td>\n    </tr>\n    <tr>\n      <th>8</th>\n      <td>aprendi gradientes</td>\n      <td>1</td>\n    </tr>\n    <tr>\n      <th>9</th>\n      <td>aprendi nlp</td>\n      <td>1</td>\n    </tr>\n    <tr>\n      <th>10</th>\n      <td>aprendi redes neuronales</td>\n      <td>1</td>\n    </tr>\n    <tr>\n      <th>11</th>\n      <td>falto aprender mas spark</td>\n      <td>0</td>\n    </tr>\n    <tr>\n      <th>12</th>\n      <td>las office hours son los sabados</td>\n      <td>0</td>\n    </tr>\n    <tr>\n      <th>13</th>\n      <td>aprendi python</td>\n      <td>1</td>\n    </tr>\n    <tr>\n      <th>14</th>\n      <td>aprendi que es pca</td>\n      <td>1</td>\n    </tr>\n    <tr>\n      <th>15</th>\n      <td>aprendi que es un cluster</td>\n      <td>1</td>\n    </tr>\n    <tr>\n      <th>16</th>\n      <td>las tareas son muy practicas</td>\n      <td>1</td>\n    </tr>\n    <tr>\n      <th>17</th>\n      <td>aprendi q las derivadas son muy utiles</td>\n      <td>1</td>\n    </tr>\n    <tr>\n      <th>18</th>\n      <td>pandas es com un excel y me gusto</td>\n      <td>1</td>\n    </tr>\n    <tr>\n      <th>19</th>\n      <td>me confio de las grabaciones y me distraigo en...</td>\n      <td>0</td>\n    </tr>\n  </tbody>\n</table>\n</div>"
     },
     "execution_count": 180,
     "metadata": {},
     "output_type": "execute_result"
    }
   ],
   "source": [
    "df_comentarios"
   ],
   "metadata": {
    "collapsed": false,
    "ExecuteTime": {
     "end_time": "2023-11-15T04:14:35.659315100Z",
     "start_time": "2023-11-15T04:14:35.597420300Z"
    }
   },
   "id": "a8f9668ac3951fbb"
  },
  {
   "cell_type": "code",
   "execution_count": 181,
   "outputs": [],
   "source": [
    "def obtener_palabras_unicas(texto, diccionario):\n",
    "    palabras = re.findall(r'\\b\\w+\\b', texto)\n",
    "    for palabra in palabras:\n",
    "        diccionario[palabra] = diccionario.get(palabra, 0) + 1\n",
    "\n",
    "palabras_unicas = {}\n",
    "\n",
    "df_comentarios['Texto'].apply(lambda x: obtener_palabras_unicas(x, palabras_unicas))\n",
    "palabras = pd.DataFrame(palabras_unicas.keys(), columns=[\"Palabra\"])\n",
    "valores = pd.DataFrame(palabras_unicas.values(), columns=[\"Frecuencia\"])\n",
    "df_palabras_unicas = pd.concat([palabras,valores],ignore_index=True, axis=1)"
   ],
   "metadata": {
    "collapsed": false,
    "ExecuteTime": {
     "end_time": "2023-11-15T04:14:35.720570700Z",
     "start_time": "2023-11-15T04:14:35.611185100Z"
    }
   },
   "id": "26b424060bc883f6"
  },
  {
   "cell_type": "code",
   "execution_count": 182,
   "outputs": [
    {
     "data": {
      "text/plain": "              0   1\n0       aprendi  10\n1   regresiones   1\n2         mucha   1\n3         tarea   1\n4       modelos   1\n..          ...  ..\n57  grabaciones   1\n58    distraigo   1\n59           la   1\n60        parte   1\n61      teorica   1\n\n[62 rows x 2 columns]",
      "text/html": "<div>\n<style scoped>\n    .dataframe tbody tr th:only-of-type {\n        vertical-align: middle;\n    }\n\n    .dataframe tbody tr th {\n        vertical-align: top;\n    }\n\n    .dataframe thead th {\n        text-align: right;\n    }\n</style>\n<table border=\"1\" class=\"dataframe\">\n  <thead>\n    <tr style=\"text-align: right;\">\n      <th></th>\n      <th>0</th>\n      <th>1</th>\n    </tr>\n  </thead>\n  <tbody>\n    <tr>\n      <th>0</th>\n      <td>aprendi</td>\n      <td>10</td>\n    </tr>\n    <tr>\n      <th>1</th>\n      <td>regresiones</td>\n      <td>1</td>\n    </tr>\n    <tr>\n      <th>2</th>\n      <td>mucha</td>\n      <td>1</td>\n    </tr>\n    <tr>\n      <th>3</th>\n      <td>tarea</td>\n      <td>1</td>\n    </tr>\n    <tr>\n      <th>4</th>\n      <td>modelos</td>\n      <td>1</td>\n    </tr>\n    <tr>\n      <th>...</th>\n      <td>...</td>\n      <td>...</td>\n    </tr>\n    <tr>\n      <th>57</th>\n      <td>grabaciones</td>\n      <td>1</td>\n    </tr>\n    <tr>\n      <th>58</th>\n      <td>distraigo</td>\n      <td>1</td>\n    </tr>\n    <tr>\n      <th>59</th>\n      <td>la</td>\n      <td>1</td>\n    </tr>\n    <tr>\n      <th>60</th>\n      <td>parte</td>\n      <td>1</td>\n    </tr>\n    <tr>\n      <th>61</th>\n      <td>teorica</td>\n      <td>1</td>\n    </tr>\n  </tbody>\n</table>\n<p>62 rows × 2 columns</p>\n</div>"
     },
     "execution_count": 182,
     "metadata": {},
     "output_type": "execute_result"
    }
   ],
   "source": [
    "df_palabras_unicas"
   ],
   "metadata": {
    "collapsed": false,
    "ExecuteTime": {
     "end_time": "2023-11-15T04:14:35.762799Z",
     "start_time": "2023-11-15T04:14:35.631312600Z"
    }
   },
   "id": "831b6f3292a3f55d"
  },
  {
   "cell_type": "code",
   "execution_count": 183,
   "outputs": [],
   "source": [
    "df_palabras_unicas.sort_values(by=1, ascending=False, inplace=True)"
   ],
   "metadata": {
    "collapsed": false,
    "ExecuteTime": {
     "end_time": "2023-11-15T04:14:35.763799800Z",
     "start_time": "2023-11-15T04:14:35.665314100Z"
    }
   },
   "id": "fffd1e41cedb0999"
  },
  {
   "cell_type": "code",
   "execution_count": 184,
   "outputs": [
    {
     "data": {
      "text/plain": "              0   1\n0       aprendi  10\n19          las   5\n29          son   4\n21           me   4\n44           es   3\n..          ...  ..\n30       largos   1\n1   regresiones   1\n32          nlp   1\n33        redes   1\n61      teorica   1\n\n[62 rows x 2 columns]",
      "text/html": "<div>\n<style scoped>\n    .dataframe tbody tr th:only-of-type {\n        vertical-align: middle;\n    }\n\n    .dataframe tbody tr th {\n        vertical-align: top;\n    }\n\n    .dataframe thead th {\n        text-align: right;\n    }\n</style>\n<table border=\"1\" class=\"dataframe\">\n  <thead>\n    <tr style=\"text-align: right;\">\n      <th></th>\n      <th>0</th>\n      <th>1</th>\n    </tr>\n  </thead>\n  <tbody>\n    <tr>\n      <th>0</th>\n      <td>aprendi</td>\n      <td>10</td>\n    </tr>\n    <tr>\n      <th>19</th>\n      <td>las</td>\n      <td>5</td>\n    </tr>\n    <tr>\n      <th>29</th>\n      <td>son</td>\n      <td>4</td>\n    </tr>\n    <tr>\n      <th>21</th>\n      <td>me</td>\n      <td>4</td>\n    </tr>\n    <tr>\n      <th>44</th>\n      <td>es</td>\n      <td>3</td>\n    </tr>\n    <tr>\n      <th>...</th>\n      <td>...</td>\n      <td>...</td>\n    </tr>\n    <tr>\n      <th>30</th>\n      <td>largos</td>\n      <td>1</td>\n    </tr>\n    <tr>\n      <th>1</th>\n      <td>regresiones</td>\n      <td>1</td>\n    </tr>\n    <tr>\n      <th>32</th>\n      <td>nlp</td>\n      <td>1</td>\n    </tr>\n    <tr>\n      <th>33</th>\n      <td>redes</td>\n      <td>1</td>\n    </tr>\n    <tr>\n      <th>61</th>\n      <td>teorica</td>\n      <td>1</td>\n    </tr>\n  </tbody>\n</table>\n<p>62 rows × 2 columns</p>\n</div>"
     },
     "execution_count": 184,
     "metadata": {},
     "output_type": "execute_result"
    }
   ],
   "source": [
    "df_palabras_unicas"
   ],
   "metadata": {
    "collapsed": false,
    "ExecuteTime": {
     "end_time": "2023-11-15T04:14:35.764798600Z",
     "start_time": "2023-11-15T04:14:35.670365700Z"
    }
   },
   "id": "938214a9260a0846"
  },
  {
   "cell_type": "code",
   "execution_count": 186,
   "outputs": [
    {
     "data": {
      "text/plain": "<Figure size 640x480 with 1 Axes>",
      "image/png": "[encoded data removed]"
     },
     "metadata": {},
     "output_type": "display_data"
    }
   ],
   "source": [
    "plt.bar(df_palabras_unicas.head(10)[0], df_palabras_unicas.head(10)[1])\n",
    "\n",
    "plt.xlabel('Categoría')\n",
    "plt.ylabel('Valor')\n",
    "plt.title('Gráfico de Barras')\n",
    "\n",
    "plt.show()"
   ],
   "metadata": {
    "collapsed": false,
    "ExecuteTime": {
     "end_time": "2023-11-15T04:16:25.321019800Z",
     "start_time": "2023-11-15T04:16:24.200057600Z"
    }
   },
   "id": "341bf11844ac8c8b"
  },
  {
   "cell_type": "markdown",
   "source": [
    "Para calcular la correlacion es necesario cambiar los textos por una representacion numericas"
   ],
   "metadata": {
    "collapsed": false
   },
   "id": "4d0b69233112bf6b"
  },
  {
   "cell_type": "code",
   "execution_count": 189,
   "outputs": [],
   "source": [
    "def calculo_corr_target(x=[],y=[]):\n",
    "    media_x = x.mean()\n",
    "    media_y = y.mean()\n",
    "    sumatoria_num = 0\n",
    "    sum_y=0\n",
    "    sum_x=0\n",
    "    for xi,yi in zip(x,y):\n",
    "        sumatoria_num += (yi-media_y) * (xi-media_x)\n",
    "        sum_y += (yi-media_y)**2\n",
    "        sum_x += (xi-media_x)**2\n",
    "    return sumatoria_num/(sum_y*sum_x)**0.5"
   ],
   "metadata": {
    "collapsed": false,
    "ExecuteTime": {
     "end_time": "2023-11-15T04:31:34.349974400Z",
     "start_time": "2023-11-15T04:31:34.271789Z"
    }
   },
   "id": "14854e42b51512b"
  },
  {
   "cell_type": "code",
   "execution_count": 193,
   "outputs": [
    {
     "name": "stderr",
     "output_type": "stream",
     "text": [
      "C:\\Users\\David\\AppData\\Local\\Temp\\ipykernel_2320\\1027774422.py:11: RuntimeWarning: invalid value encountered in scalar divide\n",
      "  return sumatoria_num/(sum_y*sum_x)**0.5\n"
     ]
    }
   ],
   "source": [
    "positivos = df_comentarios[df_comentarios['Sentimiento'] == 1]\n",
    "negativo = df_comentarios[df_comentarios['Sentimiento'] == 0]\n",
    "corr = calculo_corr_target(positivos['Sentimiento'], negativo['Sentimiento'])"
   ],
   "metadata": {
    "collapsed": false,
    "ExecuteTime": {
     "end_time": "2023-11-15T04:32:33.969030100Z",
     "start_time": "2023-11-15T04:32:33.845699200Z"
    }
   },
   "id": "30880c58ae410522"
  },
  {
   "cell_type": "code",
   "execution_count": 192,
   "outputs": [
    {
     "data": {
      "text/plain": "                                     Texto  Sentimiento\n0                      aprendi regresiones            1\n2                 aprendi modelos de texto            1\n4              aprendi a utilizar imágenes            1\n6    me gusto competir por el mejor modelo            1\n8                       aprendi gradientes            1\n9                              aprendi nlp            1\n10                aprendi redes neuronales            1\n13                          aprendi python            1\n14                      aprendi que es pca            1\n15               aprendi que es un cluster            1\n16            las tareas son muy practicas            1\n17  aprendi q las derivadas son muy utiles            1\n18       pandas es com un excel y me gusto            1",
      "text/html": "<div>\n<style scoped>\n    .dataframe tbody tr th:only-of-type {\n        vertical-align: middle;\n    }\n\n    .dataframe tbody tr th {\n        vertical-align: top;\n    }\n\n    .dataframe thead th {\n        text-align: right;\n    }\n</style>\n<table border=\"1\" class=\"dataframe\">\n  <thead>\n    <tr style=\"text-align: right;\">\n      <th></th>\n      <th>Texto</th>\n      <th>Sentimiento</th>\n    </tr>\n  </thead>\n  <tbody>\n    <tr>\n      <th>0</th>\n      <td>aprendi regresiones</td>\n      <td>1</td>\n    </tr>\n    <tr>\n      <th>2</th>\n      <td>aprendi modelos de texto</td>\n      <td>1</td>\n    </tr>\n    <tr>\n      <th>4</th>\n      <td>aprendi a utilizar imágenes</td>\n      <td>1</td>\n    </tr>\n    <tr>\n      <th>6</th>\n      <td>me gusto competir por el mejor modelo</td>\n      <td>1</td>\n    </tr>\n    <tr>\n      <th>8</th>\n      <td>aprendi gradientes</td>\n      <td>1</td>\n    </tr>\n    <tr>\n      <th>9</th>\n      <td>aprendi nlp</td>\n      <td>1</td>\n    </tr>\n    <tr>\n      <th>10</th>\n      <td>aprendi redes neuronales</td>\n      <td>1</td>\n    </tr>\n    <tr>\n      <th>13</th>\n      <td>aprendi python</td>\n      <td>1</td>\n    </tr>\n    <tr>\n      <th>14</th>\n      <td>aprendi que es pca</td>\n      <td>1</td>\n    </tr>\n    <tr>\n      <th>15</th>\n      <td>aprendi que es un cluster</td>\n      <td>1</td>\n    </tr>\n    <tr>\n      <th>16</th>\n      <td>las tareas son muy practicas</td>\n      <td>1</td>\n    </tr>\n    <tr>\n      <th>17</th>\n      <td>aprendi q las derivadas son muy utiles</td>\n      <td>1</td>\n    </tr>\n    <tr>\n      <th>18</th>\n      <td>pandas es com un excel y me gusto</td>\n      <td>1</td>\n    </tr>\n  </tbody>\n</table>\n</div>"
     },
     "execution_count": 192,
     "metadata": {},
     "output_type": "execute_result"
    }
   ],
   "source": [
    "positivos"
   ],
   "metadata": {
    "collapsed": false,
    "ExecuteTime": {
     "end_time": "2023-11-15T04:32:22.420697900Z",
     "start_time": "2023-11-15T04:32:22.336467Z"
    }
   },
   "id": "7ab649f354b76074"
  },
  {
   "cell_type": "code",
   "execution_count": null,
   "outputs": [],
   "source": [],
   "metadata": {
    "collapsed": false
   },
   "id": "a1789872de8e1f31"
  }
 ],
 "metadata": {
  "kernelspec": {
   "display_name": "Python 3",
   "language": "python",
   "name": "python3"
  },
  "language_info": {
   "codemirror_mode": {
    "name": "ipython",
    "version": 2
   },
   "file_extension": ".py",
   "mimetype": "text/x-python",
   "name": "python",
   "nbconvert_exporter": "python",
   "pygments_lexer": "ipython2",
   "version": "2.7.6"
  }
 },
 "nbformat": 4,
 "nbformat_minor": 5
}
