{
 "cells": [
  {
   "cell_type": "code",
   "execution_count": 4,
   "id": "initial_id",
   "metadata": {
    "collapsed": true,
    "ExecuteTime": {
     "end_time": "2023-11-15T01:48:05.075278900Z",
     "start_time": "2023-11-15T01:48:05.031521400Z"
    }
   },
   "outputs": [
    {
     "data": {
      "text/plain": "       Palabra  Coeficiente\n0      aprendi     0.280760\n15       redes     0.146875\n11  neuronales     0.146875\n3           es     0.133884\n14         que     0.133884\n12         pca     0.133884\n9        mejor     0.118073\n13         por     0.118073\n10      modelo     0.118073\n8           me     0.118073\n1     competir     0.118073\n5        gusto     0.118073\n2           el     0.118073\n7          los    -0.398829\n6       largos    -0.398829\n4     examenes    -0.398829\n16         son    -0.398829",
      "text/html": "<div>\n<style scoped>\n    .dataframe tbody tr th:only-of-type {\n        vertical-align: middle;\n    }\n\n    .dataframe tbody tr th {\n        vertical-align: top;\n    }\n\n    .dataframe thead th {\n        text-align: right;\n    }\n</style>\n<table border=\"1\" class=\"dataframe\">\n  <thead>\n    <tr style=\"text-align: right;\">\n      <th></th>\n      <th>Palabra</th>\n      <th>Coeficiente</th>\n    </tr>\n  </thead>\n  <tbody>\n    <tr>\n      <th>0</th>\n      <td>aprendi</td>\n      <td>0.280760</td>\n    </tr>\n    <tr>\n      <th>15</th>\n      <td>redes</td>\n      <td>0.146875</td>\n    </tr>\n    <tr>\n      <th>11</th>\n      <td>neuronales</td>\n      <td>0.146875</td>\n    </tr>\n    <tr>\n      <th>3</th>\n      <td>es</td>\n      <td>0.133884</td>\n    </tr>\n    <tr>\n      <th>14</th>\n      <td>que</td>\n      <td>0.133884</td>\n    </tr>\n    <tr>\n      <th>12</th>\n      <td>pca</td>\n      <td>0.133884</td>\n    </tr>\n    <tr>\n      <th>9</th>\n      <td>mejor</td>\n      <td>0.118073</td>\n    </tr>\n    <tr>\n      <th>13</th>\n      <td>por</td>\n      <td>0.118073</td>\n    </tr>\n    <tr>\n      <th>10</th>\n      <td>modelo</td>\n      <td>0.118073</td>\n    </tr>\n    <tr>\n      <th>8</th>\n      <td>me</td>\n      <td>0.118073</td>\n    </tr>\n    <tr>\n      <th>1</th>\n      <td>competir</td>\n      <td>0.118073</td>\n    </tr>\n    <tr>\n      <th>5</th>\n      <td>gusto</td>\n      <td>0.118073</td>\n    </tr>\n    <tr>\n      <th>2</th>\n      <td>el</td>\n      <td>0.118073</td>\n    </tr>\n    <tr>\n      <th>7</th>\n      <td>los</td>\n      <td>-0.398829</td>\n    </tr>\n    <tr>\n      <th>6</th>\n      <td>largos</td>\n      <td>-0.398829</td>\n    </tr>\n    <tr>\n      <th>4</th>\n      <td>examenes</td>\n      <td>-0.398829</td>\n    </tr>\n    <tr>\n      <th>16</th>\n      <td>son</td>\n      <td>-0.398829</td>\n    </tr>\n  </tbody>\n</table>\n</div>"
     },
     "execution_count": 4,
     "metadata": {},
     "output_type": "execute_result"
    }
   ],
   "source": [
    "from sklearn.model_selection import train_test_split\n",
    "from sklearn.feature_extraction.text import CountVectorizer\n",
    "from sklearn.linear_model import LogisticRegression\n",
    "import pandas as pd\n",
    "\n",
    "df_comentarios = pd.read_excel(\"../data/final.xlsx\")\n",
    "texto = df_comentarios['Texto']\n",
    "sentimiento = df_comentarios['Sentimiento']\n",
    "x_train, x_test, y_train, y_test = train_test_split(texto, sentimiento, test_size=0.8, random_state=42)\n",
    "count_vectorizer = CountVectorizer()\n",
    "train_vector = count_vectorizer.fit_transform(x_train)\n",
    "test_vector = count_vectorizer.transform(x_test)\n",
    "model = LogisticRegression()\n",
    "model.fit(train_vector, y_train)\n",
    "coeficientes = model.coef_[0]\n",
    "coeficientes_df = pd.DataFrame({'Palabra': count_vectorizer.get_feature_names_out(), 'Coeficiente': coeficientes})\n",
    "coeficientes_df.sort_values(by='Coeficiente', ascending=False, inplace=True)\n",
    "coeficientes_df"
   ]
  },
  {
   "cell_type": "markdown",
   "source": [
    "En este contexto podemos apreciar que la palabra ma importantes para los sentimientos positivos es \"aprendi\" ya que tiene la magnitud positiva mas alta, lo precede redes y luego neuronales ocmo tercer lugar.\n",
    "\n",
    "En el caso de los sentimientos negativos se tiene un empate entre las palabras \"son,largos,los y examenes\" ya que son las magnitudes negativas mas grandes"
   ],
   "metadata": {
    "collapsed": false
   },
   "id": "bdf4b6aee9299b05"
  }
 ],
 "metadata": {
  "kernelspec": {
   "display_name": "Python 3",
   "language": "python",
   "name": "python3"
  },
  "language_info": {
   "codemirror_mode": {
    "name": "ipython",
    "version": 2
   },
   "file_extension": ".py",
   "mimetype": "text/x-python",
   "name": "python",
   "nbconvert_exporter": "python",
   "pygments_lexer": "ipython2",
   "version": "2.7.6"
  }
 },
 "nbformat": 4,
 "nbformat_minor": 5
}
