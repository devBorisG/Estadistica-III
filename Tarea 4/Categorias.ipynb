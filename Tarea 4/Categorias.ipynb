{
 "cells": [
  {
   "cell_type": "code",
   "execution_count": 1,
   "outputs": [
    {
     "name": "stdout",
     "output_type": "stream",
     "text": [
      "Requirement already satisfied: unidecode in /home/boris/Documentos/GitHub/Estadistica-III/venv/lib/python3.10/site-packages (1.3.7)\r\n",
      "\r\n",
      "\u001B[1m[\u001B[0m\u001B[34;49mnotice\u001B[0m\u001B[1;39;49m]\u001B[0m\u001B[39;49m A new release of pip is available: \u001B[0m\u001B[31;49m23.2.1\u001B[0m\u001B[39;49m -> \u001B[0m\u001B[32;49m23.3.1\u001B[0m\r\n",
      "\u001B[1m[\u001B[0m\u001B[34;49mnotice\u001B[0m\u001B[1;39;49m]\u001B[0m\u001B[39;49m To update, run: \u001B[0m\u001B[32;49mpip install --upgrade pip\u001B[0m\r\n"
     ]
    }
   ],
   "source": [
    "!pip install unidecode"
   ],
   "metadata": {
    "collapsed": false,
    "ExecuteTime": {
     "end_time": "2023-11-05T16:50:04.599394848Z",
     "start_time": "2023-11-05T16:50:02.168203738Z"
    }
   },
   "id": "593f0afdb64257df"
  },
  {
   "cell_type": "code",
   "execution_count": 2,
   "outputs": [
    {
     "name": "stderr",
     "output_type": "stream",
     "text": [
      "[nltk_data] Downloading package stopwords to /home/boris/nltk_data...\n",
      "[nltk_data]   Package stopwords is already up-to-date!\n"
     ]
    },
    {
     "data": {
      "text/plain": "True"
     },
     "execution_count": 2,
     "metadata": {},
     "output_type": "execute_result"
    }
   ],
   "source": [
    "import pandas as pd\n",
    "from unidecode import unidecode\n",
    "import re\n",
    "from nltk.tokenize.toktok import ToktokTokenizer\n",
    "from nltk.corpus import stopwords\n",
    "from nltk.stem import SnowballStemmer\n",
    "import nltk\n",
    "import matplotlib.pyplot as plt\n",
    "import seaborn as sns\n",
    "import math\n",
    "import numpy as np\n",
    "nltk.download('stopwords')"
   ],
   "metadata": {
    "collapsed": false,
    "ExecuteTime": {
     "end_time": "2023-11-05T16:50:05.415876283Z",
     "start_time": "2023-11-05T16:50:04.600388384Z"
    }
   },
   "id": "initial_id"
  },
  {
   "cell_type": "code",
   "execution_count": 48,
   "outputs": [],
   "source": [
    "df_train = pd.read_csv(\"./data/categories/train.csv\")\n",
    "df_test = pd.read_csv(\"./data/categories/test.csv\")\n",
    "df_complete = pd.concat([df_train,df_test])\n",
    "index = df_complete['index']\n",
    "titulo = df_complete['titulo']\n",
    "categoria = df_train['categoria']"
   ],
   "metadata": {
    "collapsed": false,
    "ExecuteTime": {
     "end_time": "2023-11-05T17:38:19.852985732Z",
     "start_time": "2023-11-05T17:38:19.771221975Z"
    }
   },
   "id": "27a0df0062972549"
  },
  {
   "cell_type": "code",
   "execution_count": 4,
   "outputs": [
    {
     "data": {
      "text/plain": "   index                                             titulo  \\\n0    610  \"De nada sirven los triunfos si la paz no los ...   \n1    819  \"Hay mejores formas para uno mostrar su forma ...   \n2    637                #LosNacionalesXSeñal - Bahía Cupica   \n3    740  #LosNacionalesXSeñal - Estudiantes Utech balon...   \n4    160  #LosNacionalesXSeñal - Las pruebas de triatlón...   \n5    101  #LosNacionalesXSeñal - María Elena Hurtado, la...   \n6    405           #LosNacionalesXSeñal - Niños voley playa   \n7    681          #LosNacionalesXSeñal - ¡Hicimos historia!   \n8    428  #PedaleoPor: Ariel Molina envía un saludo a lo...   \n9     13  #PedaleoPor: Ariel Molina envía un saludo a lo...   \n\n              categoria  \n0  Película y Animación  \n1  Película y Animación  \n2              Deportes  \n3              Deportes  \n4              Deportes  \n5              Deportes  \n6              Deportes  \n7              Deportes  \n8              Deportes  \n9              Deportes  ",
      "text/html": "<div>\n<style scoped>\n    .dataframe tbody tr th:only-of-type {\n        vertical-align: middle;\n    }\n\n    .dataframe tbody tr th {\n        vertical-align: top;\n    }\n\n    .dataframe thead th {\n        text-align: right;\n    }\n</style>\n<table border=\"1\" class=\"dataframe\">\n  <thead>\n    <tr style=\"text-align: right;\">\n      <th></th>\n      <th>index</th>\n      <th>titulo</th>\n      <th>categoria</th>\n    </tr>\n  </thead>\n  <tbody>\n    <tr>\n      <th>0</th>\n      <td>610</td>\n      <td>\"De nada sirven los triunfos si la paz no los ...</td>\n      <td>Película y Animación</td>\n    </tr>\n    <tr>\n      <th>1</th>\n      <td>819</td>\n      <td>\"Hay mejores formas para uno mostrar su forma ...</td>\n      <td>Película y Animación</td>\n    </tr>\n    <tr>\n      <th>2</th>\n      <td>637</td>\n      <td>#LosNacionalesXSeñal - Bahía Cupica</td>\n      <td>Deportes</td>\n    </tr>\n    <tr>\n      <th>3</th>\n      <td>740</td>\n      <td>#LosNacionalesXSeñal - Estudiantes Utech balon...</td>\n      <td>Deportes</td>\n    </tr>\n    <tr>\n      <th>4</th>\n      <td>160</td>\n      <td>#LosNacionalesXSeñal - Las pruebas de triatlón...</td>\n      <td>Deportes</td>\n    </tr>\n    <tr>\n      <th>5</th>\n      <td>101</td>\n      <td>#LosNacionalesXSeñal - María Elena Hurtado, la...</td>\n      <td>Deportes</td>\n    </tr>\n    <tr>\n      <th>6</th>\n      <td>405</td>\n      <td>#LosNacionalesXSeñal - Niños voley playa</td>\n      <td>Deportes</td>\n    </tr>\n    <tr>\n      <th>7</th>\n      <td>681</td>\n      <td>#LosNacionalesXSeñal - ¡Hicimos historia!</td>\n      <td>Deportes</td>\n    </tr>\n    <tr>\n      <th>8</th>\n      <td>428</td>\n      <td>#PedaleoPor: Ariel Molina envía un saludo a lo...</td>\n      <td>Deportes</td>\n    </tr>\n    <tr>\n      <th>9</th>\n      <td>13</td>\n      <td>#PedaleoPor: Ariel Molina envía un saludo a lo...</td>\n      <td>Deportes</td>\n    </tr>\n  </tbody>\n</table>\n</div>"
     },
     "execution_count": 4,
     "metadata": {},
     "output_type": "execute_result"
    }
   ],
   "source": [
    "df_complete.head(10)"
   ],
   "metadata": {
    "collapsed": false,
    "ExecuteTime": {
     "end_time": "2023-11-05T16:50:05.512964870Z",
     "start_time": "2023-11-05T16:50:05.445612656Z"
    }
   },
   "id": "3fc290c6b43ed33"
  },
  {
   "cell_type": "code",
   "execution_count": 5,
   "outputs": [
    {
     "data": {
      "text/plain": "0     \"De nada sirven los triunfos si la paz no los ...\n1     \"Hay mejores formas para uno mostrar su forma ...\n2                   #LosNacionalesXSeñal - Bahía Cupica\n3     #LosNacionalesXSeñal - Estudiantes Utech balon...\n4     #LosNacionalesXSeñal - Las pruebas de triatlón...\n5     #LosNacionalesXSeñal - María Elena Hurtado, la...\n6              #LosNacionalesXSeñal - Niños voley playa\n7             #LosNacionalesXSeñal - ¡Hicimos historia!\n8     #PedaleoPor: Ariel Molina envía un saludo a lo...\n9     #PedaleoPor: Ariel Molina envía un saludo a lo...\n10    #PedaleoPor: Dagoberto López envía un saludo a...\n11    #PedaleoPor: Esteban Kekessy envía un saludo a...\n12    #PedaleoPor: Henry García envía un saludo a lo...\n13    #PedaleoPor: James Guevara envía un saludo a l...\n14    #PedaleoPor: Javier Cruz envía un saludo a los...\n15    #PedaleoPor: Javier Rodríguez envía un saludo ...\n16    #PedaleoPor: Jonathan Devía envía un saludo a ...\n17    #PedaleoPor: Jorge Merchán envía un saludo a l...\n18    #PedaleoPor: Jorge envía un saludo a los escar...\n19    #PedaleoPor: Jorge envía un saludo a los escar...\nName: titulo, dtype: object"
     },
     "execution_count": 5,
     "metadata": {},
     "output_type": "execute_result"
    }
   ],
   "source": [
    "titulo.head(20)"
   ],
   "metadata": {
    "collapsed": false,
    "ExecuteTime": {
     "end_time": "2023-11-05T16:50:05.514439970Z",
     "start_time": "2023-11-05T16:50:05.478832983Z"
    }
   },
   "id": "d4be78d211a1fd5e"
  },
  {
   "cell_type": "code",
   "execution_count": 6,
   "outputs": [],
   "source": [
    "titulo = titulo.str.lower()"
   ],
   "metadata": {
    "collapsed": false,
    "ExecuteTime": {
     "end_time": "2023-11-05T16:50:05.521371718Z",
     "start_time": "2023-11-05T16:50:05.488702066Z"
    }
   },
   "id": "26d592f76c34fd79"
  },
  {
   "cell_type": "code",
   "execution_count": 7,
   "outputs": [
    {
     "data": {
      "text/plain": "0     \"de nada sirven los triunfos si la paz no los ...\n1     \"hay mejores formas para uno mostrar su forma ...\n2                   #losnacionalesxseñal - bahía cupica\n3     #losnacionalesxseñal - estudiantes utech balon...\n4     #losnacionalesxseñal - las pruebas de triatlón...\n5     #losnacionalesxseñal - maría elena hurtado, la...\n6              #losnacionalesxseñal - niños voley playa\n7             #losnacionalesxseñal - ¡hicimos historia!\n8     #pedaleopor: ariel molina envía un saludo a lo...\n9     #pedaleopor: ariel molina envía un saludo a lo...\n10    #pedaleopor: dagoberto lópez envía un saludo a...\n11    #pedaleopor: esteban kekessy envía un saludo a...\n12    #pedaleopor: henry garcía envía un saludo a lo...\n13    #pedaleopor: james guevara envía un saludo a l...\n14    #pedaleopor: javier cruz envía un saludo a los...\n15    #pedaleopor: javier rodríguez envía un saludo ...\n16    #pedaleopor: jonathan devía envía un saludo a ...\n17    #pedaleopor: jorge merchán envía un saludo a l...\n18    #pedaleopor: jorge envía un saludo a los escar...\n19    #pedaleopor: jorge envía un saludo a los escar...\nName: titulo, dtype: object"
     },
     "execution_count": 7,
     "metadata": {},
     "output_type": "execute_result"
    }
   ],
   "source": [
    "titulo.head(20)"
   ],
   "metadata": {
    "collapsed": false,
    "ExecuteTime": {
     "end_time": "2023-11-05T16:50:05.579362383Z",
     "start_time": "2023-11-05T16:50:05.501042941Z"
    }
   },
   "id": "6ad9aea0be7810b6"
  },
  {
   "cell_type": "code",
   "execution_count": 8,
   "outputs": [],
   "source": [
    "titulo = titulo.apply(unidecode)"
   ],
   "metadata": {
    "collapsed": false,
    "ExecuteTime": {
     "end_time": "2023-11-05T16:50:05.579817947Z",
     "start_time": "2023-11-05T16:50:05.544494939Z"
    }
   },
   "id": "d1b37853508b8c66"
  },
  {
   "cell_type": "code",
   "execution_count": 9,
   "outputs": [
    {
     "data": {
      "text/plain": "0     \"de nada sirven los triunfos si la paz no los ...\n1     \"hay mejores formas para uno mostrar su forma ...\n2                   #losnacionalesxsenal - bahia cupica\n3     #losnacionalesxsenal - estudiantes utech balon...\n4     #losnacionalesxsenal - las pruebas de triatlon...\n5     #losnacionalesxsenal - maria elena hurtado, la...\n6              #losnacionalesxsenal - ninos voley playa\n7             #losnacionalesxsenal - !hicimos historia!\n8     #pedaleopor: ariel molina envia un saludo a lo...\n9     #pedaleopor: ariel molina envia un saludo a lo...\n10    #pedaleopor: dagoberto lopez envia un saludo a...\n11    #pedaleopor: esteban kekessy envia un saludo a...\n12    #pedaleopor: henry garcia envia un saludo a lo...\n13    #pedaleopor: james guevara envia un saludo a l...\n14    #pedaleopor: javier cruz envia un saludo a los...\n15    #pedaleopor: javier rodriguez envia un saludo ...\n16    #pedaleopor: jonathan devia envia un saludo a ...\n17    #pedaleopor: jorge merchan envia un saludo a l...\n18    #pedaleopor: jorge envia un saludo a los escar...\n19    #pedaleopor: jorge envia un saludo a los escar...\nName: titulo, dtype: object"
     },
     "execution_count": 9,
     "metadata": {},
     "output_type": "execute_result"
    }
   ],
   "source": [
    "titulo.head(20)"
   ],
   "metadata": {
    "collapsed": false,
    "ExecuteTime": {
     "end_time": "2023-11-05T16:50:05.580523937Z",
     "start_time": "2023-11-05T16:50:05.544884148Z"
    }
   },
   "id": "e800e10a7222be1f"
  },
  {
   "cell_type": "code",
   "execution_count": 10,
   "outputs": [],
   "source": [
    "def quitar_caracteres_especiales(texto):\n",
    "    return re.sub(r'[^A-Za-z0-9 ]+', '', texto)\n",
    "titulo = titulo.apply(quitar_caracteres_especiales)"
   ],
   "metadata": {
    "collapsed": false,
    "ExecuteTime": {
     "end_time": "2023-11-05T16:50:05.698584954Z",
     "start_time": "2023-11-05T16:50:05.591992306Z"
    }
   },
   "id": "e70bd33d818b4fe0"
  },
  {
   "cell_type": "code",
   "execution_count": 11,
   "outputs": [
    {
     "data": {
      "text/plain": "0     de nada sirven los triunfos si la paz no los c...\n1     hay mejores formas para uno mostrar su forma d...\n2                     losnacionalesxsenal  bahia cupica\n3      losnacionalesxsenal  estudiantes utech balonmano\n4     losnacionalesxsenal  las pruebas de triatlon l...\n5     losnacionalesxsenal  maria elena hurtado la pe...\n6                losnacionalesxsenal  ninos voley playa\n7                 losnacionalesxsenal  hicimos historia\n8     pedaleopor ariel molina envia un saludo a los ...\n9     pedaleopor ariel molina envia un saludo a los ...\n10    pedaleopor dagoberto lopez envia un saludo a l...\n11    pedaleopor esteban kekessy envia un saludo a l...\n12    pedaleopor henry garcia envia un saludo a los ...\n13    pedaleopor james guevara envia un saludo a los...\n14    pedaleopor javier cruz envia un saludo a los e...\n15    pedaleopor javier rodriguez envia un saludo a ...\n16    pedaleopor jonathan devia envia un saludo a lo...\n17    pedaleopor jorge merchan envia un saludo a los...\n18    pedaleopor jorge envia un saludo a los escarab...\n19    pedaleopor jorge envia un saludo a los escarab...\nName: titulo, dtype: object"
     },
     "execution_count": 11,
     "metadata": {},
     "output_type": "execute_result"
    }
   ],
   "source": [
    "titulo.head(20)"
   ],
   "metadata": {
    "collapsed": false,
    "ExecuteTime": {
     "end_time": "2023-11-05T16:50:05.701021789Z",
     "start_time": "2023-11-05T16:50:05.592441789Z"
    }
   },
   "id": "9cea9060caa7da6f"
  },
  {
   "cell_type": "code",
   "execution_count": 12,
   "outputs": [
    {
     "data": {
      "text/plain": "       Palabra\n0           de\n1         nada\n2       sirven\n3          los\n4     triunfos\n5           si\n6           la\n7          paz\n8           no\n9       corona\n10  lapazhabla\n11         hay\n12     mejores\n13      formas\n14        para\n15         uno\n16     mostrar\n17          su\n18       forma\n19      pensar",
      "text/html": "<div>\n<style scoped>\n    .dataframe tbody tr th:only-of-type {\n        vertical-align: middle;\n    }\n\n    .dataframe tbody tr th {\n        vertical-align: top;\n    }\n\n    .dataframe thead th {\n        text-align: right;\n    }\n</style>\n<table border=\"1\" class=\"dataframe\">\n  <thead>\n    <tr style=\"text-align: right;\">\n      <th></th>\n      <th>Palabra</th>\n    </tr>\n  </thead>\n  <tbody>\n    <tr>\n      <th>0</th>\n      <td>de</td>\n    </tr>\n    <tr>\n      <th>1</th>\n      <td>nada</td>\n    </tr>\n    <tr>\n      <th>2</th>\n      <td>sirven</td>\n    </tr>\n    <tr>\n      <th>3</th>\n      <td>los</td>\n    </tr>\n    <tr>\n      <th>4</th>\n      <td>triunfos</td>\n    </tr>\n    <tr>\n      <th>5</th>\n      <td>si</td>\n    </tr>\n    <tr>\n      <th>6</th>\n      <td>la</td>\n    </tr>\n    <tr>\n      <th>7</th>\n      <td>paz</td>\n    </tr>\n    <tr>\n      <th>8</th>\n      <td>no</td>\n    </tr>\n    <tr>\n      <th>9</th>\n      <td>corona</td>\n    </tr>\n    <tr>\n      <th>10</th>\n      <td>lapazhabla</td>\n    </tr>\n    <tr>\n      <th>11</th>\n      <td>hay</td>\n    </tr>\n    <tr>\n      <th>12</th>\n      <td>mejores</td>\n    </tr>\n    <tr>\n      <th>13</th>\n      <td>formas</td>\n    </tr>\n    <tr>\n      <th>14</th>\n      <td>para</td>\n    </tr>\n    <tr>\n      <th>15</th>\n      <td>uno</td>\n    </tr>\n    <tr>\n      <th>16</th>\n      <td>mostrar</td>\n    </tr>\n    <tr>\n      <th>17</th>\n      <td>su</td>\n    </tr>\n    <tr>\n      <th>18</th>\n      <td>forma</td>\n    </tr>\n    <tr>\n      <th>19</th>\n      <td>pensar</td>\n    </tr>\n  </tbody>\n</table>\n</div>"
     },
     "execution_count": 12,
     "metadata": {},
     "output_type": "execute_result"
    }
   ],
   "source": [
    "def obtener_palabras_unicas(texto, diccionario):\n",
    "    palabras = re.findall(r'\\b\\w+\\b', texto)\n",
    "    for palabra in palabras:\n",
    "        diccionario[palabra] = 0\n",
    "        \n",
    "palabras_unicas = {}\n",
    "\n",
    "titulo.apply(lambda x: obtener_palabras_unicas(x, palabras_unicas))\n",
    "\n",
    "df_palabras_unicas = pd.DataFrame(palabras_unicas.keys(), columns=[\"Palabra\"])\n",
    "df_palabras_unicas.head(20)"
   ],
   "metadata": {
    "collapsed": false,
    "ExecuteTime": {
     "end_time": "2023-11-05T16:50:05.820301008Z",
     "start_time": "2023-11-05T16:50:05.592834865Z"
    }
   },
   "id": "e2f6a243171394ea"
  },
  {
   "cell_type": "code",
   "execution_count": 13,
   "outputs": [
    {
     "data": {
      "text/plain": "2109"
     },
     "execution_count": 13,
     "metadata": {},
     "output_type": "execute_result"
    }
   ],
   "source": [
    "len(df_palabras_unicas)"
   ],
   "metadata": {
    "collapsed": false,
    "ExecuteTime": {
     "end_time": "2023-11-05T16:50:05.821627617Z",
     "start_time": "2023-11-05T16:50:05.650635278Z"
    }
   },
   "id": "3dd26bc6eaeed7"
  },
  {
   "cell_type": "code",
   "execution_count": 14,
   "outputs": [
    {
     "data": {
      "text/plain": "                                                    de  nada  sirven  los  \\\ntitulo                                                                      \nde nada sirven los triunfos si la paz no los co...   0     0       0    0   \nhay mejores formas para uno mostrar su forma de...   0     0       0    0   \nlosnacionalesxsenal  bahia cupica                    0     0       0    0   \nlosnacionalesxsenal  estudiantes utech balonmano     0     0       0    0   \nlosnacionalesxsenal  las pruebas de triatlon ll...   0     0       0    0   \n...                                                 ..   ...     ...  ...   \ncomo ensenarle a los papas a reciclar                0     0       0    0   \ncomo es tu municipio los ninos de paicol nos cu...   0     0       0    0   \nlos ninos podemos cambiar el mundo                   0     0       0    0   \nque harias tu  una nina ejemplar                     0     0       0    0   \nque te gusta de mi senal los ninos nos dan su o...   0     0       0    0   \n\n                                                    triunfos  si  la  paz  no  \\\ntitulo                                                                          \nde nada sirven los triunfos si la paz no los co...         0   0   0    0   0   \nhay mejores formas para uno mostrar su forma de...         0   0   0    0   0   \nlosnacionalesxsenal  bahia cupica                          0   0   0    0   0   \nlosnacionalesxsenal  estudiantes utech balonmano           0   0   0    0   0   \nlosnacionalesxsenal  las pruebas de triatlon ll...         0   0   0    0   0   \n...                                                      ...  ..  ..  ...  ..   \ncomo ensenarle a los papas a reciclar                      0   0   0    0   0   \ncomo es tu municipio los ninos de paicol nos cu...         0   0   0    0   0   \nlos ninos podemos cambiar el mundo                         0   0   0    0   0   \nque harias tu  una nina ejemplar                           0   0   0    0   0   \nque te gusta de mi senal los ninos nos dan su o...         0   0   0    0   0   \n\n                                                    corona  ...  ensenarle  \\\ntitulo                                                      ...              \nde nada sirven los triunfos si la paz no los co...       0  ...          0   \nhay mejores formas para uno mostrar su forma de...       0  ...          0   \nlosnacionalesxsenal  bahia cupica                        0  ...          0   \nlosnacionalesxsenal  estudiantes utech balonmano         0  ...          0   \nlosnacionalesxsenal  las pruebas de triatlon ll...       0  ...          0   \n...                                                    ...  ...        ...   \ncomo ensenarle a los papas a reciclar                    0  ...          0   \ncomo es tu municipio los ninos de paicol nos cu...       0  ...          0   \nlos ninos podemos cambiar el mundo                       0  ...          0   \nque harias tu  una nina ejemplar                         0  ...          0   \nque te gusta de mi senal los ninos nos dan su o...       0  ...          0   \n\n                                                    papas  reciclar  paicol  \\\ntitulo                                                                        \nde nada sirven los triunfos si la paz no los co...      0         0       0   \nhay mejores formas para uno mostrar su forma de...      0         0       0   \nlosnacionalesxsenal  bahia cupica                       0         0       0   \nlosnacionalesxsenal  estudiantes utech balonmano        0         0       0   \nlosnacionalesxsenal  las pruebas de triatlon ll...      0         0       0   \n...                                                   ...       ...     ...   \ncomo ensenarle a los papas a reciclar                   0         0       0   \ncomo es tu municipio los ninos de paicol nos cu...      0         0       0   \nlos ninos podemos cambiar el mundo                      0         0       0   \nque harias tu  una nina ejemplar                        0         0       0   \nque te gusta de mi senal los ninos nos dan su o...      0         0       0   \n\n                                                    cuentan  podemos  cambiar  \\\ntitulo                                                                          \nde nada sirven los triunfos si la paz no los co...        0        0        0   \nhay mejores formas para uno mostrar su forma de...        0        0        0   \nlosnacionalesxsenal  bahia cupica                         0        0        0   \nlosnacionalesxsenal  estudiantes utech balonmano          0        0        0   \nlosnacionalesxsenal  las pruebas de triatlon ll...        0        0        0   \n...                                                     ...      ...      ...   \ncomo ensenarle a los papas a reciclar                     0        0        0   \ncomo es tu municipio los ninos de paicol nos cu...        0        0        0   \nlos ninos podemos cambiar el mundo                        0        0        0   \nque harias tu  una nina ejemplar                          0        0        0   \nque te gusta de mi senal los ninos nos dan su o...        0        0        0   \n\n                                                    ejemplar  dan  opinion  \ntitulo                                                                      \nde nada sirven los triunfos si la paz no los co...         0    0        0  \nhay mejores formas para uno mostrar su forma de...         0    0        0  \nlosnacionalesxsenal  bahia cupica                          0    0        0  \nlosnacionalesxsenal  estudiantes utech balonmano           0    0        0  \nlosnacionalesxsenal  las pruebas de triatlon ll...         0    0        0  \n...                                                      ...  ...      ...  \ncomo ensenarle a los papas a reciclar                      0    0        0  \ncomo es tu municipio los ninos de paicol nos cu...         0    0        0  \nlos ninos podemos cambiar el mundo                         0    0        0  \nque harias tu  una nina ejemplar                           0    0        0  \nque te gusta de mi senal los ninos nos dan su o...         0    0        0  \n\n[1000 rows x 2109 columns]",
      "text/html": "<div>\n<style scoped>\n    .dataframe tbody tr th:only-of-type {\n        vertical-align: middle;\n    }\n\n    .dataframe tbody tr th {\n        vertical-align: top;\n    }\n\n    .dataframe thead th {\n        text-align: right;\n    }\n</style>\n<table border=\"1\" class=\"dataframe\">\n  <thead>\n    <tr style=\"text-align: right;\">\n      <th></th>\n      <th>de</th>\n      <th>nada</th>\n      <th>sirven</th>\n      <th>los</th>\n      <th>triunfos</th>\n      <th>si</th>\n      <th>la</th>\n      <th>paz</th>\n      <th>no</th>\n      <th>corona</th>\n      <th>...</th>\n      <th>ensenarle</th>\n      <th>papas</th>\n      <th>reciclar</th>\n      <th>paicol</th>\n      <th>cuentan</th>\n      <th>podemos</th>\n      <th>cambiar</th>\n      <th>ejemplar</th>\n      <th>dan</th>\n      <th>opinion</th>\n    </tr>\n    <tr>\n      <th>titulo</th>\n      <th></th>\n      <th></th>\n      <th></th>\n      <th></th>\n      <th></th>\n      <th></th>\n      <th></th>\n      <th></th>\n      <th></th>\n      <th></th>\n      <th></th>\n      <th></th>\n      <th></th>\n      <th></th>\n      <th></th>\n      <th></th>\n      <th></th>\n      <th></th>\n      <th></th>\n      <th></th>\n      <th></th>\n    </tr>\n  </thead>\n  <tbody>\n    <tr>\n      <th>de nada sirven los triunfos si la paz no los corona lapazhabla</th>\n      <td>0</td>\n      <td>0</td>\n      <td>0</td>\n      <td>0</td>\n      <td>0</td>\n      <td>0</td>\n      <td>0</td>\n      <td>0</td>\n      <td>0</td>\n      <td>0</td>\n      <td>...</td>\n      <td>0</td>\n      <td>0</td>\n      <td>0</td>\n      <td>0</td>\n      <td>0</td>\n      <td>0</td>\n      <td>0</td>\n      <td>0</td>\n      <td>0</td>\n      <td>0</td>\n    </tr>\n    <tr>\n      <th>hay mejores formas para uno mostrar su forma de pensar sofia</th>\n      <td>0</td>\n      <td>0</td>\n      <td>0</td>\n      <td>0</td>\n      <td>0</td>\n      <td>0</td>\n      <td>0</td>\n      <td>0</td>\n      <td>0</td>\n      <td>0</td>\n      <td>...</td>\n      <td>0</td>\n      <td>0</td>\n      <td>0</td>\n      <td>0</td>\n      <td>0</td>\n      <td>0</td>\n      <td>0</td>\n      <td>0</td>\n      <td>0</td>\n      <td>0</td>\n    </tr>\n    <tr>\n      <th>losnacionalesxsenal  bahia cupica</th>\n      <td>0</td>\n      <td>0</td>\n      <td>0</td>\n      <td>0</td>\n      <td>0</td>\n      <td>0</td>\n      <td>0</td>\n      <td>0</td>\n      <td>0</td>\n      <td>0</td>\n      <td>...</td>\n      <td>0</td>\n      <td>0</td>\n      <td>0</td>\n      <td>0</td>\n      <td>0</td>\n      <td>0</td>\n      <td>0</td>\n      <td>0</td>\n      <td>0</td>\n      <td>0</td>\n    </tr>\n    <tr>\n      <th>losnacionalesxsenal  estudiantes utech balonmano</th>\n      <td>0</td>\n      <td>0</td>\n      <td>0</td>\n      <td>0</td>\n      <td>0</td>\n      <td>0</td>\n      <td>0</td>\n      <td>0</td>\n      <td>0</td>\n      <td>0</td>\n      <td>...</td>\n      <td>0</td>\n      <td>0</td>\n      <td>0</td>\n      <td>0</td>\n      <td>0</td>\n      <td>0</td>\n      <td>0</td>\n      <td>0</td>\n      <td>0</td>\n      <td>0</td>\n    </tr>\n    <tr>\n      <th>losnacionalesxsenal  las pruebas de triatlon llenaron de emocion al municipio de prado</th>\n      <td>0</td>\n      <td>0</td>\n      <td>0</td>\n      <td>0</td>\n      <td>0</td>\n      <td>0</td>\n      <td>0</td>\n      <td>0</td>\n      <td>0</td>\n      <td>0</td>\n      <td>...</td>\n      <td>0</td>\n      <td>0</td>\n      <td>0</td>\n      <td>0</td>\n      <td>0</td>\n      <td>0</td>\n      <td>0</td>\n      <td>0</td>\n      <td>0</td>\n      <td>0</td>\n    </tr>\n    <tr>\n      <th>...</th>\n      <td>...</td>\n      <td>...</td>\n      <td>...</td>\n      <td>...</td>\n      <td>...</td>\n      <td>...</td>\n      <td>...</td>\n      <td>...</td>\n      <td>...</td>\n      <td>...</td>\n      <td>...</td>\n      <td>...</td>\n      <td>...</td>\n      <td>...</td>\n      <td>...</td>\n      <td>...</td>\n      <td>...</td>\n      <td>...</td>\n      <td>...</td>\n      <td>...</td>\n      <td>...</td>\n    </tr>\n    <tr>\n      <th>como ensenarle a los papas a reciclar</th>\n      <td>0</td>\n      <td>0</td>\n      <td>0</td>\n      <td>0</td>\n      <td>0</td>\n      <td>0</td>\n      <td>0</td>\n      <td>0</td>\n      <td>0</td>\n      <td>0</td>\n      <td>...</td>\n      <td>0</td>\n      <td>0</td>\n      <td>0</td>\n      <td>0</td>\n      <td>0</td>\n      <td>0</td>\n      <td>0</td>\n      <td>0</td>\n      <td>0</td>\n      <td>0</td>\n    </tr>\n    <tr>\n      <th>como es tu municipio los ninos de paicol nos cuentan</th>\n      <td>0</td>\n      <td>0</td>\n      <td>0</td>\n      <td>0</td>\n      <td>0</td>\n      <td>0</td>\n      <td>0</td>\n      <td>0</td>\n      <td>0</td>\n      <td>0</td>\n      <td>...</td>\n      <td>0</td>\n      <td>0</td>\n      <td>0</td>\n      <td>0</td>\n      <td>0</td>\n      <td>0</td>\n      <td>0</td>\n      <td>0</td>\n      <td>0</td>\n      <td>0</td>\n    </tr>\n    <tr>\n      <th>los ninos podemos cambiar el mundo</th>\n      <td>0</td>\n      <td>0</td>\n      <td>0</td>\n      <td>0</td>\n      <td>0</td>\n      <td>0</td>\n      <td>0</td>\n      <td>0</td>\n      <td>0</td>\n      <td>0</td>\n      <td>...</td>\n      <td>0</td>\n      <td>0</td>\n      <td>0</td>\n      <td>0</td>\n      <td>0</td>\n      <td>0</td>\n      <td>0</td>\n      <td>0</td>\n      <td>0</td>\n      <td>0</td>\n    </tr>\n    <tr>\n      <th>que harias tu  una nina ejemplar</th>\n      <td>0</td>\n      <td>0</td>\n      <td>0</td>\n      <td>0</td>\n      <td>0</td>\n      <td>0</td>\n      <td>0</td>\n      <td>0</td>\n      <td>0</td>\n      <td>0</td>\n      <td>...</td>\n      <td>0</td>\n      <td>0</td>\n      <td>0</td>\n      <td>0</td>\n      <td>0</td>\n      <td>0</td>\n      <td>0</td>\n      <td>0</td>\n      <td>0</td>\n      <td>0</td>\n    </tr>\n    <tr>\n      <th>que te gusta de mi senal los ninos nos dan su opinion</th>\n      <td>0</td>\n      <td>0</td>\n      <td>0</td>\n      <td>0</td>\n      <td>0</td>\n      <td>0</td>\n      <td>0</td>\n      <td>0</td>\n      <td>0</td>\n      <td>0</td>\n      <td>...</td>\n      <td>0</td>\n      <td>0</td>\n      <td>0</td>\n      <td>0</td>\n      <td>0</td>\n      <td>0</td>\n      <td>0</td>\n      <td>0</td>\n      <td>0</td>\n      <td>0</td>\n    </tr>\n  </tbody>\n</table>\n<p>1000 rows × 2109 columns</p>\n</div>"
     },
     "execution_count": 14,
     "metadata": {},
     "output_type": "execute_result"
    }
   ],
   "source": [
    "df_matriz_frecuencia = pd.DataFrame(palabras_unicas, index=titulo)\n",
    "df_matriz_frecuencia"
   ],
   "metadata": {
    "collapsed": false,
    "ExecuteTime": {
     "end_time": "2023-11-05T16:50:05.833877518Z",
     "start_time": "2023-11-05T16:50:05.695806680Z"
    }
   },
   "id": "2c4c7104d32c850b"
  },
  {
   "cell_type": "code",
   "execution_count": 15,
   "outputs": [
    {
     "data": {
      "text/plain": "Index(['de', 'nada', 'sirven', 'los', 'triunfos', 'si', 'la', 'paz', 'no',\n       'corona',\n       ...\n       'ensenarle', 'papas', 'reciclar', 'paicol', 'cuentan', 'podemos',\n       'cambiar', 'ejemplar', 'dan', 'opinion'],\n      dtype='object', length=2109)"
     },
     "execution_count": 15,
     "metadata": {},
     "output_type": "execute_result"
    }
   ],
   "source": [
    "df_matriz_frecuencia.columns"
   ],
   "metadata": {
    "collapsed": false,
    "ExecuteTime": {
     "end_time": "2023-11-05T16:50:05.855534697Z",
     "start_time": "2023-11-05T16:50:05.740245622Z"
    }
   },
   "id": "fdfa333fe7c0d354"
  },
  {
   "cell_type": "code",
   "execution_count": 16,
   "outputs": [],
   "source": [
    "for indice, fila in df_matriz_frecuencia.iterrows():\n",
    "    for palabra in df_matriz_frecuencia.columns:\n",
    "        titulo_interno = fila.name\n",
    "        df_matriz_frecuencia.at[fila.name,palabra] = titulo_interno.split().count(palabra)"
   ],
   "metadata": {
    "collapsed": false,
    "ExecuteTime": {
     "end_time": "2023-11-05T16:52:56.180281807Z",
     "start_time": "2023-11-05T16:50:05.783314803Z"
    }
   },
   "id": "31f44d1abdc9bfba"
  },
  {
   "cell_type": "code",
   "execution_count": 17,
   "outputs": [
    {
     "data": {
      "text/plain": "                                                    de  nada  sirven  los  \\\ntitulo                                                                      \nde nada sirven los triunfos si la paz no los co...   1     1       1    2   \nhay mejores formas para uno mostrar su forma de...   1     0       0    0   \nlosnacionalesxsenal  bahia cupica                    0     0       0    0   \nlosnacionalesxsenal  estudiantes utech balonmano     0     0       0    0   \nlosnacionalesxsenal  las pruebas de triatlon ll...   3     0       0    0   \n...                                                 ..   ...     ...  ...   \ncomo ensenarle a los papas a reciclar                0     0       0    1   \ncomo es tu municipio los ninos de paicol nos cu...   1     0       0    1   \nlos ninos podemos cambiar el mundo                   0     0       0    1   \nque harias tu  una nina ejemplar                     0     0       0    0   \nque te gusta de mi senal los ninos nos dan su o...   1     0       0    1   \n\n                                                    triunfos  si  la  paz  no  \\\ntitulo                                                                          \nde nada sirven los triunfos si la paz no los co...         1   1   1    1   1   \nhay mejores formas para uno mostrar su forma de...         0   0   0    0   0   \nlosnacionalesxsenal  bahia cupica                          0   0   0    0   0   \nlosnacionalesxsenal  estudiantes utech balonmano           0   0   0    0   0   \nlosnacionalesxsenal  las pruebas de triatlon ll...         0   0   0    0   0   \n...                                                      ...  ..  ..  ...  ..   \ncomo ensenarle a los papas a reciclar                      0   0   0    0   0   \ncomo es tu municipio los ninos de paicol nos cu...         0   0   0    0   0   \nlos ninos podemos cambiar el mundo                         0   0   0    0   0   \nque harias tu  una nina ejemplar                           0   0   0    0   0   \nque te gusta de mi senal los ninos nos dan su o...         0   0   0    0   0   \n\n                                                    corona  ...  ensenarle  \\\ntitulo                                                      ...              \nde nada sirven los triunfos si la paz no los co...       1  ...          0   \nhay mejores formas para uno mostrar su forma de...       0  ...          0   \nlosnacionalesxsenal  bahia cupica                        0  ...          0   \nlosnacionalesxsenal  estudiantes utech balonmano         0  ...          0   \nlosnacionalesxsenal  las pruebas de triatlon ll...       0  ...          0   \n...                                                    ...  ...        ...   \ncomo ensenarle a los papas a reciclar                    0  ...          1   \ncomo es tu municipio los ninos de paicol nos cu...       0  ...          0   \nlos ninos podemos cambiar el mundo                       0  ...          0   \nque harias tu  una nina ejemplar                         0  ...          0   \nque te gusta de mi senal los ninos nos dan su o...       0  ...          0   \n\n                                                    papas  reciclar  paicol  \\\ntitulo                                                                        \nde nada sirven los triunfos si la paz no los co...      0         0       0   \nhay mejores formas para uno mostrar su forma de...      0         0       0   \nlosnacionalesxsenal  bahia cupica                       0         0       0   \nlosnacionalesxsenal  estudiantes utech balonmano        0         0       0   \nlosnacionalesxsenal  las pruebas de triatlon ll...      0         0       0   \n...                                                   ...       ...     ...   \ncomo ensenarle a los papas a reciclar                   1         1       0   \ncomo es tu municipio los ninos de paicol nos cu...      0         0       1   \nlos ninos podemos cambiar el mundo                      0         0       0   \nque harias tu  una nina ejemplar                        0         0       0   \nque te gusta de mi senal los ninos nos dan su o...      0         0       0   \n\n                                                    cuentan  podemos  cambiar  \\\ntitulo                                                                          \nde nada sirven los triunfos si la paz no los co...        0        0        0   \nhay mejores formas para uno mostrar su forma de...        0        0        0   \nlosnacionalesxsenal  bahia cupica                         0        0        0   \nlosnacionalesxsenal  estudiantes utech balonmano          0        0        0   \nlosnacionalesxsenal  las pruebas de triatlon ll...        0        0        0   \n...                                                     ...      ...      ...   \ncomo ensenarle a los papas a reciclar                     0        0        0   \ncomo es tu municipio los ninos de paicol nos cu...        1        0        0   \nlos ninos podemos cambiar el mundo                        0        1        1   \nque harias tu  una nina ejemplar                          0        0        0   \nque te gusta de mi senal los ninos nos dan su o...        0        0        0   \n\n                                                    ejemplar  dan  opinion  \ntitulo                                                                      \nde nada sirven los triunfos si la paz no los co...         0    0        0  \nhay mejores formas para uno mostrar su forma de...         0    0        0  \nlosnacionalesxsenal  bahia cupica                          0    0        0  \nlosnacionalesxsenal  estudiantes utech balonmano           0    0        0  \nlosnacionalesxsenal  las pruebas de triatlon ll...         0    0        0  \n...                                                      ...  ...      ...  \ncomo ensenarle a los papas a reciclar                      0    0        0  \ncomo es tu municipio los ninos de paicol nos cu...         0    0        0  \nlos ninos podemos cambiar el mundo                         0    0        0  \nque harias tu  una nina ejemplar                           1    0        0  \nque te gusta de mi senal los ninos nos dan su o...         0    1        1  \n\n[1000 rows x 2109 columns]",
      "text/html": "<div>\n<style scoped>\n    .dataframe tbody tr th:only-of-type {\n        vertical-align: middle;\n    }\n\n    .dataframe tbody tr th {\n        vertical-align: top;\n    }\n\n    .dataframe thead th {\n        text-align: right;\n    }\n</style>\n<table border=\"1\" class=\"dataframe\">\n  <thead>\n    <tr style=\"text-align: right;\">\n      <th></th>\n      <th>de</th>\n      <th>nada</th>\n      <th>sirven</th>\n      <th>los</th>\n      <th>triunfos</th>\n      <th>si</th>\n      <th>la</th>\n      <th>paz</th>\n      <th>no</th>\n      <th>corona</th>\n      <th>...</th>\n      <th>ensenarle</th>\n      <th>papas</th>\n      <th>reciclar</th>\n      <th>paicol</th>\n      <th>cuentan</th>\n      <th>podemos</th>\n      <th>cambiar</th>\n      <th>ejemplar</th>\n      <th>dan</th>\n      <th>opinion</th>\n    </tr>\n    <tr>\n      <th>titulo</th>\n      <th></th>\n      <th></th>\n      <th></th>\n      <th></th>\n      <th></th>\n      <th></th>\n      <th></th>\n      <th></th>\n      <th></th>\n      <th></th>\n      <th></th>\n      <th></th>\n      <th></th>\n      <th></th>\n      <th></th>\n      <th></th>\n      <th></th>\n      <th></th>\n      <th></th>\n      <th></th>\n      <th></th>\n    </tr>\n  </thead>\n  <tbody>\n    <tr>\n      <th>de nada sirven los triunfos si la paz no los corona lapazhabla</th>\n      <td>1</td>\n      <td>1</td>\n      <td>1</td>\n      <td>2</td>\n      <td>1</td>\n      <td>1</td>\n      <td>1</td>\n      <td>1</td>\n      <td>1</td>\n      <td>1</td>\n      <td>...</td>\n      <td>0</td>\n      <td>0</td>\n      <td>0</td>\n      <td>0</td>\n      <td>0</td>\n      <td>0</td>\n      <td>0</td>\n      <td>0</td>\n      <td>0</td>\n      <td>0</td>\n    </tr>\n    <tr>\n      <th>hay mejores formas para uno mostrar su forma de pensar sofia</th>\n      <td>1</td>\n      <td>0</td>\n      <td>0</td>\n      <td>0</td>\n      <td>0</td>\n      <td>0</td>\n      <td>0</td>\n      <td>0</td>\n      <td>0</td>\n      <td>0</td>\n      <td>...</td>\n      <td>0</td>\n      <td>0</td>\n      <td>0</td>\n      <td>0</td>\n      <td>0</td>\n      <td>0</td>\n      <td>0</td>\n      <td>0</td>\n      <td>0</td>\n      <td>0</td>\n    </tr>\n    <tr>\n      <th>losnacionalesxsenal  bahia cupica</th>\n      <td>0</td>\n      <td>0</td>\n      <td>0</td>\n      <td>0</td>\n      <td>0</td>\n      <td>0</td>\n      <td>0</td>\n      <td>0</td>\n      <td>0</td>\n      <td>0</td>\n      <td>...</td>\n      <td>0</td>\n      <td>0</td>\n      <td>0</td>\n      <td>0</td>\n      <td>0</td>\n      <td>0</td>\n      <td>0</td>\n      <td>0</td>\n      <td>0</td>\n      <td>0</td>\n    </tr>\n    <tr>\n      <th>losnacionalesxsenal  estudiantes utech balonmano</th>\n      <td>0</td>\n      <td>0</td>\n      <td>0</td>\n      <td>0</td>\n      <td>0</td>\n      <td>0</td>\n      <td>0</td>\n      <td>0</td>\n      <td>0</td>\n      <td>0</td>\n      <td>...</td>\n      <td>0</td>\n      <td>0</td>\n      <td>0</td>\n      <td>0</td>\n      <td>0</td>\n      <td>0</td>\n      <td>0</td>\n      <td>0</td>\n      <td>0</td>\n      <td>0</td>\n    </tr>\n    <tr>\n      <th>losnacionalesxsenal  las pruebas de triatlon llenaron de emocion al municipio de prado</th>\n      <td>3</td>\n      <td>0</td>\n      <td>0</td>\n      <td>0</td>\n      <td>0</td>\n      <td>0</td>\n      <td>0</td>\n      <td>0</td>\n      <td>0</td>\n      <td>0</td>\n      <td>...</td>\n      <td>0</td>\n      <td>0</td>\n      <td>0</td>\n      <td>0</td>\n      <td>0</td>\n      <td>0</td>\n      <td>0</td>\n      <td>0</td>\n      <td>0</td>\n      <td>0</td>\n    </tr>\n    <tr>\n      <th>...</th>\n      <td>...</td>\n      <td>...</td>\n      <td>...</td>\n      <td>...</td>\n      <td>...</td>\n      <td>...</td>\n      <td>...</td>\n      <td>...</td>\n      <td>...</td>\n      <td>...</td>\n      <td>...</td>\n      <td>...</td>\n      <td>...</td>\n      <td>...</td>\n      <td>...</td>\n      <td>...</td>\n      <td>...</td>\n      <td>...</td>\n      <td>...</td>\n      <td>...</td>\n      <td>...</td>\n    </tr>\n    <tr>\n      <th>como ensenarle a los papas a reciclar</th>\n      <td>0</td>\n      <td>0</td>\n      <td>0</td>\n      <td>1</td>\n      <td>0</td>\n      <td>0</td>\n      <td>0</td>\n      <td>0</td>\n      <td>0</td>\n      <td>0</td>\n      <td>...</td>\n      <td>1</td>\n      <td>1</td>\n      <td>1</td>\n      <td>0</td>\n      <td>0</td>\n      <td>0</td>\n      <td>0</td>\n      <td>0</td>\n      <td>0</td>\n      <td>0</td>\n    </tr>\n    <tr>\n      <th>como es tu municipio los ninos de paicol nos cuentan</th>\n      <td>1</td>\n      <td>0</td>\n      <td>0</td>\n      <td>1</td>\n      <td>0</td>\n      <td>0</td>\n      <td>0</td>\n      <td>0</td>\n      <td>0</td>\n      <td>0</td>\n      <td>...</td>\n      <td>0</td>\n      <td>0</td>\n      <td>0</td>\n      <td>1</td>\n      <td>1</td>\n      <td>0</td>\n      <td>0</td>\n      <td>0</td>\n      <td>0</td>\n      <td>0</td>\n    </tr>\n    <tr>\n      <th>los ninos podemos cambiar el mundo</th>\n      <td>0</td>\n      <td>0</td>\n      <td>0</td>\n      <td>1</td>\n      <td>0</td>\n      <td>0</td>\n      <td>0</td>\n      <td>0</td>\n      <td>0</td>\n      <td>0</td>\n      <td>...</td>\n      <td>0</td>\n      <td>0</td>\n      <td>0</td>\n      <td>0</td>\n      <td>0</td>\n      <td>1</td>\n      <td>1</td>\n      <td>0</td>\n      <td>0</td>\n      <td>0</td>\n    </tr>\n    <tr>\n      <th>que harias tu  una nina ejemplar</th>\n      <td>0</td>\n      <td>0</td>\n      <td>0</td>\n      <td>0</td>\n      <td>0</td>\n      <td>0</td>\n      <td>0</td>\n      <td>0</td>\n      <td>0</td>\n      <td>0</td>\n      <td>...</td>\n      <td>0</td>\n      <td>0</td>\n      <td>0</td>\n      <td>0</td>\n      <td>0</td>\n      <td>0</td>\n      <td>0</td>\n      <td>1</td>\n      <td>0</td>\n      <td>0</td>\n    </tr>\n    <tr>\n      <th>que te gusta de mi senal los ninos nos dan su opinion</th>\n      <td>1</td>\n      <td>0</td>\n      <td>0</td>\n      <td>1</td>\n      <td>0</td>\n      <td>0</td>\n      <td>0</td>\n      <td>0</td>\n      <td>0</td>\n      <td>0</td>\n      <td>...</td>\n      <td>0</td>\n      <td>0</td>\n      <td>0</td>\n      <td>0</td>\n      <td>0</td>\n      <td>0</td>\n      <td>0</td>\n      <td>0</td>\n      <td>1</td>\n      <td>1</td>\n    </tr>\n  </tbody>\n</table>\n<p>1000 rows × 2109 columns</p>\n</div>"
     },
     "execution_count": 17,
     "metadata": {},
     "output_type": "execute_result"
    }
   ],
   "source": [
    "df_matriz_frecuencia"
   ],
   "metadata": {
    "collapsed": false,
    "ExecuteTime": {
     "end_time": "2023-11-05T16:52:56.191397934Z",
     "start_time": "2023-11-05T16:52:56.179855679Z"
    }
   },
   "id": "606382a00d2e9487"
  },
  {
   "cell_type": "code",
   "execution_count": 18,
   "outputs": [],
   "source": [
    "#Stemmer\n",
    "stop_words = set(stopwords.words('spanish'))\n",
    "def simple_stemmer(text):\n",
    "    stemmer = SnowballStemmer(\"spanish\")\n",
    "    tokenizers = ToktokTokenizer()\n",
    "    tokens = tokenizers.tokenize(text)\n",
    "    tokens = [stemmer.stem(token.strip()) for token in tokens if token not in stop_words]\n",
    "    text = \" \".join(tokens)\n",
    "    return text\n",
    "\n",
    "titulo = titulo.apply(simple_stemmer)"
   ],
   "metadata": {
    "collapsed": false,
    "ExecuteTime": {
     "end_time": "2023-11-05T16:52:56.489055114Z",
     "start_time": "2023-11-05T16:52:56.188648460Z"
    }
   },
   "id": "90e5cfc2d9ef3625"
  },
  {
   "cell_type": "code",
   "execution_count": 19,
   "outputs": [
    {
     "data": {
      "text/plain": "0                   sirv triunf si paz coron lapazhabl\n1                      mejor form mostr form pens sofi\n2                       losnacionalesxsenal bahi cupic\n3            losnacionalesxsenal estudi utech balonman\n4    losnacionalesxsenal prueb triatlon llen emocio...\n5     losnacionalesxsenal mari elen hurt pel antioquen\n6                   losnacionalesxsenal nin voley play\n7                      losnacionalesxsenal hic histori\n8          pedaleopor ariel molin envi salud escarabaj\n9          pedaleopor ariel molin envi salud escarabaj\nName: titulo, dtype: object"
     },
     "execution_count": 19,
     "metadata": {},
     "output_type": "execute_result"
    }
   ],
   "source": [
    "titulo.head(10)"
   ],
   "metadata": {
    "collapsed": false,
    "ExecuteTime": {
     "end_time": "2023-11-05T16:52:56.489890448Z",
     "start_time": "2023-11-05T16:52:56.292463535Z"
    }
   },
   "id": "75a5e076e1237608"
  },
  {
   "cell_type": "code",
   "execution_count": 20,
   "outputs": [
    {
     "data": {
      "text/plain": "                      Educación  Entretenimiento  Gente y Blogs     Otros  \\\nEducación              1.000000        -0.191214      -0.085276 -0.080146   \nEntretenimiento       -0.191214         1.000000      -0.127995 -0.120294   \nGente y Blogs         -0.085276        -0.127995       1.000000 -0.053648   \nOtros                 -0.080146        -0.120294      -0.053648  1.000000   \nPelícula y Animación  -0.163248        -0.245026      -0.109275 -0.102700   \n\n                      Película y Animación  \nEducación                        -0.163248  \nEntretenimiento                  -0.245026  \nGente y Blogs                    -0.109275  \nOtros                            -0.102700  \nPelícula y Animación              1.000000  ",
      "text/html": "<div>\n<style scoped>\n    .dataframe tbody tr th:only-of-type {\n        vertical-align: middle;\n    }\n\n    .dataframe tbody tr th {\n        vertical-align: top;\n    }\n\n    .dataframe thead th {\n        text-align: right;\n    }\n</style>\n<table border=\"1\" class=\"dataframe\">\n  <thead>\n    <tr style=\"text-align: right;\">\n      <th></th>\n      <th>Educación</th>\n      <th>Entretenimiento</th>\n      <th>Gente y Blogs</th>\n      <th>Otros</th>\n      <th>Película y Animación</th>\n    </tr>\n  </thead>\n  <tbody>\n    <tr>\n      <th>Educación</th>\n      <td>1.000000</td>\n      <td>-0.191214</td>\n      <td>-0.085276</td>\n      <td>-0.080146</td>\n      <td>-0.163248</td>\n    </tr>\n    <tr>\n      <th>Entretenimiento</th>\n      <td>-0.191214</td>\n      <td>1.000000</td>\n      <td>-0.127995</td>\n      <td>-0.120294</td>\n      <td>-0.245026</td>\n    </tr>\n    <tr>\n      <th>Gente y Blogs</th>\n      <td>-0.085276</td>\n      <td>-0.127995</td>\n      <td>1.000000</td>\n      <td>-0.053648</td>\n      <td>-0.109275</td>\n    </tr>\n    <tr>\n      <th>Otros</th>\n      <td>-0.080146</td>\n      <td>-0.120294</td>\n      <td>-0.053648</td>\n      <td>1.000000</td>\n      <td>-0.102700</td>\n    </tr>\n    <tr>\n      <th>Película y Animación</th>\n      <td>-0.163248</td>\n      <td>-0.245026</td>\n      <td>-0.109275</td>\n      <td>-0.102700</td>\n      <td>1.000000</td>\n    </tr>\n  </tbody>\n</table>\n</div>"
     },
     "execution_count": 20,
     "metadata": {},
     "output_type": "execute_result"
    }
   ],
   "source": [
    "df_corr_dummies = pd.get_dummies(df_complete['categoria'], columns=['categoria'], drop_first=True)\n",
    "df_corr_dummies.corr()"
   ],
   "metadata": {
    "collapsed": false,
    "ExecuteTime": {
     "end_time": "2023-11-05T16:52:56.556940522Z",
     "start_time": "2023-11-05T16:52:56.304677534Z"
    }
   },
   "id": "6e6d9ffed669c95c"
  },
  {
   "cell_type": "code",
   "execution_count": 21,
   "outputs": [
    {
     "data": {
      "text/plain": "<Figure size 640x480 with 2 Axes>",
      "image/png": "[encoded data removed]"
     },
     "metadata": {},
     "output_type": "display_data"
    }
   ],
   "source": [
    "plt.Figure(figsize=(8,6))\n",
    "sns.heatmap(df_corr_dummies.corr(),annot=True, cmap='coolwarm', linewidths=0.5)\n",
    "plt.show()"
   ],
   "metadata": {
    "collapsed": false,
    "ExecuteTime": {
     "end_time": "2023-11-05T16:52:56.912297297Z",
     "start_time": "2023-11-05T16:52:56.347494079Z"
    }
   },
   "id": "4a29323b5118cea2"
  },
  {
   "cell_type": "markdown",
   "source": [
    "# Term Frequency (Matriz TF)"
   ],
   "metadata": {
    "collapsed": false
   },
   "id": "f19bf9f337c35b34"
  },
  {
   "cell_type": "code",
   "execution_count": 22,
   "outputs": [
    {
     "data": {
      "text/plain": "                Palabra\n0                  sirv\n1                triunf\n2                    si\n3                   paz\n4                 coron\n5             lapazhabl\n6                 mejor\n7                  form\n8                 mostr\n9                  pens\n10                 sofi\n11  losnacionalesxsenal\n12                 bahi\n13                cupic\n14               estudi\n15                utech\n16             balonman\n17                prueb\n18             triatlon\n19                 llen",
      "text/html": "<div>\n<style scoped>\n    .dataframe tbody tr th:only-of-type {\n        vertical-align: middle;\n    }\n\n    .dataframe tbody tr th {\n        vertical-align: top;\n    }\n\n    .dataframe thead th {\n        text-align: right;\n    }\n</style>\n<table border=\"1\" class=\"dataframe\">\n  <thead>\n    <tr style=\"text-align: right;\">\n      <th></th>\n      <th>Palabra</th>\n    </tr>\n  </thead>\n  <tbody>\n    <tr>\n      <th>0</th>\n      <td>sirv</td>\n    </tr>\n    <tr>\n      <th>1</th>\n      <td>triunf</td>\n    </tr>\n    <tr>\n      <th>2</th>\n      <td>si</td>\n    </tr>\n    <tr>\n      <th>3</th>\n      <td>paz</td>\n    </tr>\n    <tr>\n      <th>4</th>\n      <td>coron</td>\n    </tr>\n    <tr>\n      <th>5</th>\n      <td>lapazhabl</td>\n    </tr>\n    <tr>\n      <th>6</th>\n      <td>mejor</td>\n    </tr>\n    <tr>\n      <th>7</th>\n      <td>form</td>\n    </tr>\n    <tr>\n      <th>8</th>\n      <td>mostr</td>\n    </tr>\n    <tr>\n      <th>9</th>\n      <td>pens</td>\n    </tr>\n    <tr>\n      <th>10</th>\n      <td>sofi</td>\n    </tr>\n    <tr>\n      <th>11</th>\n      <td>losnacionalesxsenal</td>\n    </tr>\n    <tr>\n      <th>12</th>\n      <td>bahi</td>\n    </tr>\n    <tr>\n      <th>13</th>\n      <td>cupic</td>\n    </tr>\n    <tr>\n      <th>14</th>\n      <td>estudi</td>\n    </tr>\n    <tr>\n      <th>15</th>\n      <td>utech</td>\n    </tr>\n    <tr>\n      <th>16</th>\n      <td>balonman</td>\n    </tr>\n    <tr>\n      <th>17</th>\n      <td>prueb</td>\n    </tr>\n    <tr>\n      <th>18</th>\n      <td>triatlon</td>\n    </tr>\n    <tr>\n      <th>19</th>\n      <td>llen</td>\n    </tr>\n  </tbody>\n</table>\n</div>"
     },
     "execution_count": 22,
     "metadata": {},
     "output_type": "execute_result"
    }
   ],
   "source": [
    "palabras_unicas = {}\n",
    "\n",
    "titulo.apply(lambda x: obtener_palabras_unicas(x, palabras_unicas))\n",
    "\n",
    "df_palabras_unicas = pd.DataFrame(palabras_unicas.keys(), columns=[\"Palabra\"])\n",
    "df_palabras_unicas.head(20)"
   ],
   "metadata": {
    "collapsed": false,
    "ExecuteTime": {
     "end_time": "2023-11-05T16:52:56.914103983Z",
     "start_time": "2023-11-05T16:52:56.775108091Z"
    }
   },
   "id": "99e7821c42136eb1"
  },
  {
   "cell_type": "code",
   "execution_count": 23,
   "outputs": [
    {
     "data": {
      "text/plain": "1857"
     },
     "execution_count": 23,
     "metadata": {},
     "output_type": "execute_result"
    }
   ],
   "source": [
    "len(df_palabras_unicas)"
   ],
   "metadata": {
    "collapsed": false,
    "ExecuteTime": {
     "end_time": "2023-11-05T16:52:56.916026739Z",
     "start_time": "2023-11-05T16:52:56.789865713Z"
    }
   },
   "id": "9031ef1d970e7261"
  },
  {
   "cell_type": "code",
   "execution_count": 24,
   "outputs": [
    {
     "data": {
      "text/plain": "                                                    sirv  triunf  si  paz  \\\ntitulo                                                                      \nsirv triunf si paz coron lapazhabl                     0       0   0    0   \nmejor form mostr form pens sofi                        0       0   0    0   \nlosnacionalesxsenal bahi cupic                         0       0   0    0   \nlosnacionalesxsenal estudi utech balonman              0       0   0    0   \nlosnacionalesxsenal prueb triatlon llen emocion...     0       0   0    0   \n...                                                  ...     ...  ..  ...   \nensen pap recicl                                       0       0   0    0   \nmunicipi nin paicol cuent                              0       0   0    0   \nnin pod cambi mund                                     0       0   0    0   \nhari nin ejempl                                        0       0   0    0   \ngust senal nin dan opinion                             0       0   0    0   \n\n                                                    coron  lapazhabl  mejor  \\\ntitulo                                                                        \nsirv triunf si paz coron lapazhabl                      0          0      0   \nmejor form mostr form pens sofi                         0          0      0   \nlosnacionalesxsenal bahi cupic                          0          0      0   \nlosnacionalesxsenal estudi utech balonman               0          0      0   \nlosnacionalesxsenal prueb triatlon llen emocion...      0          0      0   \n...                                                   ...        ...    ...   \nensen pap recicl                                        0          0      0   \nmunicipi nin paicol cuent                               0          0      0   \nnin pod cambi mund                                      0          0      0   \nhari nin ejempl                                         0          0      0   \ngust senal nin dan opinion                              0          0      0   \n\n                                                    form  mostr  pens  ...  \\\ntitulo                                                                 ...   \nsirv triunf si paz coron lapazhabl                     0      0     0  ...   \nmejor form mostr form pens sofi                        0      0     0  ...   \nlosnacionalesxsenal bahi cupic                         0      0     0  ...   \nlosnacionalesxsenal estudi utech balonman              0      0     0  ...   \nlosnacionalesxsenal prueb triatlon llen emocion...     0      0     0  ...   \n...                                                  ...    ...   ...  ...   \nensen pap recicl                                       0      0     0  ...   \nmunicipi nin paicol cuent                              0      0     0  ...   \nnin pod cambi mund                                     0      0     0  ...   \nhari nin ejempl                                        0      0     0  ...   \ngust senal nin dan opinion                             0      0     0  ...   \n\n                                                    recuerd  90  ensen  \\\ntitulo                                                                   \nsirv triunf si paz coron lapazhabl                        0   0      0   \nmejor form mostr form pens sofi                           0   0      0   \nlosnacionalesxsenal bahi cupic                            0   0      0   \nlosnacionalesxsenal estudi utech balonman                 0   0      0   \nlosnacionalesxsenal prueb triatlon llen emocion...        0   0      0   \n...                                                     ...  ..    ...   \nensen pap recicl                                          0   0      0   \nmunicipi nin paicol cuent                                 0   0      0   \nnin pod cambi mund                                        0   0      0   \nhari nin ejempl                                           0   0      0   \ngust senal nin dan opinion                                0   0      0   \n\n                                                    recicl  paicol  pod  \\\ntitulo                                                                    \nsirv triunf si paz coron lapazhabl                       0       0    0   \nmejor form mostr form pens sofi                          0       0    0   \nlosnacionalesxsenal bahi cupic                           0       0    0   \nlosnacionalesxsenal estudi utech balonman                0       0    0   \nlosnacionalesxsenal prueb triatlon llen emocion...       0       0    0   \n...                                                    ...     ...  ...   \nensen pap recicl                                         0       0    0   \nmunicipi nin paicol cuent                                0       0    0   \nnin pod cambi mund                                       0       0    0   \nhari nin ejempl                                          0       0    0   \ngust senal nin dan opinion                               0       0    0   \n\n                                                    cambi  ejempl  dan  \\\ntitulo                                                                   \nsirv triunf si paz coron lapazhabl                      0       0    0   \nmejor form mostr form pens sofi                         0       0    0   \nlosnacionalesxsenal bahi cupic                          0       0    0   \nlosnacionalesxsenal estudi utech balonman               0       0    0   \nlosnacionalesxsenal prueb triatlon llen emocion...      0       0    0   \n...                                                   ...     ...  ...   \nensen pap recicl                                        0       0    0   \nmunicipi nin paicol cuent                               0       0    0   \nnin pod cambi mund                                      0       0    0   \nhari nin ejempl                                         0       0    0   \ngust senal nin dan opinion                              0       0    0   \n\n                                                    opinion  \ntitulo                                                       \nsirv triunf si paz coron lapazhabl                        0  \nmejor form mostr form pens sofi                           0  \nlosnacionalesxsenal bahi cupic                            0  \nlosnacionalesxsenal estudi utech balonman                 0  \nlosnacionalesxsenal prueb triatlon llen emocion...        0  \n...                                                     ...  \nensen pap recicl                                          0  \nmunicipi nin paicol cuent                                 0  \nnin pod cambi mund                                        0  \nhari nin ejempl                                           0  \ngust senal nin dan opinion                                0  \n\n[1000 rows x 1857 columns]",
      "text/html": "<div>\n<style scoped>\n    .dataframe tbody tr th:only-of-type {\n        vertical-align: middle;\n    }\n\n    .dataframe tbody tr th {\n        vertical-align: top;\n    }\n\n    .dataframe thead th {\n        text-align: right;\n    }\n</style>\n<table border=\"1\" class=\"dataframe\">\n  <thead>\n    <tr style=\"text-align: right;\">\n      <th></th>\n      <th>sirv</th>\n      <th>triunf</th>\n      <th>si</th>\n      <th>paz</th>\n      <th>coron</th>\n      <th>lapazhabl</th>\n      <th>mejor</th>\n      <th>form</th>\n      <th>mostr</th>\n      <th>pens</th>\n      <th>...</th>\n      <th>recuerd</th>\n      <th>90</th>\n      <th>ensen</th>\n      <th>recicl</th>\n      <th>paicol</th>\n      <th>pod</th>\n      <th>cambi</th>\n      <th>ejempl</th>\n      <th>dan</th>\n      <th>opinion</th>\n    </tr>\n    <tr>\n      <th>titulo</th>\n      <th></th>\n      <th></th>\n      <th></th>\n      <th></th>\n      <th></th>\n      <th></th>\n      <th></th>\n      <th></th>\n      <th></th>\n      <th></th>\n      <th></th>\n      <th></th>\n      <th></th>\n      <th></th>\n      <th></th>\n      <th></th>\n      <th></th>\n      <th></th>\n      <th></th>\n      <th></th>\n      <th></th>\n    </tr>\n  </thead>\n  <tbody>\n    <tr>\n      <th>sirv triunf si paz coron lapazhabl</th>\n      <td>0</td>\n      <td>0</td>\n      <td>0</td>\n      <td>0</td>\n      <td>0</td>\n      <td>0</td>\n      <td>0</td>\n      <td>0</td>\n      <td>0</td>\n      <td>0</td>\n      <td>...</td>\n      <td>0</td>\n      <td>0</td>\n      <td>0</td>\n      <td>0</td>\n      <td>0</td>\n      <td>0</td>\n      <td>0</td>\n      <td>0</td>\n      <td>0</td>\n      <td>0</td>\n    </tr>\n    <tr>\n      <th>mejor form mostr form pens sofi</th>\n      <td>0</td>\n      <td>0</td>\n      <td>0</td>\n      <td>0</td>\n      <td>0</td>\n      <td>0</td>\n      <td>0</td>\n      <td>0</td>\n      <td>0</td>\n      <td>0</td>\n      <td>...</td>\n      <td>0</td>\n      <td>0</td>\n      <td>0</td>\n      <td>0</td>\n      <td>0</td>\n      <td>0</td>\n      <td>0</td>\n      <td>0</td>\n      <td>0</td>\n      <td>0</td>\n    </tr>\n    <tr>\n      <th>losnacionalesxsenal bahi cupic</th>\n      <td>0</td>\n      <td>0</td>\n      <td>0</td>\n      <td>0</td>\n      <td>0</td>\n      <td>0</td>\n      <td>0</td>\n      <td>0</td>\n      <td>0</td>\n      <td>0</td>\n      <td>...</td>\n      <td>0</td>\n      <td>0</td>\n      <td>0</td>\n      <td>0</td>\n      <td>0</td>\n      <td>0</td>\n      <td>0</td>\n      <td>0</td>\n      <td>0</td>\n      <td>0</td>\n    </tr>\n    <tr>\n      <th>losnacionalesxsenal estudi utech balonman</th>\n      <td>0</td>\n      <td>0</td>\n      <td>0</td>\n      <td>0</td>\n      <td>0</td>\n      <td>0</td>\n      <td>0</td>\n      <td>0</td>\n      <td>0</td>\n      <td>0</td>\n      <td>...</td>\n      <td>0</td>\n      <td>0</td>\n      <td>0</td>\n      <td>0</td>\n      <td>0</td>\n      <td>0</td>\n      <td>0</td>\n      <td>0</td>\n      <td>0</td>\n      <td>0</td>\n    </tr>\n    <tr>\n      <th>losnacionalesxsenal prueb triatlon llen emocion municipi prad</th>\n      <td>0</td>\n      <td>0</td>\n      <td>0</td>\n      <td>0</td>\n      <td>0</td>\n      <td>0</td>\n      <td>0</td>\n      <td>0</td>\n      <td>0</td>\n      <td>0</td>\n      <td>...</td>\n      <td>0</td>\n      <td>0</td>\n      <td>0</td>\n      <td>0</td>\n      <td>0</td>\n      <td>0</td>\n      <td>0</td>\n      <td>0</td>\n      <td>0</td>\n      <td>0</td>\n    </tr>\n    <tr>\n      <th>...</th>\n      <td>...</td>\n      <td>...</td>\n      <td>...</td>\n      <td>...</td>\n      <td>...</td>\n      <td>...</td>\n      <td>...</td>\n      <td>...</td>\n      <td>...</td>\n      <td>...</td>\n      <td>...</td>\n      <td>...</td>\n      <td>...</td>\n      <td>...</td>\n      <td>...</td>\n      <td>...</td>\n      <td>...</td>\n      <td>...</td>\n      <td>...</td>\n      <td>...</td>\n      <td>...</td>\n    </tr>\n    <tr>\n      <th>ensen pap recicl</th>\n      <td>0</td>\n      <td>0</td>\n      <td>0</td>\n      <td>0</td>\n      <td>0</td>\n      <td>0</td>\n      <td>0</td>\n      <td>0</td>\n      <td>0</td>\n      <td>0</td>\n      <td>...</td>\n      <td>0</td>\n      <td>0</td>\n      <td>0</td>\n      <td>0</td>\n      <td>0</td>\n      <td>0</td>\n      <td>0</td>\n      <td>0</td>\n      <td>0</td>\n      <td>0</td>\n    </tr>\n    <tr>\n      <th>municipi nin paicol cuent</th>\n      <td>0</td>\n      <td>0</td>\n      <td>0</td>\n      <td>0</td>\n      <td>0</td>\n      <td>0</td>\n      <td>0</td>\n      <td>0</td>\n      <td>0</td>\n      <td>0</td>\n      <td>...</td>\n      <td>0</td>\n      <td>0</td>\n      <td>0</td>\n      <td>0</td>\n      <td>0</td>\n      <td>0</td>\n      <td>0</td>\n      <td>0</td>\n      <td>0</td>\n      <td>0</td>\n    </tr>\n    <tr>\n      <th>nin pod cambi mund</th>\n      <td>0</td>\n      <td>0</td>\n      <td>0</td>\n      <td>0</td>\n      <td>0</td>\n      <td>0</td>\n      <td>0</td>\n      <td>0</td>\n      <td>0</td>\n      <td>0</td>\n      <td>...</td>\n      <td>0</td>\n      <td>0</td>\n      <td>0</td>\n      <td>0</td>\n      <td>0</td>\n      <td>0</td>\n      <td>0</td>\n      <td>0</td>\n      <td>0</td>\n      <td>0</td>\n    </tr>\n    <tr>\n      <th>hari nin ejempl</th>\n      <td>0</td>\n      <td>0</td>\n      <td>0</td>\n      <td>0</td>\n      <td>0</td>\n      <td>0</td>\n      <td>0</td>\n      <td>0</td>\n      <td>0</td>\n      <td>0</td>\n      <td>...</td>\n      <td>0</td>\n      <td>0</td>\n      <td>0</td>\n      <td>0</td>\n      <td>0</td>\n      <td>0</td>\n      <td>0</td>\n      <td>0</td>\n      <td>0</td>\n      <td>0</td>\n    </tr>\n    <tr>\n      <th>gust senal nin dan opinion</th>\n      <td>0</td>\n      <td>0</td>\n      <td>0</td>\n      <td>0</td>\n      <td>0</td>\n      <td>0</td>\n      <td>0</td>\n      <td>0</td>\n      <td>0</td>\n      <td>0</td>\n      <td>...</td>\n      <td>0</td>\n      <td>0</td>\n      <td>0</td>\n      <td>0</td>\n      <td>0</td>\n      <td>0</td>\n      <td>0</td>\n      <td>0</td>\n      <td>0</td>\n      <td>0</td>\n    </tr>\n  </tbody>\n</table>\n<p>1000 rows × 1857 columns</p>\n</div>"
     },
     "execution_count": 24,
     "metadata": {},
     "output_type": "execute_result"
    }
   ],
   "source": [
    "df_matriz_TF = pd.DataFrame(palabras_unicas, index=titulo)\n",
    "df_matriz_frecuencia = pd.DataFrame(palabras_unicas, index=titulo)\n",
    "df_matriz_TF"
   ],
   "metadata": {
    "collapsed": false,
    "ExecuteTime": {
     "end_time": "2023-11-05T16:52:57.113100030Z",
     "start_time": "2023-11-05T16:52:56.831721747Z"
    }
   },
   "id": "d292012943b32b9d"
  },
  {
   "cell_type": "code",
   "execution_count": 25,
   "outputs": [
    {
     "data": {
      "text/plain": "                                                    sirv  triunf   si  paz  \\\ntitulo                                                                       \nsirv triunf si paz coron lapazhabl                   1.0     1.0  1.0  1.0   \nmejor form mostr form pens sofi                      0.0     0.0  0.0  0.0   \nlosnacionalesxsenal bahi cupic                       0.0     0.0  0.0  0.0   \nlosnacionalesxsenal estudi utech balonman            0.0     0.0  0.0  0.0   \nlosnacionalesxsenal prueb triatlon llen emocion...   0.0     0.0  0.0  0.0   \n...                                                  ...     ...  ...  ...   \nensen pap recicl                                     0.0     0.0  0.0  0.0   \nmunicipi nin paicol cuent                            0.0     0.0  0.0  0.0   \nnin pod cambi mund                                   0.0     0.0  0.0  0.0   \nhari nin ejempl                                      0.0     0.0  0.0  0.0   \ngust senal nin dan opinion                           0.0     0.0  0.0  0.0   \n\n                                                    coron  lapazhabl  mejor  \\\ntitulo                                                                        \nsirv triunf si paz coron lapazhabl                    1.0        1.0    0.0   \nmejor form mostr form pens sofi                       0.0        0.0    1.0   \nlosnacionalesxsenal bahi cupic                        0.0        0.0    0.0   \nlosnacionalesxsenal estudi utech balonman             0.0        0.0    0.0   \nlosnacionalesxsenal prueb triatlon llen emocion...    0.0        0.0    0.0   \n...                                                   ...        ...    ...   \nensen pap recicl                                      0.0        0.0    0.0   \nmunicipi nin paicol cuent                             0.0        0.0    0.0   \nnin pod cambi mund                                    0.0        0.0    0.0   \nhari nin ejempl                                       0.0        0.0    0.0   \ngust senal nin dan opinion                            0.0        0.0    0.0   \n\n                                                    form  mostr  pens  ...  \\\ntitulo                                                                 ...   \nsirv triunf si paz coron lapazhabl                   0.0    0.0   0.0  ...   \nmejor form mostr form pens sofi                      2.0    1.0   1.0  ...   \nlosnacionalesxsenal bahi cupic                       0.0    0.0   0.0  ...   \nlosnacionalesxsenal estudi utech balonman            0.0    0.0   0.0  ...   \nlosnacionalesxsenal prueb triatlon llen emocion...   0.0    0.0   0.0  ...   \n...                                                  ...    ...   ...  ...   \nensen pap recicl                                     0.0    0.0   0.0  ...   \nmunicipi nin paicol cuent                            0.0    0.0   0.0  ...   \nnin pod cambi mund                                   0.0    0.0   0.0  ...   \nhari nin ejempl                                      0.0    0.0   0.0  ...   \ngust senal nin dan opinion                           0.0    0.0   0.0  ...   \n\n                                                    recuerd   90  ensen  \\\ntitulo                                                                    \nsirv triunf si paz coron lapazhabl                      0.0  0.0    0.0   \nmejor form mostr form pens sofi                         0.0  0.0    0.0   \nlosnacionalesxsenal bahi cupic                          0.0  0.0    0.0   \nlosnacionalesxsenal estudi utech balonman               0.0  0.0    0.0   \nlosnacionalesxsenal prueb triatlon llen emocion...      0.0  0.0    0.0   \n...                                                     ...  ...    ...   \nensen pap recicl                                        0.0  0.0    1.0   \nmunicipi nin paicol cuent                               0.0  0.0    0.0   \nnin pod cambi mund                                      0.0  0.0    0.0   \nhari nin ejempl                                         0.0  0.0    0.0   \ngust senal nin dan opinion                              0.0  0.0    0.0   \n\n                                                    recicl  paicol  pod  \\\ntitulo                                                                    \nsirv triunf si paz coron lapazhabl                     0.0     0.0  0.0   \nmejor form mostr form pens sofi                        0.0     0.0  0.0   \nlosnacionalesxsenal bahi cupic                         0.0     0.0  0.0   \nlosnacionalesxsenal estudi utech balonman              0.0     0.0  0.0   \nlosnacionalesxsenal prueb triatlon llen emocion...     0.0     0.0  0.0   \n...                                                    ...     ...  ...   \nensen pap recicl                                       1.0     0.0  0.0   \nmunicipi nin paicol cuent                              0.0     1.0  0.0   \nnin pod cambi mund                                     0.0     0.0  1.0   \nhari nin ejempl                                        0.0     0.0  0.0   \ngust senal nin dan opinion                             0.0     0.0  0.0   \n\n                                                    cambi  ejempl  dan  \\\ntitulo                                                                   \nsirv triunf si paz coron lapazhabl                    0.0     0.0  0.0   \nmejor form mostr form pens sofi                       0.0     0.0  0.0   \nlosnacionalesxsenal bahi cupic                        0.0     0.0  0.0   \nlosnacionalesxsenal estudi utech balonman             0.0     0.0  0.0   \nlosnacionalesxsenal prueb triatlon llen emocion...    0.0     0.0  0.0   \n...                                                   ...     ...  ...   \nensen pap recicl                                      0.0     0.0  0.0   \nmunicipi nin paicol cuent                             0.0     0.0  0.0   \nnin pod cambi mund                                    1.0     0.0  0.0   \nhari nin ejempl                                       0.0     1.0  0.0   \ngust senal nin dan opinion                            0.0     0.0  1.0   \n\n                                                    opinion  \ntitulo                                                       \nsirv triunf si paz coron lapazhabl                      0.0  \nmejor form mostr form pens sofi                         0.0  \nlosnacionalesxsenal bahi cupic                          0.0  \nlosnacionalesxsenal estudi utech balonman               0.0  \nlosnacionalesxsenal prueb triatlon llen emocion...      0.0  \n...                                                     ...  \nensen pap recicl                                        0.0  \nmunicipi nin paicol cuent                               0.0  \nnin pod cambi mund                                      0.0  \nhari nin ejempl                                         0.0  \ngust senal nin dan opinion                              1.0  \n\n[1000 rows x 1857 columns]",
      "text/html": "<div>\n<style scoped>\n    .dataframe tbody tr th:only-of-type {\n        vertical-align: middle;\n    }\n\n    .dataframe tbody tr th {\n        vertical-align: top;\n    }\n\n    .dataframe thead th {\n        text-align: right;\n    }\n</style>\n<table border=\"1\" class=\"dataframe\">\n  <thead>\n    <tr style=\"text-align: right;\">\n      <th></th>\n      <th>sirv</th>\n      <th>triunf</th>\n      <th>si</th>\n      <th>paz</th>\n      <th>coron</th>\n      <th>lapazhabl</th>\n      <th>mejor</th>\n      <th>form</th>\n      <th>mostr</th>\n      <th>pens</th>\n      <th>...</th>\n      <th>recuerd</th>\n      <th>90</th>\n      <th>ensen</th>\n      <th>recicl</th>\n      <th>paicol</th>\n      <th>pod</th>\n      <th>cambi</th>\n      <th>ejempl</th>\n      <th>dan</th>\n      <th>opinion</th>\n    </tr>\n    <tr>\n      <th>titulo</th>\n      <th></th>\n      <th></th>\n      <th></th>\n      <th></th>\n      <th></th>\n      <th></th>\n      <th></th>\n      <th></th>\n      <th></th>\n      <th></th>\n      <th></th>\n      <th></th>\n      <th></th>\n      <th></th>\n      <th></th>\n      <th></th>\n      <th></th>\n      <th></th>\n      <th></th>\n      <th></th>\n      <th></th>\n    </tr>\n  </thead>\n  <tbody>\n    <tr>\n      <th>sirv triunf si paz coron lapazhabl</th>\n      <td>1.0</td>\n      <td>1.0</td>\n      <td>1.0</td>\n      <td>1.0</td>\n      <td>1.0</td>\n      <td>1.0</td>\n      <td>0.0</td>\n      <td>0.0</td>\n      <td>0.0</td>\n      <td>0.0</td>\n      <td>...</td>\n      <td>0.0</td>\n      <td>0.0</td>\n      <td>0.0</td>\n      <td>0.0</td>\n      <td>0.0</td>\n      <td>0.0</td>\n      <td>0.0</td>\n      <td>0.0</td>\n      <td>0.0</td>\n      <td>0.0</td>\n    </tr>\n    <tr>\n      <th>mejor form mostr form pens sofi</th>\n      <td>0.0</td>\n      <td>0.0</td>\n      <td>0.0</td>\n      <td>0.0</td>\n      <td>0.0</td>\n      <td>0.0</td>\n      <td>1.0</td>\n      <td>2.0</td>\n      <td>1.0</td>\n      <td>1.0</td>\n      <td>...</td>\n      <td>0.0</td>\n      <td>0.0</td>\n      <td>0.0</td>\n      <td>0.0</td>\n      <td>0.0</td>\n      <td>0.0</td>\n      <td>0.0</td>\n      <td>0.0</td>\n      <td>0.0</td>\n      <td>0.0</td>\n    </tr>\n    <tr>\n      <th>losnacionalesxsenal bahi cupic</th>\n      <td>0.0</td>\n      <td>0.0</td>\n      <td>0.0</td>\n      <td>0.0</td>\n      <td>0.0</td>\n      <td>0.0</td>\n      <td>0.0</td>\n      <td>0.0</td>\n      <td>0.0</td>\n      <td>0.0</td>\n      <td>...</td>\n      <td>0.0</td>\n      <td>0.0</td>\n      <td>0.0</td>\n      <td>0.0</td>\n      <td>0.0</td>\n      <td>0.0</td>\n      <td>0.0</td>\n      <td>0.0</td>\n      <td>0.0</td>\n      <td>0.0</td>\n    </tr>\n    <tr>\n      <th>losnacionalesxsenal estudi utech balonman</th>\n      <td>0.0</td>\n      <td>0.0</td>\n      <td>0.0</td>\n      <td>0.0</td>\n      <td>0.0</td>\n      <td>0.0</td>\n      <td>0.0</td>\n      <td>0.0</td>\n      <td>0.0</td>\n      <td>0.0</td>\n      <td>...</td>\n      <td>0.0</td>\n      <td>0.0</td>\n      <td>0.0</td>\n      <td>0.0</td>\n      <td>0.0</td>\n      <td>0.0</td>\n      <td>0.0</td>\n      <td>0.0</td>\n      <td>0.0</td>\n      <td>0.0</td>\n    </tr>\n    <tr>\n      <th>losnacionalesxsenal prueb triatlon llen emocion municipi prad</th>\n      <td>0.0</td>\n      <td>0.0</td>\n      <td>0.0</td>\n      <td>0.0</td>\n      <td>0.0</td>\n      <td>0.0</td>\n      <td>0.0</td>\n      <td>0.0</td>\n      <td>0.0</td>\n      <td>0.0</td>\n      <td>...</td>\n      <td>0.0</td>\n      <td>0.0</td>\n      <td>0.0</td>\n      <td>0.0</td>\n      <td>0.0</td>\n      <td>0.0</td>\n      <td>0.0</td>\n      <td>0.0</td>\n      <td>0.0</td>\n      <td>0.0</td>\n    </tr>\n    <tr>\n      <th>...</th>\n      <td>...</td>\n      <td>...</td>\n      <td>...</td>\n      <td>...</td>\n      <td>...</td>\n      <td>...</td>\n      <td>...</td>\n      <td>...</td>\n      <td>...</td>\n      <td>...</td>\n      <td>...</td>\n      <td>...</td>\n      <td>...</td>\n      <td>...</td>\n      <td>...</td>\n      <td>...</td>\n      <td>...</td>\n      <td>...</td>\n      <td>...</td>\n      <td>...</td>\n      <td>...</td>\n    </tr>\n    <tr>\n      <th>ensen pap recicl</th>\n      <td>0.0</td>\n      <td>0.0</td>\n      <td>0.0</td>\n      <td>0.0</td>\n      <td>0.0</td>\n      <td>0.0</td>\n      <td>0.0</td>\n      <td>0.0</td>\n      <td>0.0</td>\n      <td>0.0</td>\n      <td>...</td>\n      <td>0.0</td>\n      <td>0.0</td>\n      <td>1.0</td>\n      <td>1.0</td>\n      <td>0.0</td>\n      <td>0.0</td>\n      <td>0.0</td>\n      <td>0.0</td>\n      <td>0.0</td>\n      <td>0.0</td>\n    </tr>\n    <tr>\n      <th>municipi nin paicol cuent</th>\n      <td>0.0</td>\n      <td>0.0</td>\n      <td>0.0</td>\n      <td>0.0</td>\n      <td>0.0</td>\n      <td>0.0</td>\n      <td>0.0</td>\n      <td>0.0</td>\n      <td>0.0</td>\n      <td>0.0</td>\n      <td>...</td>\n      <td>0.0</td>\n      <td>0.0</td>\n      <td>0.0</td>\n      <td>0.0</td>\n      <td>1.0</td>\n      <td>0.0</td>\n      <td>0.0</td>\n      <td>0.0</td>\n      <td>0.0</td>\n      <td>0.0</td>\n    </tr>\n    <tr>\n      <th>nin pod cambi mund</th>\n      <td>0.0</td>\n      <td>0.0</td>\n      <td>0.0</td>\n      <td>0.0</td>\n      <td>0.0</td>\n      <td>0.0</td>\n      <td>0.0</td>\n      <td>0.0</td>\n      <td>0.0</td>\n      <td>0.0</td>\n      <td>...</td>\n      <td>0.0</td>\n      <td>0.0</td>\n      <td>0.0</td>\n      <td>0.0</td>\n      <td>0.0</td>\n      <td>1.0</td>\n      <td>1.0</td>\n      <td>0.0</td>\n      <td>0.0</td>\n      <td>0.0</td>\n    </tr>\n    <tr>\n      <th>hari nin ejempl</th>\n      <td>0.0</td>\n      <td>0.0</td>\n      <td>0.0</td>\n      <td>0.0</td>\n      <td>0.0</td>\n      <td>0.0</td>\n      <td>0.0</td>\n      <td>0.0</td>\n      <td>0.0</td>\n      <td>0.0</td>\n      <td>...</td>\n      <td>0.0</td>\n      <td>0.0</td>\n      <td>0.0</td>\n      <td>0.0</td>\n      <td>0.0</td>\n      <td>0.0</td>\n      <td>0.0</td>\n      <td>1.0</td>\n      <td>0.0</td>\n      <td>0.0</td>\n    </tr>\n    <tr>\n      <th>gust senal nin dan opinion</th>\n      <td>0.0</td>\n      <td>0.0</td>\n      <td>0.0</td>\n      <td>0.0</td>\n      <td>0.0</td>\n      <td>0.0</td>\n      <td>0.0</td>\n      <td>0.0</td>\n      <td>0.0</td>\n      <td>0.0</td>\n      <td>...</td>\n      <td>0.0</td>\n      <td>0.0</td>\n      <td>0.0</td>\n      <td>0.0</td>\n      <td>0.0</td>\n      <td>0.0</td>\n      <td>0.0</td>\n      <td>0.0</td>\n      <td>1.0</td>\n      <td>1.0</td>\n    </tr>\n  </tbody>\n</table>\n<p>1000 rows × 1857 columns</p>\n</div>"
     },
     "execution_count": 25,
     "metadata": {},
     "output_type": "execute_result"
    }
   ],
   "source": [
    "# Definir la nueva matriz de frecuencia con las nuevas palabras y hacer el conteo de cada palabra en cada titulo\n",
    "df_matriz_frecuencia = df_matriz_frecuencia.astype(float)\n",
    "for indice, fila in df_matriz_frecuencia.iterrows():\n",
    "    for palabra in df_matriz_frecuencia.columns:\n",
    "        titulo_interno = fila.name\n",
    "        titulo_interno_vector = titulo_interno.split()\n",
    "        df_matriz_frecuencia.at[titulo_interno,palabra] = titulo_interno_vector.count(palabra)\n",
    "df_matriz_frecuencia"
   ],
   "metadata": {
    "collapsed": false,
    "ExecuteTime": {
     "end_time": "2023-11-05T16:55:23.006554035Z",
     "start_time": "2023-11-05T16:52:56.967394697Z"
    }
   },
   "id": "acd6e422309a7eec"
  },
  {
   "cell_type": "code",
   "execution_count": 26,
   "outputs": [
    {
     "data": {
      "text/plain": "                                                        sirv    triunf  \\\ntitulo                                                                   \nsirv triunf si paz coron lapazhabl                  0.166667  0.166667   \nmejor form mostr form pens sofi                     0.000000  0.000000   \nlosnacionalesxsenal bahi cupic                      0.000000  0.000000   \nlosnacionalesxsenal estudi utech balonman           0.000000  0.000000   \nlosnacionalesxsenal prueb triatlon llen emocion...  0.000000  0.000000   \n...                                                      ...       ...   \nensen pap recicl                                    0.000000  0.000000   \nmunicipi nin paicol cuent                           0.000000  0.000000   \nnin pod cambi mund                                  0.000000  0.000000   \nhari nin ejempl                                     0.000000  0.000000   \ngust senal nin dan opinion                          0.000000  0.000000   \n\n                                                          si       paz  \\\ntitulo                                                                   \nsirv triunf si paz coron lapazhabl                  0.166667  0.166667   \nmejor form mostr form pens sofi                     0.000000  0.000000   \nlosnacionalesxsenal bahi cupic                      0.000000  0.000000   \nlosnacionalesxsenal estudi utech balonman           0.000000  0.000000   \nlosnacionalesxsenal prueb triatlon llen emocion...  0.000000  0.000000   \n...                                                      ...       ...   \nensen pap recicl                                    0.000000  0.000000   \nmunicipi nin paicol cuent                           0.000000  0.000000   \nnin pod cambi mund                                  0.000000  0.000000   \nhari nin ejempl                                     0.000000  0.000000   \ngust senal nin dan opinion                          0.000000  0.000000   \n\n                                                       coron  lapazhabl  \\\ntitulo                                                                    \nsirv triunf si paz coron lapazhabl                  0.166667   0.166667   \nmejor form mostr form pens sofi                     0.000000   0.000000   \nlosnacionalesxsenal bahi cupic                      0.000000   0.000000   \nlosnacionalesxsenal estudi utech balonman           0.000000   0.000000   \nlosnacionalesxsenal prueb triatlon llen emocion...  0.000000   0.000000   \n...                                                      ...        ...   \nensen pap recicl                                    0.000000   0.000000   \nmunicipi nin paicol cuent                           0.000000   0.000000   \nnin pod cambi mund                                  0.000000   0.000000   \nhari nin ejempl                                     0.000000   0.000000   \ngust senal nin dan opinion                          0.000000   0.000000   \n\n                                                       mejor      form  \\\ntitulo                                                                   \nsirv triunf si paz coron lapazhabl                  0.000000  0.000000   \nmejor form mostr form pens sofi                     0.166667  0.333333   \nlosnacionalesxsenal bahi cupic                      0.000000  0.000000   \nlosnacionalesxsenal estudi utech balonman           0.000000  0.000000   \nlosnacionalesxsenal prueb triatlon llen emocion...  0.000000  0.000000   \n...                                                      ...       ...   \nensen pap recicl                                    0.000000  0.000000   \nmunicipi nin paicol cuent                           0.000000  0.000000   \nnin pod cambi mund                                  0.000000  0.000000   \nhari nin ejempl                                     0.000000  0.000000   \ngust senal nin dan opinion                          0.000000  0.000000   \n\n                                                       mostr      pens  ...  \\\ntitulo                                                                  ...   \nsirv triunf si paz coron lapazhabl                  0.000000  0.000000  ...   \nmejor form mostr form pens sofi                     0.166667  0.166667  ...   \nlosnacionalesxsenal bahi cupic                      0.000000  0.000000  ...   \nlosnacionalesxsenal estudi utech balonman           0.000000  0.000000  ...   \nlosnacionalesxsenal prueb triatlon llen emocion...  0.000000  0.000000  ...   \n...                                                      ...       ...  ...   \nensen pap recicl                                    0.000000  0.000000  ...   \nmunicipi nin paicol cuent                           0.000000  0.000000  ...   \nnin pod cambi mund                                  0.000000  0.000000  ...   \nhari nin ejempl                                     0.000000  0.000000  ...   \ngust senal nin dan opinion                          0.000000  0.000000  ...   \n\n                                                    recuerd   90     ensen  \\\ntitulo                                                                       \nsirv triunf si paz coron lapazhabl                      0.0  0.0  0.000000   \nmejor form mostr form pens sofi                         0.0  0.0  0.000000   \nlosnacionalesxsenal bahi cupic                          0.0  0.0  0.000000   \nlosnacionalesxsenal estudi utech balonman               0.0  0.0  0.000000   \nlosnacionalesxsenal prueb triatlon llen emocion...      0.0  0.0  0.000000   \n...                                                     ...  ...       ...   \nensen pap recicl                                        0.0  0.0  0.333333   \nmunicipi nin paicol cuent                               0.0  0.0  0.000000   \nnin pod cambi mund                                      0.0  0.0  0.000000   \nhari nin ejempl                                         0.0  0.0  0.000000   \ngust senal nin dan opinion                              0.0  0.0  0.000000   \n\n                                                      recicl  paicol   pod  \\\ntitulo                                                                       \nsirv triunf si paz coron lapazhabl                  0.000000    0.00  0.00   \nmejor form mostr form pens sofi                     0.000000    0.00  0.00   \nlosnacionalesxsenal bahi cupic                      0.000000    0.00  0.00   \nlosnacionalesxsenal estudi utech balonman           0.000000    0.00  0.00   \nlosnacionalesxsenal prueb triatlon llen emocion...  0.000000    0.00  0.00   \n...                                                      ...     ...   ...   \nensen pap recicl                                    0.333333    0.00  0.00   \nmunicipi nin paicol cuent                           0.000000    0.25  0.00   \nnin pod cambi mund                                  0.000000    0.00  0.25   \nhari nin ejempl                                     0.000000    0.00  0.00   \ngust senal nin dan opinion                          0.000000    0.00  0.00   \n\n                                                    cambi    ejempl  dan  \\\ntitulo                                                                     \nsirv triunf si paz coron lapazhabl                   0.00  0.000000  0.0   \nmejor form mostr form pens sofi                      0.00  0.000000  0.0   \nlosnacionalesxsenal bahi cupic                       0.00  0.000000  0.0   \nlosnacionalesxsenal estudi utech balonman            0.00  0.000000  0.0   \nlosnacionalesxsenal prueb triatlon llen emocion...   0.00  0.000000  0.0   \n...                                                   ...       ...  ...   \nensen pap recicl                                     0.00  0.000000  0.0   \nmunicipi nin paicol cuent                            0.00  0.000000  0.0   \nnin pod cambi mund                                   0.25  0.000000  0.0   \nhari nin ejempl                                      0.00  0.333333  0.0   \ngust senal nin dan opinion                           0.00  0.000000  0.2   \n\n                                                    opinion  \ntitulo                                                       \nsirv triunf si paz coron lapazhabl                      0.0  \nmejor form mostr form pens sofi                         0.0  \nlosnacionalesxsenal bahi cupic                          0.0  \nlosnacionalesxsenal estudi utech balonman               0.0  \nlosnacionalesxsenal prueb triatlon llen emocion...      0.0  \n...                                                     ...  \nensen pap recicl                                        0.0  \nmunicipi nin paicol cuent                               0.0  \nnin pod cambi mund                                      0.0  \nhari nin ejempl                                         0.0  \ngust senal nin dan opinion                              0.2  \n\n[1000 rows x 1857 columns]",
      "text/html": "<div>\n<style scoped>\n    .dataframe tbody tr th:only-of-type {\n        vertical-align: middle;\n    }\n\n    .dataframe tbody tr th {\n        vertical-align: top;\n    }\n\n    .dataframe thead th {\n        text-align: right;\n    }\n</style>\n<table border=\"1\" class=\"dataframe\">\n  <thead>\n    <tr style=\"text-align: right;\">\n      <th></th>\n      <th>sirv</th>\n      <th>triunf</th>\n      <th>si</th>\n      <th>paz</th>\n      <th>coron</th>\n      <th>lapazhabl</th>\n      <th>mejor</th>\n      <th>form</th>\n      <th>mostr</th>\n      <th>pens</th>\n      <th>...</th>\n      <th>recuerd</th>\n      <th>90</th>\n      <th>ensen</th>\n      <th>recicl</th>\n      <th>paicol</th>\n      <th>pod</th>\n      <th>cambi</th>\n      <th>ejempl</th>\n      <th>dan</th>\n      <th>opinion</th>\n    </tr>\n    <tr>\n      <th>titulo</th>\n      <th></th>\n      <th></th>\n      <th></th>\n      <th></th>\n      <th></th>\n      <th></th>\n      <th></th>\n      <th></th>\n      <th></th>\n      <th></th>\n      <th></th>\n      <th></th>\n      <th></th>\n      <th></th>\n      <th></th>\n      <th></th>\n      <th></th>\n      <th></th>\n      <th></th>\n      <th></th>\n      <th></th>\n    </tr>\n  </thead>\n  <tbody>\n    <tr>\n      <th>sirv triunf si paz coron lapazhabl</th>\n      <td>0.166667</td>\n      <td>0.166667</td>\n      <td>0.166667</td>\n      <td>0.166667</td>\n      <td>0.166667</td>\n      <td>0.166667</td>\n      <td>0.000000</td>\n      <td>0.000000</td>\n      <td>0.000000</td>\n      <td>0.000000</td>\n      <td>...</td>\n      <td>0.0</td>\n      <td>0.0</td>\n      <td>0.000000</td>\n      <td>0.000000</td>\n      <td>0.00</td>\n      <td>0.00</td>\n      <td>0.00</td>\n      <td>0.000000</td>\n      <td>0.0</td>\n      <td>0.0</td>\n    </tr>\n    <tr>\n      <th>mejor form mostr form pens sofi</th>\n      <td>0.000000</td>\n      <td>0.000000</td>\n      <td>0.000000</td>\n      <td>0.000000</td>\n      <td>0.000000</td>\n      <td>0.000000</td>\n      <td>0.166667</td>\n      <td>0.333333</td>\n      <td>0.166667</td>\n      <td>0.166667</td>\n      <td>...</td>\n      <td>0.0</td>\n      <td>0.0</td>\n      <td>0.000000</td>\n      <td>0.000000</td>\n      <td>0.00</td>\n      <td>0.00</td>\n      <td>0.00</td>\n      <td>0.000000</td>\n      <td>0.0</td>\n      <td>0.0</td>\n    </tr>\n    <tr>\n      <th>losnacionalesxsenal bahi cupic</th>\n      <td>0.000000</td>\n      <td>0.000000</td>\n      <td>0.000000</td>\n      <td>0.000000</td>\n      <td>0.000000</td>\n      <td>0.000000</td>\n      <td>0.000000</td>\n      <td>0.000000</td>\n      <td>0.000000</td>\n      <td>0.000000</td>\n      <td>...</td>\n      <td>0.0</td>\n      <td>0.0</td>\n      <td>0.000000</td>\n      <td>0.000000</td>\n      <td>0.00</td>\n      <td>0.00</td>\n      <td>0.00</td>\n      <td>0.000000</td>\n      <td>0.0</td>\n      <td>0.0</td>\n    </tr>\n    <tr>\n      <th>losnacionalesxsenal estudi utech balonman</th>\n      <td>0.000000</td>\n      <td>0.000000</td>\n      <td>0.000000</td>\n      <td>0.000000</td>\n      <td>0.000000</td>\n      <td>0.000000</td>\n      <td>0.000000</td>\n      <td>0.000000</td>\n      <td>0.000000</td>\n      <td>0.000000</td>\n      <td>...</td>\n      <td>0.0</td>\n      <td>0.0</td>\n      <td>0.000000</td>\n      <td>0.000000</td>\n      <td>0.00</td>\n      <td>0.00</td>\n      <td>0.00</td>\n      <td>0.000000</td>\n      <td>0.0</td>\n      <td>0.0</td>\n    </tr>\n    <tr>\n      <th>losnacionalesxsenal prueb triatlon llen emocion municipi prad</th>\n      <td>0.000000</td>\n      <td>0.000000</td>\n      <td>0.000000</td>\n      <td>0.000000</td>\n      <td>0.000000</td>\n      <td>0.000000</td>\n      <td>0.000000</td>\n      <td>0.000000</td>\n      <td>0.000000</td>\n      <td>0.000000</td>\n      <td>...</td>\n      <td>0.0</td>\n      <td>0.0</td>\n      <td>0.000000</td>\n      <td>0.000000</td>\n      <td>0.00</td>\n      <td>0.00</td>\n      <td>0.00</td>\n      <td>0.000000</td>\n      <td>0.0</td>\n      <td>0.0</td>\n    </tr>\n    <tr>\n      <th>...</th>\n      <td>...</td>\n      <td>...</td>\n      <td>...</td>\n      <td>...</td>\n      <td>...</td>\n      <td>...</td>\n      <td>...</td>\n      <td>...</td>\n      <td>...</td>\n      <td>...</td>\n      <td>...</td>\n      <td>...</td>\n      <td>...</td>\n      <td>...</td>\n      <td>...</td>\n      <td>...</td>\n      <td>...</td>\n      <td>...</td>\n      <td>...</td>\n      <td>...</td>\n      <td>...</td>\n    </tr>\n    <tr>\n      <th>ensen pap recicl</th>\n      <td>0.000000</td>\n      <td>0.000000</td>\n      <td>0.000000</td>\n      <td>0.000000</td>\n      <td>0.000000</td>\n      <td>0.000000</td>\n      <td>0.000000</td>\n      <td>0.000000</td>\n      <td>0.000000</td>\n      <td>0.000000</td>\n      <td>...</td>\n      <td>0.0</td>\n      <td>0.0</td>\n      <td>0.333333</td>\n      <td>0.333333</td>\n      <td>0.00</td>\n      <td>0.00</td>\n      <td>0.00</td>\n      <td>0.000000</td>\n      <td>0.0</td>\n      <td>0.0</td>\n    </tr>\n    <tr>\n      <th>municipi nin paicol cuent</th>\n      <td>0.000000</td>\n      <td>0.000000</td>\n      <td>0.000000</td>\n      <td>0.000000</td>\n      <td>0.000000</td>\n      <td>0.000000</td>\n      <td>0.000000</td>\n      <td>0.000000</td>\n      <td>0.000000</td>\n      <td>0.000000</td>\n      <td>...</td>\n      <td>0.0</td>\n      <td>0.0</td>\n      <td>0.000000</td>\n      <td>0.000000</td>\n      <td>0.25</td>\n      <td>0.00</td>\n      <td>0.00</td>\n      <td>0.000000</td>\n      <td>0.0</td>\n      <td>0.0</td>\n    </tr>\n    <tr>\n      <th>nin pod cambi mund</th>\n      <td>0.000000</td>\n      <td>0.000000</td>\n      <td>0.000000</td>\n      <td>0.000000</td>\n      <td>0.000000</td>\n      <td>0.000000</td>\n      <td>0.000000</td>\n      <td>0.000000</td>\n      <td>0.000000</td>\n      <td>0.000000</td>\n      <td>...</td>\n      <td>0.0</td>\n      <td>0.0</td>\n      <td>0.000000</td>\n      <td>0.000000</td>\n      <td>0.00</td>\n      <td>0.25</td>\n      <td>0.25</td>\n      <td>0.000000</td>\n      <td>0.0</td>\n      <td>0.0</td>\n    </tr>\n    <tr>\n      <th>hari nin ejempl</th>\n      <td>0.000000</td>\n      <td>0.000000</td>\n      <td>0.000000</td>\n      <td>0.000000</td>\n      <td>0.000000</td>\n      <td>0.000000</td>\n      <td>0.000000</td>\n      <td>0.000000</td>\n      <td>0.000000</td>\n      <td>0.000000</td>\n      <td>...</td>\n      <td>0.0</td>\n      <td>0.0</td>\n      <td>0.000000</td>\n      <td>0.000000</td>\n      <td>0.00</td>\n      <td>0.00</td>\n      <td>0.00</td>\n      <td>0.333333</td>\n      <td>0.0</td>\n      <td>0.0</td>\n    </tr>\n    <tr>\n      <th>gust senal nin dan opinion</th>\n      <td>0.000000</td>\n      <td>0.000000</td>\n      <td>0.000000</td>\n      <td>0.000000</td>\n      <td>0.000000</td>\n      <td>0.000000</td>\n      <td>0.000000</td>\n      <td>0.000000</td>\n      <td>0.000000</td>\n      <td>0.000000</td>\n      <td>...</td>\n      <td>0.0</td>\n      <td>0.0</td>\n      <td>0.000000</td>\n      <td>0.000000</td>\n      <td>0.00</td>\n      <td>0.00</td>\n      <td>0.00</td>\n      <td>0.000000</td>\n      <td>0.2</td>\n      <td>0.2</td>\n    </tr>\n  </tbody>\n</table>\n<p>1000 rows × 1857 columns</p>\n</div>"
     },
     "execution_count": 26,
     "metadata": {},
     "output_type": "execute_result"
    }
   ],
   "source": [
    "df_matriz_TF = df_matriz_TF.astype(float)\n",
    "for indice, fila in df_matriz_TF.iterrows():\n",
    "    titulo_interno = fila.name\n",
    "    titulo_interno_vector = titulo_interno.split()\n",
    "    for palabra in df_matriz_TF.columns:\n",
    "        df_matriz_TF.at[titulo_interno,palabra] = (titulo_interno_vector.count(palabra))/len(titulo_interno_vector)\n",
    "df_matriz_TF"
   ],
   "metadata": {
    "collapsed": false,
    "ExecuteTime": {
     "end_time": "2023-11-05T16:57:49.967859196Z",
     "start_time": "2023-11-05T16:55:23.010600873Z"
    }
   },
   "id": "c977c95203ea6e85"
  },
  {
   "cell_type": "markdown",
   "source": [
    "# Inverse Document Frequency (Vector IDF)"
   ],
   "metadata": {
    "collapsed": false
   },
   "id": "5cfe7555bc6d070e"
  },
  {
   "cell_type": "code",
   "execution_count": 32,
   "outputs": [
    {
     "data": {
      "text/plain": "        Transformacion\nsirv           2.69897\ntriunf         2.30103\nsi            2.221849\npaz            2.30103\ncoron          2.69897\n...                ...\npod            2.69897\ncambi          2.69897\nejempl         2.69897\ndan            2.69897\nopinion        2.69897\n\n[1857 rows x 1 columns]",
      "text/html": "<div>\n<style scoped>\n    .dataframe tbody tr th:only-of-type {\n        vertical-align: middle;\n    }\n\n    .dataframe tbody tr th {\n        vertical-align: top;\n    }\n\n    .dataframe thead th {\n        text-align: right;\n    }\n</style>\n<table border=\"1\" class=\"dataframe\">\n  <thead>\n    <tr style=\"text-align: right;\">\n      <th></th>\n      <th>Transformacion</th>\n    </tr>\n  </thead>\n  <tbody>\n    <tr>\n      <th>sirv</th>\n      <td>2.69897</td>\n    </tr>\n    <tr>\n      <th>triunf</th>\n      <td>2.30103</td>\n    </tr>\n    <tr>\n      <th>si</th>\n      <td>2.221849</td>\n    </tr>\n    <tr>\n      <th>paz</th>\n      <td>2.30103</td>\n    </tr>\n    <tr>\n      <th>coron</th>\n      <td>2.69897</td>\n    </tr>\n    <tr>\n      <th>...</th>\n      <td>...</td>\n    </tr>\n    <tr>\n      <th>pod</th>\n      <td>2.69897</td>\n    </tr>\n    <tr>\n      <th>cambi</th>\n      <td>2.69897</td>\n    </tr>\n    <tr>\n      <th>ejempl</th>\n      <td>2.69897</td>\n    </tr>\n    <tr>\n      <th>dan</th>\n      <td>2.69897</td>\n    </tr>\n    <tr>\n      <th>opinion</th>\n      <td>2.69897</td>\n    </tr>\n  </tbody>\n</table>\n<p>1857 rows × 1 columns</p>\n</div>"
     },
     "execution_count": 32,
     "metadata": {},
     "output_type": "execute_result"
    }
   ],
   "source": [
    "cantidad_documentos = len(df_matriz_frecuencia)\n",
    "df_matriz_IDF = pd.DataFrame(columns=['Transformacion'], index=palabras_unicas)\n",
    "for indice, fila in df_matriz_IDF.iterrows():\n",
    "    palabra_interna = fila.name\n",
    "    cantidad_total_palabra = df_matriz_frecuencia[f'{palabra_interna}'].sum()\n",
    "    df_matriz_IDF.loc[palabra_interna] = np.log10(cantidad_documentos/(cantidad_total_palabra+1))\n",
    "df_matriz_IDF"
   ],
   "metadata": {
    "collapsed": false,
    "ExecuteTime": {
     "end_time": "2023-11-05T17:00:58.735590515Z",
     "start_time": "2023-11-05T17:00:58.410351815Z"
    }
   },
   "id": "2754792e9000e534"
  },
  {
   "cell_type": "code",
   "execution_count": 33,
   "outputs": [],
   "source": [
    "df_matriz_IDF = df_matriz_IDF.transpose()"
   ],
   "metadata": {
    "collapsed": false,
    "ExecuteTime": {
     "end_time": "2023-11-05T17:01:16.691243885Z",
     "start_time": "2023-11-05T17:01:16.671236152Z"
    }
   },
   "id": "ba1cda5381ef1701"
  },
  {
   "cell_type": "code",
   "execution_count": 34,
   "outputs": [],
   "source": [
    "df_matriz_tf_idf = df_matriz_TF.copy()"
   ],
   "metadata": {
    "collapsed": false,
    "ExecuteTime": {
     "end_time": "2023-11-05T17:01:17.642216869Z",
     "start_time": "2023-11-05T17:01:17.623901681Z"
    }
   },
   "id": "d90036803b6bef59"
  },
  {
   "cell_type": "code",
   "execution_count": 35,
   "outputs": [],
   "source": [
    "for indice, fila in df_matriz_TF.iterrows():\n",
    "    titulo_interno = fila.name\n",
    "    for palabra in df_matriz_TF.columns:\n",
    "        df_matriz_tf_idf.at[titulo_interno,palabra] = df_matriz_tf_idf.at[titulo_interno,palabra]*df_matriz_IDF.at['Transformacion',palabra]"
   ],
   "metadata": {
    "collapsed": false,
    "ExecuteTime": {
     "end_time": "2023-11-05T17:07:06.654655536Z",
     "start_time": "2023-11-05T17:01:18.893935193Z"
    }
   },
   "id": "f434476012ec9c1a"
  },
  {
   "cell_type": "code",
   "execution_count": 36,
   "outputs": [
    {
     "data": {
      "text/plain": "                                                        sirv    triunf  \\\ntitulo                                                                   \nsirv triunf si paz coron lapazhabl                  0.449828  0.383505   \nmejor form mostr form pens sofi                     0.000000  0.000000   \nlosnacionalesxsenal bahi cupic                      0.000000  0.000000   \nlosnacionalesxsenal estudi utech balonman           0.000000  0.000000   \nlosnacionalesxsenal prueb triatlon llen emocion...  0.000000  0.000000   \n...                                                      ...       ...   \nensen pap recicl                                    0.000000  0.000000   \nmunicipi nin paicol cuent                           0.000000  0.000000   \nnin pod cambi mund                                  0.000000  0.000000   \nhari nin ejempl                                     0.000000  0.000000   \ngust senal nin dan opinion                          0.000000  0.000000   \n\n                                                          si       paz  \\\ntitulo                                                                   \nsirv triunf si paz coron lapazhabl                  0.370308  0.383505   \nmejor form mostr form pens sofi                     0.000000  0.000000   \nlosnacionalesxsenal bahi cupic                      0.000000  0.000000   \nlosnacionalesxsenal estudi utech balonman           0.000000  0.000000   \nlosnacionalesxsenal prueb triatlon llen emocion...  0.000000  0.000000   \n...                                                      ...       ...   \nensen pap recicl                                    0.000000  0.000000   \nmunicipi nin paicol cuent                           0.000000  0.000000   \nnin pod cambi mund                                  0.000000  0.000000   \nhari nin ejempl                                     0.000000  0.000000   \ngust senal nin dan opinion                          0.000000  0.000000   \n\n                                                       coron  lapazhabl  \\\ntitulo                                                                    \nsirv triunf si paz coron lapazhabl                  0.449828    0.42048   \nmejor form mostr form pens sofi                     0.000000    0.00000   \nlosnacionalesxsenal bahi cupic                      0.000000    0.00000   \nlosnacionalesxsenal estudi utech balonman           0.000000    0.00000   \nlosnacionalesxsenal prueb triatlon llen emocion...  0.000000    0.00000   \n...                                                      ...        ...   \nensen pap recicl                                    0.000000    0.00000   \nmunicipi nin paicol cuent                           0.000000    0.00000   \nnin pod cambi mund                                  0.000000    0.00000   \nhari nin ejempl                                     0.000000    0.00000   \ngust senal nin dan opinion                          0.000000    0.00000   \n\n                                                       mejor      form  \\\ntitulo                                                                   \nsirv triunf si paz coron lapazhabl                  0.000000  0.000000   \nmejor form mostr form pens sofi                     0.299313  0.799313   \nlosnacionalesxsenal bahi cupic                      0.000000  0.000000   \nlosnacionalesxsenal estudi utech balonman           0.000000  0.000000   \nlosnacionalesxsenal prueb triatlon llen emocion...  0.000000  0.000000   \n...                                                      ...       ...   \nensen pap recicl                                    0.000000  0.000000   \nmunicipi nin paicol cuent                           0.000000  0.000000   \nnin pod cambi mund                                  0.000000  0.000000   \nhari nin ejempl                                     0.000000  0.000000   \ngust senal nin dan opinion                          0.000000  0.000000   \n\n                                                       mostr      pens  ...  \\\ntitulo                                                                  ...   \nsirv triunf si paz coron lapazhabl                  0.000000  0.000000  ...   \nmejor form mostr form pens sofi                     0.449828  0.449828  ...   \nlosnacionalesxsenal bahi cupic                      0.000000  0.000000  ...   \nlosnacionalesxsenal estudi utech balonman           0.000000  0.000000  ...   \nlosnacionalesxsenal prueb triatlon llen emocion...  0.000000  0.000000  ...   \n...                                                      ...       ...  ...   \nensen pap recicl                                    0.000000  0.000000  ...   \nmunicipi nin paicol cuent                           0.000000  0.000000  ...   \nnin pod cambi mund                                  0.000000  0.000000  ...   \nhari nin ejempl                                     0.000000  0.000000  ...   \ngust senal nin dan opinion                          0.000000  0.000000  ...   \n\n                                                    recuerd   90     ensen  \\\ntitulo                                                                       \nsirv triunf si paz coron lapazhabl                      0.0  0.0  0.000000   \nmejor form mostr form pens sofi                         0.0  0.0  0.000000   \nlosnacionalesxsenal bahi cupic                          0.0  0.0  0.000000   \nlosnacionalesxsenal estudi utech balonman               0.0  0.0  0.000000   \nlosnacionalesxsenal prueb triatlon llen emocion...      0.0  0.0  0.000000   \n...                                                     ...  ...       ...   \nensen pap recicl                                        0.0  0.0  0.899657   \nmunicipi nin paicol cuent                               0.0  0.0  0.000000   \nnin pod cambi mund                                      0.0  0.0  0.000000   \nhari nin ejempl                                         0.0  0.0  0.000000   \ngust senal nin dan opinion                              0.0  0.0  0.000000   \n\n                                                      recicl    paicol  \\\ntitulo                                                                   \nsirv triunf si paz coron lapazhabl                  0.000000  0.000000   \nmejor form mostr form pens sofi                     0.000000  0.000000   \nlosnacionalesxsenal bahi cupic                      0.000000  0.000000   \nlosnacionalesxsenal estudi utech balonman           0.000000  0.000000   \nlosnacionalesxsenal prueb triatlon llen emocion...  0.000000  0.000000   \n...                                                      ...       ...   \nensen pap recicl                                    0.899657  0.000000   \nmunicipi nin paicol cuent                           0.000000  0.674743   \nnin pod cambi mund                                  0.000000  0.000000   \nhari nin ejempl                                     0.000000  0.000000   \ngust senal nin dan opinion                          0.000000  0.000000   \n\n                                                         pod     cambi  \\\ntitulo                                                                   \nsirv triunf si paz coron lapazhabl                  0.000000  0.000000   \nmejor form mostr form pens sofi                     0.000000  0.000000   \nlosnacionalesxsenal bahi cupic                      0.000000  0.000000   \nlosnacionalesxsenal estudi utech balonman           0.000000  0.000000   \nlosnacionalesxsenal prueb triatlon llen emocion...  0.000000  0.000000   \n...                                                      ...       ...   \nensen pap recicl                                    0.000000  0.000000   \nmunicipi nin paicol cuent                           0.000000  0.000000   \nnin pod cambi mund                                  0.674743  0.674743   \nhari nin ejempl                                     0.000000  0.000000   \ngust senal nin dan opinion                          0.000000  0.000000   \n\n                                                      ejempl       dan  \\\ntitulo                                                                   \nsirv triunf si paz coron lapazhabl                  0.000000  0.000000   \nmejor form mostr form pens sofi                     0.000000  0.000000   \nlosnacionalesxsenal bahi cupic                      0.000000  0.000000   \nlosnacionalesxsenal estudi utech balonman           0.000000  0.000000   \nlosnacionalesxsenal prueb triatlon llen emocion...  0.000000  0.000000   \n...                                                      ...       ...   \nensen pap recicl                                    0.000000  0.000000   \nmunicipi nin paicol cuent                           0.000000  0.000000   \nnin pod cambi mund                                  0.000000  0.000000   \nhari nin ejempl                                     0.899657  0.000000   \ngust senal nin dan opinion                          0.000000  0.539794   \n\n                                                     opinion  \ntitulo                                                        \nsirv triunf si paz coron lapazhabl                  0.000000  \nmejor form mostr form pens sofi                     0.000000  \nlosnacionalesxsenal bahi cupic                      0.000000  \nlosnacionalesxsenal estudi utech balonman           0.000000  \nlosnacionalesxsenal prueb triatlon llen emocion...  0.000000  \n...                                                      ...  \nensen pap recicl                                    0.000000  \nmunicipi nin paicol cuent                           0.000000  \nnin pod cambi mund                                  0.000000  \nhari nin ejempl                                     0.000000  \ngust senal nin dan opinion                          0.539794  \n\n[1000 rows x 1857 columns]",
      "text/html": "<div>\n<style scoped>\n    .dataframe tbody tr th:only-of-type {\n        vertical-align: middle;\n    }\n\n    .dataframe tbody tr th {\n        vertical-align: top;\n    }\n\n    .dataframe thead th {\n        text-align: right;\n    }\n</style>\n<table border=\"1\" class=\"dataframe\">\n  <thead>\n    <tr style=\"text-align: right;\">\n      <th></th>\n      <th>sirv</th>\n      <th>triunf</th>\n      <th>si</th>\n      <th>paz</th>\n      <th>coron</th>\n      <th>lapazhabl</th>\n      <th>mejor</th>\n      <th>form</th>\n      <th>mostr</th>\n      <th>pens</th>\n      <th>...</th>\n      <th>recuerd</th>\n      <th>90</th>\n      <th>ensen</th>\n      <th>recicl</th>\n      <th>paicol</th>\n      <th>pod</th>\n      <th>cambi</th>\n      <th>ejempl</th>\n      <th>dan</th>\n      <th>opinion</th>\n    </tr>\n    <tr>\n      <th>titulo</th>\n      <th></th>\n      <th></th>\n      <th></th>\n      <th></th>\n      <th></th>\n      <th></th>\n      <th></th>\n      <th></th>\n      <th></th>\n      <th></th>\n      <th></th>\n      <th></th>\n      <th></th>\n      <th></th>\n      <th></th>\n      <th></th>\n      <th></th>\n      <th></th>\n      <th></th>\n      <th></th>\n      <th></th>\n    </tr>\n  </thead>\n  <tbody>\n    <tr>\n      <th>sirv triunf si paz coron lapazhabl</th>\n      <td>0.449828</td>\n      <td>0.383505</td>\n      <td>0.370308</td>\n      <td>0.383505</td>\n      <td>0.449828</td>\n      <td>0.42048</td>\n      <td>0.000000</td>\n      <td>0.000000</td>\n      <td>0.000000</td>\n      <td>0.000000</td>\n      <td>...</td>\n      <td>0.0</td>\n      <td>0.0</td>\n      <td>0.000000</td>\n      <td>0.000000</td>\n      <td>0.000000</td>\n      <td>0.000000</td>\n      <td>0.000000</td>\n      <td>0.000000</td>\n      <td>0.000000</td>\n      <td>0.000000</td>\n    </tr>\n    <tr>\n      <th>mejor form mostr form pens sofi</th>\n      <td>0.000000</td>\n      <td>0.000000</td>\n      <td>0.000000</td>\n      <td>0.000000</td>\n      <td>0.000000</td>\n      <td>0.00000</td>\n      <td>0.299313</td>\n      <td>0.799313</td>\n      <td>0.449828</td>\n      <td>0.449828</td>\n      <td>...</td>\n      <td>0.0</td>\n      <td>0.0</td>\n      <td>0.000000</td>\n      <td>0.000000</td>\n      <td>0.000000</td>\n      <td>0.000000</td>\n      <td>0.000000</td>\n      <td>0.000000</td>\n      <td>0.000000</td>\n      <td>0.000000</td>\n    </tr>\n    <tr>\n      <th>losnacionalesxsenal bahi cupic</th>\n      <td>0.000000</td>\n      <td>0.000000</td>\n      <td>0.000000</td>\n      <td>0.000000</td>\n      <td>0.000000</td>\n      <td>0.00000</td>\n      <td>0.000000</td>\n      <td>0.000000</td>\n      <td>0.000000</td>\n      <td>0.000000</td>\n      <td>...</td>\n      <td>0.0</td>\n      <td>0.0</td>\n      <td>0.000000</td>\n      <td>0.000000</td>\n      <td>0.000000</td>\n      <td>0.000000</td>\n      <td>0.000000</td>\n      <td>0.000000</td>\n      <td>0.000000</td>\n      <td>0.000000</td>\n    </tr>\n    <tr>\n      <th>losnacionalesxsenal estudi utech balonman</th>\n      <td>0.000000</td>\n      <td>0.000000</td>\n      <td>0.000000</td>\n      <td>0.000000</td>\n      <td>0.000000</td>\n      <td>0.00000</td>\n      <td>0.000000</td>\n      <td>0.000000</td>\n      <td>0.000000</td>\n      <td>0.000000</td>\n      <td>...</td>\n      <td>0.0</td>\n      <td>0.0</td>\n      <td>0.000000</td>\n      <td>0.000000</td>\n      <td>0.000000</td>\n      <td>0.000000</td>\n      <td>0.000000</td>\n      <td>0.000000</td>\n      <td>0.000000</td>\n      <td>0.000000</td>\n    </tr>\n    <tr>\n      <th>losnacionalesxsenal prueb triatlon llen emocion municipi prad</th>\n      <td>0.000000</td>\n      <td>0.000000</td>\n      <td>0.000000</td>\n      <td>0.000000</td>\n      <td>0.000000</td>\n      <td>0.00000</td>\n      <td>0.000000</td>\n      <td>0.000000</td>\n      <td>0.000000</td>\n      <td>0.000000</td>\n      <td>...</td>\n      <td>0.0</td>\n      <td>0.0</td>\n      <td>0.000000</td>\n      <td>0.000000</td>\n      <td>0.000000</td>\n      <td>0.000000</td>\n      <td>0.000000</td>\n      <td>0.000000</td>\n      <td>0.000000</td>\n      <td>0.000000</td>\n    </tr>\n    <tr>\n      <th>...</th>\n      <td>...</td>\n      <td>...</td>\n      <td>...</td>\n      <td>...</td>\n      <td>...</td>\n      <td>...</td>\n      <td>...</td>\n      <td>...</td>\n      <td>...</td>\n      <td>...</td>\n      <td>...</td>\n      <td>...</td>\n      <td>...</td>\n      <td>...</td>\n      <td>...</td>\n      <td>...</td>\n      <td>...</td>\n      <td>...</td>\n      <td>...</td>\n      <td>...</td>\n      <td>...</td>\n    </tr>\n    <tr>\n      <th>ensen pap recicl</th>\n      <td>0.000000</td>\n      <td>0.000000</td>\n      <td>0.000000</td>\n      <td>0.000000</td>\n      <td>0.000000</td>\n      <td>0.00000</td>\n      <td>0.000000</td>\n      <td>0.000000</td>\n      <td>0.000000</td>\n      <td>0.000000</td>\n      <td>...</td>\n      <td>0.0</td>\n      <td>0.0</td>\n      <td>0.899657</td>\n      <td>0.899657</td>\n      <td>0.000000</td>\n      <td>0.000000</td>\n      <td>0.000000</td>\n      <td>0.000000</td>\n      <td>0.000000</td>\n      <td>0.000000</td>\n    </tr>\n    <tr>\n      <th>municipi nin paicol cuent</th>\n      <td>0.000000</td>\n      <td>0.000000</td>\n      <td>0.000000</td>\n      <td>0.000000</td>\n      <td>0.000000</td>\n      <td>0.00000</td>\n      <td>0.000000</td>\n      <td>0.000000</td>\n      <td>0.000000</td>\n      <td>0.000000</td>\n      <td>...</td>\n      <td>0.0</td>\n      <td>0.0</td>\n      <td>0.000000</td>\n      <td>0.000000</td>\n      <td>0.674743</td>\n      <td>0.000000</td>\n      <td>0.000000</td>\n      <td>0.000000</td>\n      <td>0.000000</td>\n      <td>0.000000</td>\n    </tr>\n    <tr>\n      <th>nin pod cambi mund</th>\n      <td>0.000000</td>\n      <td>0.000000</td>\n      <td>0.000000</td>\n      <td>0.000000</td>\n      <td>0.000000</td>\n      <td>0.00000</td>\n      <td>0.000000</td>\n      <td>0.000000</td>\n      <td>0.000000</td>\n      <td>0.000000</td>\n      <td>...</td>\n      <td>0.0</td>\n      <td>0.0</td>\n      <td>0.000000</td>\n      <td>0.000000</td>\n      <td>0.000000</td>\n      <td>0.674743</td>\n      <td>0.674743</td>\n      <td>0.000000</td>\n      <td>0.000000</td>\n      <td>0.000000</td>\n    </tr>\n    <tr>\n      <th>hari nin ejempl</th>\n      <td>0.000000</td>\n      <td>0.000000</td>\n      <td>0.000000</td>\n      <td>0.000000</td>\n      <td>0.000000</td>\n      <td>0.00000</td>\n      <td>0.000000</td>\n      <td>0.000000</td>\n      <td>0.000000</td>\n      <td>0.000000</td>\n      <td>...</td>\n      <td>0.0</td>\n      <td>0.0</td>\n      <td>0.000000</td>\n      <td>0.000000</td>\n      <td>0.000000</td>\n      <td>0.000000</td>\n      <td>0.000000</td>\n      <td>0.899657</td>\n      <td>0.000000</td>\n      <td>0.000000</td>\n    </tr>\n    <tr>\n      <th>gust senal nin dan opinion</th>\n      <td>0.000000</td>\n      <td>0.000000</td>\n      <td>0.000000</td>\n      <td>0.000000</td>\n      <td>0.000000</td>\n      <td>0.00000</td>\n      <td>0.000000</td>\n      <td>0.000000</td>\n      <td>0.000000</td>\n      <td>0.000000</td>\n      <td>...</td>\n      <td>0.0</td>\n      <td>0.0</td>\n      <td>0.000000</td>\n      <td>0.000000</td>\n      <td>0.000000</td>\n      <td>0.000000</td>\n      <td>0.000000</td>\n      <td>0.000000</td>\n      <td>0.539794</td>\n      <td>0.539794</td>\n    </tr>\n  </tbody>\n</table>\n<p>1000 rows × 1857 columns</p>\n</div>"
     },
     "execution_count": 36,
     "metadata": {},
     "output_type": "execute_result"
    }
   ],
   "source": [
    "df_matriz_tf_idf"
   ],
   "metadata": {
    "collapsed": false,
    "ExecuteTime": {
     "end_time": "2023-11-05T17:07:34.871054794Z",
     "start_time": "2023-11-05T17:07:34.775191290Z"
    }
   },
   "id": "c6e61d0b3beabaa2"
  },
  {
   "cell_type": "markdown",
   "source": [
    "# Entrenamientos:\n",
    "### Regresion logistica"
   ],
   "metadata": {
    "collapsed": false
   },
   "id": "c3335c9e91ca2795"
  },
  {
   "cell_type": "code",
   "execution_count": 59,
   "outputs": [],
   "source": [
    "from sklearn.feature_extraction.text import CountVectorizer\n",
    "from  sklearn.linear_model import LogisticRegression\n",
    "from sklearn.metrics import accuracy_score, precision_score, recall_score, f1_score"
   ],
   "metadata": {
    "collapsed": false,
    "ExecuteTime": {
     "end_time": "2023-11-05T18:02:12.571053139Z",
     "start_time": "2023-11-05T18:02:12.557360033Z"
    }
   },
   "id": "1cc48acfe3a31735"
  },
  {
   "cell_type": "code",
   "execution_count": 39,
   "outputs": [],
   "source": [
    "count_vect = CountVectorizer(min_df=1, max_df=99000, binary=False, ngram_range=(1,1))\n",
    "count_vect_train = count_vect.fit_transform(df_train)\n",
    "count_vect_test = count_vect.transform(df_test)"
   ],
   "metadata": {
    "collapsed": false,
    "ExecuteTime": {
     "end_time": "2023-11-05T17:17:24.152869135Z",
     "start_time": "2023-11-05T17:17:24.133253552Z"
    }
   },
   "id": "38ce69e5ce65493"
  },
  {
   "cell_type": "code",
   "execution_count": 44,
   "outputs": [],
   "source": [
    "lr = LogisticRegression(penalty=\"l2\", max_iter=500, C=1.0, random_state=42)"
   ],
   "metadata": {
    "collapsed": false,
    "ExecuteTime": {
     "end_time": "2023-11-05T17:35:23.880047944Z",
     "start_time": "2023-11-05T17:35:23.590308839Z"
    }
   },
   "id": "4f5c4c9d804f4624"
  },
  {
   "cell_type": "code",
   "execution_count": 51,
   "outputs": [],
   "source": [
    "model = lr.fit(df_matriz_final.head(800), categoria)"
   ],
   "metadata": {
    "collapsed": false,
    "ExecuteTime": {
     "end_time": "2023-11-05T17:46:29.587449995Z",
     "start_time": "2023-11-05T17:46:28.423093398Z"
    }
   },
   "id": "51a705b45ad034e0"
  },
  {
   "cell_type": "code",
   "execution_count": 56,
   "outputs": [],
   "source": [
    "y_hat = model.predict(df_matriz_final.head(800))"
   ],
   "metadata": {
    "collapsed": false,
    "ExecuteTime": {
     "end_time": "2023-11-05T18:00:21.341167081Z",
     "start_time": "2023-11-05T18:00:21.081497219Z"
    }
   },
   "id": "4800b6ad9c143e29"
  },
  {
   "cell_type": "code",
   "execution_count": 57,
   "outputs": [
    {
     "data": {
      "text/plain": "array(['Película y Animación', 'Película y Animación', 'Deportes',\n       'Deportes', 'Deportes', 'Deportes', 'Deportes', 'Deportes',\n       'Deportes', 'Deportes', 'Deportes', 'Deportes', 'Deportes',\n       'Deportes', 'Deportes', 'Deportes', 'Deportes', 'Deportes',\n       'Deportes', 'Deportes', 'Deportes', 'Deportes', 'Deportes',\n       'Deportes', 'Deportes', 'Gente y Blogs', 'Gente y Blogs',\n       'Gente y Blogs', 'Entretenimiento', 'Entretenimiento',\n       'Entretenimiento', 'Entretenimiento', 'Entretenimiento', 'Otros',\n       'Gente y Blogs', 'Entretenimiento', 'Entretenimiento',\n       'Entretenimiento', 'Entretenimiento', 'Entretenimiento',\n       'Deportes', 'Entretenimiento', 'Entretenimiento',\n       'Entretenimiento', 'Deportes', 'Entretenimiento',\n       'Entretenimiento', 'Entretenimiento', 'Entretenimiento',\n       'Deportes', 'Deportes', 'Entretenimiento', 'Entretenimiento',\n       'Entretenimiento', 'Educación', 'Gente y Blogs', 'Deportes',\n       'Otros', 'Otros', 'Gente y Blogs', 'Entretenimiento', 'Otros',\n       'Deportes', 'Película y Animación', 'Deportes', 'Educación',\n       'Película y Animación', 'Deportes', 'Película y Animación',\n       'Película y Animación', 'Película y Animación', 'Deportes',\n       'Deportes', 'Deportes', 'Deportes', 'Película y Animación',\n       'Entretenimiento', 'Educación', 'Educación', 'Educación',\n       'Educación', 'Educación', 'Educación', 'Película y Animación',\n       'Deportes', 'Educación', 'Deportes', 'Deportes', 'Gente y Blogs',\n       'Gente y Blogs', 'Entretenimiento', 'Educación', 'Educación',\n       'Entretenimiento', 'Educación', 'Película y Animación',\n       'Entretenimiento', 'Película y Animación', 'Gente y Blogs',\n       'Gente y Blogs', 'Entretenimiento', 'Entretenimiento',\n       'Entretenimiento', 'Entretenimiento', 'Entretenimiento',\n       'Entretenimiento', 'Entretenimiento', 'Película y Animación',\n       'Educación', 'Deportes', 'Entretenimiento', 'Deportes',\n       'Entretenimiento', 'Película y Animación', 'Deportes', 'Deportes',\n       'Deportes', 'Entretenimiento', 'Película y Animación',\n       'Película y Animación', 'Entretenimiento', 'Educación',\n       'Película y Animación', 'Película y Animación', 'Educación',\n       'Educación', 'Película y Animación', 'Gente y Blogs',\n       'Gente y Blogs', 'Entretenimiento', 'Entretenimiento',\n       'Entretenimiento', 'Película y Animación', 'Película y Animación',\n       'Película y Animación', 'Película y Animación',\n       'Película y Animación', 'Deportes', 'Entretenimiento',\n       'Película y Animación', 'Educación', 'Deportes', 'Deportes',\n       'Entretenimiento', 'Película y Animación', 'Película y Animación',\n       'Película y Animación', 'Película y Animación',\n       'Película y Animación', 'Película y Animación',\n       'Película y Animación', 'Película y Animación',\n       'Película y Animación', 'Deportes', 'Película y Animación',\n       'Educación', 'Educación', 'Deportes', 'Entretenimiento',\n       'Película y Animación', 'Deportes', 'Película y Animación',\n       'Película y Animación', 'Entretenimiento', 'Deportes', 'Deportes',\n       'Deportes', 'Deportes', 'Entretenimiento', 'Entretenimiento',\n       'Película y Animación', 'Película y Animación',\n       'Película y Animación', 'Película y Animación',\n       'Película y Animación', 'Película y Animación',\n       'Película y Animación', 'Película y Animación',\n       'Película y Animación', 'Película y Animación',\n       'Película y Animación', 'Película y Animación',\n       'Película y Animación', 'Película y Animación',\n       'Película y Animación', 'Película y Animación',\n       'Película y Animación', 'Película y Animación',\n       'Película y Animación', 'Película y Animación',\n       'Película y Animación', 'Película y Animación',\n       'Película y Animación', 'Entretenimiento', 'Película y Animación',\n       'Película y Animación', 'Película y Animación',\n       'Película y Animación', 'Película y Animación', 'Deportes',\n       'Entretenimiento', 'Deportes', 'Otros', 'Otros', 'Deportes',\n       'Película y Animación', 'Deportes', 'Película y Animación',\n       'Deportes', 'Deportes', 'Deportes', 'Deportes', 'Deportes',\n       'Deportes', 'Deportes', 'Deportes', 'Otros', 'Otros', 'Otros',\n       'Otros', 'Entretenimiento', 'Película y Animación',\n       'Película y Animación', 'Gente y Blogs', 'Película y Animación',\n       'Película y Animación', 'Película y Animación', 'Otros',\n       'Entretenimiento', 'Película y Animación', 'Entretenimiento',\n       'Entretenimiento', 'Entretenimiento', 'Entretenimiento',\n       'Entretenimiento', 'Entretenimiento', 'Entretenimiento',\n       'Entretenimiento', 'Deportes', 'Deportes', 'Entretenimiento',\n       'Entretenimiento', 'Entretenimiento', 'Deportes',\n       'Entretenimiento', 'Entretenimiento', 'Película y Animación',\n       'Entretenimiento', 'Película y Animación', 'Película y Animación',\n       'Gente y Blogs', 'Gente y Blogs', 'Deportes', 'Deportes',\n       'Película y Animación', 'Película y Animación',\n       'Película y Animación', 'Película y Animación', 'Entretenimiento',\n       'Deportes', 'Película y Animación', 'Película y Animación',\n       'Película y Animación', 'Deportes', 'Deportes', 'Deportes',\n       'Deportes', 'Deportes', 'Deportes', 'Película y Animación',\n       'Entretenimiento', 'Otros', 'Otros', 'Película y Animación',\n       'Película y Animación', 'Educación', 'Entretenimiento',\n       'Entretenimiento', 'Película y Animación', 'Entretenimiento',\n       'Deportes', 'Deportes', 'Película y Animación', 'Deportes',\n       'Deportes', 'Deportes', 'Deportes', 'Deportes', 'Deportes',\n       'Deportes', 'Deportes', 'Película y Animación',\n       'Película y Animación', 'Deportes', 'Película y Animación',\n       'Película y Animación', 'Película y Animación',\n       'Película y Animación', 'Deportes', 'Entretenimiento', 'Educación',\n       'Entretenimiento', 'Educación', 'Otros', 'Otros', 'Educación',\n       'Educación', 'Educación', 'Educación', 'Educación', 'Deportes',\n       'Deportes', 'Deportes', 'Entretenimiento', 'Entretenimiento',\n       'Otros', 'Entretenimiento', 'Entretenimiento', 'Entretenimiento',\n       'Entretenimiento', 'Entretenimiento', 'Entretenimiento',\n       'Entretenimiento', 'Entretenimiento', 'Entretenimiento',\n       'Entretenimiento', 'Deportes', 'Deportes', 'Deportes',\n       'Entretenimiento', 'Entretenimiento', 'Entretenimiento',\n       'Entretenimiento', 'Entretenimiento', 'Entretenimiento',\n       'Entretenimiento', 'Entretenimiento', 'Deportes',\n       'Película y Animación', 'Gente y Blogs', 'Gente y Blogs',\n       'Gente y Blogs', 'Gente y Blogs', 'Educación', 'Entretenimiento',\n       'Gente y Blogs', 'Educación', 'Educación', 'Educación',\n       'Educación', 'Educación', 'Educación', 'Educación', 'Educación',\n       'Educación', 'Educación', 'Educación', 'Educación', 'Educación',\n       'Educación', 'Deportes', 'Entretenimiento', 'Deportes',\n       'Película y Animación', 'Entretenimiento', 'Deportes',\n       'Película y Animación', 'Entretenimiento', 'Película y Animación',\n       'Gente y Blogs', 'Otros', 'Película y Animación',\n       'Película y Animación', 'Entretenimiento', 'Película y Animación',\n       'Deportes', 'Deportes', 'Deportes', 'Educación', 'Entretenimiento',\n       'Película y Animación', 'Película y Animación',\n       'Película y Animación', 'Película y Animación',\n       'Película y Animación', 'Película y Animación', 'Deportes',\n       'Película y Animación', 'Película y Animación',\n       'Película y Animación', 'Película y Animación',\n       'Película y Animación', 'Película y Animación',\n       'Película y Animación', 'Película y Animación',\n       'Película y Animación', 'Película y Animación',\n       'Película y Animación', 'Película y Animación',\n       'Película y Animación', 'Película y Animación',\n       'Película y Animación', 'Película y Animación', 'Deportes',\n       'Deportes', 'Deportes', 'Entretenimiento', 'Otros', 'Deportes',\n       'Deportes', 'Deportes', 'Deportes', 'Deportes', 'Deportes',\n       'Deportes', 'Deportes', 'Deportes', 'Película y Animación',\n       'Gente y Blogs', 'Entretenimiento', 'Entretenimiento',\n       'Entretenimiento', 'Entretenimiento', 'Entretenimiento',\n       'Educación', 'Deportes', 'Deportes', 'Deportes', 'Educación',\n       'Educación', 'Película y Animación', 'Entretenimiento',\n       'Entretenimiento', 'Película y Animación', 'Película y Animación',\n       'Deportes', 'Deportes', 'Deportes', 'Película y Animación',\n       'Película y Animación', 'Película y Animación',\n       'Película y Animación', 'Educación', 'Deportes', 'Deportes',\n       'Deportes', 'Educación', 'Película y Animación',\n       'Película y Animación', 'Película y Animación',\n       'Película y Animación', 'Película y Animación',\n       'Película y Animación', 'Película y Animación', 'Entretenimiento',\n       'Película y Animación', 'Gente y Blogs', 'Gente y Blogs',\n       'Gente y Blogs', 'Película y Animación', 'Película y Animación',\n       'Educación', 'Educación', 'Educación', 'Película y Animación',\n       'Educación', 'Película y Animación', 'Entretenimiento',\n       'Película y Animación', 'Educación', 'Educación', 'Deportes',\n       'Deportes', 'Educación', 'Deportes', 'Entretenimiento',\n       'Entretenimiento', 'Deportes', 'Deportes', 'Deportes',\n       'Película y Animación', 'Película y Animación',\n       'Película y Animación', 'Película y Animación',\n       'Película y Animación', 'Película y Animación',\n       'Película y Animación', 'Película y Animación',\n       'Película y Animación', 'Película y Animación', 'Educación',\n       'Deportes', 'Educación', 'Entretenimiento', 'Deportes', 'Deportes',\n       'Entretenimiento', 'Película y Animación', 'Película y Animación',\n       'Deportes', 'Deportes', 'Deportes', 'Película y Animación',\n       'Deportes', 'Deportes', 'Deportes', 'Deportes', 'Deportes',\n       'Deportes', 'Deportes', 'Deportes', 'Deportes', 'Entretenimiento',\n       'Entretenimiento', 'Entretenimiento', 'Entretenimiento',\n       'Entretenimiento', 'Entretenimiento', 'Entretenimiento',\n       'Entretenimiento', 'Entretenimiento', 'Otros', 'Entretenimiento',\n       'Entretenimiento', 'Película y Animación', 'Otros', 'Deportes',\n       'Deportes', 'Deportes', 'Deportes', 'Deportes', 'Deportes',\n       'Deportes', 'Deportes', 'Deportes', 'Deportes', 'Deportes',\n       'Deportes', 'Deportes', 'Deportes', 'Deportes', 'Deportes',\n       'Deportes', 'Deportes', 'Deportes', 'Deportes', 'Deportes',\n       'Deportes', 'Deportes', 'Deportes', 'Deportes', 'Deportes',\n       'Deportes', 'Deportes', 'Deportes', 'Deportes', 'Deportes',\n       'Deportes', 'Entretenimiento', 'Entretenimiento',\n       'Película y Animación', 'Entretenimiento', 'Entretenimiento',\n       'Entretenimiento', 'Entretenimiento', 'Entretenimiento',\n       'Entretenimiento', 'Educación', 'Educación', 'Entretenimiento',\n       'Entretenimiento', 'Entretenimiento', 'Entretenimiento',\n       'Entretenimiento', 'Entretenimiento', 'Entretenimiento',\n       'Entretenimiento', 'Entretenimiento', 'Entretenimiento',\n       'Entretenimiento', 'Entretenimiento', 'Entretenimiento',\n       'Entretenimiento', 'Entretenimiento', 'Entretenimiento',\n       'Entretenimiento', 'Entretenimiento', 'Entretenimiento',\n       'Entretenimiento', 'Entretenimiento', 'Entretenimiento',\n       'Entretenimiento', 'Entretenimiento', 'Entretenimiento',\n       'Entretenimiento', 'Entretenimiento', 'Educación',\n       'Entretenimiento', 'Entretenimiento', 'Entretenimiento',\n       'Educación', 'Educación', 'Educación', 'Entretenimiento',\n       'Entretenimiento', 'Entretenimiento', 'Entretenimiento',\n       'Entretenimiento', 'Entretenimiento', 'Película y Animación',\n       'Entretenimiento', 'Educación', 'Entretenimiento',\n       'Entretenimiento', 'Entretenimiento', 'Película y Animación',\n       'Película y Animación', 'Película y Animación', 'Entretenimiento',\n       'Entretenimiento', 'Entretenimiento', 'Entretenimiento',\n       'Película y Animación', 'Entretenimiento', 'Deportes',\n       'Entretenimiento', 'Película y Animación', 'Entretenimiento',\n       'Entretenimiento', 'Entretenimiento', 'Entretenimiento',\n       'Entretenimiento', 'Película y Animación', 'Entretenimiento',\n       'Película y Animación', 'Entretenimiento', 'Entretenimiento',\n       'Entretenimiento', 'Entretenimiento', 'Entretenimiento',\n       'Entretenimiento', 'Película y Animación', 'Entretenimiento',\n       'Entretenimiento', 'Entretenimiento', 'Entretenimiento',\n       'Entretenimiento', 'Educación', 'Entretenimiento',\n       'Entretenimiento', 'Entretenimiento', 'Entretenimiento',\n       'Entretenimiento', 'Entretenimiento', 'Entretenimiento',\n       'Entretenimiento', 'Entretenimiento', 'Entretenimiento',\n       'Entretenimiento', 'Entretenimiento', 'Entretenimiento',\n       'Entretenimiento', 'Entretenimiento', 'Entretenimiento',\n       'Entretenimiento', 'Entretenimiento', 'Entretenimiento',\n       'Entretenimiento', 'Entretenimiento', 'Entretenimiento',\n       'Entretenimiento', 'Entretenimiento', 'Entretenimiento',\n       'Entretenimiento', 'Entretenimiento', 'Entretenimiento',\n       'Entretenimiento', 'Entretenimiento', 'Entretenimiento',\n       'Entretenimiento', 'Entretenimiento', 'Entretenimiento',\n       'Entretenimiento', 'Entretenimiento', 'Entretenimiento',\n       'Entretenimiento', 'Entretenimiento', 'Entretenimiento',\n       'Entretenimiento', 'Entretenimiento', 'Entretenimiento',\n       'Entretenimiento', 'Deportes', 'Entretenimiento',\n       'Entretenimiento', 'Entretenimiento', 'Entretenimiento',\n       'Entretenimiento', 'Entretenimiento', 'Entretenimiento',\n       'Entretenimiento', 'Entretenimiento', 'Entretenimiento',\n       'Entretenimiento', 'Entretenimiento', 'Entretenimiento',\n       'Entretenimiento', 'Película y Animación', 'Educación',\n       'Entretenimiento', 'Educación', 'Entretenimiento', 'Educación',\n       'Entretenimiento', 'Entretenimiento', 'Educación', 'Educación',\n       'Educación', 'Entretenimiento', 'Entretenimiento',\n       'Entretenimiento', 'Educación', 'Entretenimiento',\n       'Entretenimiento', 'Entretenimiento', 'Entretenimiento',\n       'Entretenimiento', 'Entretenimiento', 'Entretenimiento',\n       'Entretenimiento', 'Entretenimiento', 'Entretenimiento',\n       'Entretenimiento', 'Entretenimiento', 'Entretenimiento',\n       'Entretenimiento', 'Entretenimiento', 'Entretenimiento',\n       'Entretenimiento', 'Entretenimiento', 'Película y Animación',\n       'Deportes', 'Deportes', 'Deportes', 'Entretenimiento',\n       'Entretenimiento', 'Película y Animación', 'Otros',\n       'Película y Animación', 'Película y Animación',\n       'Película y Animación', 'Deportes', 'Deportes', 'Entretenimiento',\n       'Película y Animación', 'Entretenimiento', 'Entretenimiento',\n       'Entretenimiento', 'Película y Animación', 'Entretenimiento',\n       'Entretenimiento', 'Película y Animación', 'Deportes',\n       'Entretenimiento', 'Entretenimiento', 'Deportes', 'Deportes',\n       'Deportes', 'Deportes', 'Deportes', 'Deportes', 'Gente y Blogs',\n       'Educación', 'Educación', 'Película y Animación', 'Educación',\n       'Película y Animación', 'Educación', 'Educación', 'Educación',\n       'Educación', 'Entretenimiento', 'Entretenimiento',\n       'Película y Animación', 'Película y Animación',\n       'Película y Animación', 'Película y Animación',\n       'Película y Animación', 'Entretenimiento', 'Película y Animación',\n       'Película y Animación', 'Película y Animación',\n       'Película y Animación', 'Entretenimiento', 'Película y Animación',\n       'Entretenimiento', 'Película y Animación', 'Película y Animación',\n       'Deportes', 'Deportes'], dtype=object)"
     },
     "execution_count": 57,
     "metadata": {},
     "output_type": "execute_result"
    }
   ],
   "source": [
    "y_hat"
   ],
   "metadata": {
    "collapsed": false,
    "ExecuteTime": {
     "end_time": "2023-11-05T18:00:29.011536858Z",
     "start_time": "2023-11-05T18:00:28.991438222Z"
    }
   },
   "id": "20a216745b0c469e"
  },
  {
   "cell_type": "markdown",
   "source": [
    "Evaluemos las metricas sobre los mismos datos que estamos entrenando"
   ],
   "metadata": {
    "collapsed": false
   },
   "id": "7346716fa9770d0"
  },
  {
   "cell_type": "code",
   "execution_count": 64,
   "outputs": [
    {
     "name": "stdout",
     "output_type": "stream",
     "text": [
      "Exactitud: 0.86625\n"
     ]
    }
   ],
   "source": [
    "print(f'Exactitud: {accuracy_score(categoria,y_hat)}')"
   ],
   "metadata": {
    "collapsed": false,
    "ExecuteTime": {
     "end_time": "2023-11-05T18:04:30.756678585Z",
     "start_time": "2023-11-05T18:04:30.686380127Z"
    }
   },
   "id": "c179cfb727bdc48a"
  },
  {
   "cell_type": "markdown",
   "source": [
    "### Random Forest"
   ],
   "metadata": {
    "collapsed": false
   },
   "id": "7cde85ba606fcd61"
  },
  {
   "cell_type": "markdown",
   "source": [
    "### LSTM"
   ],
   "metadata": {
    "collapsed": false
   },
   "id": "3e7bdb2a32c7e714"
  }
 ],
 "metadata": {
  "kernelspec": {
   "display_name": "Python 3",
   "language": "python",
   "name": "python3"
  },
  "language_info": {
   "codemirror_mode": {
    "name": "ipython",
    "version": 2
   },
   "file_extension": ".py",
   "mimetype": "text/x-python",
   "name": "python",
   "nbconvert_exporter": "python",
   "pygments_lexer": "ipython2",
   "version": "2.7.6"
  }
 },
 "nbformat": 4,
 "nbformat_minor": 5
}
