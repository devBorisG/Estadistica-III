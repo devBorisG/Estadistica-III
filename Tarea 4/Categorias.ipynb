{
 "cells": [
  {
   "cell_type": "code",
   "execution_count": 8,
   "outputs": [
    {
     "name": "stdout",
     "output_type": "stream",
     "text": [
      "Collecting unidecode\r\n",
      "  Obtaining dependency information for unidecode from https://files.pythonhosted.org/packages/e4/63/7685ef40c65aba621ccd2524a24181bf11f0535ab1fdba47e40738eacff6/Unidecode-1.3.7-py3-none-any.whl.metadata\r\n",
      "  Downloading Unidecode-1.3.7-py3-none-any.whl.metadata (13 kB)\r\n",
      "Downloading Unidecode-1.3.7-py3-none-any.whl (235 kB)\r\n",
      "\u001B[2K   \u001B[90m━━━━━━━━━━━━━━━━━━━━━━━━━━━━━━━━━━━━━━━━\u001B[0m \u001B[32m235.5/235.5 kB\u001B[0m \u001B[31m2.8 MB/s\u001B[0m eta \u001B[36m0:00:00\u001B[0ma \u001B[36m0:00:01\u001B[0m\r\n",
      "\u001B[?25hInstalling collected packages: unidecode\r\n",
      "Successfully installed unidecode-1.3.7\r\n",
      "\r\n",
      "\u001B[1m[\u001B[0m\u001B[34;49mnotice\u001B[0m\u001B[1;39;49m]\u001B[0m\u001B[39;49m A new release of pip is available: \u001B[0m\u001B[31;49m23.2.1\u001B[0m\u001B[39;49m -> \u001B[0m\u001B[32;49m23.3.1\u001B[0m\r\n",
      "\u001B[1m[\u001B[0m\u001B[34;49mnotice\u001B[0m\u001B[1;39;49m]\u001B[0m\u001B[39;49m To update, run: \u001B[0m\u001B[32;49mpip install --upgrade pip\u001B[0m\r\n"
     ]
    }
   ],
   "source": [
    "!pip install unidecode"
   ],
   "metadata": {
    "collapsed": false,
    "ExecuteTime": {
     "end_time": "2023-10-31T21:42:50.950861524Z",
     "start_time": "2023-10-31T21:42:46.950646673Z"
    }
   },
   "id": "593f0afdb64257df"
  },
  {
   "cell_type": "code",
   "execution_count": 11,
   "outputs": [],
   "source": [
    "import pandas as pd\n",
    "from unidecode import unidecode"
   ],
   "metadata": {
    "collapsed": false,
    "ExecuteTime": {
     "end_time": "2023-10-31T21:44:21.106485644Z",
     "start_time": "2023-10-31T21:44:21.091953230Z"
    }
   },
   "id": "initial_id"
  },
  {
   "cell_type": "code",
   "execution_count": 2,
   "outputs": [],
   "source": [
    "df = pd.read_csv(\"./data/categories/train.csv\")\n",
    "index = df['index']\n",
    "titulo = df['titulo']\n",
    "categoria = df['categoria']"
   ],
   "metadata": {
    "collapsed": false,
    "ExecuteTime": {
     "end_time": "2023-10-31T21:34:53.819828063Z",
     "start_time": "2023-10-31T21:34:53.787655276Z"
    }
   },
   "id": "27a0df0062972549"
  },
  {
   "cell_type": "code",
   "execution_count": 3,
   "outputs": [
    {
     "data": {
      "text/plain": "   index                                             titulo  \\\n0    610  \"De nada sirven los triunfos si la paz no los ...   \n1    819  \"Hay mejores formas para uno mostrar su forma ...   \n2    637                #LosNacionalesXSeñal - Bahía Cupica   \n3    740  #LosNacionalesXSeñal - Estudiantes Utech balon...   \n4    160  #LosNacionalesXSeñal - Las pruebas de triatlón...   \n5    101  #LosNacionalesXSeñal - María Elena Hurtado, la...   \n6    405           #LosNacionalesXSeñal - Niños voley playa   \n7    681          #LosNacionalesXSeñal - ¡Hicimos historia!   \n8    428  #PedaleoPor: Ariel Molina envía un saludo a lo...   \n9     13  #PedaleoPor: Ariel Molina envía un saludo a lo...   \n\n              categoria  \n0  Película y Animación  \n1  Película y Animación  \n2              Deportes  \n3              Deportes  \n4              Deportes  \n5              Deportes  \n6              Deportes  \n7              Deportes  \n8              Deportes  \n9              Deportes  ",
      "text/html": "<div>\n<style scoped>\n    .dataframe tbody tr th:only-of-type {\n        vertical-align: middle;\n    }\n\n    .dataframe tbody tr th {\n        vertical-align: top;\n    }\n\n    .dataframe thead th {\n        text-align: right;\n    }\n</style>\n<table border=\"1\" class=\"dataframe\">\n  <thead>\n    <tr style=\"text-align: right;\">\n      <th></th>\n      <th>index</th>\n      <th>titulo</th>\n      <th>categoria</th>\n    </tr>\n  </thead>\n  <tbody>\n    <tr>\n      <th>0</th>\n      <td>610</td>\n      <td>\"De nada sirven los triunfos si la paz no los ...</td>\n      <td>Película y Animación</td>\n    </tr>\n    <tr>\n      <th>1</th>\n      <td>819</td>\n      <td>\"Hay mejores formas para uno mostrar su forma ...</td>\n      <td>Película y Animación</td>\n    </tr>\n    <tr>\n      <th>2</th>\n      <td>637</td>\n      <td>#LosNacionalesXSeñal - Bahía Cupica</td>\n      <td>Deportes</td>\n    </tr>\n    <tr>\n      <th>3</th>\n      <td>740</td>\n      <td>#LosNacionalesXSeñal - Estudiantes Utech balon...</td>\n      <td>Deportes</td>\n    </tr>\n    <tr>\n      <th>4</th>\n      <td>160</td>\n      <td>#LosNacionalesXSeñal - Las pruebas de triatlón...</td>\n      <td>Deportes</td>\n    </tr>\n    <tr>\n      <th>5</th>\n      <td>101</td>\n      <td>#LosNacionalesXSeñal - María Elena Hurtado, la...</td>\n      <td>Deportes</td>\n    </tr>\n    <tr>\n      <th>6</th>\n      <td>405</td>\n      <td>#LosNacionalesXSeñal - Niños voley playa</td>\n      <td>Deportes</td>\n    </tr>\n    <tr>\n      <th>7</th>\n      <td>681</td>\n      <td>#LosNacionalesXSeñal - ¡Hicimos historia!</td>\n      <td>Deportes</td>\n    </tr>\n    <tr>\n      <th>8</th>\n      <td>428</td>\n      <td>#PedaleoPor: Ariel Molina envía un saludo a lo...</td>\n      <td>Deportes</td>\n    </tr>\n    <tr>\n      <th>9</th>\n      <td>13</td>\n      <td>#PedaleoPor: Ariel Molina envía un saludo a lo...</td>\n      <td>Deportes</td>\n    </tr>\n  </tbody>\n</table>\n</div>"
     },
     "execution_count": 3,
     "metadata": {},
     "output_type": "execute_result"
    }
   ],
   "source": [
    "df.head(10)"
   ],
   "metadata": {
    "collapsed": false,
    "ExecuteTime": {
     "end_time": "2023-10-31T21:35:05.568842984Z",
     "start_time": "2023-10-31T21:35:05.532302383Z"
    }
   },
   "id": "3fc290c6b43ed33"
  },
  {
   "cell_type": "code",
   "execution_count": 4,
   "outputs": [
    {
     "data": {
      "text/plain": "0     \"De nada sirven los triunfos si la paz no los ...\n1     \"Hay mejores formas para uno mostrar su forma ...\n2                   #LosNacionalesXSeñal - Bahía Cupica\n3     #LosNacionalesXSeñal - Estudiantes Utech balon...\n4     #LosNacionalesXSeñal - Las pruebas de triatlón...\n5     #LosNacionalesXSeñal - María Elena Hurtado, la...\n6              #LosNacionalesXSeñal - Niños voley playa\n7             #LosNacionalesXSeñal - ¡Hicimos historia!\n8     #PedaleoPor: Ariel Molina envía un saludo a lo...\n9     #PedaleoPor: Ariel Molina envía un saludo a lo...\n10    #PedaleoPor: Dagoberto López envía un saludo a...\n11    #PedaleoPor: Esteban Kekessy envía un saludo a...\n12    #PedaleoPor: Henry García envía un saludo a lo...\n13    #PedaleoPor: James Guevara envía un saludo a l...\n14    #PedaleoPor: Javier Cruz envía un saludo a los...\n15    #PedaleoPor: Javier Rodríguez envía un saludo ...\n16    #PedaleoPor: Jonathan Devía envía un saludo a ...\n17    #PedaleoPor: Jorge Merchán envía un saludo a l...\n18    #PedaleoPor: Jorge envía un saludo a los escar...\n19    #PedaleoPor: Jorge envía un saludo a los escar...\nName: titulo, dtype: object"
     },
     "execution_count": 4,
     "metadata": {},
     "output_type": "execute_result"
    }
   ],
   "source": [
    "titulo.head(20)"
   ],
   "metadata": {
    "collapsed": false,
    "ExecuteTime": {
     "end_time": "2023-10-31T21:39:29.026565420Z",
     "start_time": "2023-10-31T21:39:28.963957076Z"
    }
   },
   "id": "d4be78d211a1fd5e"
  },
  {
   "cell_type": "code",
   "execution_count": 6,
   "outputs": [],
   "source": [
    "titulo = titulo.str.lower()"
   ],
   "metadata": {
    "collapsed": false,
    "ExecuteTime": {
     "end_time": "2023-10-31T21:41:40.019172946Z",
     "start_time": "2023-10-31T21:41:39.974923688Z"
    }
   },
   "id": "26d592f76c34fd79"
  },
  {
   "cell_type": "code",
   "execution_count": 7,
   "outputs": [
    {
     "data": {
      "text/plain": "0     \"de nada sirven los triunfos si la paz no los ...\n1     \"hay mejores formas para uno mostrar su forma ...\n2                   #losnacionalesxseñal - bahía cupica\n3     #losnacionalesxseñal - estudiantes utech balon...\n4     #losnacionalesxseñal - las pruebas de triatlón...\n5     #losnacionalesxseñal - maría elena hurtado, la...\n6              #losnacionalesxseñal - niños voley playa\n7             #losnacionalesxseñal - ¡hicimos historia!\n8     #pedaleopor: ariel molina envía un saludo a lo...\n9     #pedaleopor: ariel molina envía un saludo a lo...\n10    #pedaleopor: dagoberto lópez envía un saludo a...\n11    #pedaleopor: esteban kekessy envía un saludo a...\n12    #pedaleopor: henry garcía envía un saludo a lo...\n13    #pedaleopor: james guevara envía un saludo a l...\n14    #pedaleopor: javier cruz envía un saludo a los...\n15    #pedaleopor: javier rodríguez envía un saludo ...\n16    #pedaleopor: jonathan devía envía un saludo a ...\n17    #pedaleopor: jorge merchán envía un saludo a l...\n18    #pedaleopor: jorge envía un saludo a los escar...\n19    #pedaleopor: jorge envía un saludo a los escar...\nName: titulo, dtype: object"
     },
     "execution_count": 7,
     "metadata": {},
     "output_type": "execute_result"
    }
   ],
   "source": [
    "titulo.head(20)"
   ],
   "metadata": {
    "collapsed": false,
    "ExecuteTime": {
     "end_time": "2023-10-31T21:41:46.501822004Z",
     "start_time": "2023-10-31T21:41:46.471656295Z"
    }
   },
   "id": "6ad9aea0be7810b6"
  },
  {
   "cell_type": "code",
   "execution_count": 12,
   "outputs": [],
   "source": [
    "titulo = titulo.apply(unidecode)"
   ],
   "metadata": {
    "collapsed": false,
    "ExecuteTime": {
     "end_time": "2023-10-31T21:44:23.926164659Z",
     "start_time": "2023-10-31T21:44:23.877615301Z"
    }
   },
   "id": "d1b37853508b8c66"
  },
  {
   "cell_type": "code",
   "execution_count": 13,
   "outputs": [
    {
     "data": {
      "text/plain": "0     \"de nada sirven los triunfos si la paz no los ...\n1     \"hay mejores formas para uno mostrar su forma ...\n2                   #losnacionalesxsenal - bahia cupica\n3     #losnacionalesxsenal - estudiantes utech balon...\n4     #losnacionalesxsenal - las pruebas de triatlon...\n5     #losnacionalesxsenal - maria elena hurtado, la...\n6              #losnacionalesxsenal - ninos voley playa\n7             #losnacionalesxsenal - !hicimos historia!\n8     #pedaleopor: ariel molina envia un saludo a lo...\n9     #pedaleopor: ariel molina envia un saludo a lo...\n10    #pedaleopor: dagoberto lopez envia un saludo a...\n11    #pedaleopor: esteban kekessy envia un saludo a...\n12    #pedaleopor: henry garcia envia un saludo a lo...\n13    #pedaleopor: james guevara envia un saludo a l...\n14    #pedaleopor: javier cruz envia un saludo a los...\n15    #pedaleopor: javier rodriguez envia un saludo ...\n16    #pedaleopor: jonathan devia envia un saludo a ...\n17    #pedaleopor: jorge merchan envia un saludo a l...\n18    #pedaleopor: jorge envia un saludo a los escar...\n19    #pedaleopor: jorge envia un saludo a los escar...\nName: titulo, dtype: object"
     },
     "execution_count": 13,
     "metadata": {},
     "output_type": "execute_result"
    }
   ],
   "source": [
    "titulo.head(20)"
   ],
   "metadata": {
    "collapsed": false,
    "ExecuteTime": {
     "end_time": "2023-10-31T21:44:37.144307313Z",
     "start_time": "2023-10-31T21:44:37.120960568Z"
    }
   },
   "id": "e800e10a7222be1f"
  },
  {
   "cell_type": "code",
   "execution_count": null,
   "outputs": [],
   "source": [],
   "metadata": {
    "collapsed": false
   },
   "id": "e70bd33d818b4fe0"
  }
 ],
 "metadata": {
  "kernelspec": {
   "display_name": "Python 3",
   "language": "python",
   "name": "python3"
  },
  "language_info": {
   "codemirror_mode": {
    "name": "ipython",
    "version": 2
   },
   "file_extension": ".py",
   "mimetype": "text/x-python",
   "name": "python",
   "nbconvert_exporter": "python",
   "pygments_lexer": "ipython2",
   "version": "2.7.6"
  }
 },
 "nbformat": 4,
 "nbformat_minor": 5
}
