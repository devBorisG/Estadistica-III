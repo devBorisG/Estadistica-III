{
 "cells": [
  {
   "cell_type": "code",
   "execution_count": 159,
   "outputs": [
    {
     "name": "stdout",
     "output_type": "stream",
     "text": [
      "Requirement already satisfied: unidecode in /home/boris/Documentos/GitHub/Estadistica-III/venv/lib/python3.10/site-packages (1.3.7)\r\n",
      "\r\n",
      "\u001B[1m[\u001B[0m\u001B[34;49mnotice\u001B[0m\u001B[1;39;49m]\u001B[0m\u001B[39;49m A new release of pip is available: \u001B[0m\u001B[31;49m23.2.1\u001B[0m\u001B[39;49m -> \u001B[0m\u001B[32;49m23.3.1\u001B[0m\r\n",
      "\u001B[1m[\u001B[0m\u001B[34;49mnotice\u001B[0m\u001B[1;39;49m]\u001B[0m\u001B[39;49m To update, run: \u001B[0m\u001B[32;49mpip install --upgrade pip\u001B[0m\r\n"
     ]
    }
   ],
   "source": [
    "!pip install unidecode"
   ],
   "metadata": {
    "collapsed": false,
    "ExecuteTime": {
     "end_time": "2023-11-04T19:20:13.907062271Z",
     "start_time": "2023-11-04T19:20:11.193807427Z"
    }
   },
   "id": "593f0afdb64257df"
  },
  {
   "cell_type": "code",
   "execution_count": 160,
   "outputs": [],
   "source": [
    "import pandas as pd\n",
    "from unidecode import unidecode\n",
    "import re"
   ],
   "metadata": {
    "collapsed": false,
    "ExecuteTime": {
     "end_time": "2023-11-04T19:20:13.924826428Z",
     "start_time": "2023-11-04T19:20:13.913981945Z"
    }
   },
   "id": "initial_id"
  },
  {
   "cell_type": "code",
   "execution_count": 161,
   "outputs": [],
   "source": [
    "df_train = pd.read_csv(\"./data/categories/train.csv\")\n",
    "df_test = pd.read_csv(\"./data/categories/test.csv\")\n",
    "df_complete = pd.concat([df_train,df_test])\n",
    "index = df_complete['index']\n",
    "titulo = df_complete['titulo']\n",
    "categoria = df_complete['categoria']"
   ],
   "metadata": {
    "collapsed": false,
    "ExecuteTime": {
     "end_time": "2023-11-04T19:20:14.011432222Z",
     "start_time": "2023-11-04T19:20:13.924392774Z"
    }
   },
   "id": "27a0df0062972549"
  },
  {
   "cell_type": "code",
   "execution_count": 162,
   "outputs": [
    {
     "data": {
      "text/plain": "   index                                             titulo  \\\n0    610  \"De nada sirven los triunfos si la paz no los ...   \n1    819  \"Hay mejores formas para uno mostrar su forma ...   \n2    637                #LosNacionalesXSeñal - Bahía Cupica   \n3    740  #LosNacionalesXSeñal - Estudiantes Utech balon...   \n4    160  #LosNacionalesXSeñal - Las pruebas de triatlón...   \n5    101  #LosNacionalesXSeñal - María Elena Hurtado, la...   \n6    405           #LosNacionalesXSeñal - Niños voley playa   \n7    681          #LosNacionalesXSeñal - ¡Hicimos historia!   \n8    428  #PedaleoPor: Ariel Molina envía un saludo a lo...   \n9     13  #PedaleoPor: Ariel Molina envía un saludo a lo...   \n\n              categoria  \n0  Película y Animación  \n1  Película y Animación  \n2              Deportes  \n3              Deportes  \n4              Deportes  \n5              Deportes  \n6              Deportes  \n7              Deportes  \n8              Deportes  \n9              Deportes  ",
      "text/html": "<div>\n<style scoped>\n    .dataframe tbody tr th:only-of-type {\n        vertical-align: middle;\n    }\n\n    .dataframe tbody tr th {\n        vertical-align: top;\n    }\n\n    .dataframe thead th {\n        text-align: right;\n    }\n</style>\n<table border=\"1\" class=\"dataframe\">\n  <thead>\n    <tr style=\"text-align: right;\">\n      <th></th>\n      <th>index</th>\n      <th>titulo</th>\n      <th>categoria</th>\n    </tr>\n  </thead>\n  <tbody>\n    <tr>\n      <th>0</th>\n      <td>610</td>\n      <td>\"De nada sirven los triunfos si la paz no los ...</td>\n      <td>Película y Animación</td>\n    </tr>\n    <tr>\n      <th>1</th>\n      <td>819</td>\n      <td>\"Hay mejores formas para uno mostrar su forma ...</td>\n      <td>Película y Animación</td>\n    </tr>\n    <tr>\n      <th>2</th>\n      <td>637</td>\n      <td>#LosNacionalesXSeñal - Bahía Cupica</td>\n      <td>Deportes</td>\n    </tr>\n    <tr>\n      <th>3</th>\n      <td>740</td>\n      <td>#LosNacionalesXSeñal - Estudiantes Utech balon...</td>\n      <td>Deportes</td>\n    </tr>\n    <tr>\n      <th>4</th>\n      <td>160</td>\n      <td>#LosNacionalesXSeñal - Las pruebas de triatlón...</td>\n      <td>Deportes</td>\n    </tr>\n    <tr>\n      <th>5</th>\n      <td>101</td>\n      <td>#LosNacionalesXSeñal - María Elena Hurtado, la...</td>\n      <td>Deportes</td>\n    </tr>\n    <tr>\n      <th>6</th>\n      <td>405</td>\n      <td>#LosNacionalesXSeñal - Niños voley playa</td>\n      <td>Deportes</td>\n    </tr>\n    <tr>\n      <th>7</th>\n      <td>681</td>\n      <td>#LosNacionalesXSeñal - ¡Hicimos historia!</td>\n      <td>Deportes</td>\n    </tr>\n    <tr>\n      <th>8</th>\n      <td>428</td>\n      <td>#PedaleoPor: Ariel Molina envía un saludo a lo...</td>\n      <td>Deportes</td>\n    </tr>\n    <tr>\n      <th>9</th>\n      <td>13</td>\n      <td>#PedaleoPor: Ariel Molina envía un saludo a lo...</td>\n      <td>Deportes</td>\n    </tr>\n  </tbody>\n</table>\n</div>"
     },
     "execution_count": 162,
     "metadata": {},
     "output_type": "execute_result"
    }
   ],
   "source": [
    "df_complete.head(10)"
   ],
   "metadata": {
    "collapsed": false,
    "ExecuteTime": {
     "end_time": "2023-11-04T19:20:14.041526377Z",
     "start_time": "2023-11-04T19:20:14.032430456Z"
    }
   },
   "id": "3fc290c6b43ed33"
  },
  {
   "cell_type": "code",
   "execution_count": 163,
   "outputs": [
    {
     "data": {
      "text/plain": "0     \"De nada sirven los triunfos si la paz no los ...\n1     \"Hay mejores formas para uno mostrar su forma ...\n2                   #LosNacionalesXSeñal - Bahía Cupica\n3     #LosNacionalesXSeñal - Estudiantes Utech balon...\n4     #LosNacionalesXSeñal - Las pruebas de triatlón...\n5     #LosNacionalesXSeñal - María Elena Hurtado, la...\n6              #LosNacionalesXSeñal - Niños voley playa\n7             #LosNacionalesXSeñal - ¡Hicimos historia!\n8     #PedaleoPor: Ariel Molina envía un saludo a lo...\n9     #PedaleoPor: Ariel Molina envía un saludo a lo...\n10    #PedaleoPor: Dagoberto López envía un saludo a...\n11    #PedaleoPor: Esteban Kekessy envía un saludo a...\n12    #PedaleoPor: Henry García envía un saludo a lo...\n13    #PedaleoPor: James Guevara envía un saludo a l...\n14    #PedaleoPor: Javier Cruz envía un saludo a los...\n15    #PedaleoPor: Javier Rodríguez envía un saludo ...\n16    #PedaleoPor: Jonathan Devía envía un saludo a ...\n17    #PedaleoPor: Jorge Merchán envía un saludo a l...\n18    #PedaleoPor: Jorge envía un saludo a los escar...\n19    #PedaleoPor: Jorge envía un saludo a los escar...\nName: titulo, dtype: object"
     },
     "execution_count": 163,
     "metadata": {},
     "output_type": "execute_result"
    }
   ],
   "source": [
    "titulo.head(20)"
   ],
   "metadata": {
    "collapsed": false,
    "ExecuteTime": {
     "end_time": "2023-11-04T19:20:14.067909818Z",
     "start_time": "2023-11-04T19:20:14.046242551Z"
    }
   },
   "id": "d4be78d211a1fd5e"
  },
  {
   "cell_type": "code",
   "execution_count": 164,
   "outputs": [],
   "source": [
    "titulo = titulo.str.lower()"
   ],
   "metadata": {
    "collapsed": false,
    "ExecuteTime": {
     "end_time": "2023-11-04T19:20:14.086846874Z",
     "start_time": "2023-11-04T19:20:14.062909312Z"
    }
   },
   "id": "26d592f76c34fd79"
  },
  {
   "cell_type": "code",
   "execution_count": 165,
   "outputs": [
    {
     "data": {
      "text/plain": "0     \"de nada sirven los triunfos si la paz no los ...\n1     \"hay mejores formas para uno mostrar su forma ...\n2                   #losnacionalesxseñal - bahía cupica\n3     #losnacionalesxseñal - estudiantes utech balon...\n4     #losnacionalesxseñal - las pruebas de triatlón...\n5     #losnacionalesxseñal - maría elena hurtado, la...\n6              #losnacionalesxseñal - niños voley playa\n7             #losnacionalesxseñal - ¡hicimos historia!\n8     #pedaleopor: ariel molina envía un saludo a lo...\n9     #pedaleopor: ariel molina envía un saludo a lo...\n10    #pedaleopor: dagoberto lópez envía un saludo a...\n11    #pedaleopor: esteban kekessy envía un saludo a...\n12    #pedaleopor: henry garcía envía un saludo a lo...\n13    #pedaleopor: james guevara envía un saludo a l...\n14    #pedaleopor: javier cruz envía un saludo a los...\n15    #pedaleopor: javier rodríguez envía un saludo ...\n16    #pedaleopor: jonathan devía envía un saludo a ...\n17    #pedaleopor: jorge merchán envía un saludo a l...\n18    #pedaleopor: jorge envía un saludo a los escar...\n19    #pedaleopor: jorge envía un saludo a los escar...\nName: titulo, dtype: object"
     },
     "execution_count": 165,
     "metadata": {},
     "output_type": "execute_result"
    }
   ],
   "source": [
    "titulo.head(20)"
   ],
   "metadata": {
    "collapsed": false,
    "ExecuteTime": {
     "end_time": "2023-11-04T19:20:14.234458962Z",
     "start_time": "2023-11-04T19:20:14.071424920Z"
    }
   },
   "id": "6ad9aea0be7810b6"
  },
  {
   "cell_type": "code",
   "execution_count": 166,
   "outputs": [],
   "source": [
    "titulo = titulo.apply(unidecode)"
   ],
   "metadata": {
    "collapsed": false,
    "ExecuteTime": {
     "end_time": "2023-11-04T19:20:14.234773840Z",
     "start_time": "2023-11-04T19:20:14.117050256Z"
    }
   },
   "id": "d1b37853508b8c66"
  },
  {
   "cell_type": "code",
   "execution_count": 167,
   "outputs": [
    {
     "data": {
      "text/plain": "0     \"de nada sirven los triunfos si la paz no los ...\n1     \"hay mejores formas para uno mostrar su forma ...\n2                   #losnacionalesxsenal - bahia cupica\n3     #losnacionalesxsenal - estudiantes utech balon...\n4     #losnacionalesxsenal - las pruebas de triatlon...\n5     #losnacionalesxsenal - maria elena hurtado, la...\n6              #losnacionalesxsenal - ninos voley playa\n7             #losnacionalesxsenal - !hicimos historia!\n8     #pedaleopor: ariel molina envia un saludo a lo...\n9     #pedaleopor: ariel molina envia un saludo a lo...\n10    #pedaleopor: dagoberto lopez envia un saludo a...\n11    #pedaleopor: esteban kekessy envia un saludo a...\n12    #pedaleopor: henry garcia envia un saludo a lo...\n13    #pedaleopor: james guevara envia un saludo a l...\n14    #pedaleopor: javier cruz envia un saludo a los...\n15    #pedaleopor: javier rodriguez envia un saludo ...\n16    #pedaleopor: jonathan devia envia un saludo a ...\n17    #pedaleopor: jorge merchan envia un saludo a l...\n18    #pedaleopor: jorge envia un saludo a los escar...\n19    #pedaleopor: jorge envia un saludo a los escar...\nName: titulo, dtype: object"
     },
     "execution_count": 167,
     "metadata": {},
     "output_type": "execute_result"
    }
   ],
   "source": [
    "titulo.head(20)"
   ],
   "metadata": {
    "collapsed": false,
    "ExecuteTime": {
     "end_time": "2023-11-04T19:20:14.235166467Z",
     "start_time": "2023-11-04T19:20:14.117313897Z"
    }
   },
   "id": "e800e10a7222be1f"
  },
  {
   "cell_type": "code",
   "execution_count": 168,
   "outputs": [],
   "source": [
    "def quitar_caracteres_especiales(texto):\n",
    "    return re.sub(r'[^A-Za-z0-9 ]+', '', texto)\n",
    "titulo = titulo.apply(quitar_caracteres_especiales)"
   ],
   "metadata": {
    "collapsed": false,
    "ExecuteTime": {
     "end_time": "2023-11-04T19:20:14.236175084Z",
     "start_time": "2023-11-04T19:20:14.160946185Z"
    }
   },
   "id": "e70bd33d818b4fe0"
  },
  {
   "cell_type": "code",
   "execution_count": 169,
   "outputs": [
    {
     "data": {
      "text/plain": "0     de nada sirven los triunfos si la paz no los c...\n1     hay mejores formas para uno mostrar su forma d...\n2                     losnacionalesxsenal  bahia cupica\n3      losnacionalesxsenal  estudiantes utech balonmano\n4     losnacionalesxsenal  las pruebas de triatlon l...\n5     losnacionalesxsenal  maria elena hurtado la pe...\n6                losnacionalesxsenal  ninos voley playa\n7                 losnacionalesxsenal  hicimos historia\n8     pedaleopor ariel molina envia un saludo a los ...\n9     pedaleopor ariel molina envia un saludo a los ...\n10    pedaleopor dagoberto lopez envia un saludo a l...\n11    pedaleopor esteban kekessy envia un saludo a l...\n12    pedaleopor henry garcia envia un saludo a los ...\n13    pedaleopor james guevara envia un saludo a los...\n14    pedaleopor javier cruz envia un saludo a los e...\n15    pedaleopor javier rodriguez envia un saludo a ...\n16    pedaleopor jonathan devia envia un saludo a lo...\n17    pedaleopor jorge merchan envia un saludo a los...\n18    pedaleopor jorge envia un saludo a los escarab...\n19    pedaleopor jorge envia un saludo a los escarab...\nName: titulo, dtype: object"
     },
     "execution_count": 169,
     "metadata": {},
     "output_type": "execute_result"
    }
   ],
   "source": [
    "titulo.head(20)"
   ],
   "metadata": {
    "collapsed": false,
    "ExecuteTime": {
     "end_time": "2023-11-04T19:20:14.236779453Z",
     "start_time": "2023-11-04T19:20:14.161411400Z"
    }
   },
   "id": "9cea9060caa7da6f"
  },
  {
   "cell_type": "code",
   "execution_count": 170,
   "outputs": [
    {
     "data": {
      "text/plain": "       Palabra\n0           de\n1         nada\n2       sirven\n3          los\n4     triunfos\n5           si\n6           la\n7          paz\n8           no\n9       corona\n10  lapazhabla\n11         hay\n12     mejores\n13      formas\n14        para\n15         uno\n16     mostrar\n17          su\n18       forma\n19      pensar",
      "text/html": "<div>\n<style scoped>\n    .dataframe tbody tr th:only-of-type {\n        vertical-align: middle;\n    }\n\n    .dataframe tbody tr th {\n        vertical-align: top;\n    }\n\n    .dataframe thead th {\n        text-align: right;\n    }\n</style>\n<table border=\"1\" class=\"dataframe\">\n  <thead>\n    <tr style=\"text-align: right;\">\n      <th></th>\n      <th>Palabra</th>\n    </tr>\n  </thead>\n  <tbody>\n    <tr>\n      <th>0</th>\n      <td>de</td>\n    </tr>\n    <tr>\n      <th>1</th>\n      <td>nada</td>\n    </tr>\n    <tr>\n      <th>2</th>\n      <td>sirven</td>\n    </tr>\n    <tr>\n      <th>3</th>\n      <td>los</td>\n    </tr>\n    <tr>\n      <th>4</th>\n      <td>triunfos</td>\n    </tr>\n    <tr>\n      <th>5</th>\n      <td>si</td>\n    </tr>\n    <tr>\n      <th>6</th>\n      <td>la</td>\n    </tr>\n    <tr>\n      <th>7</th>\n      <td>paz</td>\n    </tr>\n    <tr>\n      <th>8</th>\n      <td>no</td>\n    </tr>\n    <tr>\n      <th>9</th>\n      <td>corona</td>\n    </tr>\n    <tr>\n      <th>10</th>\n      <td>lapazhabla</td>\n    </tr>\n    <tr>\n      <th>11</th>\n      <td>hay</td>\n    </tr>\n    <tr>\n      <th>12</th>\n      <td>mejores</td>\n    </tr>\n    <tr>\n      <th>13</th>\n      <td>formas</td>\n    </tr>\n    <tr>\n      <th>14</th>\n      <td>para</td>\n    </tr>\n    <tr>\n      <th>15</th>\n      <td>uno</td>\n    </tr>\n    <tr>\n      <th>16</th>\n      <td>mostrar</td>\n    </tr>\n    <tr>\n      <th>17</th>\n      <td>su</td>\n    </tr>\n    <tr>\n      <th>18</th>\n      <td>forma</td>\n    </tr>\n    <tr>\n      <th>19</th>\n      <td>pensar</td>\n    </tr>\n  </tbody>\n</table>\n</div>"
     },
     "execution_count": 170,
     "metadata": {},
     "output_type": "execute_result"
    }
   ],
   "source": [
    "def obtener_palabras_unicas(texto, diccionario):\n",
    "    palabras = re.findall(r'\\b\\w+\\b', texto)\n",
    "    for palabra in palabras:\n",
    "        diccionario[palabra] = 0\n",
    "        \n",
    "palabras_unicas = {}\n",
    "\n",
    "titulo.apply(lambda x: obtener_palabras_unicas(x, palabras_unicas))\n",
    "\n",
    "df_palabras_unicas = pd.DataFrame(palabras_unicas.keys(), columns=[\"Palabra\"])\n",
    "df_palabras_unicas.head(20)"
   ],
   "metadata": {
    "collapsed": false,
    "ExecuteTime": {
     "end_time": "2023-11-04T19:20:14.237339217Z",
     "start_time": "2023-11-04T19:20:14.166063823Z"
    }
   },
   "id": "e2f6a243171394ea"
  },
  {
   "cell_type": "code",
   "execution_count": 171,
   "outputs": [
    {
     "data": {
      "text/plain": "2109"
     },
     "execution_count": 171,
     "metadata": {},
     "output_type": "execute_result"
    }
   ],
   "source": [
    "len(df_palabras_unicas)"
   ],
   "metadata": {
    "collapsed": false,
    "ExecuteTime": {
     "end_time": "2023-11-04T19:20:14.237757632Z",
     "start_time": "2023-11-04T19:20:14.179184674Z"
    }
   },
   "id": "3dd26bc6eaeed7"
  },
  {
   "cell_type": "code",
   "execution_count": 172,
   "outputs": [
    {
     "data": {
      "text/plain": "                                                    de  nada  sirven  los  \\\ntitulo                                                                      \nde nada sirven los triunfos si la paz no los co...   0     0       0    0   \nhay mejores formas para uno mostrar su forma de...   0     0       0    0   \nlosnacionalesxsenal  bahia cupica                    0     0       0    0   \nlosnacionalesxsenal  estudiantes utech balonmano     0     0       0    0   \nlosnacionalesxsenal  las pruebas de triatlon ll...   0     0       0    0   \n...                                                 ..   ...     ...  ...   \ncomo ensenarle a los papas a reciclar                0     0       0    0   \ncomo es tu municipio los ninos de paicol nos cu...   0     0       0    0   \nlos ninos podemos cambiar el mundo                   0     0       0    0   \nque harias tu  una nina ejemplar                     0     0       0    0   \nque te gusta de mi senal los ninos nos dan su o...   0     0       0    0   \n\n                                                    triunfos  si  la  paz  no  \\\ntitulo                                                                          \nde nada sirven los triunfos si la paz no los co...         0   0   0    0   0   \nhay mejores formas para uno mostrar su forma de...         0   0   0    0   0   \nlosnacionalesxsenal  bahia cupica                          0   0   0    0   0   \nlosnacionalesxsenal  estudiantes utech balonmano           0   0   0    0   0   \nlosnacionalesxsenal  las pruebas de triatlon ll...         0   0   0    0   0   \n...                                                      ...  ..  ..  ...  ..   \ncomo ensenarle a los papas a reciclar                      0   0   0    0   0   \ncomo es tu municipio los ninos de paicol nos cu...         0   0   0    0   0   \nlos ninos podemos cambiar el mundo                         0   0   0    0   0   \nque harias tu  una nina ejemplar                           0   0   0    0   0   \nque te gusta de mi senal los ninos nos dan su o...         0   0   0    0   0   \n\n                                                    corona  ...  ensenarle  \\\ntitulo                                                      ...              \nde nada sirven los triunfos si la paz no los co...       0  ...          0   \nhay mejores formas para uno mostrar su forma de...       0  ...          0   \nlosnacionalesxsenal  bahia cupica                        0  ...          0   \nlosnacionalesxsenal  estudiantes utech balonmano         0  ...          0   \nlosnacionalesxsenal  las pruebas de triatlon ll...       0  ...          0   \n...                                                    ...  ...        ...   \ncomo ensenarle a los papas a reciclar                    0  ...          0   \ncomo es tu municipio los ninos de paicol nos cu...       0  ...          0   \nlos ninos podemos cambiar el mundo                       0  ...          0   \nque harias tu  una nina ejemplar                         0  ...          0   \nque te gusta de mi senal los ninos nos dan su o...       0  ...          0   \n\n                                                    papas  reciclar  paicol  \\\ntitulo                                                                        \nde nada sirven los triunfos si la paz no los co...      0         0       0   \nhay mejores formas para uno mostrar su forma de...      0         0       0   \nlosnacionalesxsenal  bahia cupica                       0         0       0   \nlosnacionalesxsenal  estudiantes utech balonmano        0         0       0   \nlosnacionalesxsenal  las pruebas de triatlon ll...      0         0       0   \n...                                                   ...       ...     ...   \ncomo ensenarle a los papas a reciclar                   0         0       0   \ncomo es tu municipio los ninos de paicol nos cu...      0         0       0   \nlos ninos podemos cambiar el mundo                      0         0       0   \nque harias tu  una nina ejemplar                        0         0       0   \nque te gusta de mi senal los ninos nos dan su o...      0         0       0   \n\n                                                    cuentan  podemos  cambiar  \\\ntitulo                                                                          \nde nada sirven los triunfos si la paz no los co...        0        0        0   \nhay mejores formas para uno mostrar su forma de...        0        0        0   \nlosnacionalesxsenal  bahia cupica                         0        0        0   \nlosnacionalesxsenal  estudiantes utech balonmano          0        0        0   \nlosnacionalesxsenal  las pruebas de triatlon ll...        0        0        0   \n...                                                     ...      ...      ...   \ncomo ensenarle a los papas a reciclar                     0        0        0   \ncomo es tu municipio los ninos de paicol nos cu...        0        0        0   \nlos ninos podemos cambiar el mundo                        0        0        0   \nque harias tu  una nina ejemplar                          0        0        0   \nque te gusta de mi senal los ninos nos dan su o...        0        0        0   \n\n                                                    ejemplar  dan  opinion  \ntitulo                                                                      \nde nada sirven los triunfos si la paz no los co...         0    0        0  \nhay mejores formas para uno mostrar su forma de...         0    0        0  \nlosnacionalesxsenal  bahia cupica                          0    0        0  \nlosnacionalesxsenal  estudiantes utech balonmano           0    0        0  \nlosnacionalesxsenal  las pruebas de triatlon ll...         0    0        0  \n...                                                      ...  ...      ...  \ncomo ensenarle a los papas a reciclar                      0    0        0  \ncomo es tu municipio los ninos de paicol nos cu...         0    0        0  \nlos ninos podemos cambiar el mundo                         0    0        0  \nque harias tu  una nina ejemplar                           0    0        0  \nque te gusta de mi senal los ninos nos dan su o...         0    0        0  \n\n[1000 rows x 2109 columns]",
      "text/html": "<div>\n<style scoped>\n    .dataframe tbody tr th:only-of-type {\n        vertical-align: middle;\n    }\n\n    .dataframe tbody tr th {\n        vertical-align: top;\n    }\n\n    .dataframe thead th {\n        text-align: right;\n    }\n</style>\n<table border=\"1\" class=\"dataframe\">\n  <thead>\n    <tr style=\"text-align: right;\">\n      <th></th>\n      <th>de</th>\n      <th>nada</th>\n      <th>sirven</th>\n      <th>los</th>\n      <th>triunfos</th>\n      <th>si</th>\n      <th>la</th>\n      <th>paz</th>\n      <th>no</th>\n      <th>corona</th>\n      <th>...</th>\n      <th>ensenarle</th>\n      <th>papas</th>\n      <th>reciclar</th>\n      <th>paicol</th>\n      <th>cuentan</th>\n      <th>podemos</th>\n      <th>cambiar</th>\n      <th>ejemplar</th>\n      <th>dan</th>\n      <th>opinion</th>\n    </tr>\n    <tr>\n      <th>titulo</th>\n      <th></th>\n      <th></th>\n      <th></th>\n      <th></th>\n      <th></th>\n      <th></th>\n      <th></th>\n      <th></th>\n      <th></th>\n      <th></th>\n      <th></th>\n      <th></th>\n      <th></th>\n      <th></th>\n      <th></th>\n      <th></th>\n      <th></th>\n      <th></th>\n      <th></th>\n      <th></th>\n      <th></th>\n    </tr>\n  </thead>\n  <tbody>\n    <tr>\n      <th>de nada sirven los triunfos si la paz no los corona lapazhabla</th>\n      <td>0</td>\n      <td>0</td>\n      <td>0</td>\n      <td>0</td>\n      <td>0</td>\n      <td>0</td>\n      <td>0</td>\n      <td>0</td>\n      <td>0</td>\n      <td>0</td>\n      <td>...</td>\n      <td>0</td>\n      <td>0</td>\n      <td>0</td>\n      <td>0</td>\n      <td>0</td>\n      <td>0</td>\n      <td>0</td>\n      <td>0</td>\n      <td>0</td>\n      <td>0</td>\n    </tr>\n    <tr>\n      <th>hay mejores formas para uno mostrar su forma de pensar sofia</th>\n      <td>0</td>\n      <td>0</td>\n      <td>0</td>\n      <td>0</td>\n      <td>0</td>\n      <td>0</td>\n      <td>0</td>\n      <td>0</td>\n      <td>0</td>\n      <td>0</td>\n      <td>...</td>\n      <td>0</td>\n      <td>0</td>\n      <td>0</td>\n      <td>0</td>\n      <td>0</td>\n      <td>0</td>\n      <td>0</td>\n      <td>0</td>\n      <td>0</td>\n      <td>0</td>\n    </tr>\n    <tr>\n      <th>losnacionalesxsenal  bahia cupica</th>\n      <td>0</td>\n      <td>0</td>\n      <td>0</td>\n      <td>0</td>\n      <td>0</td>\n      <td>0</td>\n      <td>0</td>\n      <td>0</td>\n      <td>0</td>\n      <td>0</td>\n      <td>...</td>\n      <td>0</td>\n      <td>0</td>\n      <td>0</td>\n      <td>0</td>\n      <td>0</td>\n      <td>0</td>\n      <td>0</td>\n      <td>0</td>\n      <td>0</td>\n      <td>0</td>\n    </tr>\n    <tr>\n      <th>losnacionalesxsenal  estudiantes utech balonmano</th>\n      <td>0</td>\n      <td>0</td>\n      <td>0</td>\n      <td>0</td>\n      <td>0</td>\n      <td>0</td>\n      <td>0</td>\n      <td>0</td>\n      <td>0</td>\n      <td>0</td>\n      <td>...</td>\n      <td>0</td>\n      <td>0</td>\n      <td>0</td>\n      <td>0</td>\n      <td>0</td>\n      <td>0</td>\n      <td>0</td>\n      <td>0</td>\n      <td>0</td>\n      <td>0</td>\n    </tr>\n    <tr>\n      <th>losnacionalesxsenal  las pruebas de triatlon llenaron de emocion al municipio de prado</th>\n      <td>0</td>\n      <td>0</td>\n      <td>0</td>\n      <td>0</td>\n      <td>0</td>\n      <td>0</td>\n      <td>0</td>\n      <td>0</td>\n      <td>0</td>\n      <td>0</td>\n      <td>...</td>\n      <td>0</td>\n      <td>0</td>\n      <td>0</td>\n      <td>0</td>\n      <td>0</td>\n      <td>0</td>\n      <td>0</td>\n      <td>0</td>\n      <td>0</td>\n      <td>0</td>\n    </tr>\n    <tr>\n      <th>...</th>\n      <td>...</td>\n      <td>...</td>\n      <td>...</td>\n      <td>...</td>\n      <td>...</td>\n      <td>...</td>\n      <td>...</td>\n      <td>...</td>\n      <td>...</td>\n      <td>...</td>\n      <td>...</td>\n      <td>...</td>\n      <td>...</td>\n      <td>...</td>\n      <td>...</td>\n      <td>...</td>\n      <td>...</td>\n      <td>...</td>\n      <td>...</td>\n      <td>...</td>\n      <td>...</td>\n    </tr>\n    <tr>\n      <th>como ensenarle a los papas a reciclar</th>\n      <td>0</td>\n      <td>0</td>\n      <td>0</td>\n      <td>0</td>\n      <td>0</td>\n      <td>0</td>\n      <td>0</td>\n      <td>0</td>\n      <td>0</td>\n      <td>0</td>\n      <td>...</td>\n      <td>0</td>\n      <td>0</td>\n      <td>0</td>\n      <td>0</td>\n      <td>0</td>\n      <td>0</td>\n      <td>0</td>\n      <td>0</td>\n      <td>0</td>\n      <td>0</td>\n    </tr>\n    <tr>\n      <th>como es tu municipio los ninos de paicol nos cuentan</th>\n      <td>0</td>\n      <td>0</td>\n      <td>0</td>\n      <td>0</td>\n      <td>0</td>\n      <td>0</td>\n      <td>0</td>\n      <td>0</td>\n      <td>0</td>\n      <td>0</td>\n      <td>...</td>\n      <td>0</td>\n      <td>0</td>\n      <td>0</td>\n      <td>0</td>\n      <td>0</td>\n      <td>0</td>\n      <td>0</td>\n      <td>0</td>\n      <td>0</td>\n      <td>0</td>\n    </tr>\n    <tr>\n      <th>los ninos podemos cambiar el mundo</th>\n      <td>0</td>\n      <td>0</td>\n      <td>0</td>\n      <td>0</td>\n      <td>0</td>\n      <td>0</td>\n      <td>0</td>\n      <td>0</td>\n      <td>0</td>\n      <td>0</td>\n      <td>...</td>\n      <td>0</td>\n      <td>0</td>\n      <td>0</td>\n      <td>0</td>\n      <td>0</td>\n      <td>0</td>\n      <td>0</td>\n      <td>0</td>\n      <td>0</td>\n      <td>0</td>\n    </tr>\n    <tr>\n      <th>que harias tu  una nina ejemplar</th>\n      <td>0</td>\n      <td>0</td>\n      <td>0</td>\n      <td>0</td>\n      <td>0</td>\n      <td>0</td>\n      <td>0</td>\n      <td>0</td>\n      <td>0</td>\n      <td>0</td>\n      <td>...</td>\n      <td>0</td>\n      <td>0</td>\n      <td>0</td>\n      <td>0</td>\n      <td>0</td>\n      <td>0</td>\n      <td>0</td>\n      <td>0</td>\n      <td>0</td>\n      <td>0</td>\n    </tr>\n    <tr>\n      <th>que te gusta de mi senal los ninos nos dan su opinion</th>\n      <td>0</td>\n      <td>0</td>\n      <td>0</td>\n      <td>0</td>\n      <td>0</td>\n      <td>0</td>\n      <td>0</td>\n      <td>0</td>\n      <td>0</td>\n      <td>0</td>\n      <td>...</td>\n      <td>0</td>\n      <td>0</td>\n      <td>0</td>\n      <td>0</td>\n      <td>0</td>\n      <td>0</td>\n      <td>0</td>\n      <td>0</td>\n      <td>0</td>\n      <td>0</td>\n    </tr>\n  </tbody>\n</table>\n<p>1000 rows × 2109 columns</p>\n</div>"
     },
     "execution_count": 172,
     "metadata": {},
     "output_type": "execute_result"
    }
   ],
   "source": [
    "df_matriz_frecuencia = pd.DataFrame(palabras_unicas, index=titulo)\n",
    "df_matriz_frecuencia"
   ],
   "metadata": {
    "collapsed": false,
    "ExecuteTime": {
     "end_time": "2023-11-04T19:20:14.412907475Z",
     "start_time": "2023-11-04T19:20:14.190913379Z"
    }
   },
   "id": "2c4c7104d32c850b"
  },
  {
   "cell_type": "code",
   "execution_count": 173,
   "outputs": [
    {
     "data": {
      "text/plain": "Index(['de', 'nada', 'sirven', 'los', 'triunfos', 'si', 'la', 'paz', 'no',\n       'corona',\n       ...\n       'ensenarle', 'papas', 'reciclar', 'paicol', 'cuentan', 'podemos',\n       'cambiar', 'ejemplar', 'dan', 'opinion'],\n      dtype='object', length=2109)"
     },
     "execution_count": 173,
     "metadata": {},
     "output_type": "execute_result"
    }
   ],
   "source": [
    "df_matriz_frecuencia.columns"
   ],
   "metadata": {
    "collapsed": false,
    "ExecuteTime": {
     "end_time": "2023-11-04T19:20:14.413663822Z",
     "start_time": "2023-11-04T19:20:14.401002385Z"
    }
   },
   "id": "fdfa333fe7c0d354"
  },
  {
   "cell_type": "code",
   "execution_count": 174,
   "outputs": [],
   "source": [
    "for indice, fila in df_matriz_frecuencia.iterrows():\n",
    "    for palabra in df_matriz_frecuencia.columns:\n",
    "        titulo_interno = fila.name\n",
    "        df_matriz_frecuencia.at[fila.name,palabra] = titulo_interno.split().count(palabra)"
   ],
   "metadata": {
    "collapsed": false,
    "ExecuteTime": {
     "end_time": "2023-11-04T19:23:13.425439519Z",
     "start_time": "2023-11-04T19:20:14.418102720Z"
    }
   },
   "id": "31f44d1abdc9bfba"
  },
  {
   "cell_type": "code",
   "execution_count": 175,
   "outputs": [
    {
     "data": {
      "text/plain": "                                                    de  nada  sirven  los  \\\ntitulo                                                                      \nde nada sirven los triunfos si la paz no los co...   1     1       1    2   \nhay mejores formas para uno mostrar su forma de...   1     0       0    0   \nlosnacionalesxsenal  bahia cupica                    0     0       0    0   \nlosnacionalesxsenal  estudiantes utech balonmano     0     0       0    0   \nlosnacionalesxsenal  las pruebas de triatlon ll...   3     0       0    0   \n...                                                 ..   ...     ...  ...   \ncomo ensenarle a los papas a reciclar                0     0       0    1   \ncomo es tu municipio los ninos de paicol nos cu...   1     0       0    1   \nlos ninos podemos cambiar el mundo                   0     0       0    1   \nque harias tu  una nina ejemplar                     0     0       0    0   \nque te gusta de mi senal los ninos nos dan su o...   1     0       0    1   \n\n                                                    triunfos  si  la  paz  no  \\\ntitulo                                                                          \nde nada sirven los triunfos si la paz no los co...         1   1   1    1   1   \nhay mejores formas para uno mostrar su forma de...         0   0   0    0   0   \nlosnacionalesxsenal  bahia cupica                          0   0   0    0   0   \nlosnacionalesxsenal  estudiantes utech balonmano           0   0   0    0   0   \nlosnacionalesxsenal  las pruebas de triatlon ll...         0   0   0    0   0   \n...                                                      ...  ..  ..  ...  ..   \ncomo ensenarle a los papas a reciclar                      0   0   0    0   0   \ncomo es tu municipio los ninos de paicol nos cu...         0   0   0    0   0   \nlos ninos podemos cambiar el mundo                         0   0   0    0   0   \nque harias tu  una nina ejemplar                           0   0   0    0   0   \nque te gusta de mi senal los ninos nos dan su o...         0   0   0    0   0   \n\n                                                    corona  ...  ensenarle  \\\ntitulo                                                      ...              \nde nada sirven los triunfos si la paz no los co...       1  ...          0   \nhay mejores formas para uno mostrar su forma de...       0  ...          0   \nlosnacionalesxsenal  bahia cupica                        0  ...          0   \nlosnacionalesxsenal  estudiantes utech balonmano         0  ...          0   \nlosnacionalesxsenal  las pruebas de triatlon ll...       0  ...          0   \n...                                                    ...  ...        ...   \ncomo ensenarle a los papas a reciclar                    0  ...          1   \ncomo es tu municipio los ninos de paicol nos cu...       0  ...          0   \nlos ninos podemos cambiar el mundo                       0  ...          0   \nque harias tu  una nina ejemplar                         0  ...          0   \nque te gusta de mi senal los ninos nos dan su o...       0  ...          0   \n\n                                                    papas  reciclar  paicol  \\\ntitulo                                                                        \nde nada sirven los triunfos si la paz no los co...      0         0       0   \nhay mejores formas para uno mostrar su forma de...      0         0       0   \nlosnacionalesxsenal  bahia cupica                       0         0       0   \nlosnacionalesxsenal  estudiantes utech balonmano        0         0       0   \nlosnacionalesxsenal  las pruebas de triatlon ll...      0         0       0   \n...                                                   ...       ...     ...   \ncomo ensenarle a los papas a reciclar                   1         1       0   \ncomo es tu municipio los ninos de paicol nos cu...      0         0       1   \nlos ninos podemos cambiar el mundo                      0         0       0   \nque harias tu  una nina ejemplar                        0         0       0   \nque te gusta de mi senal los ninos nos dan su o...      0         0       0   \n\n                                                    cuentan  podemos  cambiar  \\\ntitulo                                                                          \nde nada sirven los triunfos si la paz no los co...        0        0        0   \nhay mejores formas para uno mostrar su forma de...        0        0        0   \nlosnacionalesxsenal  bahia cupica                         0        0        0   \nlosnacionalesxsenal  estudiantes utech balonmano          0        0        0   \nlosnacionalesxsenal  las pruebas de triatlon ll...        0        0        0   \n...                                                     ...      ...      ...   \ncomo ensenarle a los papas a reciclar                     0        0        0   \ncomo es tu municipio los ninos de paicol nos cu...        1        0        0   \nlos ninos podemos cambiar el mundo                        0        1        1   \nque harias tu  una nina ejemplar                          0        0        0   \nque te gusta de mi senal los ninos nos dan su o...        0        0        0   \n\n                                                    ejemplar  dan  opinion  \ntitulo                                                                      \nde nada sirven los triunfos si la paz no los co...         0    0        0  \nhay mejores formas para uno mostrar su forma de...         0    0        0  \nlosnacionalesxsenal  bahia cupica                          0    0        0  \nlosnacionalesxsenal  estudiantes utech balonmano           0    0        0  \nlosnacionalesxsenal  las pruebas de triatlon ll...         0    0        0  \n...                                                      ...  ...      ...  \ncomo ensenarle a los papas a reciclar                      0    0        0  \ncomo es tu municipio los ninos de paicol nos cu...         0    0        0  \nlos ninos podemos cambiar el mundo                         0    0        0  \nque harias tu  una nina ejemplar                           1    0        0  \nque te gusta de mi senal los ninos nos dan su o...         0    1        1  \n\n[1000 rows x 2109 columns]",
      "text/html": "<div>\n<style scoped>\n    .dataframe tbody tr th:only-of-type {\n        vertical-align: middle;\n    }\n\n    .dataframe tbody tr th {\n        vertical-align: top;\n    }\n\n    .dataframe thead th {\n        text-align: right;\n    }\n</style>\n<table border=\"1\" class=\"dataframe\">\n  <thead>\n    <tr style=\"text-align: right;\">\n      <th></th>\n      <th>de</th>\n      <th>nada</th>\n      <th>sirven</th>\n      <th>los</th>\n      <th>triunfos</th>\n      <th>si</th>\n      <th>la</th>\n      <th>paz</th>\n      <th>no</th>\n      <th>corona</th>\n      <th>...</th>\n      <th>ensenarle</th>\n      <th>papas</th>\n      <th>reciclar</th>\n      <th>paicol</th>\n      <th>cuentan</th>\n      <th>podemos</th>\n      <th>cambiar</th>\n      <th>ejemplar</th>\n      <th>dan</th>\n      <th>opinion</th>\n    </tr>\n    <tr>\n      <th>titulo</th>\n      <th></th>\n      <th></th>\n      <th></th>\n      <th></th>\n      <th></th>\n      <th></th>\n      <th></th>\n      <th></th>\n      <th></th>\n      <th></th>\n      <th></th>\n      <th></th>\n      <th></th>\n      <th></th>\n      <th></th>\n      <th></th>\n      <th></th>\n      <th></th>\n      <th></th>\n      <th></th>\n      <th></th>\n    </tr>\n  </thead>\n  <tbody>\n    <tr>\n      <th>de nada sirven los triunfos si la paz no los corona lapazhabla</th>\n      <td>1</td>\n      <td>1</td>\n      <td>1</td>\n      <td>2</td>\n      <td>1</td>\n      <td>1</td>\n      <td>1</td>\n      <td>1</td>\n      <td>1</td>\n      <td>1</td>\n      <td>...</td>\n      <td>0</td>\n      <td>0</td>\n      <td>0</td>\n      <td>0</td>\n      <td>0</td>\n      <td>0</td>\n      <td>0</td>\n      <td>0</td>\n      <td>0</td>\n      <td>0</td>\n    </tr>\n    <tr>\n      <th>hay mejores formas para uno mostrar su forma de pensar sofia</th>\n      <td>1</td>\n      <td>0</td>\n      <td>0</td>\n      <td>0</td>\n      <td>0</td>\n      <td>0</td>\n      <td>0</td>\n      <td>0</td>\n      <td>0</td>\n      <td>0</td>\n      <td>...</td>\n      <td>0</td>\n      <td>0</td>\n      <td>0</td>\n      <td>0</td>\n      <td>0</td>\n      <td>0</td>\n      <td>0</td>\n      <td>0</td>\n      <td>0</td>\n      <td>0</td>\n    </tr>\n    <tr>\n      <th>losnacionalesxsenal  bahia cupica</th>\n      <td>0</td>\n      <td>0</td>\n      <td>0</td>\n      <td>0</td>\n      <td>0</td>\n      <td>0</td>\n      <td>0</td>\n      <td>0</td>\n      <td>0</td>\n      <td>0</td>\n      <td>...</td>\n      <td>0</td>\n      <td>0</td>\n      <td>0</td>\n      <td>0</td>\n      <td>0</td>\n      <td>0</td>\n      <td>0</td>\n      <td>0</td>\n      <td>0</td>\n      <td>0</td>\n    </tr>\n    <tr>\n      <th>losnacionalesxsenal  estudiantes utech balonmano</th>\n      <td>0</td>\n      <td>0</td>\n      <td>0</td>\n      <td>0</td>\n      <td>0</td>\n      <td>0</td>\n      <td>0</td>\n      <td>0</td>\n      <td>0</td>\n      <td>0</td>\n      <td>...</td>\n      <td>0</td>\n      <td>0</td>\n      <td>0</td>\n      <td>0</td>\n      <td>0</td>\n      <td>0</td>\n      <td>0</td>\n      <td>0</td>\n      <td>0</td>\n      <td>0</td>\n    </tr>\n    <tr>\n      <th>losnacionalesxsenal  las pruebas de triatlon llenaron de emocion al municipio de prado</th>\n      <td>3</td>\n      <td>0</td>\n      <td>0</td>\n      <td>0</td>\n      <td>0</td>\n      <td>0</td>\n      <td>0</td>\n      <td>0</td>\n      <td>0</td>\n      <td>0</td>\n      <td>...</td>\n      <td>0</td>\n      <td>0</td>\n      <td>0</td>\n      <td>0</td>\n      <td>0</td>\n      <td>0</td>\n      <td>0</td>\n      <td>0</td>\n      <td>0</td>\n      <td>0</td>\n    </tr>\n    <tr>\n      <th>...</th>\n      <td>...</td>\n      <td>...</td>\n      <td>...</td>\n      <td>...</td>\n      <td>...</td>\n      <td>...</td>\n      <td>...</td>\n      <td>...</td>\n      <td>...</td>\n      <td>...</td>\n      <td>...</td>\n      <td>...</td>\n      <td>...</td>\n      <td>...</td>\n      <td>...</td>\n      <td>...</td>\n      <td>...</td>\n      <td>...</td>\n      <td>...</td>\n      <td>...</td>\n      <td>...</td>\n    </tr>\n    <tr>\n      <th>como ensenarle a los papas a reciclar</th>\n      <td>0</td>\n      <td>0</td>\n      <td>0</td>\n      <td>1</td>\n      <td>0</td>\n      <td>0</td>\n      <td>0</td>\n      <td>0</td>\n      <td>0</td>\n      <td>0</td>\n      <td>...</td>\n      <td>1</td>\n      <td>1</td>\n      <td>1</td>\n      <td>0</td>\n      <td>0</td>\n      <td>0</td>\n      <td>0</td>\n      <td>0</td>\n      <td>0</td>\n      <td>0</td>\n    </tr>\n    <tr>\n      <th>como es tu municipio los ninos de paicol nos cuentan</th>\n      <td>1</td>\n      <td>0</td>\n      <td>0</td>\n      <td>1</td>\n      <td>0</td>\n      <td>0</td>\n      <td>0</td>\n      <td>0</td>\n      <td>0</td>\n      <td>0</td>\n      <td>...</td>\n      <td>0</td>\n      <td>0</td>\n      <td>0</td>\n      <td>1</td>\n      <td>1</td>\n      <td>0</td>\n      <td>0</td>\n      <td>0</td>\n      <td>0</td>\n      <td>0</td>\n    </tr>\n    <tr>\n      <th>los ninos podemos cambiar el mundo</th>\n      <td>0</td>\n      <td>0</td>\n      <td>0</td>\n      <td>1</td>\n      <td>0</td>\n      <td>0</td>\n      <td>0</td>\n      <td>0</td>\n      <td>0</td>\n      <td>0</td>\n      <td>...</td>\n      <td>0</td>\n      <td>0</td>\n      <td>0</td>\n      <td>0</td>\n      <td>0</td>\n      <td>1</td>\n      <td>1</td>\n      <td>0</td>\n      <td>0</td>\n      <td>0</td>\n    </tr>\n    <tr>\n      <th>que harias tu  una nina ejemplar</th>\n      <td>0</td>\n      <td>0</td>\n      <td>0</td>\n      <td>0</td>\n      <td>0</td>\n      <td>0</td>\n      <td>0</td>\n      <td>0</td>\n      <td>0</td>\n      <td>0</td>\n      <td>...</td>\n      <td>0</td>\n      <td>0</td>\n      <td>0</td>\n      <td>0</td>\n      <td>0</td>\n      <td>0</td>\n      <td>0</td>\n      <td>1</td>\n      <td>0</td>\n      <td>0</td>\n    </tr>\n    <tr>\n      <th>que te gusta de mi senal los ninos nos dan su opinion</th>\n      <td>1</td>\n      <td>0</td>\n      <td>0</td>\n      <td>1</td>\n      <td>0</td>\n      <td>0</td>\n      <td>0</td>\n      <td>0</td>\n      <td>0</td>\n      <td>0</td>\n      <td>...</td>\n      <td>0</td>\n      <td>0</td>\n      <td>0</td>\n      <td>0</td>\n      <td>0</td>\n      <td>0</td>\n      <td>0</td>\n      <td>0</td>\n      <td>1</td>\n      <td>1</td>\n    </tr>\n  </tbody>\n</table>\n<p>1000 rows × 2109 columns</p>\n</div>"
     },
     "execution_count": 175,
     "metadata": {},
     "output_type": "execute_result"
    }
   ],
   "source": [
    "df_matriz_frecuencia"
   ],
   "metadata": {
    "collapsed": false,
    "ExecuteTime": {
     "end_time": "2023-11-04T19:23:13.469624162Z",
     "start_time": "2023-11-04T19:23:13.434959957Z"
    }
   },
   "id": "606382a00d2e9487"
  },
  {
   "cell_type": "code",
   "execution_count": 175,
   "outputs": [],
   "source": [],
   "metadata": {
    "collapsed": false,
    "ExecuteTime": {
     "end_time": "2023-11-04T19:23:13.470845122Z",
     "start_time": "2023-11-04T19:23:13.448714684Z"
    }
   },
   "id": "90e5cfc2d9ef3625"
  }
 ],
 "metadata": {
  "kernelspec": {
   "display_name": "Python 3",
   "language": "python",
   "name": "python3"
  },
  "language_info": {
   "codemirror_mode": {
    "name": "ipython",
    "version": 2
   },
   "file_extension": ".py",
   "mimetype": "text/x-python",
   "name": "python",
   "nbconvert_exporter": "python",
   "pygments_lexer": "ipython2",
   "version": "2.7.6"
  }
 },
 "nbformat": 4,
 "nbformat_minor": 5
}
