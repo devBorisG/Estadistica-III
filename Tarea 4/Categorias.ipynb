{
 "cells": [
  {
   "cell_type": "code",
   "execution_count": 605,
   "outputs": [
    {
     "name": "stdout",
     "output_type": "stream",
     "text": [
      "Requirement already satisfied: unidecode in c:\\users\\david\\documents\\github\\estadistica iii\\venv\\lib\\site-packages (1.3.7)"
     ]
    },
    {
     "name": "stderr",
     "output_type": "stream",
     "text": [
      "\n",
      "[notice] A new release of pip is available: 23.2.1 -> 23.3.1\n",
      "[notice] To update, run: python.exe -m pip install --upgrade pip\n"
     ]
    },
    {
     "name": "stdout",
     "output_type": "stream",
     "text": []
    }
   ],
   "source": [
    "!pip install unidecode"
   ],
   "metadata": {
    "collapsed": false,
    "ExecuteTime": {
     "end_time": "2023-11-06T23:48:56.544097600Z",
     "start_time": "2023-11-06T23:48:47.879103500Z"
    }
   },
   "id": "593f0afdb64257df"
  },
  {
   "cell_type": "code",
   "execution_count": 606,
   "outputs": [
    {
     "name": "stderr",
     "output_type": "stream",
     "text": [
      "[nltk_data] Downloading package stopwords to\n",
      "[nltk_data]     C:\\Users\\David\\AppData\\Roaming\\nltk_data...\n",
      "[nltk_data]   Package stopwords is already up-to-date!\n"
     ]
    },
    {
     "data": {
      "text/plain": "True"
     },
     "execution_count": 606,
     "metadata": {},
     "output_type": "execute_result"
    }
   ],
   "source": [
    "import pandas as pd\n",
    "from unidecode import unidecode\n",
    "import re\n",
    "from nltk.tokenize.toktok import ToktokTokenizer\n",
    "from nltk.corpus import stopwords\n",
    "from nltk.stem import SnowballStemmer\n",
    "import nltk\n",
    "import matplotlib.pyplot as plt\n",
    "import seaborn as sns\n",
    "import math\n",
    "import numpy as np\n",
    "nltk.download('stopwords')"
   ],
   "metadata": {
    "collapsed": false,
    "ExecuteTime": {
     "end_time": "2023-11-06T23:48:56.942499300Z",
     "start_time": "2023-11-06T23:48:56.545102400Z"
    }
   },
   "id": "initial_id"
  },
  {
   "cell_type": "code",
   "execution_count": 607,
   "outputs": [],
   "source": [
    "df_train = pd.read_csv(\"./data/categories/train.csv\")\n",
    "df_test = pd.read_csv(\"./data/categories/test.csv\")\n",
    "index_test = df_test['index']\n",
    "df_complete = pd.concat([df_train,df_test])\n",
    "index = df_complete['index']\n",
    "titulo = df_complete['titulo']\n",
    "categoria = df_train['categoria']"
   ],
   "metadata": {
    "collapsed": false,
    "ExecuteTime": {
     "end_time": "2023-11-06T23:48:57.151481700Z",
     "start_time": "2023-11-06T23:48:56.941498500Z"
    }
   },
   "id": "27a0df0062972549"
  },
  {
   "cell_type": "code",
   "execution_count": 608,
   "outputs": [
    {
     "data": {
      "text/plain": "   index                                             titulo  \\\n0    610  \"De nada sirven los triunfos si la paz no los ...   \n1    819  \"Hay mejores formas para uno mostrar su forma ...   \n2    637                #LosNacionalesXSeñal - Bahía Cupica   \n3    740  #LosNacionalesXSeñal - Estudiantes Utech balon...   \n4    160  #LosNacionalesXSeñal - Las pruebas de triatlón...   \n5    101  #LosNacionalesXSeñal - María Elena Hurtado, la...   \n6    405           #LosNacionalesXSeñal - Niños voley playa   \n7    681          #LosNacionalesXSeñal - ¡Hicimos historia!   \n8    428  #PedaleoPor: Ariel Molina envía un saludo a lo...   \n9     13  #PedaleoPor: Ariel Molina envía un saludo a lo...   \n\n              categoria  \n0  Película y Animación  \n1  Película y Animación  \n2              Deportes  \n3              Deportes  \n4              Deportes  \n5              Deportes  \n6              Deportes  \n7              Deportes  \n8              Deportes  \n9              Deportes  ",
      "text/html": "<div>\n<style scoped>\n    .dataframe tbody tr th:only-of-type {\n        vertical-align: middle;\n    }\n\n    .dataframe tbody tr th {\n        vertical-align: top;\n    }\n\n    .dataframe thead th {\n        text-align: right;\n    }\n</style>\n<table border=\"1\" class=\"dataframe\">\n  <thead>\n    <tr style=\"text-align: right;\">\n      <th></th>\n      <th>index</th>\n      <th>titulo</th>\n      <th>categoria</th>\n    </tr>\n  </thead>\n  <tbody>\n    <tr>\n      <th>0</th>\n      <td>610</td>\n      <td>\"De nada sirven los triunfos si la paz no los ...</td>\n      <td>Película y Animación</td>\n    </tr>\n    <tr>\n      <th>1</th>\n      <td>819</td>\n      <td>\"Hay mejores formas para uno mostrar su forma ...</td>\n      <td>Película y Animación</td>\n    </tr>\n    <tr>\n      <th>2</th>\n      <td>637</td>\n      <td>#LosNacionalesXSeñal - Bahía Cupica</td>\n      <td>Deportes</td>\n    </tr>\n    <tr>\n      <th>3</th>\n      <td>740</td>\n      <td>#LosNacionalesXSeñal - Estudiantes Utech balon...</td>\n      <td>Deportes</td>\n    </tr>\n    <tr>\n      <th>4</th>\n      <td>160</td>\n      <td>#LosNacionalesXSeñal - Las pruebas de triatlón...</td>\n      <td>Deportes</td>\n    </tr>\n    <tr>\n      <th>5</th>\n      <td>101</td>\n      <td>#LosNacionalesXSeñal - María Elena Hurtado, la...</td>\n      <td>Deportes</td>\n    </tr>\n    <tr>\n      <th>6</th>\n      <td>405</td>\n      <td>#LosNacionalesXSeñal - Niños voley playa</td>\n      <td>Deportes</td>\n    </tr>\n    <tr>\n      <th>7</th>\n      <td>681</td>\n      <td>#LosNacionalesXSeñal - ¡Hicimos historia!</td>\n      <td>Deportes</td>\n    </tr>\n    <tr>\n      <th>8</th>\n      <td>428</td>\n      <td>#PedaleoPor: Ariel Molina envía un saludo a lo...</td>\n      <td>Deportes</td>\n    </tr>\n    <tr>\n      <th>9</th>\n      <td>13</td>\n      <td>#PedaleoPor: Ariel Molina envía un saludo a lo...</td>\n      <td>Deportes</td>\n    </tr>\n  </tbody>\n</table>\n</div>"
     },
     "execution_count": 608,
     "metadata": {},
     "output_type": "execute_result"
    }
   ],
   "source": [
    "df_complete.head(10)"
   ],
   "metadata": {
    "collapsed": false,
    "ExecuteTime": {
     "end_time": "2023-11-06T23:48:57.210816800Z",
     "start_time": "2023-11-06T23:48:57.155481300Z"
    }
   },
   "id": "3fc290c6b43ed33"
  },
  {
   "cell_type": "code",
   "execution_count": 609,
   "outputs": [
    {
     "data": {
      "text/plain": "0     \"De nada sirven los triunfos si la paz no los ...\n1     \"Hay mejores formas para uno mostrar su forma ...\n2                   #LosNacionalesXSeñal - Bahía Cupica\n3     #LosNacionalesXSeñal - Estudiantes Utech balon...\n4     #LosNacionalesXSeñal - Las pruebas de triatlón...\n5     #LosNacionalesXSeñal - María Elena Hurtado, la...\n6              #LosNacionalesXSeñal - Niños voley playa\n7             #LosNacionalesXSeñal - ¡Hicimos historia!\n8     #PedaleoPor: Ariel Molina envía un saludo a lo...\n9     #PedaleoPor: Ariel Molina envía un saludo a lo...\n10    #PedaleoPor: Dagoberto López envía un saludo a...\n11    #PedaleoPor: Esteban Kekessy envía un saludo a...\n12    #PedaleoPor: Henry García envía un saludo a lo...\n13    #PedaleoPor: James Guevara envía un saludo a l...\n14    #PedaleoPor: Javier Cruz envía un saludo a los...\n15    #PedaleoPor: Javier Rodríguez envía un saludo ...\n16    #PedaleoPor: Jonathan Devía envía un saludo a ...\n17    #PedaleoPor: Jorge Merchán envía un saludo a l...\n18    #PedaleoPor: Jorge envía un saludo a los escar...\n19    #PedaleoPor: Jorge envía un saludo a los escar...\nName: titulo, dtype: object"
     },
     "execution_count": 609,
     "metadata": {},
     "output_type": "execute_result"
    }
   ],
   "source": [
    "titulo.head(20)"
   ],
   "metadata": {
    "collapsed": false,
    "ExecuteTime": {
     "end_time": "2023-11-06T23:48:57.212402600Z",
     "start_time": "2023-11-06T23:48:57.186361400Z"
    }
   },
   "id": "d4be78d211a1fd5e"
  },
  {
   "cell_type": "code",
   "execution_count": 610,
   "outputs": [],
   "source": [
    "titulo = titulo.str.lower()"
   ],
   "metadata": {
    "collapsed": false,
    "ExecuteTime": {
     "end_time": "2023-11-06T23:48:57.317184300Z",
     "start_time": "2023-11-06T23:48:57.200387800Z"
    }
   },
   "id": "26d592f76c34fd79"
  },
  {
   "cell_type": "code",
   "execution_count": 611,
   "outputs": [
    {
     "data": {
      "text/plain": "0     \"de nada sirven los triunfos si la paz no los ...\n1     \"hay mejores formas para uno mostrar su forma ...\n2                   #losnacionalesxseñal - bahía cupica\n3     #losnacionalesxseñal - estudiantes utech balon...\n4     #losnacionalesxseñal - las pruebas de triatlón...\n5     #losnacionalesxseñal - maría elena hurtado, la...\n6              #losnacionalesxseñal - niños voley playa\n7             #losnacionalesxseñal - ¡hicimos historia!\n8     #pedaleopor: ariel molina envía un saludo a lo...\n9     #pedaleopor: ariel molina envía un saludo a lo...\n10    #pedaleopor: dagoberto lópez envía un saludo a...\n11    #pedaleopor: esteban kekessy envía un saludo a...\n12    #pedaleopor: henry garcía envía un saludo a lo...\n13    #pedaleopor: james guevara envía un saludo a l...\n14    #pedaleopor: javier cruz envía un saludo a los...\n15    #pedaleopor: javier rodríguez envía un saludo ...\n16    #pedaleopor: jonathan devía envía un saludo a ...\n17    #pedaleopor: jorge merchán envía un saludo a l...\n18    #pedaleopor: jorge envía un saludo a los escar...\n19    #pedaleopor: jorge envía un saludo a los escar...\nName: titulo, dtype: object"
     },
     "execution_count": 611,
     "metadata": {},
     "output_type": "execute_result"
    }
   ],
   "source": [
    "titulo.head(20)"
   ],
   "metadata": {
    "collapsed": false,
    "ExecuteTime": {
     "end_time": "2023-11-06T23:48:57.357192800Z",
     "start_time": "2023-11-06T23:48:57.230318800Z"
    }
   },
   "id": "6ad9aea0be7810b6"
  },
  {
   "cell_type": "code",
   "execution_count": 612,
   "outputs": [],
   "source": [
    "titulo = titulo.apply(unidecode)"
   ],
   "metadata": {
    "collapsed": false,
    "ExecuteTime": {
     "end_time": "2023-11-06T23:48:57.358192900Z",
     "start_time": "2023-11-06T23:48:57.243566200Z"
    }
   },
   "id": "d1b37853508b8c66"
  },
  {
   "cell_type": "code",
   "execution_count": 613,
   "outputs": [
    {
     "data": {
      "text/plain": "0     \"de nada sirven los triunfos si la paz no los ...\n1     \"hay mejores formas para uno mostrar su forma ...\n2                   #losnacionalesxsenal - bahia cupica\n3     #losnacionalesxsenal - estudiantes utech balon...\n4     #losnacionalesxsenal - las pruebas de triatlon...\n5     #losnacionalesxsenal - maria elena hurtado, la...\n6              #losnacionalesxsenal - ninos voley playa\n7             #losnacionalesxsenal - !hicimos historia!\n8     #pedaleopor: ariel molina envia un saludo a lo...\n9     #pedaleopor: ariel molina envia un saludo a lo...\n10    #pedaleopor: dagoberto lopez envia un saludo a...\n11    #pedaleopor: esteban kekessy envia un saludo a...\n12    #pedaleopor: henry garcia envia un saludo a lo...\n13    #pedaleopor: james guevara envia un saludo a l...\n14    #pedaleopor: javier cruz envia un saludo a los...\n15    #pedaleopor: javier rodriguez envia un saludo ...\n16    #pedaleopor: jonathan devia envia un saludo a ...\n17    #pedaleopor: jorge merchan envia un saludo a l...\n18    #pedaleopor: jorge envia un saludo a los escar...\n19    #pedaleopor: jorge envia un saludo a los escar...\nName: titulo, dtype: object"
     },
     "execution_count": 613,
     "metadata": {},
     "output_type": "execute_result"
    }
   ],
   "source": [
    "titulo.head(20)"
   ],
   "metadata": {
    "collapsed": false,
    "ExecuteTime": {
     "end_time": "2023-11-06T23:48:57.358192900Z",
     "start_time": "2023-11-06T23:48:57.272890600Z"
    }
   },
   "id": "e800e10a7222be1f"
  },
  {
   "cell_type": "code",
   "execution_count": 614,
   "outputs": [],
   "source": [
    "def quitar_caracteres_especiales(texto):\n",
    "    return re.sub(r'[^A-Za-z ]+', '', texto)\n",
    "titulo = titulo.apply(quitar_caracteres_especiales)"
   ],
   "metadata": {
    "collapsed": false,
    "ExecuteTime": {
     "end_time": "2023-11-06T23:48:57.685710300Z",
     "start_time": "2023-11-06T23:48:57.287429100Z"
    }
   },
   "id": "e70bd33d818b4fe0"
  },
  {
   "cell_type": "code",
   "execution_count": 615,
   "outputs": [
    {
     "data": {
      "text/plain": "0     de nada sirven los triunfos si la paz no los c...\n1     hay mejores formas para uno mostrar su forma d...\n2                     losnacionalesxsenal  bahia cupica\n3      losnacionalesxsenal  estudiantes utech balonmano\n4     losnacionalesxsenal  las pruebas de triatlon l...\n5     losnacionalesxsenal  maria elena hurtado la pe...\n6                losnacionalesxsenal  ninos voley playa\n7                 losnacionalesxsenal  hicimos historia\n8     pedaleopor ariel molina envia un saludo a los ...\n9     pedaleopor ariel molina envia un saludo a los ...\n10    pedaleopor dagoberto lopez envia un saludo a l...\n11    pedaleopor esteban kekessy envia un saludo a l...\n12    pedaleopor henry garcia envia un saludo a los ...\n13    pedaleopor james guevara envia un saludo a los...\n14    pedaleopor javier cruz envia un saludo a los e...\n15    pedaleopor javier rodriguez envia un saludo a ...\n16    pedaleopor jonathan devia envia un saludo a lo...\n17    pedaleopor jorge merchan envia un saludo a los...\n18    pedaleopor jorge envia un saludo a los escarab...\n19    pedaleopor jorge envia un saludo a los escarab...\nName: titulo, dtype: object"
     },
     "execution_count": 615,
     "metadata": {},
     "output_type": "execute_result"
    }
   ],
   "source": [
    "titulo.head(20)"
   ],
   "metadata": {
    "collapsed": false,
    "ExecuteTime": {
     "end_time": "2023-11-06T23:48:57.830304700Z",
     "start_time": "2023-11-06T23:48:57.379446400Z"
    }
   },
   "id": "9cea9060caa7da6f"
  },
  {
   "cell_type": "code",
   "execution_count": 616,
   "outputs": [
    {
     "data": {
      "text/plain": "       Palabra\n0           de\n1         nada\n2       sirven\n3          los\n4     triunfos\n5           si\n6           la\n7          paz\n8           no\n9       corona\n10  lapazhabla\n11         hay\n12     mejores\n13      formas\n14        para\n15         uno\n16     mostrar\n17          su\n18       forma\n19      pensar",
      "text/html": "<div>\n<style scoped>\n    .dataframe tbody tr th:only-of-type {\n        vertical-align: middle;\n    }\n\n    .dataframe tbody tr th {\n        vertical-align: top;\n    }\n\n    .dataframe thead th {\n        text-align: right;\n    }\n</style>\n<table border=\"1\" class=\"dataframe\">\n  <thead>\n    <tr style=\"text-align: right;\">\n      <th></th>\n      <th>Palabra</th>\n    </tr>\n  </thead>\n  <tbody>\n    <tr>\n      <th>0</th>\n      <td>de</td>\n    </tr>\n    <tr>\n      <th>1</th>\n      <td>nada</td>\n    </tr>\n    <tr>\n      <th>2</th>\n      <td>sirven</td>\n    </tr>\n    <tr>\n      <th>3</th>\n      <td>los</td>\n    </tr>\n    <tr>\n      <th>4</th>\n      <td>triunfos</td>\n    </tr>\n    <tr>\n      <th>5</th>\n      <td>si</td>\n    </tr>\n    <tr>\n      <th>6</th>\n      <td>la</td>\n    </tr>\n    <tr>\n      <th>7</th>\n      <td>paz</td>\n    </tr>\n    <tr>\n      <th>8</th>\n      <td>no</td>\n    </tr>\n    <tr>\n      <th>9</th>\n      <td>corona</td>\n    </tr>\n    <tr>\n      <th>10</th>\n      <td>lapazhabla</td>\n    </tr>\n    <tr>\n      <th>11</th>\n      <td>hay</td>\n    </tr>\n    <tr>\n      <th>12</th>\n      <td>mejores</td>\n    </tr>\n    <tr>\n      <th>13</th>\n      <td>formas</td>\n    </tr>\n    <tr>\n      <th>14</th>\n      <td>para</td>\n    </tr>\n    <tr>\n      <th>15</th>\n      <td>uno</td>\n    </tr>\n    <tr>\n      <th>16</th>\n      <td>mostrar</td>\n    </tr>\n    <tr>\n      <th>17</th>\n      <td>su</td>\n    </tr>\n    <tr>\n      <th>18</th>\n      <td>forma</td>\n    </tr>\n    <tr>\n      <th>19</th>\n      <td>pensar</td>\n    </tr>\n  </tbody>\n</table>\n</div>"
     },
     "execution_count": 616,
     "metadata": {},
     "output_type": "execute_result"
    }
   ],
   "source": [
    "def obtener_palabras_unicas(texto, diccionario):\n",
    "    palabras = re.findall(r'\\b\\w+\\b', texto)\n",
    "    for palabra in palabras:\n",
    "        diccionario[palabra] = 0\n",
    "        \n",
    "palabras_unicas = {}\n",
    "\n",
    "titulo.apply(lambda x: obtener_palabras_unicas(x, palabras_unicas))\n",
    "\n",
    "df_palabras_unicas = pd.DataFrame(palabras_unicas.keys(), columns=[\"Palabra\"])\n",
    "df_palabras_unicas.head(20)"
   ],
   "metadata": {
    "collapsed": false,
    "ExecuteTime": {
     "end_time": "2023-11-06T23:48:57.882356Z",
     "start_time": "2023-11-06T23:48:57.461471600Z"
    }
   },
   "id": "e2f6a243171394ea"
  },
  {
   "cell_type": "code",
   "execution_count": 617,
   "outputs": [
    {
     "data": {
      "text/plain": "1848"
     },
     "execution_count": 617,
     "metadata": {},
     "output_type": "execute_result"
    }
   ],
   "source": [
    "len(df_palabras_unicas)"
   ],
   "metadata": {
    "collapsed": false,
    "ExecuteTime": {
     "end_time": "2023-11-06T23:48:57.882356Z",
     "start_time": "2023-11-06T23:48:57.503612600Z"
    }
   },
   "id": "3dd26bc6eaeed7"
  },
  {
   "cell_type": "code",
   "execution_count": 618,
   "outputs": [
    {
     "data": {
      "text/plain": "                                                    de  nada  sirven  los  \\\ntitulo                                                                      \nde nada sirven los triunfos si la paz no los co...   0     0       0    0   \nhay mejores formas para uno mostrar su forma de...   0     0       0    0   \nlosnacionalesxsenal  bahia cupica                    0     0       0    0   \nlosnacionalesxsenal  estudiantes utech balonmano     0     0       0    0   \nlosnacionalesxsenal  las pruebas de triatlon ll...   0     0       0    0   \n...                                                 ..   ...     ...  ...   \ncomo ensenarle a los papas a reciclar                0     0       0    0   \ncomo es tu municipio los ninos de paicol nos cu...   0     0       0    0   \nlos ninos podemos cambiar el mundo                   0     0       0    0   \nque harias tu  una nina ejemplar                     0     0       0    0   \nque te gusta de mi senal los ninos nos dan su o...   0     0       0    0   \n\n                                                    triunfos  si  la  \ntitulo                                                                \nde nada sirven los triunfos si la paz no los co...         0   0   0  \nhay mejores formas para uno mostrar su forma de...         0   0   0  \nlosnacionalesxsenal  bahia cupica                          0   0   0  \nlosnacionalesxsenal  estudiantes utech balonmano           0   0   0  \nlosnacionalesxsenal  las pruebas de triatlon ll...         0   0   0  \n...                                                      ...  ..  ..  \ncomo ensenarle a los papas a reciclar                      0   0   0  \ncomo es tu municipio los ninos de paicol nos cu...         0   0   0  \nlos ninos podemos cambiar el mundo                         0   0   0  \nque harias tu  una nina ejemplar                           0   0   0  \nque te gusta de mi senal los ninos nos dan su o...         0   0   0  \n\n[1000 rows x 7 columns]",
      "text/html": "<div>\n<style scoped>\n    .dataframe tbody tr th:only-of-type {\n        vertical-align: middle;\n    }\n\n    .dataframe tbody tr th {\n        vertical-align: top;\n    }\n\n    .dataframe thead th {\n        text-align: right;\n    }\n</style>\n<table border=\"1\" class=\"dataframe\">\n  <thead>\n    <tr style=\"text-align: right;\">\n      <th></th>\n      <th>de</th>\n      <th>nada</th>\n      <th>sirven</th>\n      <th>los</th>\n      <th>triunfos</th>\n      <th>si</th>\n      <th>la</th>\n    </tr>\n    <tr>\n      <th>titulo</th>\n      <th></th>\n      <th></th>\n      <th></th>\n      <th></th>\n      <th></th>\n      <th></th>\n      <th></th>\n    </tr>\n  </thead>\n  <tbody>\n    <tr>\n      <th>de nada sirven los triunfos si la paz no los corona lapazhabla</th>\n      <td>0</td>\n      <td>0</td>\n      <td>0</td>\n      <td>0</td>\n      <td>0</td>\n      <td>0</td>\n      <td>0</td>\n    </tr>\n    <tr>\n      <th>hay mejores formas para uno mostrar su forma de pensar sofia</th>\n      <td>0</td>\n      <td>0</td>\n      <td>0</td>\n      <td>0</td>\n      <td>0</td>\n      <td>0</td>\n      <td>0</td>\n    </tr>\n    <tr>\n      <th>losnacionalesxsenal  bahia cupica</th>\n      <td>0</td>\n      <td>0</td>\n      <td>0</td>\n      <td>0</td>\n      <td>0</td>\n      <td>0</td>\n      <td>0</td>\n    </tr>\n    <tr>\n      <th>losnacionalesxsenal  estudiantes utech balonmano</th>\n      <td>0</td>\n      <td>0</td>\n      <td>0</td>\n      <td>0</td>\n      <td>0</td>\n      <td>0</td>\n      <td>0</td>\n    </tr>\n    <tr>\n      <th>losnacionalesxsenal  las pruebas de triatlon llenaron de emocion al municipio de prado</th>\n      <td>0</td>\n      <td>0</td>\n      <td>0</td>\n      <td>0</td>\n      <td>0</td>\n      <td>0</td>\n      <td>0</td>\n    </tr>\n    <tr>\n      <th>...</th>\n      <td>...</td>\n      <td>...</td>\n      <td>...</td>\n      <td>...</td>\n      <td>...</td>\n      <td>...</td>\n      <td>...</td>\n    </tr>\n    <tr>\n      <th>como ensenarle a los papas a reciclar</th>\n      <td>0</td>\n      <td>0</td>\n      <td>0</td>\n      <td>0</td>\n      <td>0</td>\n      <td>0</td>\n      <td>0</td>\n    </tr>\n    <tr>\n      <th>como es tu municipio los ninos de paicol nos cuentan</th>\n      <td>0</td>\n      <td>0</td>\n      <td>0</td>\n      <td>0</td>\n      <td>0</td>\n      <td>0</td>\n      <td>0</td>\n    </tr>\n    <tr>\n      <th>los ninos podemos cambiar el mundo</th>\n      <td>0</td>\n      <td>0</td>\n      <td>0</td>\n      <td>0</td>\n      <td>0</td>\n      <td>0</td>\n      <td>0</td>\n    </tr>\n    <tr>\n      <th>que harias tu  una nina ejemplar</th>\n      <td>0</td>\n      <td>0</td>\n      <td>0</td>\n      <td>0</td>\n      <td>0</td>\n      <td>0</td>\n      <td>0</td>\n    </tr>\n    <tr>\n      <th>que te gusta de mi senal los ninos nos dan su opinion</th>\n      <td>0</td>\n      <td>0</td>\n      <td>0</td>\n      <td>0</td>\n      <td>0</td>\n      <td>0</td>\n      <td>0</td>\n    </tr>\n  </tbody>\n</table>\n<p>1000 rows × 7 columns</p>\n</div>"
     },
     "execution_count": 618,
     "metadata": {},
     "output_type": "execute_result"
    }
   ],
   "source": [
    "df_matriz_frecuencia = pd.DataFrame(palabras_unicas, index=titulo)\n",
    "df_matriz_frecuencia.iloc[:,:7]"
   ],
   "metadata": {
    "collapsed": false,
    "ExecuteTime": {
     "end_time": "2023-11-06T23:48:58.187940200Z",
     "start_time": "2023-11-06T23:48:57.517099100Z"
    }
   },
   "id": "2c4c7104d32c850b"
  },
  {
   "cell_type": "code",
   "execution_count": 619,
   "outputs": [
    {
     "data": {
      "text/plain": "Index(['de', 'nada', 'sirven', 'los', 'triunfos', 'si', 'la', 'paz', 'no',\n       'corona',\n       ...\n       'ensenarle', 'papas', 'reciclar', 'paicol', 'cuentan', 'podemos',\n       'cambiar', 'ejemplar', 'dan', 'opinion'],\n      dtype='object', length=1848)"
     },
     "execution_count": 619,
     "metadata": {},
     "output_type": "execute_result"
    }
   ],
   "source": [
    "df_matriz_frecuencia.columns"
   ],
   "metadata": {
    "collapsed": false,
    "ExecuteTime": {
     "end_time": "2023-11-06T23:48:58.188942900Z",
     "start_time": "2023-11-06T23:48:57.986252600Z"
    }
   },
   "id": "fdfa333fe7c0d354"
  },
  {
   "cell_type": "code",
   "execution_count": 620,
   "outputs": [
    {
     "ename": "KeyboardInterrupt",
     "evalue": "",
     "output_type": "error",
     "traceback": [
      "\u001B[1;31m---------------------------------------------------------------------------\u001B[0m",
      "\u001B[1;31mKeyboardInterrupt\u001B[0m                         Traceback (most recent call last)",
      "Cell \u001B[1;32mIn[620], line 4\u001B[0m\n\u001B[0;32m      2\u001B[0m \u001B[38;5;28;01mfor\u001B[39;00m palabra \u001B[38;5;129;01min\u001B[39;00m df_matriz_frecuencia\u001B[38;5;241m.\u001B[39mcolumns:\n\u001B[0;32m      3\u001B[0m     titulo_interno \u001B[38;5;241m=\u001B[39m fila\u001B[38;5;241m.\u001B[39mname\n\u001B[1;32m----> 4\u001B[0m     \u001B[43mdf_matriz_frecuencia\u001B[49m\u001B[38;5;241;43m.\u001B[39;49m\u001B[43mat\u001B[49m\u001B[43m[\u001B[49m\u001B[43mfila\u001B[49m\u001B[38;5;241;43m.\u001B[39;49m\u001B[43mname\u001B[49m\u001B[43m,\u001B[49m\u001B[43mpalabra\u001B[49m\u001B[43m]\u001B[49m \u001B[38;5;241m=\u001B[39m titulo_interno\u001B[38;5;241m.\u001B[39msplit()\u001B[38;5;241m.\u001B[39mcount(palabra)\n",
      "File \u001B[1;32m~\\Documents\\GitHub\\Estadistica III\\venv\\Lib\\site-packages\\pandas\\core\\indexing.py:2496\u001B[0m, in \u001B[0;36m_AtIndexer.__setitem__\u001B[1;34m(self, key, value)\u001B[0m\n\u001B[0;32m   2493\u001B[0m     \u001B[38;5;28;01mif\u001B[39;00m \u001B[38;5;129;01mnot\u001B[39;00m \u001B[38;5;28misinstance\u001B[39m(key, \u001B[38;5;28mtuple\u001B[39m) \u001B[38;5;129;01mor\u001B[39;00m \u001B[38;5;129;01mnot\u001B[39;00m \u001B[38;5;28mall\u001B[39m(is_scalar(x) \u001B[38;5;28;01mfor\u001B[39;00m x \u001B[38;5;129;01min\u001B[39;00m key):\n\u001B[0;32m   2494\u001B[0m         \u001B[38;5;28;01mraise\u001B[39;00m \u001B[38;5;167;01mValueError\u001B[39;00m(\u001B[38;5;124m\"\u001B[39m\u001B[38;5;124mInvalid call for scalar access (setting)!\u001B[39m\u001B[38;5;124m\"\u001B[39m)\n\u001B[1;32m-> 2496\u001B[0m     \u001B[38;5;28;43mself\u001B[39;49m\u001B[38;5;241;43m.\u001B[39;49m\u001B[43mobj\u001B[49m\u001B[38;5;241;43m.\u001B[39;49m\u001B[43mloc\u001B[49m\u001B[43m[\u001B[49m\u001B[43mkey\u001B[49m\u001B[43m]\u001B[49m \u001B[38;5;241m=\u001B[39m value\n\u001B[0;32m   2497\u001B[0m     \u001B[38;5;28;01mreturn\u001B[39;00m\n\u001B[0;32m   2499\u001B[0m \u001B[38;5;28;01mreturn\u001B[39;00m \u001B[38;5;28msuper\u001B[39m()\u001B[38;5;241m.\u001B[39m\u001B[38;5;21m__setitem__\u001B[39m(key, value)\n",
      "File \u001B[1;32m~\\Documents\\GitHub\\Estadistica III\\venv\\Lib\\site-packages\\pandas\\core\\indexing.py:885\u001B[0m, in \u001B[0;36m_LocationIndexer.__setitem__\u001B[1;34m(self, key, value)\u001B[0m\n\u001B[0;32m    882\u001B[0m \u001B[38;5;28mself\u001B[39m\u001B[38;5;241m.\u001B[39m_has_valid_setitem_indexer(key)\n\u001B[0;32m    884\u001B[0m iloc \u001B[38;5;241m=\u001B[39m \u001B[38;5;28mself\u001B[39m \u001B[38;5;28;01mif\u001B[39;00m \u001B[38;5;28mself\u001B[39m\u001B[38;5;241m.\u001B[39mname \u001B[38;5;241m==\u001B[39m \u001B[38;5;124m\"\u001B[39m\u001B[38;5;124miloc\u001B[39m\u001B[38;5;124m\"\u001B[39m \u001B[38;5;28;01melse\u001B[39;00m \u001B[38;5;28mself\u001B[39m\u001B[38;5;241m.\u001B[39mobj\u001B[38;5;241m.\u001B[39miloc\n\u001B[1;32m--> 885\u001B[0m \u001B[43miloc\u001B[49m\u001B[38;5;241;43m.\u001B[39;49m\u001B[43m_setitem_with_indexer\u001B[49m\u001B[43m(\u001B[49m\u001B[43mindexer\u001B[49m\u001B[43m,\u001B[49m\u001B[43m \u001B[49m\u001B[43mvalue\u001B[49m\u001B[43m,\u001B[49m\u001B[43m \u001B[49m\u001B[38;5;28;43mself\u001B[39;49m\u001B[38;5;241;43m.\u001B[39;49m\u001B[43mname\u001B[49m\u001B[43m)\u001B[49m\n",
      "File \u001B[1;32m~\\Documents\\GitHub\\Estadistica III\\venv\\Lib\\site-packages\\pandas\\core\\indexing.py:1895\u001B[0m, in \u001B[0;36m_iLocIndexer._setitem_with_indexer\u001B[1;34m(self, indexer, value, name)\u001B[0m\n\u001B[0;32m   1893\u001B[0m     \u001B[38;5;28mself\u001B[39m\u001B[38;5;241m.\u001B[39m_setitem_with_indexer_split_path(indexer, value, name)\n\u001B[0;32m   1894\u001B[0m \u001B[38;5;28;01melse\u001B[39;00m:\n\u001B[1;32m-> 1895\u001B[0m     \u001B[38;5;28;43mself\u001B[39;49m\u001B[38;5;241;43m.\u001B[39;49m\u001B[43m_setitem_single_block\u001B[49m\u001B[43m(\u001B[49m\u001B[43mindexer\u001B[49m\u001B[43m,\u001B[49m\u001B[43m \u001B[49m\u001B[43mvalue\u001B[49m\u001B[43m,\u001B[49m\u001B[43m \u001B[49m\u001B[43mname\u001B[49m\u001B[43m)\u001B[49m\n",
      "File \u001B[1;32m~\\Documents\\GitHub\\Estadistica III\\venv\\Lib\\site-packages\\pandas\\core\\indexing.py:2138\u001B[0m, in \u001B[0;36m_iLocIndexer._setitem_single_block\u001B[1;34m(self, indexer, value, name)\u001B[0m\n\u001B[0;32m   2135\u001B[0m \u001B[38;5;28mself\u001B[39m\u001B[38;5;241m.\u001B[39mobj\u001B[38;5;241m.\u001B[39m_check_is_chained_assignment_possible()\n\u001B[0;32m   2137\u001B[0m \u001B[38;5;66;03m# actually do the set\u001B[39;00m\n\u001B[1;32m-> 2138\u001B[0m \u001B[38;5;28mself\u001B[39m\u001B[38;5;241m.\u001B[39mobj\u001B[38;5;241m.\u001B[39m_mgr \u001B[38;5;241m=\u001B[39m \u001B[38;5;28;43mself\u001B[39;49m\u001B[38;5;241;43m.\u001B[39;49m\u001B[43mobj\u001B[49m\u001B[38;5;241;43m.\u001B[39;49m\u001B[43m_mgr\u001B[49m\u001B[38;5;241;43m.\u001B[39;49m\u001B[43msetitem\u001B[49m\u001B[43m(\u001B[49m\u001B[43mindexer\u001B[49m\u001B[38;5;241;43m=\u001B[39;49m\u001B[43mindexer\u001B[49m\u001B[43m,\u001B[49m\u001B[43m \u001B[49m\u001B[43mvalue\u001B[49m\u001B[38;5;241;43m=\u001B[39;49m\u001B[43mvalue\u001B[49m\u001B[43m)\u001B[49m\n\u001B[0;32m   2139\u001B[0m \u001B[38;5;28mself\u001B[39m\u001B[38;5;241m.\u001B[39mobj\u001B[38;5;241m.\u001B[39m_maybe_update_cacher(clear\u001B[38;5;241m=\u001B[39m\u001B[38;5;28;01mTrue\u001B[39;00m, inplace\u001B[38;5;241m=\u001B[39m\u001B[38;5;28;01mTrue\u001B[39;00m)\n",
      "File \u001B[1;32m~\\Documents\\GitHub\\Estadistica III\\venv\\Lib\\site-packages\\pandas\\core\\internals\\managers.py:399\u001B[0m, in \u001B[0;36mBaseBlockManager.setitem\u001B[1;34m(self, indexer, value)\u001B[0m\n\u001B[0;32m    395\u001B[0m     \u001B[38;5;66;03m# No need to split if we either set all columns or on a single block\u001B[39;00m\n\u001B[0;32m    396\u001B[0m     \u001B[38;5;66;03m# manager\u001B[39;00m\n\u001B[0;32m    397\u001B[0m     \u001B[38;5;28mself\u001B[39m \u001B[38;5;241m=\u001B[39m \u001B[38;5;28mself\u001B[39m\u001B[38;5;241m.\u001B[39mcopy()\n\u001B[1;32m--> 399\u001B[0m \u001B[38;5;28;01mreturn\u001B[39;00m \u001B[38;5;28;43mself\u001B[39;49m\u001B[38;5;241;43m.\u001B[39;49m\u001B[43mapply\u001B[49m\u001B[43m(\u001B[49m\u001B[38;5;124;43m\"\u001B[39;49m\u001B[38;5;124;43msetitem\u001B[39;49m\u001B[38;5;124;43m\"\u001B[39;49m\u001B[43m,\u001B[49m\u001B[43m \u001B[49m\u001B[43mindexer\u001B[49m\u001B[38;5;241;43m=\u001B[39;49m\u001B[43mindexer\u001B[49m\u001B[43m,\u001B[49m\u001B[43m \u001B[49m\u001B[43mvalue\u001B[49m\u001B[38;5;241;43m=\u001B[39;49m\u001B[43mvalue\u001B[49m\u001B[43m)\u001B[49m\n",
      "File \u001B[1;32m~\\Documents\\GitHub\\Estadistica III\\venv\\Lib\\site-packages\\pandas\\core\\internals\\managers.py:354\u001B[0m, in \u001B[0;36mBaseBlockManager.apply\u001B[1;34m(self, f, align_keys, **kwargs)\u001B[0m\n\u001B[0;32m    352\u001B[0m         applied \u001B[38;5;241m=\u001B[39m b\u001B[38;5;241m.\u001B[39mapply(f, \u001B[38;5;241m*\u001B[39m\u001B[38;5;241m*\u001B[39mkwargs)\n\u001B[0;32m    353\u001B[0m     \u001B[38;5;28;01melse\u001B[39;00m:\n\u001B[1;32m--> 354\u001B[0m         applied \u001B[38;5;241m=\u001B[39m \u001B[38;5;28;43mgetattr\u001B[39;49m\u001B[43m(\u001B[49m\u001B[43mb\u001B[49m\u001B[43m,\u001B[49m\u001B[43m \u001B[49m\u001B[43mf\u001B[49m\u001B[43m)\u001B[49m\u001B[43m(\u001B[49m\u001B[38;5;241;43m*\u001B[39;49m\u001B[38;5;241;43m*\u001B[39;49m\u001B[43mkwargs\u001B[49m\u001B[43m)\u001B[49m\n\u001B[0;32m    355\u001B[0m     result_blocks \u001B[38;5;241m=\u001B[39m extend_blocks(applied, result_blocks)\n\u001B[0;32m    357\u001B[0m out \u001B[38;5;241m=\u001B[39m \u001B[38;5;28mtype\u001B[39m(\u001B[38;5;28mself\u001B[39m)\u001B[38;5;241m.\u001B[39mfrom_blocks(result_blocks, \u001B[38;5;28mself\u001B[39m\u001B[38;5;241m.\u001B[39maxes)\n",
      "\u001B[1;31mKeyboardInterrupt\u001B[0m: "
     ]
    }
   ],
   "source": [
    "for indice, fila in df_matriz_frecuencia.iterrows():\n",
    "    for palabra in df_matriz_frecuencia.columns:\n",
    "        titulo_interno = fila.name\n",
    "        df_matriz_frecuencia.at[fila.name,palabra] = titulo_interno.split().count(palabra)"
   ],
   "metadata": {
    "collapsed": false,
    "ExecuteTime": {
     "end_time": "2023-11-06T23:49:04.285574200Z",
     "start_time": "2023-11-06T23:48:57.998462800Z"
    }
   },
   "id": "31f44d1abdc9bfba"
  },
  {
   "cell_type": "code",
   "execution_count": null,
   "outputs": [],
   "source": [
    "df_matriz_frecuencia.iloc[:,:7]"
   ],
   "metadata": {
    "collapsed": false,
    "ExecuteTime": {
     "end_time": "2023-11-06T23:49:04.319412600Z",
     "start_time": "2023-11-06T23:49:04.288576500Z"
    }
   },
   "id": "606382a00d2e9487"
  },
  {
   "cell_type": "code",
   "execution_count": null,
   "outputs": [],
   "source": [
    "#Stemmer\n",
    "stop_words = set(stopwords.words('spanish'))\n",
    "def simple_stemmer(text):\n",
    "    stemmer = SnowballStemmer(\"spanish\")\n",
    "    tokenizers = ToktokTokenizer()\n",
    "    tokens = tokenizers.tokenize(text)\n",
    "    tokens = [stemmer.stem(token.strip()) for token in tokens if token not in stop_words]\n",
    "    text = \" \".join(tokens)\n",
    "    return text\n",
    "\n",
    "titulo = titulo.apply(simple_stemmer)"
   ],
   "metadata": {
    "collapsed": false,
    "ExecuteTime": {
     "start_time": "2023-11-06T23:49:04.293411300Z"
    }
   },
   "id": "90e5cfc2d9ef3625"
  },
  {
   "cell_type": "code",
   "execution_count": null,
   "outputs": [],
   "source": [
    "titulo.head(10)"
   ],
   "metadata": {
    "collapsed": false,
    "ExecuteTime": {
     "start_time": "2023-11-06T23:49:04.297410700Z"
    }
   },
   "id": "75a5e076e1237608"
  },
  {
   "cell_type": "code",
   "execution_count": null,
   "outputs": [],
   "source": [
    "df_corr_dummies = pd.get_dummies(df_complete['categoria'].head(800), columns=['categoria'], drop_first=True)\n",
    "df_corr_dummies.corr()"
   ],
   "metadata": {
    "collapsed": false,
    "ExecuteTime": {
     "start_time": "2023-11-06T23:49:04.303411200Z"
    }
   },
   "id": "6e6d9ffed669c95c"
  },
  {
   "cell_type": "code",
   "execution_count": null,
   "outputs": [],
   "source": [
    "plt.Figure(figsize=(8,6))\n",
    "sns.heatmap(df_corr_dummies.corr(),annot=True, cmap='coolwarm', linewidths=0.5)\n",
    "plt.show()"
   ],
   "metadata": {
    "collapsed": false,
    "ExecuteTime": {
     "start_time": "2023-11-06T23:49:04.308411500Z"
    }
   },
   "id": "4a29323b5118cea2"
  },
  {
   "cell_type": "markdown",
   "source": [
    "# Term Frequency (Matriz TF)"
   ],
   "metadata": {
    "collapsed": false
   },
   "id": "f19bf9f337c35b34"
  },
  {
   "cell_type": "code",
   "execution_count": null,
   "outputs": [],
   "source": [
    "palabras_unicas = {}\n",
    "\n",
    "titulo.apply(lambda x: obtener_palabras_unicas(x, palabras_unicas))\n",
    "\n",
    "df_palabras_unicas = pd.DataFrame(palabras_unicas.keys(), columns=[\"Palabra\"])\n",
    "df_palabras_unicas.head(20)"
   ],
   "metadata": {
    "collapsed": false,
    "ExecuteTime": {
     "start_time": "2023-11-06T23:49:04.314413200Z"
    }
   },
   "id": "99e7821c42136eb1"
  },
  {
   "cell_type": "code",
   "execution_count": null,
   "outputs": [],
   "source": [
    "len(df_palabras_unicas)"
   ],
   "metadata": {
    "collapsed": false,
    "ExecuteTime": {
     "end_time": "2023-11-06T23:49:04.483397100Z",
     "start_time": "2023-11-06T23:49:04.320412900Z"
    }
   },
   "id": "9031ef1d970e7261"
  },
  {
   "cell_type": "code",
   "execution_count": null,
   "outputs": [],
   "source": [
    "df_matriz_TF = pd.DataFrame(palabras_unicas, index=titulo)\n",
    "df_matriz_frecuencia = pd.DataFrame(palabras_unicas, index=titulo)\n",
    "df_matriz_TF.iloc[:,:7]"
   ],
   "metadata": {
    "collapsed": false,
    "ExecuteTime": {
     "start_time": "2023-11-06T23:49:04.325411900Z"
    }
   },
   "id": "d292012943b32b9d"
  },
  {
   "cell_type": "code",
   "execution_count": null,
   "outputs": [],
   "source": [
    "# Definir la nueva matriz de frecuencia con las nuevas palabras y hacer el conteo de cada palabra en cada titulo\n",
    "df_matriz_frecuencia = df_matriz_frecuencia.astype(float)\n",
    "for indice, fila in df_matriz_frecuencia.iterrows():\n",
    "    for palabra in df_matriz_frecuencia.columns:\n",
    "        titulo_interno = fila.name\n",
    "        titulo_interno_vector = titulo_interno.split()\n",
    "        df_matriz_frecuencia.at[titulo_interno,palabra] = titulo_interno_vector.count(palabra)"
   ],
   "metadata": {
    "collapsed": false,
    "ExecuteTime": {
     "start_time": "2023-11-06T23:49:04.331297300Z"
    }
   },
   "id": "acd6e422309a7eec"
  },
  {
   "cell_type": "code",
   "execution_count": null,
   "outputs": [],
   "source": [
    "df_matriz_frecuencia.iloc[:,:7]"
   ],
   "metadata": {
    "collapsed": false,
    "ExecuteTime": {
     "start_time": "2023-11-06T23:49:04.337296700Z"
    }
   },
   "id": "8d1bdf5b0e35316a"
  },
  {
   "cell_type": "code",
   "execution_count": null,
   "outputs": [],
   "source": [
    "df_matriz_TF = df_matriz_TF.astype(float)\n",
    "for indice, fila in df_matriz_TF.iterrows():\n",
    "    titulo_interno = fila.name\n",
    "    titulo_interno_vector = titulo_interno.split()\n",
    "    for palabra in df_matriz_TF.columns:\n",
    "        df_matriz_TF.at[titulo_interno,palabra] = (titulo_interno_vector.count(palabra))/len(titulo_interno_vector)\n",
    "df_matriz_TF.iloc[:,:7]"
   ],
   "metadata": {
    "collapsed": false,
    "ExecuteTime": {
     "start_time": "2023-11-06T23:49:04.342298400Z"
    }
   },
   "id": "c977c95203ea6e85"
  },
  {
   "cell_type": "markdown",
   "source": [
    "# Inverse Document Frequency (Vector IDF)"
   ],
   "metadata": {
    "collapsed": false
   },
   "id": "5cfe7555bc6d070e"
  },
  {
   "cell_type": "code",
   "execution_count": null,
   "outputs": [],
   "source": [
    "cantidad_documentos = len(df_matriz_frecuencia)\n",
    "df_matriz_IDF = pd.DataFrame(columns=['Transformacion'], index=palabras_unicas)\n",
    "for indice, fila in df_matriz_IDF.iterrows():\n",
    "    palabra_interna = fila.name\n",
    "    cantidad_total_palabra = df_matriz_frecuencia[f'{palabra_interna}'].sum()\n",
    "    df_matriz_IDF.loc[palabra_interna] = math.log(cantidad_documentos/(cantidad_total_palabra+1))\n",
    "df_matriz_IDF.iloc[:,:7]"
   ],
   "metadata": {
    "collapsed": false,
    "ExecuteTime": {
     "start_time": "2023-11-06T23:49:04.346297700Z"
    }
   },
   "id": "2754792e9000e534"
  },
  {
   "cell_type": "code",
   "execution_count": null,
   "outputs": [],
   "source": [
    "df_matriz_IDF = df_matriz_IDF.transpose()"
   ],
   "metadata": {
    "collapsed": false,
    "ExecuteTime": {
     "start_time": "2023-11-06T23:49:04.351300700Z"
    }
   },
   "id": "ba1cda5381ef1701"
  },
  {
   "cell_type": "code",
   "execution_count": null,
   "outputs": [],
   "source": [
    "df_matriz_tf_idf = df_matriz_TF.copy()"
   ],
   "metadata": {
    "collapsed": false,
    "ExecuteTime": {
     "start_time": "2023-11-06T23:49:04.356298500Z"
    }
   },
   "id": "d90036803b6bef59"
  },
  {
   "cell_type": "code",
   "execution_count": null,
   "outputs": [],
   "source": [
    "for indice, fila in df_matriz_TF.iterrows():\n",
    "    titulo_interno = fila.name\n",
    "    for palabra in df_matriz_TF.columns:\n",
    "        df_matriz_tf_idf.at[titulo_interno,palabra] = df_matriz_tf_idf.at[titulo_interno,palabra]*df_matriz_IDF.at['Transformacion',palabra]"
   ],
   "metadata": {
    "collapsed": false,
    "ExecuteTime": {
     "start_time": "2023-11-06T23:49:04.360299400Z"
    }
   },
   "id": "f434476012ec9c1a"
  },
  {
   "cell_type": "code",
   "execution_count": null,
   "outputs": [],
   "source": [
    "df_matriz_tf_idf.iloc[:,:7]"
   ],
   "metadata": {
    "collapsed": false,
    "ExecuteTime": {
     "start_time": "2023-11-06T23:49:04.366299900Z"
    }
   },
   "id": "c6e61d0b3beabaa2"
  },
  {
   "cell_type": "markdown",
   "source": [
    "# Entrenamientos:\n",
    "### Regresion logistica"
   ],
   "metadata": {
    "collapsed": false
   },
   "id": "c3335c9e91ca2795"
  },
  {
   "cell_type": "code",
   "execution_count": null,
   "outputs": [],
   "source": [
    "from sklearn.feature_extraction.text import CountVectorizer\n",
    "from  sklearn.linear_model import LogisticRegression\n",
    "from sklearn.metrics import accuracy_score, precision_score, recall_score, f1_score\n",
    "from sklearn.metrics import confusion_matrix, ConfusionMatrixDisplay\n",
    "from sklearn.model_selection import train_test_split"
   ],
   "metadata": {
    "collapsed": false,
    "ExecuteTime": {
     "start_time": "2023-11-06T23:49:04.371300600Z"
    }
   },
   "id": "1cc48acfe3a31735"
  },
  {
   "cell_type": "code",
   "execution_count": null,
   "outputs": [],
   "source": [
    "X_train,X_test, y_train,y_test = train_test_split(df_matriz_tf_idf.head(800),categoria,test_size=0.2)"
   ],
   "metadata": {
    "collapsed": false,
    "ExecuteTime": {
     "start_time": "2023-11-06T23:49:04.376300900Z"
    }
   },
   "id": "6d8014c44dece6f7"
  },
  {
   "cell_type": "code",
   "execution_count": null,
   "outputs": [],
   "source": [
    "count_vect = CountVectorizer(min_df=1, max_df=100000, binary=False, ngram_range=(1,1))\n",
    "count_vect_train = count_vect.fit_transform(df_train)\n",
    "count_vect_test = count_vect.transform(df_test)"
   ],
   "metadata": {
    "collapsed": false,
    "ExecuteTime": {
     "start_time": "2023-11-06T23:49:04.380301400Z"
    }
   },
   "id": "38ce69e5ce65493"
  },
  {
   "cell_type": "code",
   "execution_count": null,
   "outputs": [],
   "source": [
    "logistic_model = LogisticRegression(penalty=\"l2\", max_iter=800, C=1.0, random_state=42)"
   ],
   "metadata": {
    "collapsed": false,
    "ExecuteTime": {
     "start_time": "2023-11-06T23:49:04.386302700Z"
    }
   },
   "id": "4f5c4c9d804f4624"
  },
  {
   "cell_type": "code",
   "execution_count": null,
   "outputs": [],
   "source": [
    "logistic_model.fit(X_train, y_train)"
   ],
   "metadata": {
    "collapsed": false,
    "ExecuteTime": {
     "start_time": "2023-11-06T23:49:04.392455400Z"
    }
   },
   "id": "51a705b45ad034e0"
  },
  {
   "cell_type": "code",
   "execution_count": null,
   "outputs": [],
   "source": [
    "logistic_prediction = logistic_model.predict(X_test)"
   ],
   "metadata": {
    "collapsed": false,
    "ExecuteTime": {
     "start_time": "2023-11-06T23:49:04.400623200Z"
    }
   },
   "id": "4800b6ad9c143e29"
  },
  {
   "cell_type": "markdown",
   "source": [
    "Evaluemos las metricas sobre los mismos datos que estamos entrenando"
   ],
   "metadata": {
    "collapsed": false
   },
   "id": "7346716fa9770d0"
  },
  {
   "cell_type": "code",
   "execution_count": null,
   "outputs": [],
   "source": [
    "print(f'Exactitud: {accuracy_score(y_test,logistic_prediction)}')"
   ],
   "metadata": {
    "collapsed": false,
    "ExecuteTime": {
     "start_time": "2023-11-06T23:49:04.405623400Z"
    }
   },
   "id": "c179cfb727bdc48a"
  },
  {
   "cell_type": "code",
   "execution_count": null,
   "outputs": [],
   "source": [
    "df_train['categoria'].unique()"
   ],
   "metadata": {
    "collapsed": false,
    "ExecuteTime": {
     "start_time": "2023-11-06T23:49:04.409624200Z"
    }
   },
   "id": "6fb2aee049107d5d"
  },
  {
   "cell_type": "code",
   "execution_count": null,
   "outputs": [],
   "source": [
    "matriz_confusion_regresion = confusion_matrix(y_test, logistic_prediction)\n",
    "sns.heatmap(matriz_confusion_regresion, annot=True, fmt='d', cmap='Blues', cbar=False)\n",
    "plt.xlabel('Predicción')\n",
    "plt.ylabel('Real')\n",
    "plt.title('Matriz de Confusión Para Regresion Logistica')\n",
    "plt.show()"
   ],
   "metadata": {
    "collapsed": false,
    "ExecuteTime": {
     "start_time": "2023-11-06T23:49:04.414625100Z"
    }
   },
   "id": "533fb959d14dbd7"
  },
  {
   "cell_type": "markdown",
   "source": [
    "### Random Forest"
   ],
   "metadata": {
    "collapsed": false
   },
   "id": "7cde85ba606fcd61"
  },
  {
   "cell_type": "code",
   "execution_count": null,
   "outputs": [],
   "source": [
    "from sklearn.ensemble import RandomForestClassifier"
   ],
   "metadata": {
    "collapsed": false,
    "ExecuteTime": {
     "start_time": "2023-11-06T23:49:04.420459Z"
    }
   },
   "id": "2c28a9f4dc64e5cf"
  },
  {
   "cell_type": "code",
   "execution_count": null,
   "outputs": [],
   "source": [
    "random_forest_model = RandomForestClassifier(random_state=42)\n",
    "random_forest_model.fit(X_train, y_train)\n",
    "random_forest_prediction = random_forest_model.predict(X_test)"
   ],
   "metadata": {
    "collapsed": false,
    "ExecuteTime": {
     "start_time": "2023-11-06T23:49:04.426456900Z"
    }
   },
   "id": "d073c6b38653774b"
  },
  {
   "cell_type": "code",
   "execution_count": null,
   "outputs": [],
   "source": [
    "print(f'Exactitud: {accuracy_score(y_test,random_forest_prediction)}')"
   ],
   "metadata": {
    "collapsed": false,
    "ExecuteTime": {
     "start_time": "2023-11-06T23:49:04.430460800Z"
    }
   },
   "id": "c35f191c1d46ea00"
  },
  {
   "cell_type": "code",
   "execution_count": null,
   "outputs": [],
   "source": [
    "matriz_confusion_rf = confusion_matrix(y_test, random_forest_prediction)\n",
    "sns.heatmap(matriz_confusion_rf, annot=True, fmt='d', cmap='Blues', cbar=False)\n",
    "plt.xlabel('Predicción')\n",
    "plt.ylabel('Real')\n",
    "plt.title('Matriz de Confusión Para Random Forest')\n",
    "plt.show()"
   ],
   "metadata": {
    "collapsed": false,
    "ExecuteTime": {
     "start_time": "2023-11-06T23:49:04.437459700Z"
    }
   },
   "id": "30f8ef8f1fb3018a"
  },
  {
   "cell_type": "markdown",
   "source": [
    "### LSTM"
   ],
   "metadata": {
    "collapsed": false
   },
   "id": "3e7bdb2a32c7e714"
  },
  {
   "cell_type": "code",
   "execution_count": null,
   "outputs": [],
   "source": [
    "from keras.models import Sequential\n",
    "from keras import layers\n",
    "from tensorflow.keras.preprocessing.text import Tokenizer\n",
    "from tensorflow.keras.utils import pad_sequences\n",
    "from sklearn.preprocessing import LabelBinarizer"
   ],
   "metadata": {
    "collapsed": false,
    "ExecuteTime": {
     "start_time": "2023-11-06T23:49:04.442459900Z"
    }
   },
   "id": "48bd038519767711"
  },
  {
   "cell_type": "code",
   "execution_count": 662,
   "outputs": [],
   "source": [
    "label = LabelBinarizer()\n",
    "max_words = 1700\n",
    "max_len = 15\n",
    "tokenizer = Tokenizer(num_words=max_words)\n",
    "tokenizer.fit_on_texts(df_train[\"titulo\"])\n",
    "sequences = tokenizer.texts_to_sequences(df_train[\"titulo\"])\n",
    "sequences = pad_sequences(sequences, maxlen=max_len)\n",
    "y = label.fit_transform(categoria)\n",
    "X_train, X_test, y_train, y_test = train_test_split(sequences, y, test_size=0.1)"
   ],
   "metadata": {
    "collapsed": false,
    "ExecuteTime": {
     "end_time": "2023-11-07T00:10:49.385265200Z",
     "start_time": "2023-11-07T00:10:49.258340300Z"
    }
   },
   "id": "145123f64070313a"
  },
  {
   "cell_type": "code",
   "execution_count": 663,
   "outputs": [
    {
     "name": "stdout",
     "output_type": "stream",
     "text": [
      "Epoch 1/100\n",
      "2/2 [==============================] - 31s 25s/step - loss: 1.7873 - accuracy: 0.2194 - val_loss: 1.7602 - val_accuracy: 0.3375\n",
      "Epoch 2/100\n",
      "2/2 [==============================] - 2s 1s/step - loss: 1.7604 - accuracy: 0.2972 - val_loss: 1.7104 - val_accuracy: 0.3375\n",
      "Epoch 3/100\n",
      "2/2 [==============================] - 1s 520ms/step - loss: 1.7227 - accuracy: 0.2736 - val_loss: 1.6346 - val_accuracy: 0.3375\n",
      "Epoch 4/100\n",
      "2/2 [==============================] - 1s 440ms/step - loss: 1.6817 - accuracy: 0.2750 - val_loss: 1.6165 - val_accuracy: 0.3375\n",
      "Epoch 5/100\n",
      "2/2 [==============================] - 1s 441ms/step - loss: 1.6636 - accuracy: 0.2944 - val_loss: 1.5731 - val_accuracy: 0.3375\n",
      "Epoch 6/100\n",
      "2/2 [==============================] - 1s 442ms/step - loss: 1.6575 - accuracy: 0.2889 - val_loss: 1.5850 - val_accuracy: 0.3500\n",
      "Epoch 7/100\n",
      "2/2 [==============================] - 1s 466ms/step - loss: 1.6518 - accuracy: 0.3097 - val_loss: 1.5659 - val_accuracy: 0.4125\n",
      "Epoch 8/100\n",
      "2/2 [==============================] - 1s 440ms/step - loss: 1.6508 - accuracy: 0.3236 - val_loss: 1.5679 - val_accuracy: 0.3375\n",
      "Epoch 9/100\n",
      "2/2 [==============================] - 1s 411ms/step - loss: 1.6397 - accuracy: 0.3167 - val_loss: 1.5833 - val_accuracy: 0.4250\n",
      "Epoch 10/100\n",
      "2/2 [==============================] - 1s 417ms/step - loss: 1.6333 - accuracy: 0.3444 - val_loss: 1.5577 - val_accuracy: 0.3875\n",
      "Epoch 11/100\n",
      "2/2 [==============================] - 1s 427ms/step - loss: 1.6305 - accuracy: 0.3292 - val_loss: 1.5753 - val_accuracy: 0.3875\n",
      "Epoch 12/100\n",
      "2/2 [==============================] - 1s 459ms/step - loss: 1.6225 - accuracy: 0.3708 - val_loss: 1.5606 - val_accuracy: 0.4375\n",
      "Epoch 13/100\n",
      "2/2 [==============================] - 1s 459ms/step - loss: 1.6063 - accuracy: 0.4042 - val_loss: 1.5307 - val_accuracy: 0.4125\n",
      "Epoch 14/100\n",
      "2/2 [==============================] - 1s 424ms/step - loss: 1.5955 - accuracy: 0.3722 - val_loss: 1.5250 - val_accuracy: 0.4125\n",
      "Epoch 15/100\n",
      "2/2 [==============================] - 1s 709ms/step - loss: 1.5719 - accuracy: 0.3972 - val_loss: 1.5090 - val_accuracy: 0.4375\n",
      "Epoch 16/100\n",
      "2/2 [==============================] - 1s 493ms/step - loss: 1.5552 - accuracy: 0.4139 - val_loss: 1.4780 - val_accuracy: 0.4250\n",
      "Epoch 17/100\n",
      "2/2 [==============================] - 1s 489ms/step - loss: 1.5395 - accuracy: 0.3819 - val_loss: 1.4619 - val_accuracy: 0.4875\n",
      "Epoch 18/100\n",
      "2/2 [==============================] - 1s 471ms/step - loss: 1.5147 - accuracy: 0.4278 - val_loss: 1.4549 - val_accuracy: 0.4375\n",
      "Epoch 19/100\n",
      "2/2 [==============================] - 1s 460ms/step - loss: 1.5078 - accuracy: 0.3972 - val_loss: 1.4420 - val_accuracy: 0.5000\n",
      "Epoch 20/100\n",
      "2/2 [==============================] - 1s 542ms/step - loss: 1.4853 - accuracy: 0.4389 - val_loss: 1.4155 - val_accuracy: 0.5000\n",
      "Epoch 21/100\n",
      "2/2 [==============================] - 1s 468ms/step - loss: 1.4594 - accuracy: 0.4597 - val_loss: 1.3976 - val_accuracy: 0.5125\n",
      "Epoch 22/100\n",
      "2/2 [==============================] - 1s 542ms/step - loss: 1.4445 - accuracy: 0.4514 - val_loss: 1.3917 - val_accuracy: 0.4750\n",
      "Epoch 23/100\n",
      "2/2 [==============================] - 1s 517ms/step - loss: 1.4472 - accuracy: 0.4347 - val_loss: 1.3810 - val_accuracy: 0.5125\n",
      "Epoch 24/100\n",
      "2/2 [==============================] - 1s 487ms/step - loss: 1.4174 - accuracy: 0.4500 - val_loss: 1.3772 - val_accuracy: 0.5000\n",
      "Epoch 25/100\n",
      "2/2 [==============================] - 2s 1s/step - loss: 1.4015 - accuracy: 0.4819 - val_loss: 1.3868 - val_accuracy: 0.5625\n",
      "Epoch 26/100\n",
      "2/2 [==============================] - 2s 1s/step - loss: 1.3868 - accuracy: 0.5083 - val_loss: 1.3640 - val_accuracy: 0.5500\n",
      "Epoch 27/100\n",
      "2/2 [==============================] - 3s 996ms/step - loss: 1.3706 - accuracy: 0.4903 - val_loss: 1.3439 - val_accuracy: 0.5125\n",
      "Epoch 28/100\n",
      "2/2 [==============================] - 2s 780ms/step - loss: 1.3873 - accuracy: 0.4806 - val_loss: 1.3384 - val_accuracy: 0.5750\n",
      "Epoch 29/100\n",
      "2/2 [==============================] - 2s 798ms/step - loss: 1.3417 - accuracy: 0.5208 - val_loss: 1.3140 - val_accuracy: 0.6375\n",
      "Epoch 30/100\n",
      "2/2 [==============================] - 2s 960ms/step - loss: 1.3100 - accuracy: 0.5236 - val_loss: 1.3512 - val_accuracy: 0.5125\n",
      "Epoch 31/100\n",
      "2/2 [==============================] - 2s 789ms/step - loss: 1.3334 - accuracy: 0.5028 - val_loss: 1.3037 - val_accuracy: 0.5875\n",
      "Epoch 32/100\n",
      "2/2 [==============================] - 1s 633ms/step - loss: 1.3054 - accuracy: 0.5347 - val_loss: 1.3302 - val_accuracy: 0.5750\n",
      "Epoch 33/100\n",
      "2/2 [==============================] - 2s 616ms/step - loss: 1.3056 - accuracy: 0.5014 - val_loss: 1.3100 - val_accuracy: 0.6125\n",
      "Epoch 34/100\n",
      "2/2 [==============================] - 1s 560ms/step - loss: 1.2699 - accuracy: 0.5528 - val_loss: 1.2855 - val_accuracy: 0.6375\n",
      "Epoch 35/100\n",
      "2/2 [==============================] - 1s 572ms/step - loss: 1.2506 - accuracy: 0.5458 - val_loss: 1.2742 - val_accuracy: 0.6250\n",
      "Epoch 36/100\n",
      "2/2 [==============================] - 1s 433ms/step - loss: 1.2403 - accuracy: 0.5389 - val_loss: 1.2571 - val_accuracy: 0.6375\n",
      "Epoch 37/100\n",
      "2/2 [==============================] - 1s 599ms/step - loss: 1.2281 - accuracy: 0.5431 - val_loss: 1.2615 - val_accuracy: 0.6000\n",
      "Epoch 38/100\n",
      "2/2 [==============================] - 2s 709ms/step - loss: 1.2300 - accuracy: 0.5597 - val_loss: 1.2468 - val_accuracy: 0.6250\n",
      "Epoch 39/100\n",
      "2/2 [==============================] - 1s 436ms/step - loss: 1.1845 - accuracy: 0.5611 - val_loss: 1.2262 - val_accuracy: 0.6500\n",
      "Epoch 40/100\n",
      "2/2 [==============================] - 1s 422ms/step - loss: 1.1866 - accuracy: 0.5639 - val_loss: 1.2198 - val_accuracy: 0.6500\n",
      "Epoch 41/100\n",
      "2/2 [==============================] - 1s 420ms/step - loss: 1.1978 - accuracy: 0.5486 - val_loss: 1.2549 - val_accuracy: 0.5875\n",
      "Epoch 42/100\n",
      "2/2 [==============================] - 1s 421ms/step - loss: 1.1835 - accuracy: 0.5806 - val_loss: 1.2360 - val_accuracy: 0.6000\n",
      "Epoch 43/100\n",
      "2/2 [==============================] - 1s 426ms/step - loss: 1.1476 - accuracy: 0.5806 - val_loss: 1.2100 - val_accuracy: 0.6375\n",
      "Epoch 44/100\n",
      "2/2 [==============================] - 1s 420ms/step - loss: 1.1426 - accuracy: 0.5819 - val_loss: 1.2048 - val_accuracy: 0.6750\n",
      "Epoch 45/100\n",
      "2/2 [==============================] - 1s 458ms/step - loss: 1.1190 - accuracy: 0.5861 - val_loss: 1.1993 - val_accuracy: 0.6625\n",
      "Epoch 46/100\n",
      "2/2 [==============================] - 1s 442ms/step - loss: 1.1309 - accuracy: 0.5889 - val_loss: 1.1861 - val_accuracy: 0.6250\n",
      "Epoch 47/100\n",
      "2/2 [==============================] - 1s 445ms/step - loss: 1.1234 - accuracy: 0.6028 - val_loss: 1.2008 - val_accuracy: 0.6375\n",
      "Epoch 48/100\n",
      "2/2 [==============================] - 1s 429ms/step - loss: 1.1005 - accuracy: 0.6139 - val_loss: 1.2103 - val_accuracy: 0.6250\n",
      "Epoch 49/100\n",
      "2/2 [==============================] - 1s 437ms/step - loss: 1.1059 - accuracy: 0.5792 - val_loss: 1.1859 - val_accuracy: 0.6250\n",
      "Epoch 50/100\n",
      "2/2 [==============================] - 1s 430ms/step - loss: 1.0784 - accuracy: 0.6042 - val_loss: 1.1635 - val_accuracy: 0.6625\n",
      "Epoch 51/100\n",
      "2/2 [==============================] - 1s 420ms/step - loss: 1.0560 - accuracy: 0.6236 - val_loss: 1.1520 - val_accuracy: 0.6625\n",
      "Epoch 52/100\n",
      "2/2 [==============================] - 1s 432ms/step - loss: 1.0407 - accuracy: 0.6278 - val_loss: 1.1483 - val_accuracy: 0.6250\n",
      "Epoch 53/100\n",
      "2/2 [==============================] - 1s 664ms/step - loss: 1.0342 - accuracy: 0.6111 - val_loss: 1.1471 - val_accuracy: 0.6625\n",
      "Epoch 54/100\n",
      "2/2 [==============================] - 1s 423ms/step - loss: 1.0400 - accuracy: 0.6319 - val_loss: 1.1326 - val_accuracy: 0.6375\n",
      "Epoch 55/100\n",
      "2/2 [==============================] - 1s 428ms/step - loss: 1.0453 - accuracy: 0.6333 - val_loss: 1.1280 - val_accuracy: 0.6375\n",
      "Epoch 56/100\n",
      "2/2 [==============================] - 1s 431ms/step - loss: 0.9955 - accuracy: 0.6500 - val_loss: 1.0994 - val_accuracy: 0.6500\n",
      "Epoch 57/100\n",
      "2/2 [==============================] - 1s 424ms/step - loss: 0.9964 - accuracy: 0.6417 - val_loss: 1.1101 - val_accuracy: 0.6375\n",
      "Epoch 58/100\n",
      "2/2 [==============================] - 1s 485ms/step - loss: 0.9824 - accuracy: 0.6389 - val_loss: 1.1371 - val_accuracy: 0.6625\n",
      "Epoch 59/100\n",
      "2/2 [==============================] - 1s 443ms/step - loss: 0.9695 - accuracy: 0.6667 - val_loss: 1.1348 - val_accuracy: 0.6500\n",
      "Epoch 60/100\n",
      "2/2 [==============================] - 1s 426ms/step - loss: 0.9648 - accuracy: 0.6597 - val_loss: 1.0945 - val_accuracy: 0.6500\n",
      "Epoch 61/100\n",
      "2/2 [==============================] - 1s 435ms/step - loss: 0.9528 - accuracy: 0.6833 - val_loss: 1.0846 - val_accuracy: 0.6375\n",
      "Epoch 62/100\n",
      "2/2 [==============================] - 1s 430ms/step - loss: 0.9251 - accuracy: 0.6917 - val_loss: 1.0940 - val_accuracy: 0.6375\n",
      "Epoch 63/100\n",
      "2/2 [==============================] - 1s 457ms/step - loss: 0.9268 - accuracy: 0.6681 - val_loss: 1.0944 - val_accuracy: 0.6375\n",
      "Epoch 64/100\n",
      "2/2 [==============================] - 1s 431ms/step - loss: 0.9055 - accuracy: 0.6722 - val_loss: 1.0912 - val_accuracy: 0.6375\n",
      "Epoch 65/100\n",
      "2/2 [==============================] - 1s 437ms/step - loss: 0.8905 - accuracy: 0.7000 - val_loss: 1.1015 - val_accuracy: 0.6375\n",
      "Epoch 66/100\n",
      "2/2 [==============================] - 1s 430ms/step - loss: 0.9170 - accuracy: 0.6917 - val_loss: 1.0728 - val_accuracy: 0.6500\n",
      "Epoch 67/100\n",
      "2/2 [==============================] - 1s 417ms/step - loss: 0.8848 - accuracy: 0.6833 - val_loss: 1.0720 - val_accuracy: 0.6500\n",
      "Epoch 68/100\n",
      "2/2 [==============================] - 1s 414ms/step - loss: 0.8611 - accuracy: 0.6931 - val_loss: 1.0611 - val_accuracy: 0.6250\n",
      "Epoch 69/100\n",
      "2/2 [==============================] - 1s 494ms/step - loss: 0.8855 - accuracy: 0.6986 - val_loss: 1.0454 - val_accuracy: 0.6500\n",
      "Epoch 70/100\n",
      "2/2 [==============================] - 1s 435ms/step - loss: 0.8393 - accuracy: 0.6944 - val_loss: 1.0424 - val_accuracy: 0.6625\n",
      "Epoch 71/100\n",
      "2/2 [==============================] - 1s 480ms/step - loss: 0.8301 - accuracy: 0.7097 - val_loss: 1.0583 - val_accuracy: 0.6500\n",
      "Epoch 72/100\n",
      "2/2 [==============================] - 1s 442ms/step - loss: 0.8367 - accuracy: 0.7125 - val_loss: 1.0581 - val_accuracy: 0.6375\n",
      "Epoch 73/100\n",
      "2/2 [==============================] - 1s 420ms/step - loss: 0.8098 - accuracy: 0.7222 - val_loss: 1.0280 - val_accuracy: 0.6750\n",
      "Epoch 74/100\n",
      "2/2 [==============================] - 1s 424ms/step - loss: 0.7904 - accuracy: 0.7292 - val_loss: 1.0181 - val_accuracy: 0.6625\n",
      "Epoch 75/100\n",
      "2/2 [==============================] - 1s 438ms/step - loss: 0.8054 - accuracy: 0.7250 - val_loss: 1.0613 - val_accuracy: 0.6500\n",
      "Epoch 76/100\n",
      "2/2 [==============================] - 1s 418ms/step - loss: 0.7785 - accuracy: 0.7292 - val_loss: 1.0177 - val_accuracy: 0.6750\n",
      "Epoch 77/100\n",
      "2/2 [==============================] - 1s 493ms/step - loss: 0.7660 - accuracy: 0.7375 - val_loss: 1.0054 - val_accuracy: 0.6750\n",
      "Epoch 78/100\n",
      "2/2 [==============================] - 1s 430ms/step - loss: 0.7689 - accuracy: 0.7319 - val_loss: 1.0151 - val_accuracy: 0.6250\n",
      "Epoch 79/100\n",
      "2/2 [==============================] - 1s 420ms/step - loss: 0.7835 - accuracy: 0.7403 - val_loss: 1.0128 - val_accuracy: 0.6500\n",
      "Epoch 80/100\n",
      "2/2 [==============================] - 1s 442ms/step - loss: 0.7432 - accuracy: 0.7444 - val_loss: 1.0040 - val_accuracy: 0.6875\n",
      "Epoch 81/100\n",
      "2/2 [==============================] - 1s 423ms/step - loss: 0.7399 - accuracy: 0.7500 - val_loss: 1.0111 - val_accuracy: 0.6500\n",
      "Epoch 82/100\n",
      "2/2 [==============================] - 1s 564ms/step - loss: 0.7672 - accuracy: 0.7278 - val_loss: 0.9916 - val_accuracy: 0.6500\n",
      "Epoch 83/100\n",
      "2/2 [==============================] - 1s 417ms/step - loss: 0.6965 - accuracy: 0.7625 - val_loss: 0.9885 - val_accuracy: 0.6750\n",
      "Epoch 84/100\n",
      "2/2 [==============================] - 1s 425ms/step - loss: 0.6614 - accuracy: 0.7778 - val_loss: 0.9882 - val_accuracy: 0.6375\n",
      "Epoch 85/100\n",
      "2/2 [==============================] - 1s 429ms/step - loss: 0.6857 - accuracy: 0.7625 - val_loss: 1.0070 - val_accuracy: 0.6625\n",
      "Epoch 86/100\n",
      "2/2 [==============================] - 1s 440ms/step - loss: 0.7179 - accuracy: 0.7264 - val_loss: 0.9820 - val_accuracy: 0.6750\n",
      "Epoch 87/100\n",
      "2/2 [==============================] - 1s 442ms/step - loss: 0.6537 - accuracy: 0.7833 - val_loss: 0.9848 - val_accuracy: 0.6750\n",
      "Epoch 88/100\n",
      "2/2 [==============================] - 1s 434ms/step - loss: 0.6756 - accuracy: 0.7764 - val_loss: 1.0160 - val_accuracy: 0.6625\n",
      "Epoch 89/100\n",
      "2/2 [==============================] - 1s 418ms/step - loss: 0.6594 - accuracy: 0.7833 - val_loss: 0.9634 - val_accuracy: 0.6625\n",
      "Epoch 90/100\n",
      "2/2 [==============================] - 1s 503ms/step - loss: 0.6426 - accuracy: 0.7694 - val_loss: 0.9777 - val_accuracy: 0.6500\n",
      "Epoch 91/100\n",
      "2/2 [==============================] - 1s 417ms/step - loss: 0.6444 - accuracy: 0.7806 - val_loss: 0.9619 - val_accuracy: 0.6500\n",
      "Epoch 92/100\n",
      "2/2 [==============================] - 1s 441ms/step - loss: 0.6238 - accuracy: 0.8000 - val_loss: 0.9680 - val_accuracy: 0.6500\n",
      "Epoch 93/100\n",
      "2/2 [==============================] - 1s 411ms/step - loss: 0.6202 - accuracy: 0.7972 - val_loss: 0.9496 - val_accuracy: 0.6500\n",
      "Epoch 94/100\n",
      "2/2 [==============================] - 1s 410ms/step - loss: 0.6158 - accuracy: 0.7931 - val_loss: 0.9442 - val_accuracy: 0.6875\n",
      "Epoch 95/100\n",
      "2/2 [==============================] - 1s 430ms/step - loss: 0.6007 - accuracy: 0.8069 - val_loss: 0.9771 - val_accuracy: 0.6375\n",
      "Epoch 96/100\n",
      "2/2 [==============================] - 1s 430ms/step - loss: 0.5744 - accuracy: 0.8028 - val_loss: 0.9780 - val_accuracy: 0.6375\n",
      "Epoch 97/100\n",
      "2/2 [==============================] - 1s 414ms/step - loss: 0.6025 - accuracy: 0.7917 - val_loss: 0.9654 - val_accuracy: 0.6250\n",
      "Epoch 98/100\n",
      "2/2 [==============================] - 1s 411ms/step - loss: 0.5723 - accuracy: 0.8139 - val_loss: 0.9523 - val_accuracy: 0.6500\n",
      "Epoch 99/100\n",
      "2/2 [==============================] - 1s 412ms/step - loss: 0.5403 - accuracy: 0.8153 - val_loss: 0.9798 - val_accuracy: 0.6375\n",
      "Epoch 100/100\n",
      "2/2 [==============================] - 1s 420ms/step - loss: 0.5927 - accuracy: 0.7972 - val_loss: 0.9572 - val_accuracy: 0.6500\n"
     ]
    }
   ],
   "source": [
    "from keras.src.callbacks import EarlyStopping\n",
    "\n",
    "lstm_model = Sequential()\n",
    "lstm_model.add(layers.Embedding(input_dim=max_words, output_dim=100, input_length=max_len))\n",
    "lstm_model.add(layers.SpatialDropout1D(0.7))\n",
    "lstm_model.add(layers.LSTM(128, dropout=0.7, recurrent_dropout=0.7))\n",
    "lstm_model.add(layers.Dense(6, activation='softmax'))\n",
    "lstm_model.compile(optimizer='rmsprop', loss='categorical_crossentropy', metrics=['accuracy'])\n",
    "\n",
    "history = lstm_model.fit(X_train,y_train, epochs=100, validation_data=(X_test,y_test),batch_size=512, callbacks=[EarlyStopping(monitor='val_loss',patience=7, min_delta=0.0001)])"
   ],
   "metadata": {
    "collapsed": false,
    "ExecuteTime": {
     "end_time": "2023-11-07T00:13:19.159933400Z",
     "start_time": "2023-11-07T00:10:49.902356900Z"
    }
   },
   "id": "1432e6d7a4c557d5"
  },
  {
   "cell_type": "code",
   "execution_count": 664,
   "outputs": [
    {
     "name": "stdout",
     "output_type": "stream",
     "text": [
      "3/3 [==============================] - 0s 37ms/step - loss: 0.9572 - accuracy: 0.6500\n",
      "Test set\n",
      "  Loss: 0.957\n",
      "  Accuracy: 0.650\n"
     ]
    }
   ],
   "source": [
    "accr = lstm_model.evaluate(X_test,y_test)\n",
    "print('Test set\\n  Loss: {:0.3f}\\n  Accuracy: {:0.3f}'.format(accr[0],accr[1]))"
   ],
   "metadata": {
    "collapsed": false,
    "ExecuteTime": {
     "end_time": "2023-11-07T00:13:23.520132Z",
     "start_time": "2023-11-07T00:13:22.800697200Z"
    }
   },
   "id": "c210549702ad0b4f"
  },
  {
   "cell_type": "code",
   "execution_count": 666,
   "outputs": [
    {
     "data": {
      "text/plain": "<Figure size 800x800 with 2 Axes>",
      "image/png": "[encoded data removed]"
     },
     "metadata": {},
     "output_type": "display_data"
    }
   ],
   "source": [
    "acc = history.history['accuracy']\n",
    "val_acc = history.history['val_accuracy']\n",
    "loss = history.history['loss']\n",
    "val_loss = history.history['val_loss']\n",
    "epochs_range = range(100)\n",
    "\n",
    "plt.figure(figsize=(8,8))\n",
    "plt.subplot(1, 2, 1)\n",
    "plt.plot(epochs_range, acc, label='Training Accuracy')\n",
    "plt.plot(epochs_range, val_acc, label='Validation Accuracy')\n",
    "plt.legend(loc='lower right')\n",
    "plt.title('Training and Validation Accuracy')\n",
    "plt.subplot(1, 2, 2)\n",
    "plt.plot(epochs_range, loss, label='Training Loss')\n",
    "plt.plot(epochs_range, val_loss, label='Validation Loss')\n",
    "plt.legend(loc='upper right')\n",
    "plt.title('Training and Validation Loss')\n",
    "plt.show()"
   ],
   "metadata": {
    "collapsed": false,
    "ExecuteTime": {
     "end_time": "2023-11-07T00:13:36.324798100Z",
     "start_time": "2023-11-07T00:13:35.096762100Z"
    }
   },
   "id": "bed1fabc6a410f13"
  },
  {
   "cell_type": "code",
   "execution_count": 667,
   "outputs": [
    {
     "name": "stdout",
     "output_type": "stream",
     "text": [
      "3/3 [==============================] - 1s 35ms/step\n"
     ]
    }
   ],
   "source": [
    "lstm_prediction = lstm_model.predict(X_test)"
   ],
   "metadata": {
    "collapsed": false,
    "ExecuteTime": {
     "end_time": "2023-11-07T00:13:46.268835100Z",
     "start_time": "2023-11-07T00:13:44.858830Z"
    }
   },
   "id": "751d42d34d9ef4dd"
  },
  {
   "cell_type": "code",
   "execution_count": 668,
   "outputs": [],
   "source": [
    "lstm_prediction = np.argmax(lstm_prediction, axis=1)\n",
    "y_real = np.argmax(y_test, axis=1)"
   ],
   "metadata": {
    "collapsed": false,
    "ExecuteTime": {
     "end_time": "2023-11-07T00:13:46.289802400Z",
     "start_time": "2023-11-07T00:13:46.197744700Z"
    }
   },
   "id": "f7ff3ccf05e049b0"
  },
  {
   "cell_type": "code",
   "execution_count": 669,
   "outputs": [
    {
     "name": "stdout",
     "output_type": "stream",
     "text": [
      "Exactitud: 0.65\n"
     ]
    }
   ],
   "source": [
    "print(f'Exactitud: {accuracy_score(y_real,lstm_prediction)}')"
   ],
   "metadata": {
    "collapsed": false,
    "ExecuteTime": {
     "end_time": "2023-11-07T00:13:46.293801400Z",
     "start_time": "2023-11-07T00:13:46.209534300Z"
    }
   },
   "id": "fd44f5e91dceda05"
  },
  {
   "cell_type": "code",
   "execution_count": 670,
   "outputs": [
    {
     "data": {
      "text/plain": "<Figure size 640x480 with 1 Axes>",
      "image/png": "[encoded data removed]"
     },
     "metadata": {},
     "output_type": "display_data"
    }
   ],
   "source": [
    "matriz_confusion_rf = confusion_matrix(y_real, lstm_prediction)\n",
    "sns.heatmap(matriz_confusion_rf, annot=True, fmt='d', cmap='Blues', cbar=False)\n",
    "plt.xlabel('Predicción')\n",
    "plt.ylabel('Real')\n",
    "plt.title('Matriz de Confusión Para Random Forest')\n",
    "plt.show()"
   ],
   "metadata": {
    "collapsed": false,
    "ExecuteTime": {
     "end_time": "2023-11-07T00:13:49.178748800Z",
     "start_time": "2023-11-07T00:13:47.727878600Z"
    }
   },
   "id": "27ed501cc3b6cfe1"
  },
  {
   "cell_type": "markdown",
   "source": [
    "# Resultado final\n",
    "Para este caso ya no vamos a divir el modelo de entrenamiento sino que vamos a entrenar completamente cada modelo con todos los datos de etrenamiento"
   ],
   "metadata": {
    "collapsed": false
   },
   "id": "cefcee8a6ef89f4d"
  },
  {
   "cell_type": "markdown",
   "source": [
    "### Regresion Logistica"
   ],
   "metadata": {
    "collapsed": false
   },
   "id": "8c9c163a593f1777"
  },
  {
   "cell_type": "code",
   "execution_count": null,
   "outputs": [],
   "source": [
    "logistic_model = LogisticRegression(penalty=\"l2\", max_iter=800, C=1.0, random_state=42)\n",
    "logistic_model.fit(df_matriz_tf_idf.head(800), categoria)"
   ],
   "metadata": {
    "collapsed": false,
    "ExecuteTime": {
     "start_time": "2023-11-06T23:49:04.490405200Z"
    }
   },
   "id": "4779e5234879eec4"
  },
  {
   "cell_type": "markdown",
   "source": [
    "Se escogen los ultimos 200 datos ya que esos son los datos de test que fusionamos anteriormente"
   ],
   "metadata": {
    "collapsed": false
   },
   "id": "e5973f65f2581df3"
  },
  {
   "cell_type": "code",
   "execution_count": null,
   "outputs": [],
   "source": [
    "logistic_prediction = logistic_model.predict(df_matriz_tf_idf.tail(200))"
   ],
   "metadata": {
    "collapsed": false,
    "ExecuteTime": {
     "start_time": "2023-11-06T23:49:04.494398900Z"
    }
   },
   "id": "49bb81bff5f3275b"
  },
  {
   "cell_type": "code",
   "execution_count": null,
   "outputs": [],
   "source": [
    "df_answer_logistic = pd.DataFrame(data= zip(index_test,logistic_prediction),\n",
    "                         columns=[\"ID\",\"categoria\"])"
   ],
   "metadata": {
    "collapsed": false,
    "ExecuteTime": {
     "start_time": "2023-11-06T23:49:04.502399100Z"
    }
   },
   "id": "e518608d1b6d1b8d"
  },
  {
   "cell_type": "code",
   "execution_count": null,
   "outputs": [],
   "source": [
    "df_answer_logistic.to_csv(\"./predictions/categories/prediction_logistic.csv\", index=False)"
   ],
   "metadata": {
    "collapsed": false,
    "ExecuteTime": {
     "start_time": "2023-11-06T23:49:04.507399500Z"
    }
   },
   "id": "ef1214b5509c0f0"
  },
  {
   "cell_type": "markdown",
   "source": [
    "### Random Forest"
   ],
   "metadata": {
    "collapsed": false
   },
   "id": "dcbbe5d9bbacea36"
  },
  {
   "cell_type": "code",
   "execution_count": null,
   "outputs": [],
   "source": [
    "random_forest_model = RandomForestClassifier(random_state=42)\n",
    "random_forest_model.fit(df_matriz_tf_idf.head(800), categoria)"
   ],
   "metadata": {
    "collapsed": false,
    "ExecuteTime": {
     "start_time": "2023-11-06T23:49:04.512400500Z"
    }
   },
   "id": "55d0d7ee4d15b7fb"
  },
  {
   "cell_type": "code",
   "execution_count": null,
   "outputs": [],
   "source": [
    "random_forest_prediction = random_forest_model.predict(df_matriz_tf_idf.tail(200))"
   ],
   "metadata": {
    "collapsed": false,
    "ExecuteTime": {
     "start_time": "2023-11-06T23:49:04.518401400Z"
    }
   },
   "id": "d71c43c0f60892e"
  },
  {
   "cell_type": "code",
   "execution_count": null,
   "outputs": [],
   "source": [
    "df_answer_random_forest = pd.DataFrame(data= zip(index_test,random_forest_prediction),\n",
    "columns=[\"ID\",\"categoria\"])"
   ],
   "metadata": {
    "collapsed": false,
    "ExecuteTime": {
     "start_time": "2023-11-06T23:49:04.522402Z"
    }
   },
   "id": "ae38aa95e7d6e761"
  },
  {
   "cell_type": "code",
   "execution_count": null,
   "outputs": [],
   "source": [
    "df_answer_random_forest.to_csv(\"./predictions/categories/prediction_random_forest.csv\", index=False)"
   ],
   "metadata": {
    "collapsed": false,
    "ExecuteTime": {
     "start_time": "2023-11-06T23:49:04.526401Z"
    }
   },
   "id": "88884d1e903655ed"
  },
  {
   "cell_type": "markdown",
   "source": [
    "### LSTM"
   ],
   "metadata": {
    "collapsed": false
   },
   "id": "97a4c082d7965599"
  },
  {
   "cell_type": "code",
   "execution_count": 638,
   "outputs": [],
   "source": [
    "label = LabelBinarizer()\n",
    "max_words = 1000\n",
    "max_len = 15\n",
    "tokenizer = Tokenizer(num_words=max_words)\n",
    "tokenizer.fit_on_texts(titulo.head(800))\n",
    "sequences = tokenizer.texts_to_sequences(titulo.head(800))\n",
    "sequences = pad_sequences(sequences, maxlen=max_len)\n",
    "y = label.fit_transform(categoria)"
   ],
   "metadata": {
    "collapsed": false,
    "ExecuteTime": {
     "end_time": "2023-11-07T00:01:40.123968600Z",
     "start_time": "2023-11-07T00:01:39.986101900Z"
    }
   },
   "id": "72b7c52186ff5337"
  },
  {
   "cell_type": "code",
   "execution_count": null,
   "outputs": [],
   "source": [
    "lstm_model = Sequential()\n",
    "lstm_model.add(layers.Embedding(input_dim=max_words, output_dim=108, input_length=max_len))\n",
    "lstm_model.add(layers.Bidirectional(layers.LSTM(128)))\n",
    "lstm_model.add(layers.Dropout(0.5))\n",
    "lstm_model.add(layers.Dense(6, activation='softmax'))\n",
    "lstm_model.compile(optimizer='rmsprop', loss='categorical_crossentropy', metrics=['accuracy'])\n",
    "history = lstm_model.fit(sequences, y, epochs=15, batch_size=512) "
   ],
   "metadata": {
    "collapsed": false,
    "ExecuteTime": {
     "start_time": "2023-11-06T23:49:04.532257600Z"
    }
   },
   "id": "3e3b235ab9d92e55"
  },
  {
   "cell_type": "code",
   "execution_count": 683,
   "outputs": [],
   "source": [
    "tokenizer = Tokenizer(num_words=max_words)\n",
    "tokenizer.fit_on_texts(df_test)\n",
    "sequences = tokenizer.texts_to_sequences(df_test)\n",
    "sequences = pad_sequences(sequences, maxlen=max_len)"
   ],
   "metadata": {
    "collapsed": false,
    "ExecuteTime": {
     "end_time": "2023-11-07T00:18:04.718281300Z",
     "start_time": "2023-11-07T00:18:04.650594700Z"
    }
   },
   "id": "df1a7094b4de99e5"
  },
  {
   "cell_type": "code",
   "execution_count": 684,
   "outputs": [
    {
     "name": "stdout",
     "output_type": "stream",
     "text": [
      "1/1 [==============================] - 0s 210ms/step\n"
     ]
    }
   ],
   "source": [
    "lstm_prediction = lstm_model.predict(sequences)\n",
    "lstm_prediction = label.inverse_transform(lstm_prediction)"
   ],
   "metadata": {
    "collapsed": false,
    "ExecuteTime": {
     "end_time": "2023-11-07T00:18:05.970073600Z",
     "start_time": "2023-11-07T00:18:05.153828700Z"
    }
   },
   "id": "a9bcefa745b5effb"
  },
  {
   "cell_type": "code",
   "execution_count": 685,
   "outputs": [],
   "source": [
    "df_answer_lstm = pd.DataFrame(data= zip(index_test,lstm_prediction),\n",
    "                                       columns=[\"ID\",\"categoria\"])"
   ],
   "metadata": {
    "collapsed": false,
    "ExecuteTime": {
     "end_time": "2023-11-07T00:18:06.809217Z",
     "start_time": "2023-11-07T00:18:06.728212200Z"
    }
   },
   "id": "aa2e67021946b7cc"
  },
  {
   "cell_type": "code",
   "execution_count": 679,
   "outputs": [],
   "source": [
    "df_answer_lstm.to_csv(\"./predictions/categories/prediction_lstm.csv\", index=False)"
   ],
   "metadata": {
    "collapsed": false,
    "ExecuteTime": {
     "end_time": "2023-11-07T00:16:54.634818800Z",
     "start_time": "2023-11-07T00:16:54.546812900Z"
    }
   },
   "id": "8bee2e94239c77b9"
  },
  {
   "cell_type": "code",
   "execution_count": null,
   "outputs": [],
   "source": [],
   "metadata": {
    "collapsed": false
   },
   "id": "48c8b0135fd3864d"
  }
 ],
 "metadata": {
  "kernelspec": {
   "display_name": "Python 3",
   "language": "python",
   "name": "python3"
  },
  "language_info": {
   "codemirror_mode": {
    "name": "ipython",
    "version": 2
   },
   "file_extension": ".py",
   "mimetype": "text/x-python",
   "name": "python",
   "nbconvert_exporter": "python",
   "pygments_lexer": "ipython2",
   "version": "2.7.6"
  }
 },
 "nbformat": 4,
 "nbformat_minor": 5
}
