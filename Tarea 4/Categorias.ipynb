{
 "cells": [
  {
   "cell_type": "code",
   "execution_count": 1,
   "outputs": [
    {
     "name": "stdout",
     "output_type": "stream",
     "text": [
      "Requirement already satisfied: unidecode in /home/boris/Documentos/GitHub/Estadistica-III/venv/lib/python3.10/site-packages (1.3.7)\r\n",
      "\r\n",
      "\u001B[1m[\u001B[0m\u001B[34;49mnotice\u001B[0m\u001B[1;39;49m]\u001B[0m\u001B[39;49m A new release of pip is available: \u001B[0m\u001B[31;49m23.2.1\u001B[0m\u001B[39;49m -> \u001B[0m\u001B[32;49m23.3.1\u001B[0m\r\n",
      "\u001B[1m[\u001B[0m\u001B[34;49mnotice\u001B[0m\u001B[1;39;49m]\u001B[0m\u001B[39;49m To update, run: \u001B[0m\u001B[32;49mpip install --upgrade pip\u001B[0m\r\n"
     ]
    }
   ],
   "source": [
    "!pip install unidecode"
   ],
   "metadata": {
    "collapsed": false,
    "ExecuteTime": {
     "end_time": "2023-11-06T15:32:00.159685407Z",
     "start_time": "2023-11-06T15:31:57.405423288Z"
    }
   },
   "id": "593f0afdb64257df"
  },
  {
   "cell_type": "code",
   "execution_count": 2,
   "outputs": [
    {
     "name": "stderr",
     "output_type": "stream",
     "text": [
      "[nltk_data] Downloading package stopwords to /home/boris/nltk_data...\n",
      "[nltk_data]   Package stopwords is already up-to-date!\n"
     ]
    },
    {
     "data": {
      "text/plain": "True"
     },
     "execution_count": 2,
     "metadata": {},
     "output_type": "execute_result"
    }
   ],
   "source": [
    "import pandas as pd\n",
    "from unidecode import unidecode\n",
    "import re\n",
    "from nltk.tokenize.toktok import ToktokTokenizer\n",
    "from nltk.corpus import stopwords\n",
    "from nltk.stem import SnowballStemmer\n",
    "import nltk\n",
    "import matplotlib.pyplot as plt\n",
    "import seaborn as sns\n",
    "import math\n",
    "import numpy as np\n",
    "nltk.download('stopwords')"
   ],
   "metadata": {
    "collapsed": false,
    "ExecuteTime": {
     "end_time": "2023-11-06T15:32:00.923576702Z",
     "start_time": "2023-11-06T15:32:00.161707814Z"
    }
   },
   "id": "initial_id"
  },
  {
   "cell_type": "code",
   "execution_count": 50,
   "outputs": [],
   "source": [
    "df_train = pd.read_csv(\"./data/categories/train.csv\")\n",
    "df_test = pd.read_csv(\"./data/categories/test.csv\")\n",
    "index_test = df_test['index']\n",
    "df_complete = pd.concat([df_train,df_test])\n",
    "index = df_complete['index']\n",
    "titulo = df_complete['titulo']\n",
    "categoria = df_train['categoria']"
   ],
   "metadata": {
    "collapsed": false,
    "ExecuteTime": {
     "end_time": "2023-11-06T16:07:29.558062977Z",
     "start_time": "2023-11-06T16:07:29.453080387Z"
    }
   },
   "id": "27a0df0062972549"
  },
  {
   "cell_type": "code",
   "execution_count": 4,
   "outputs": [
    {
     "data": {
      "text/plain": "   index                                             titulo  \\\n0    610  \"De nada sirven los triunfos si la paz no los ...   \n1    819  \"Hay mejores formas para uno mostrar su forma ...   \n2    637                #LosNacionalesXSeñal - Bahía Cupica   \n3    740  #LosNacionalesXSeñal - Estudiantes Utech balon...   \n4    160  #LosNacionalesXSeñal - Las pruebas de triatlón...   \n5    101  #LosNacionalesXSeñal - María Elena Hurtado, la...   \n6    405           #LosNacionalesXSeñal - Niños voley playa   \n7    681          #LosNacionalesXSeñal - ¡Hicimos historia!   \n8    428  #PedaleoPor: Ariel Molina envía un saludo a lo...   \n9     13  #PedaleoPor: Ariel Molina envía un saludo a lo...   \n\n              categoria  \n0  Película y Animación  \n1  Película y Animación  \n2              Deportes  \n3              Deportes  \n4              Deportes  \n5              Deportes  \n6              Deportes  \n7              Deportes  \n8              Deportes  \n9              Deportes  ",
      "text/html": "<div>\n<style scoped>\n    .dataframe tbody tr th:only-of-type {\n        vertical-align: middle;\n    }\n\n    .dataframe tbody tr th {\n        vertical-align: top;\n    }\n\n    .dataframe thead th {\n        text-align: right;\n    }\n</style>\n<table border=\"1\" class=\"dataframe\">\n  <thead>\n    <tr style=\"text-align: right;\">\n      <th></th>\n      <th>index</th>\n      <th>titulo</th>\n      <th>categoria</th>\n    </tr>\n  </thead>\n  <tbody>\n    <tr>\n      <th>0</th>\n      <td>610</td>\n      <td>\"De nada sirven los triunfos si la paz no los ...</td>\n      <td>Película y Animación</td>\n    </tr>\n    <tr>\n      <th>1</th>\n      <td>819</td>\n      <td>\"Hay mejores formas para uno mostrar su forma ...</td>\n      <td>Película y Animación</td>\n    </tr>\n    <tr>\n      <th>2</th>\n      <td>637</td>\n      <td>#LosNacionalesXSeñal - Bahía Cupica</td>\n      <td>Deportes</td>\n    </tr>\n    <tr>\n      <th>3</th>\n      <td>740</td>\n      <td>#LosNacionalesXSeñal - Estudiantes Utech balon...</td>\n      <td>Deportes</td>\n    </tr>\n    <tr>\n      <th>4</th>\n      <td>160</td>\n      <td>#LosNacionalesXSeñal - Las pruebas de triatlón...</td>\n      <td>Deportes</td>\n    </tr>\n    <tr>\n      <th>5</th>\n      <td>101</td>\n      <td>#LosNacionalesXSeñal - María Elena Hurtado, la...</td>\n      <td>Deportes</td>\n    </tr>\n    <tr>\n      <th>6</th>\n      <td>405</td>\n      <td>#LosNacionalesXSeñal - Niños voley playa</td>\n      <td>Deportes</td>\n    </tr>\n    <tr>\n      <th>7</th>\n      <td>681</td>\n      <td>#LosNacionalesXSeñal - ¡Hicimos historia!</td>\n      <td>Deportes</td>\n    </tr>\n    <tr>\n      <th>8</th>\n      <td>428</td>\n      <td>#PedaleoPor: Ariel Molina envía un saludo a lo...</td>\n      <td>Deportes</td>\n    </tr>\n    <tr>\n      <th>9</th>\n      <td>13</td>\n      <td>#PedaleoPor: Ariel Molina envía un saludo a lo...</td>\n      <td>Deportes</td>\n    </tr>\n  </tbody>\n</table>\n</div>"
     },
     "execution_count": 4,
     "metadata": {},
     "output_type": "execute_result"
    }
   ],
   "source": [
    "df_complete.head(10)"
   ],
   "metadata": {
    "collapsed": false,
    "ExecuteTime": {
     "end_time": "2023-11-06T15:32:01.018086195Z",
     "start_time": "2023-11-06T15:32:00.945678401Z"
    }
   },
   "id": "3fc290c6b43ed33"
  },
  {
   "cell_type": "code",
   "execution_count": 5,
   "outputs": [
    {
     "data": {
      "text/plain": "0     \"De nada sirven los triunfos si la paz no los ...\n1     \"Hay mejores formas para uno mostrar su forma ...\n2                   #LosNacionalesXSeñal - Bahía Cupica\n3     #LosNacionalesXSeñal - Estudiantes Utech balon...\n4     #LosNacionalesXSeñal - Las pruebas de triatlón...\n5     #LosNacionalesXSeñal - María Elena Hurtado, la...\n6              #LosNacionalesXSeñal - Niños voley playa\n7             #LosNacionalesXSeñal - ¡Hicimos historia!\n8     #PedaleoPor: Ariel Molina envía un saludo a lo...\n9     #PedaleoPor: Ariel Molina envía un saludo a lo...\n10    #PedaleoPor: Dagoberto López envía un saludo a...\n11    #PedaleoPor: Esteban Kekessy envía un saludo a...\n12    #PedaleoPor: Henry García envía un saludo a lo...\n13    #PedaleoPor: James Guevara envía un saludo a l...\n14    #PedaleoPor: Javier Cruz envía un saludo a los...\n15    #PedaleoPor: Javier Rodríguez envía un saludo ...\n16    #PedaleoPor: Jonathan Devía envía un saludo a ...\n17    #PedaleoPor: Jorge Merchán envía un saludo a l...\n18    #PedaleoPor: Jorge envía un saludo a los escar...\n19    #PedaleoPor: Jorge envía un saludo a los escar...\nName: titulo, dtype: object"
     },
     "execution_count": 5,
     "metadata": {},
     "output_type": "execute_result"
    }
   ],
   "source": [
    "titulo.head(20)"
   ],
   "metadata": {
    "collapsed": false,
    "ExecuteTime": {
     "end_time": "2023-11-06T15:32:01.020493160Z",
     "start_time": "2023-11-06T15:32:00.959336432Z"
    }
   },
   "id": "d4be78d211a1fd5e"
  },
  {
   "cell_type": "code",
   "execution_count": 6,
   "outputs": [],
   "source": [
    "titulo = titulo.str.lower()"
   ],
   "metadata": {
    "collapsed": false,
    "ExecuteTime": {
     "end_time": "2023-11-06T15:32:01.024978589Z",
     "start_time": "2023-11-06T15:32:00.966801464Z"
    }
   },
   "id": "26d592f76c34fd79"
  },
  {
   "cell_type": "code",
   "execution_count": 7,
   "outputs": [
    {
     "data": {
      "text/plain": "0     \"de nada sirven los triunfos si la paz no los ...\n1     \"hay mejores formas para uno mostrar su forma ...\n2                   #losnacionalesxseñal - bahía cupica\n3     #losnacionalesxseñal - estudiantes utech balon...\n4     #losnacionalesxseñal - las pruebas de triatlón...\n5     #losnacionalesxseñal - maría elena hurtado, la...\n6              #losnacionalesxseñal - niños voley playa\n7             #losnacionalesxseñal - ¡hicimos historia!\n8     #pedaleopor: ariel molina envía un saludo a lo...\n9     #pedaleopor: ariel molina envía un saludo a lo...\n10    #pedaleopor: dagoberto lópez envía un saludo a...\n11    #pedaleopor: esteban kekessy envía un saludo a...\n12    #pedaleopor: henry garcía envía un saludo a lo...\n13    #pedaleopor: james guevara envía un saludo a l...\n14    #pedaleopor: javier cruz envía un saludo a los...\n15    #pedaleopor: javier rodríguez envía un saludo ...\n16    #pedaleopor: jonathan devía envía un saludo a ...\n17    #pedaleopor: jorge merchán envía un saludo a l...\n18    #pedaleopor: jorge envía un saludo a los escar...\n19    #pedaleopor: jorge envía un saludo a los escar...\nName: titulo, dtype: object"
     },
     "execution_count": 7,
     "metadata": {},
     "output_type": "execute_result"
    }
   ],
   "source": [
    "titulo.head(20)"
   ],
   "metadata": {
    "collapsed": false,
    "ExecuteTime": {
     "end_time": "2023-11-06T15:32:01.026446454Z",
     "start_time": "2023-11-06T15:32:00.971868957Z"
    }
   },
   "id": "6ad9aea0be7810b6"
  },
  {
   "cell_type": "code",
   "execution_count": 8,
   "outputs": [],
   "source": [
    "titulo = titulo.apply(unidecode)"
   ],
   "metadata": {
    "collapsed": false,
    "ExecuteTime": {
     "end_time": "2023-11-06T15:32:01.029632397Z",
     "start_time": "2023-11-06T15:32:00.989783162Z"
    }
   },
   "id": "d1b37853508b8c66"
  },
  {
   "cell_type": "code",
   "execution_count": 9,
   "outputs": [
    {
     "data": {
      "text/plain": "0     \"de nada sirven los triunfos si la paz no los ...\n1     \"hay mejores formas para uno mostrar su forma ...\n2                   #losnacionalesxsenal - bahia cupica\n3     #losnacionalesxsenal - estudiantes utech balon...\n4     #losnacionalesxsenal - las pruebas de triatlon...\n5     #losnacionalesxsenal - maria elena hurtado, la...\n6              #losnacionalesxsenal - ninos voley playa\n7             #losnacionalesxsenal - !hicimos historia!\n8     #pedaleopor: ariel molina envia un saludo a lo...\n9     #pedaleopor: ariel molina envia un saludo a lo...\n10    #pedaleopor: dagoberto lopez envia un saludo a...\n11    #pedaleopor: esteban kekessy envia un saludo a...\n12    #pedaleopor: henry garcia envia un saludo a lo...\n13    #pedaleopor: james guevara envia un saludo a l...\n14    #pedaleopor: javier cruz envia un saludo a los...\n15    #pedaleopor: javier rodriguez envia un saludo ...\n16    #pedaleopor: jonathan devia envia un saludo a ...\n17    #pedaleopor: jorge merchan envia un saludo a l...\n18    #pedaleopor: jorge envia un saludo a los escar...\n19    #pedaleopor: jorge envia un saludo a los escar...\nName: titulo, dtype: object"
     },
     "execution_count": 9,
     "metadata": {},
     "output_type": "execute_result"
    }
   ],
   "source": [
    "titulo.head(20)"
   ],
   "metadata": {
    "collapsed": false,
    "ExecuteTime": {
     "end_time": "2023-11-06T15:32:01.123848983Z",
     "start_time": "2023-11-06T15:32:01.009204727Z"
    }
   },
   "id": "e800e10a7222be1f"
  },
  {
   "cell_type": "code",
   "execution_count": 10,
   "outputs": [],
   "source": [
    "def quitar_caracteres_especiales(texto):\n",
    "    return re.sub(r'[^A-Za-z0-9 ]+', '', texto)\n",
    "titulo = titulo.apply(quitar_caracteres_especiales)"
   ],
   "metadata": {
    "collapsed": false,
    "ExecuteTime": {
     "end_time": "2023-11-06T15:32:01.124383787Z",
     "start_time": "2023-11-06T15:32:01.054064575Z"
    }
   },
   "id": "e70bd33d818b4fe0"
  },
  {
   "cell_type": "code",
   "execution_count": 11,
   "outputs": [
    {
     "data": {
      "text/plain": "0     de nada sirven los triunfos si la paz no los c...\n1     hay mejores formas para uno mostrar su forma d...\n2                     losnacionalesxsenal  bahia cupica\n3      losnacionalesxsenal  estudiantes utech balonmano\n4     losnacionalesxsenal  las pruebas de triatlon l...\n5     losnacionalesxsenal  maria elena hurtado la pe...\n6                losnacionalesxsenal  ninos voley playa\n7                 losnacionalesxsenal  hicimos historia\n8     pedaleopor ariel molina envia un saludo a los ...\n9     pedaleopor ariel molina envia un saludo a los ...\n10    pedaleopor dagoberto lopez envia un saludo a l...\n11    pedaleopor esteban kekessy envia un saludo a l...\n12    pedaleopor henry garcia envia un saludo a los ...\n13    pedaleopor james guevara envia un saludo a los...\n14    pedaleopor javier cruz envia un saludo a los e...\n15    pedaleopor javier rodriguez envia un saludo a ...\n16    pedaleopor jonathan devia envia un saludo a lo...\n17    pedaleopor jorge merchan envia un saludo a los...\n18    pedaleopor jorge envia un saludo a los escarab...\n19    pedaleopor jorge envia un saludo a los escarab...\nName: titulo, dtype: object"
     },
     "execution_count": 11,
     "metadata": {},
     "output_type": "execute_result"
    }
   ],
   "source": [
    "titulo.head(20)"
   ],
   "metadata": {
    "collapsed": false,
    "ExecuteTime": {
     "end_time": "2023-11-06T15:32:01.228658453Z",
     "start_time": "2023-11-06T15:32:01.054697435Z"
    }
   },
   "id": "9cea9060caa7da6f"
  },
  {
   "cell_type": "code",
   "execution_count": 12,
   "outputs": [
    {
     "data": {
      "text/plain": "       Palabra\n0           de\n1         nada\n2       sirven\n3          los\n4     triunfos\n5           si\n6           la\n7          paz\n8           no\n9       corona\n10  lapazhabla\n11         hay\n12     mejores\n13      formas\n14        para\n15         uno\n16     mostrar\n17          su\n18       forma\n19      pensar",
      "text/html": "<div>\n<style scoped>\n    .dataframe tbody tr th:only-of-type {\n        vertical-align: middle;\n    }\n\n    .dataframe tbody tr th {\n        vertical-align: top;\n    }\n\n    .dataframe thead th {\n        text-align: right;\n    }\n</style>\n<table border=\"1\" class=\"dataframe\">\n  <thead>\n    <tr style=\"text-align: right;\">\n      <th></th>\n      <th>Palabra</th>\n    </tr>\n  </thead>\n  <tbody>\n    <tr>\n      <th>0</th>\n      <td>de</td>\n    </tr>\n    <tr>\n      <th>1</th>\n      <td>nada</td>\n    </tr>\n    <tr>\n      <th>2</th>\n      <td>sirven</td>\n    </tr>\n    <tr>\n      <th>3</th>\n      <td>los</td>\n    </tr>\n    <tr>\n      <th>4</th>\n      <td>triunfos</td>\n    </tr>\n    <tr>\n      <th>5</th>\n      <td>si</td>\n    </tr>\n    <tr>\n      <th>6</th>\n      <td>la</td>\n    </tr>\n    <tr>\n      <th>7</th>\n      <td>paz</td>\n    </tr>\n    <tr>\n      <th>8</th>\n      <td>no</td>\n    </tr>\n    <tr>\n      <th>9</th>\n      <td>corona</td>\n    </tr>\n    <tr>\n      <th>10</th>\n      <td>lapazhabla</td>\n    </tr>\n    <tr>\n      <th>11</th>\n      <td>hay</td>\n    </tr>\n    <tr>\n      <th>12</th>\n      <td>mejores</td>\n    </tr>\n    <tr>\n      <th>13</th>\n      <td>formas</td>\n    </tr>\n    <tr>\n      <th>14</th>\n      <td>para</td>\n    </tr>\n    <tr>\n      <th>15</th>\n      <td>uno</td>\n    </tr>\n    <tr>\n      <th>16</th>\n      <td>mostrar</td>\n    </tr>\n    <tr>\n      <th>17</th>\n      <td>su</td>\n    </tr>\n    <tr>\n      <th>18</th>\n      <td>forma</td>\n    </tr>\n    <tr>\n      <th>19</th>\n      <td>pensar</td>\n    </tr>\n  </tbody>\n</table>\n</div>"
     },
     "execution_count": 12,
     "metadata": {},
     "output_type": "execute_result"
    }
   ],
   "source": [
    "def obtener_palabras_unicas(texto, diccionario):\n",
    "    palabras = re.findall(r'\\b\\w+\\b', texto)\n",
    "    for palabra in palabras:\n",
    "        diccionario[palabra] = 0\n",
    "        \n",
    "palabras_unicas = {}\n",
    "\n",
    "titulo.apply(lambda x: obtener_palabras_unicas(x, palabras_unicas))\n",
    "\n",
    "df_palabras_unicas = pd.DataFrame(palabras_unicas.keys(), columns=[\"Palabra\"])\n",
    "df_palabras_unicas.head(20)"
   ],
   "metadata": {
    "collapsed": false,
    "ExecuteTime": {
     "end_time": "2023-11-06T15:32:01.231743416Z",
     "start_time": "2023-11-06T15:32:01.055356976Z"
    }
   },
   "id": "e2f6a243171394ea"
  },
  {
   "cell_type": "code",
   "execution_count": 13,
   "outputs": [
    {
     "data": {
      "text/plain": "2109"
     },
     "execution_count": 13,
     "metadata": {},
     "output_type": "execute_result"
    }
   ],
   "source": [
    "len(df_palabras_unicas)"
   ],
   "metadata": {
    "collapsed": false,
    "ExecuteTime": {
     "end_time": "2023-11-06T15:32:01.232705621Z",
     "start_time": "2023-11-06T15:32:01.097325890Z"
    }
   },
   "id": "3dd26bc6eaeed7"
  },
  {
   "cell_type": "code",
   "execution_count": 14,
   "outputs": [
    {
     "data": {
      "text/plain": "                                                    de  nada  sirven  los  \\\ntitulo                                                                      \nde nada sirven los triunfos si la paz no los co...   0     0       0    0   \nhay mejores formas para uno mostrar su forma de...   0     0       0    0   \nlosnacionalesxsenal  bahia cupica                    0     0       0    0   \nlosnacionalesxsenal  estudiantes utech balonmano     0     0       0    0   \nlosnacionalesxsenal  las pruebas de triatlon ll...   0     0       0    0   \n...                                                 ..   ...     ...  ...   \ncomo ensenarle a los papas a reciclar                0     0       0    0   \ncomo es tu municipio los ninos de paicol nos cu...   0     0       0    0   \nlos ninos podemos cambiar el mundo                   0     0       0    0   \nque harias tu  una nina ejemplar                     0     0       0    0   \nque te gusta de mi senal los ninos nos dan su o...   0     0       0    0   \n\n                                                    triunfos  si  la  paz  no  \\\ntitulo                                                                          \nde nada sirven los triunfos si la paz no los co...         0   0   0    0   0   \nhay mejores formas para uno mostrar su forma de...         0   0   0    0   0   \nlosnacionalesxsenal  bahia cupica                          0   0   0    0   0   \nlosnacionalesxsenal  estudiantes utech balonmano           0   0   0    0   0   \nlosnacionalesxsenal  las pruebas de triatlon ll...         0   0   0    0   0   \n...                                                      ...  ..  ..  ...  ..   \ncomo ensenarle a los papas a reciclar                      0   0   0    0   0   \ncomo es tu municipio los ninos de paicol nos cu...         0   0   0    0   0   \nlos ninos podemos cambiar el mundo                         0   0   0    0   0   \nque harias tu  una nina ejemplar                           0   0   0    0   0   \nque te gusta de mi senal los ninos nos dan su o...         0   0   0    0   0   \n\n                                                    corona  ...  ensenarle  \\\ntitulo                                                      ...              \nde nada sirven los triunfos si la paz no los co...       0  ...          0   \nhay mejores formas para uno mostrar su forma de...       0  ...          0   \nlosnacionalesxsenal  bahia cupica                        0  ...          0   \nlosnacionalesxsenal  estudiantes utech balonmano         0  ...          0   \nlosnacionalesxsenal  las pruebas de triatlon ll...       0  ...          0   \n...                                                    ...  ...        ...   \ncomo ensenarle a los papas a reciclar                    0  ...          0   \ncomo es tu municipio los ninos de paicol nos cu...       0  ...          0   \nlos ninos podemos cambiar el mundo                       0  ...          0   \nque harias tu  una nina ejemplar                         0  ...          0   \nque te gusta de mi senal los ninos nos dan su o...       0  ...          0   \n\n                                                    papas  reciclar  paicol  \\\ntitulo                                                                        \nde nada sirven los triunfos si la paz no los co...      0         0       0   \nhay mejores formas para uno mostrar su forma de...      0         0       0   \nlosnacionalesxsenal  bahia cupica                       0         0       0   \nlosnacionalesxsenal  estudiantes utech balonmano        0         0       0   \nlosnacionalesxsenal  las pruebas de triatlon ll...      0         0       0   \n...                                                   ...       ...     ...   \ncomo ensenarle a los papas a reciclar                   0         0       0   \ncomo es tu municipio los ninos de paicol nos cu...      0         0       0   \nlos ninos podemos cambiar el mundo                      0         0       0   \nque harias tu  una nina ejemplar                        0         0       0   \nque te gusta de mi senal los ninos nos dan su o...      0         0       0   \n\n                                                    cuentan  podemos  cambiar  \\\ntitulo                                                                          \nde nada sirven los triunfos si la paz no los co...        0        0        0   \nhay mejores formas para uno mostrar su forma de...        0        0        0   \nlosnacionalesxsenal  bahia cupica                         0        0        0   \nlosnacionalesxsenal  estudiantes utech balonmano          0        0        0   \nlosnacionalesxsenal  las pruebas de triatlon ll...        0        0        0   \n...                                                     ...      ...      ...   \ncomo ensenarle a los papas a reciclar                     0        0        0   \ncomo es tu municipio los ninos de paicol nos cu...        0        0        0   \nlos ninos podemos cambiar el mundo                        0        0        0   \nque harias tu  una nina ejemplar                          0        0        0   \nque te gusta de mi senal los ninos nos dan su o...        0        0        0   \n\n                                                    ejemplar  dan  opinion  \ntitulo                                                                      \nde nada sirven los triunfos si la paz no los co...         0    0        0  \nhay mejores formas para uno mostrar su forma de...         0    0        0  \nlosnacionalesxsenal  bahia cupica                          0    0        0  \nlosnacionalesxsenal  estudiantes utech balonmano           0    0        0  \nlosnacionalesxsenal  las pruebas de triatlon ll...         0    0        0  \n...                                                      ...  ...      ...  \ncomo ensenarle a los papas a reciclar                      0    0        0  \ncomo es tu municipio los ninos de paicol nos cu...         0    0        0  \nlos ninos podemos cambiar el mundo                         0    0        0  \nque harias tu  una nina ejemplar                           0    0        0  \nque te gusta de mi senal los ninos nos dan su o...         0    0        0  \n\n[1000 rows x 2109 columns]",
      "text/html": "<div>\n<style scoped>\n    .dataframe tbody tr th:only-of-type {\n        vertical-align: middle;\n    }\n\n    .dataframe tbody tr th {\n        vertical-align: top;\n    }\n\n    .dataframe thead th {\n        text-align: right;\n    }\n</style>\n<table border=\"1\" class=\"dataframe\">\n  <thead>\n    <tr style=\"text-align: right;\">\n      <th></th>\n      <th>de</th>\n      <th>nada</th>\n      <th>sirven</th>\n      <th>los</th>\n      <th>triunfos</th>\n      <th>si</th>\n      <th>la</th>\n      <th>paz</th>\n      <th>no</th>\n      <th>corona</th>\n      <th>...</th>\n      <th>ensenarle</th>\n      <th>papas</th>\n      <th>reciclar</th>\n      <th>paicol</th>\n      <th>cuentan</th>\n      <th>podemos</th>\n      <th>cambiar</th>\n      <th>ejemplar</th>\n      <th>dan</th>\n      <th>opinion</th>\n    </tr>\n    <tr>\n      <th>titulo</th>\n      <th></th>\n      <th></th>\n      <th></th>\n      <th></th>\n      <th></th>\n      <th></th>\n      <th></th>\n      <th></th>\n      <th></th>\n      <th></th>\n      <th></th>\n      <th></th>\n      <th></th>\n      <th></th>\n      <th></th>\n      <th></th>\n      <th></th>\n      <th></th>\n      <th></th>\n      <th></th>\n      <th></th>\n    </tr>\n  </thead>\n  <tbody>\n    <tr>\n      <th>de nada sirven los triunfos si la paz no los corona lapazhabla</th>\n      <td>0</td>\n      <td>0</td>\n      <td>0</td>\n      <td>0</td>\n      <td>0</td>\n      <td>0</td>\n      <td>0</td>\n      <td>0</td>\n      <td>0</td>\n      <td>0</td>\n      <td>...</td>\n      <td>0</td>\n      <td>0</td>\n      <td>0</td>\n      <td>0</td>\n      <td>0</td>\n      <td>0</td>\n      <td>0</td>\n      <td>0</td>\n      <td>0</td>\n      <td>0</td>\n    </tr>\n    <tr>\n      <th>hay mejores formas para uno mostrar su forma de pensar sofia</th>\n      <td>0</td>\n      <td>0</td>\n      <td>0</td>\n      <td>0</td>\n      <td>0</td>\n      <td>0</td>\n      <td>0</td>\n      <td>0</td>\n      <td>0</td>\n      <td>0</td>\n      <td>...</td>\n      <td>0</td>\n      <td>0</td>\n      <td>0</td>\n      <td>0</td>\n      <td>0</td>\n      <td>0</td>\n      <td>0</td>\n      <td>0</td>\n      <td>0</td>\n      <td>0</td>\n    </tr>\n    <tr>\n      <th>losnacionalesxsenal  bahia cupica</th>\n      <td>0</td>\n      <td>0</td>\n      <td>0</td>\n      <td>0</td>\n      <td>0</td>\n      <td>0</td>\n      <td>0</td>\n      <td>0</td>\n      <td>0</td>\n      <td>0</td>\n      <td>...</td>\n      <td>0</td>\n      <td>0</td>\n      <td>0</td>\n      <td>0</td>\n      <td>0</td>\n      <td>0</td>\n      <td>0</td>\n      <td>0</td>\n      <td>0</td>\n      <td>0</td>\n    </tr>\n    <tr>\n      <th>losnacionalesxsenal  estudiantes utech balonmano</th>\n      <td>0</td>\n      <td>0</td>\n      <td>0</td>\n      <td>0</td>\n      <td>0</td>\n      <td>0</td>\n      <td>0</td>\n      <td>0</td>\n      <td>0</td>\n      <td>0</td>\n      <td>...</td>\n      <td>0</td>\n      <td>0</td>\n      <td>0</td>\n      <td>0</td>\n      <td>0</td>\n      <td>0</td>\n      <td>0</td>\n      <td>0</td>\n      <td>0</td>\n      <td>0</td>\n    </tr>\n    <tr>\n      <th>losnacionalesxsenal  las pruebas de triatlon llenaron de emocion al municipio de prado</th>\n      <td>0</td>\n      <td>0</td>\n      <td>0</td>\n      <td>0</td>\n      <td>0</td>\n      <td>0</td>\n      <td>0</td>\n      <td>0</td>\n      <td>0</td>\n      <td>0</td>\n      <td>...</td>\n      <td>0</td>\n      <td>0</td>\n      <td>0</td>\n      <td>0</td>\n      <td>0</td>\n      <td>0</td>\n      <td>0</td>\n      <td>0</td>\n      <td>0</td>\n      <td>0</td>\n    </tr>\n    <tr>\n      <th>...</th>\n      <td>...</td>\n      <td>...</td>\n      <td>...</td>\n      <td>...</td>\n      <td>...</td>\n      <td>...</td>\n      <td>...</td>\n      <td>...</td>\n      <td>...</td>\n      <td>...</td>\n      <td>...</td>\n      <td>...</td>\n      <td>...</td>\n      <td>...</td>\n      <td>...</td>\n      <td>...</td>\n      <td>...</td>\n      <td>...</td>\n      <td>...</td>\n      <td>...</td>\n      <td>...</td>\n    </tr>\n    <tr>\n      <th>como ensenarle a los papas a reciclar</th>\n      <td>0</td>\n      <td>0</td>\n      <td>0</td>\n      <td>0</td>\n      <td>0</td>\n      <td>0</td>\n      <td>0</td>\n      <td>0</td>\n      <td>0</td>\n      <td>0</td>\n      <td>...</td>\n      <td>0</td>\n      <td>0</td>\n      <td>0</td>\n      <td>0</td>\n      <td>0</td>\n      <td>0</td>\n      <td>0</td>\n      <td>0</td>\n      <td>0</td>\n      <td>0</td>\n    </tr>\n    <tr>\n      <th>como es tu municipio los ninos de paicol nos cuentan</th>\n      <td>0</td>\n      <td>0</td>\n      <td>0</td>\n      <td>0</td>\n      <td>0</td>\n      <td>0</td>\n      <td>0</td>\n      <td>0</td>\n      <td>0</td>\n      <td>0</td>\n      <td>...</td>\n      <td>0</td>\n      <td>0</td>\n      <td>0</td>\n      <td>0</td>\n      <td>0</td>\n      <td>0</td>\n      <td>0</td>\n      <td>0</td>\n      <td>0</td>\n      <td>0</td>\n    </tr>\n    <tr>\n      <th>los ninos podemos cambiar el mundo</th>\n      <td>0</td>\n      <td>0</td>\n      <td>0</td>\n      <td>0</td>\n      <td>0</td>\n      <td>0</td>\n      <td>0</td>\n      <td>0</td>\n      <td>0</td>\n      <td>0</td>\n      <td>...</td>\n      <td>0</td>\n      <td>0</td>\n      <td>0</td>\n      <td>0</td>\n      <td>0</td>\n      <td>0</td>\n      <td>0</td>\n      <td>0</td>\n      <td>0</td>\n      <td>0</td>\n    </tr>\n    <tr>\n      <th>que harias tu  una nina ejemplar</th>\n      <td>0</td>\n      <td>0</td>\n      <td>0</td>\n      <td>0</td>\n      <td>0</td>\n      <td>0</td>\n      <td>0</td>\n      <td>0</td>\n      <td>0</td>\n      <td>0</td>\n      <td>...</td>\n      <td>0</td>\n      <td>0</td>\n      <td>0</td>\n      <td>0</td>\n      <td>0</td>\n      <td>0</td>\n      <td>0</td>\n      <td>0</td>\n      <td>0</td>\n      <td>0</td>\n    </tr>\n    <tr>\n      <th>que te gusta de mi senal los ninos nos dan su opinion</th>\n      <td>0</td>\n      <td>0</td>\n      <td>0</td>\n      <td>0</td>\n      <td>0</td>\n      <td>0</td>\n      <td>0</td>\n      <td>0</td>\n      <td>0</td>\n      <td>0</td>\n      <td>...</td>\n      <td>0</td>\n      <td>0</td>\n      <td>0</td>\n      <td>0</td>\n      <td>0</td>\n      <td>0</td>\n      <td>0</td>\n      <td>0</td>\n      <td>0</td>\n      <td>0</td>\n    </tr>\n  </tbody>\n</table>\n<p>1000 rows × 2109 columns</p>\n</div>"
     },
     "execution_count": 14,
     "metadata": {},
     "output_type": "execute_result"
    }
   ],
   "source": [
    "df_matriz_frecuencia = pd.DataFrame(palabras_unicas, index=titulo)\n",
    "df_matriz_frecuencia"
   ],
   "metadata": {
    "collapsed": false,
    "ExecuteTime": {
     "end_time": "2023-11-06T15:32:01.253941073Z",
     "start_time": "2023-11-06T15:32:01.097905389Z"
    }
   },
   "id": "2c4c7104d32c850b"
  },
  {
   "cell_type": "code",
   "execution_count": 15,
   "outputs": [
    {
     "data": {
      "text/plain": "Index(['de', 'nada', 'sirven', 'los', 'triunfos', 'si', 'la', 'paz', 'no',\n       'corona',\n       ...\n       'ensenarle', 'papas', 'reciclar', 'paicol', 'cuentan', 'podemos',\n       'cambiar', 'ejemplar', 'dan', 'opinion'],\n      dtype='object', length=2109)"
     },
     "execution_count": 15,
     "metadata": {},
     "output_type": "execute_result"
    }
   ],
   "source": [
    "df_matriz_frecuencia.columns"
   ],
   "metadata": {
    "collapsed": false,
    "ExecuteTime": {
     "end_time": "2023-11-06T15:32:01.266689426Z",
     "start_time": "2023-11-06T15:32:01.137951966Z"
    }
   },
   "id": "fdfa333fe7c0d354"
  },
  {
   "cell_type": "code",
   "execution_count": 16,
   "outputs": [],
   "source": [
    "for indice, fila in df_matriz_frecuencia.iterrows():\n",
    "    for palabra in df_matriz_frecuencia.columns:\n",
    "        titulo_interno = fila.name\n",
    "        df_matriz_frecuencia.at[fila.name,palabra] = titulo_interno.split().count(palabra)"
   ],
   "metadata": {
    "collapsed": false,
    "ExecuteTime": {
     "end_time": "2023-11-06T15:34:52.729687373Z",
     "start_time": "2023-11-06T15:32:01.144691962Z"
    }
   },
   "id": "31f44d1abdc9bfba"
  },
  {
   "cell_type": "code",
   "execution_count": 17,
   "outputs": [
    {
     "data": {
      "text/plain": "                                                    de  nada  sirven  los  \\\ntitulo                                                                      \nde nada sirven los triunfos si la paz no los co...   1     1       1    2   \nhay mejores formas para uno mostrar su forma de...   1     0       0    0   \nlosnacionalesxsenal  bahia cupica                    0     0       0    0   \nlosnacionalesxsenal  estudiantes utech balonmano     0     0       0    0   \nlosnacionalesxsenal  las pruebas de triatlon ll...   3     0       0    0   \n...                                                 ..   ...     ...  ...   \ncomo ensenarle a los papas a reciclar                0     0       0    1   \ncomo es tu municipio los ninos de paicol nos cu...   1     0       0    1   \nlos ninos podemos cambiar el mundo                   0     0       0    1   \nque harias tu  una nina ejemplar                     0     0       0    0   \nque te gusta de mi senal los ninos nos dan su o...   1     0       0    1   \n\n                                                    triunfos  si  la  paz  no  \\\ntitulo                                                                          \nde nada sirven los triunfos si la paz no los co...         1   1   1    1   1   \nhay mejores formas para uno mostrar su forma de...         0   0   0    0   0   \nlosnacionalesxsenal  bahia cupica                          0   0   0    0   0   \nlosnacionalesxsenal  estudiantes utech balonmano           0   0   0    0   0   \nlosnacionalesxsenal  las pruebas de triatlon ll...         0   0   0    0   0   \n...                                                      ...  ..  ..  ...  ..   \ncomo ensenarle a los papas a reciclar                      0   0   0    0   0   \ncomo es tu municipio los ninos de paicol nos cu...         0   0   0    0   0   \nlos ninos podemos cambiar el mundo                         0   0   0    0   0   \nque harias tu  una nina ejemplar                           0   0   0    0   0   \nque te gusta de mi senal los ninos nos dan su o...         0   0   0    0   0   \n\n                                                    corona  ...  ensenarle  \\\ntitulo                                                      ...              \nde nada sirven los triunfos si la paz no los co...       1  ...          0   \nhay mejores formas para uno mostrar su forma de...       0  ...          0   \nlosnacionalesxsenal  bahia cupica                        0  ...          0   \nlosnacionalesxsenal  estudiantes utech balonmano         0  ...          0   \nlosnacionalesxsenal  las pruebas de triatlon ll...       0  ...          0   \n...                                                    ...  ...        ...   \ncomo ensenarle a los papas a reciclar                    0  ...          1   \ncomo es tu municipio los ninos de paicol nos cu...       0  ...          0   \nlos ninos podemos cambiar el mundo                       0  ...          0   \nque harias tu  una nina ejemplar                         0  ...          0   \nque te gusta de mi senal los ninos nos dan su o...       0  ...          0   \n\n                                                    papas  reciclar  paicol  \\\ntitulo                                                                        \nde nada sirven los triunfos si la paz no los co...      0         0       0   \nhay mejores formas para uno mostrar su forma de...      0         0       0   \nlosnacionalesxsenal  bahia cupica                       0         0       0   \nlosnacionalesxsenal  estudiantes utech balonmano        0         0       0   \nlosnacionalesxsenal  las pruebas de triatlon ll...      0         0       0   \n...                                                   ...       ...     ...   \ncomo ensenarle a los papas a reciclar                   1         1       0   \ncomo es tu municipio los ninos de paicol nos cu...      0         0       1   \nlos ninos podemos cambiar el mundo                      0         0       0   \nque harias tu  una nina ejemplar                        0         0       0   \nque te gusta de mi senal los ninos nos dan su o...      0         0       0   \n\n                                                    cuentan  podemos  cambiar  \\\ntitulo                                                                          \nde nada sirven los triunfos si la paz no los co...        0        0        0   \nhay mejores formas para uno mostrar su forma de...        0        0        0   \nlosnacionalesxsenal  bahia cupica                         0        0        0   \nlosnacionalesxsenal  estudiantes utech balonmano          0        0        0   \nlosnacionalesxsenal  las pruebas de triatlon ll...        0        0        0   \n...                                                     ...      ...      ...   \ncomo ensenarle a los papas a reciclar                     0        0        0   \ncomo es tu municipio los ninos de paicol nos cu...        1        0        0   \nlos ninos podemos cambiar el mundo                        0        1        1   \nque harias tu  una nina ejemplar                          0        0        0   \nque te gusta de mi senal los ninos nos dan su o...        0        0        0   \n\n                                                    ejemplar  dan  opinion  \ntitulo                                                                      \nde nada sirven los triunfos si la paz no los co...         0    0        0  \nhay mejores formas para uno mostrar su forma de...         0    0        0  \nlosnacionalesxsenal  bahia cupica                          0    0        0  \nlosnacionalesxsenal  estudiantes utech balonmano           0    0        0  \nlosnacionalesxsenal  las pruebas de triatlon ll...         0    0        0  \n...                                                      ...  ...      ...  \ncomo ensenarle a los papas a reciclar                      0    0        0  \ncomo es tu municipio los ninos de paicol nos cu...         0    0        0  \nlos ninos podemos cambiar el mundo                         0    0        0  \nque harias tu  una nina ejemplar                           1    0        0  \nque te gusta de mi senal los ninos nos dan su o...         0    1        1  \n\n[1000 rows x 2109 columns]",
      "text/html": "<div>\n<style scoped>\n    .dataframe tbody tr th:only-of-type {\n        vertical-align: middle;\n    }\n\n    .dataframe tbody tr th {\n        vertical-align: top;\n    }\n\n    .dataframe thead th {\n        text-align: right;\n    }\n</style>\n<table border=\"1\" class=\"dataframe\">\n  <thead>\n    <tr style=\"text-align: right;\">\n      <th></th>\n      <th>de</th>\n      <th>nada</th>\n      <th>sirven</th>\n      <th>los</th>\n      <th>triunfos</th>\n      <th>si</th>\n      <th>la</th>\n      <th>paz</th>\n      <th>no</th>\n      <th>corona</th>\n      <th>...</th>\n      <th>ensenarle</th>\n      <th>papas</th>\n      <th>reciclar</th>\n      <th>paicol</th>\n      <th>cuentan</th>\n      <th>podemos</th>\n      <th>cambiar</th>\n      <th>ejemplar</th>\n      <th>dan</th>\n      <th>opinion</th>\n    </tr>\n    <tr>\n      <th>titulo</th>\n      <th></th>\n      <th></th>\n      <th></th>\n      <th></th>\n      <th></th>\n      <th></th>\n      <th></th>\n      <th></th>\n      <th></th>\n      <th></th>\n      <th></th>\n      <th></th>\n      <th></th>\n      <th></th>\n      <th></th>\n      <th></th>\n      <th></th>\n      <th></th>\n      <th></th>\n      <th></th>\n      <th></th>\n    </tr>\n  </thead>\n  <tbody>\n    <tr>\n      <th>de nada sirven los triunfos si la paz no los corona lapazhabla</th>\n      <td>1</td>\n      <td>1</td>\n      <td>1</td>\n      <td>2</td>\n      <td>1</td>\n      <td>1</td>\n      <td>1</td>\n      <td>1</td>\n      <td>1</td>\n      <td>1</td>\n      <td>...</td>\n      <td>0</td>\n      <td>0</td>\n      <td>0</td>\n      <td>0</td>\n      <td>0</td>\n      <td>0</td>\n      <td>0</td>\n      <td>0</td>\n      <td>0</td>\n      <td>0</td>\n    </tr>\n    <tr>\n      <th>hay mejores formas para uno mostrar su forma de pensar sofia</th>\n      <td>1</td>\n      <td>0</td>\n      <td>0</td>\n      <td>0</td>\n      <td>0</td>\n      <td>0</td>\n      <td>0</td>\n      <td>0</td>\n      <td>0</td>\n      <td>0</td>\n      <td>...</td>\n      <td>0</td>\n      <td>0</td>\n      <td>0</td>\n      <td>0</td>\n      <td>0</td>\n      <td>0</td>\n      <td>0</td>\n      <td>0</td>\n      <td>0</td>\n      <td>0</td>\n    </tr>\n    <tr>\n      <th>losnacionalesxsenal  bahia cupica</th>\n      <td>0</td>\n      <td>0</td>\n      <td>0</td>\n      <td>0</td>\n      <td>0</td>\n      <td>0</td>\n      <td>0</td>\n      <td>0</td>\n      <td>0</td>\n      <td>0</td>\n      <td>...</td>\n      <td>0</td>\n      <td>0</td>\n      <td>0</td>\n      <td>0</td>\n      <td>0</td>\n      <td>0</td>\n      <td>0</td>\n      <td>0</td>\n      <td>0</td>\n      <td>0</td>\n    </tr>\n    <tr>\n      <th>losnacionalesxsenal  estudiantes utech balonmano</th>\n      <td>0</td>\n      <td>0</td>\n      <td>0</td>\n      <td>0</td>\n      <td>0</td>\n      <td>0</td>\n      <td>0</td>\n      <td>0</td>\n      <td>0</td>\n      <td>0</td>\n      <td>...</td>\n      <td>0</td>\n      <td>0</td>\n      <td>0</td>\n      <td>0</td>\n      <td>0</td>\n      <td>0</td>\n      <td>0</td>\n      <td>0</td>\n      <td>0</td>\n      <td>0</td>\n    </tr>\n    <tr>\n      <th>losnacionalesxsenal  las pruebas de triatlon llenaron de emocion al municipio de prado</th>\n      <td>3</td>\n      <td>0</td>\n      <td>0</td>\n      <td>0</td>\n      <td>0</td>\n      <td>0</td>\n      <td>0</td>\n      <td>0</td>\n      <td>0</td>\n      <td>0</td>\n      <td>...</td>\n      <td>0</td>\n      <td>0</td>\n      <td>0</td>\n      <td>0</td>\n      <td>0</td>\n      <td>0</td>\n      <td>0</td>\n      <td>0</td>\n      <td>0</td>\n      <td>0</td>\n    </tr>\n    <tr>\n      <th>...</th>\n      <td>...</td>\n      <td>...</td>\n      <td>...</td>\n      <td>...</td>\n      <td>...</td>\n      <td>...</td>\n      <td>...</td>\n      <td>...</td>\n      <td>...</td>\n      <td>...</td>\n      <td>...</td>\n      <td>...</td>\n      <td>...</td>\n      <td>...</td>\n      <td>...</td>\n      <td>...</td>\n      <td>...</td>\n      <td>...</td>\n      <td>...</td>\n      <td>...</td>\n      <td>...</td>\n    </tr>\n    <tr>\n      <th>como ensenarle a los papas a reciclar</th>\n      <td>0</td>\n      <td>0</td>\n      <td>0</td>\n      <td>1</td>\n      <td>0</td>\n      <td>0</td>\n      <td>0</td>\n      <td>0</td>\n      <td>0</td>\n      <td>0</td>\n      <td>...</td>\n      <td>1</td>\n      <td>1</td>\n      <td>1</td>\n      <td>0</td>\n      <td>0</td>\n      <td>0</td>\n      <td>0</td>\n      <td>0</td>\n      <td>0</td>\n      <td>0</td>\n    </tr>\n    <tr>\n      <th>como es tu municipio los ninos de paicol nos cuentan</th>\n      <td>1</td>\n      <td>0</td>\n      <td>0</td>\n      <td>1</td>\n      <td>0</td>\n      <td>0</td>\n      <td>0</td>\n      <td>0</td>\n      <td>0</td>\n      <td>0</td>\n      <td>...</td>\n      <td>0</td>\n      <td>0</td>\n      <td>0</td>\n      <td>1</td>\n      <td>1</td>\n      <td>0</td>\n      <td>0</td>\n      <td>0</td>\n      <td>0</td>\n      <td>0</td>\n    </tr>\n    <tr>\n      <th>los ninos podemos cambiar el mundo</th>\n      <td>0</td>\n      <td>0</td>\n      <td>0</td>\n      <td>1</td>\n      <td>0</td>\n      <td>0</td>\n      <td>0</td>\n      <td>0</td>\n      <td>0</td>\n      <td>0</td>\n      <td>...</td>\n      <td>0</td>\n      <td>0</td>\n      <td>0</td>\n      <td>0</td>\n      <td>0</td>\n      <td>1</td>\n      <td>1</td>\n      <td>0</td>\n      <td>0</td>\n      <td>0</td>\n    </tr>\n    <tr>\n      <th>que harias tu  una nina ejemplar</th>\n      <td>0</td>\n      <td>0</td>\n      <td>0</td>\n      <td>0</td>\n      <td>0</td>\n      <td>0</td>\n      <td>0</td>\n      <td>0</td>\n      <td>0</td>\n      <td>0</td>\n      <td>...</td>\n      <td>0</td>\n      <td>0</td>\n      <td>0</td>\n      <td>0</td>\n      <td>0</td>\n      <td>0</td>\n      <td>0</td>\n      <td>1</td>\n      <td>0</td>\n      <td>0</td>\n    </tr>\n    <tr>\n      <th>que te gusta de mi senal los ninos nos dan su opinion</th>\n      <td>1</td>\n      <td>0</td>\n      <td>0</td>\n      <td>1</td>\n      <td>0</td>\n      <td>0</td>\n      <td>0</td>\n      <td>0</td>\n      <td>0</td>\n      <td>0</td>\n      <td>...</td>\n      <td>0</td>\n      <td>0</td>\n      <td>0</td>\n      <td>0</td>\n      <td>0</td>\n      <td>0</td>\n      <td>0</td>\n      <td>0</td>\n      <td>1</td>\n      <td>1</td>\n    </tr>\n  </tbody>\n</table>\n<p>1000 rows × 2109 columns</p>\n</div>"
     },
     "execution_count": 17,
     "metadata": {},
     "output_type": "execute_result"
    }
   ],
   "source": [
    "df_matriz_frecuencia"
   ],
   "metadata": {
    "collapsed": false,
    "ExecuteTime": {
     "end_time": "2023-11-06T15:34:52.734047882Z",
     "start_time": "2023-11-06T15:34:52.729235270Z"
    }
   },
   "id": "606382a00d2e9487"
  },
  {
   "cell_type": "code",
   "execution_count": 18,
   "outputs": [],
   "source": [
    "#Stemmer\n",
    "stop_words = set(stopwords.words('spanish'))\n",
    "def simple_stemmer(text):\n",
    "    stemmer = SnowballStemmer(\"spanish\")\n",
    "    tokenizers = ToktokTokenizer()\n",
    "    tokens = tokenizers.tokenize(text)\n",
    "    tokens = [stemmer.stem(token.strip()) for token in tokens if token not in stop_words]\n",
    "    text = \" \".join(tokens)\n",
    "    return text\n",
    "\n",
    "titulo = titulo.apply(simple_stemmer)"
   ],
   "metadata": {
    "collapsed": false,
    "ExecuteTime": {
     "end_time": "2023-11-06T15:34:52.990830125Z",
     "start_time": "2023-11-06T15:34:52.730715080Z"
    }
   },
   "id": "90e5cfc2d9ef3625"
  },
  {
   "cell_type": "code",
   "execution_count": 19,
   "outputs": [
    {
     "data": {
      "text/plain": "0                   sirv triunf si paz coron lapazhabl\n1                      mejor form mostr form pens sofi\n2                       losnacionalesxsenal bahi cupic\n3            losnacionalesxsenal estudi utech balonman\n4    losnacionalesxsenal prueb triatlon llen emocio...\n5     losnacionalesxsenal mari elen hurt pel antioquen\n6                   losnacionalesxsenal nin voley play\n7                      losnacionalesxsenal hic histori\n8          pedaleopor ariel molin envi salud escarabaj\n9          pedaleopor ariel molin envi salud escarabaj\nName: titulo, dtype: object"
     },
     "execution_count": 19,
     "metadata": {},
     "output_type": "execute_result"
    }
   ],
   "source": [
    "titulo.head(10)"
   ],
   "metadata": {
    "collapsed": false,
    "ExecuteTime": {
     "end_time": "2023-11-06T15:34:52.991720583Z",
     "start_time": "2023-11-06T15:34:52.869744448Z"
    }
   },
   "id": "75a5e076e1237608"
  },
  {
   "cell_type": "code",
   "execution_count": 20,
   "outputs": [
    {
     "data": {
      "text/plain": "                      Educación  Entretenimiento  Gente y Blogs     Otros  \\\nEducación              1.000000        -0.191214      -0.085276 -0.080146   \nEntretenimiento       -0.191214         1.000000      -0.127995 -0.120294   \nGente y Blogs         -0.085276        -0.127995       1.000000 -0.053648   \nOtros                 -0.080146        -0.120294      -0.053648  1.000000   \nPelícula y Animación  -0.163248        -0.245026      -0.109275 -0.102700   \n\n                      Película y Animación  \nEducación                        -0.163248  \nEntretenimiento                  -0.245026  \nGente y Blogs                    -0.109275  \nOtros                            -0.102700  \nPelícula y Animación              1.000000  ",
      "text/html": "<div>\n<style scoped>\n    .dataframe tbody tr th:only-of-type {\n        vertical-align: middle;\n    }\n\n    .dataframe tbody tr th {\n        vertical-align: top;\n    }\n\n    .dataframe thead th {\n        text-align: right;\n    }\n</style>\n<table border=\"1\" class=\"dataframe\">\n  <thead>\n    <tr style=\"text-align: right;\">\n      <th></th>\n      <th>Educación</th>\n      <th>Entretenimiento</th>\n      <th>Gente y Blogs</th>\n      <th>Otros</th>\n      <th>Película y Animación</th>\n    </tr>\n  </thead>\n  <tbody>\n    <tr>\n      <th>Educación</th>\n      <td>1.000000</td>\n      <td>-0.191214</td>\n      <td>-0.085276</td>\n      <td>-0.080146</td>\n      <td>-0.163248</td>\n    </tr>\n    <tr>\n      <th>Entretenimiento</th>\n      <td>-0.191214</td>\n      <td>1.000000</td>\n      <td>-0.127995</td>\n      <td>-0.120294</td>\n      <td>-0.245026</td>\n    </tr>\n    <tr>\n      <th>Gente y Blogs</th>\n      <td>-0.085276</td>\n      <td>-0.127995</td>\n      <td>1.000000</td>\n      <td>-0.053648</td>\n      <td>-0.109275</td>\n    </tr>\n    <tr>\n      <th>Otros</th>\n      <td>-0.080146</td>\n      <td>-0.120294</td>\n      <td>-0.053648</td>\n      <td>1.000000</td>\n      <td>-0.102700</td>\n    </tr>\n    <tr>\n      <th>Película y Animación</th>\n      <td>-0.163248</td>\n      <td>-0.245026</td>\n      <td>-0.109275</td>\n      <td>-0.102700</td>\n      <td>1.000000</td>\n    </tr>\n  </tbody>\n</table>\n</div>"
     },
     "execution_count": 20,
     "metadata": {},
     "output_type": "execute_result"
    }
   ],
   "source": [
    "df_corr_dummies = pd.get_dummies(df_complete['categoria'], columns=['categoria'], drop_first=True)\n",
    "df_corr_dummies.corr()"
   ],
   "metadata": {
    "collapsed": false,
    "ExecuteTime": {
     "end_time": "2023-11-06T15:34:52.993694083Z",
     "start_time": "2023-11-06T15:34:52.878235031Z"
    }
   },
   "id": "6e6d9ffed669c95c"
  },
  {
   "cell_type": "code",
   "execution_count": 21,
   "outputs": [
    {
     "data": {
      "text/plain": "<Figure size 640x480 with 2 Axes>",
      "image/png": "[encoded data removed]"
     },
     "metadata": {},
     "output_type": "display_data"
    }
   ],
   "source": [
    "plt.Figure(figsize=(8,6))\n",
    "sns.heatmap(df_corr_dummies.corr(),annot=True, cmap='coolwarm', linewidths=0.5)\n",
    "plt.show()"
   ],
   "metadata": {
    "collapsed": false,
    "ExecuteTime": {
     "end_time": "2023-11-06T15:34:53.407484117Z",
     "start_time": "2023-11-06T15:34:52.898785796Z"
    }
   },
   "id": "4a29323b5118cea2"
  },
  {
   "cell_type": "markdown",
   "source": [
    "# Term Frequency (Matriz TF)"
   ],
   "metadata": {
    "collapsed": false
   },
   "id": "f19bf9f337c35b34"
  },
  {
   "cell_type": "code",
   "execution_count": 22,
   "outputs": [
    {
     "data": {
      "text/plain": "                Palabra\n0                  sirv\n1                triunf\n2                    si\n3                   paz\n4                 coron\n5             lapazhabl\n6                 mejor\n7                  form\n8                 mostr\n9                  pens\n10                 sofi\n11  losnacionalesxsenal\n12                 bahi\n13                cupic\n14               estudi\n15                utech\n16             balonman\n17                prueb\n18             triatlon\n19                 llen",
      "text/html": "<div>\n<style scoped>\n    .dataframe tbody tr th:only-of-type {\n        vertical-align: middle;\n    }\n\n    .dataframe tbody tr th {\n        vertical-align: top;\n    }\n\n    .dataframe thead th {\n        text-align: right;\n    }\n</style>\n<table border=\"1\" class=\"dataframe\">\n  <thead>\n    <tr style=\"text-align: right;\">\n      <th></th>\n      <th>Palabra</th>\n    </tr>\n  </thead>\n  <tbody>\n    <tr>\n      <th>0</th>\n      <td>sirv</td>\n    </tr>\n    <tr>\n      <th>1</th>\n      <td>triunf</td>\n    </tr>\n    <tr>\n      <th>2</th>\n      <td>si</td>\n    </tr>\n    <tr>\n      <th>3</th>\n      <td>paz</td>\n    </tr>\n    <tr>\n      <th>4</th>\n      <td>coron</td>\n    </tr>\n    <tr>\n      <th>5</th>\n      <td>lapazhabl</td>\n    </tr>\n    <tr>\n      <th>6</th>\n      <td>mejor</td>\n    </tr>\n    <tr>\n      <th>7</th>\n      <td>form</td>\n    </tr>\n    <tr>\n      <th>8</th>\n      <td>mostr</td>\n    </tr>\n    <tr>\n      <th>9</th>\n      <td>pens</td>\n    </tr>\n    <tr>\n      <th>10</th>\n      <td>sofi</td>\n    </tr>\n    <tr>\n      <th>11</th>\n      <td>losnacionalesxsenal</td>\n    </tr>\n    <tr>\n      <th>12</th>\n      <td>bahi</td>\n    </tr>\n    <tr>\n      <th>13</th>\n      <td>cupic</td>\n    </tr>\n    <tr>\n      <th>14</th>\n      <td>estudi</td>\n    </tr>\n    <tr>\n      <th>15</th>\n      <td>utech</td>\n    </tr>\n    <tr>\n      <th>16</th>\n      <td>balonman</td>\n    </tr>\n    <tr>\n      <th>17</th>\n      <td>prueb</td>\n    </tr>\n    <tr>\n      <th>18</th>\n      <td>triatlon</td>\n    </tr>\n    <tr>\n      <th>19</th>\n      <td>llen</td>\n    </tr>\n  </tbody>\n</table>\n</div>"
     },
     "execution_count": 22,
     "metadata": {},
     "output_type": "execute_result"
    }
   ],
   "source": [
    "palabras_unicas = {}\n",
    "\n",
    "titulo.apply(lambda x: obtener_palabras_unicas(x, palabras_unicas))\n",
    "\n",
    "df_palabras_unicas = pd.DataFrame(palabras_unicas.keys(), columns=[\"Palabra\"])\n",
    "df_palabras_unicas.head(20)"
   ],
   "metadata": {
    "collapsed": false,
    "ExecuteTime": {
     "end_time": "2023-11-06T15:34:53.543915603Z",
     "start_time": "2023-11-06T15:34:53.393303840Z"
    }
   },
   "id": "99e7821c42136eb1"
  },
  {
   "cell_type": "code",
   "execution_count": 23,
   "outputs": [
    {
     "data": {
      "text/plain": "1857"
     },
     "execution_count": 23,
     "metadata": {},
     "output_type": "execute_result"
    }
   ],
   "source": [
    "len(df_palabras_unicas)"
   ],
   "metadata": {
    "collapsed": false,
    "ExecuteTime": {
     "end_time": "2023-11-06T15:34:53.545132667Z",
     "start_time": "2023-11-06T15:34:53.441358433Z"
    }
   },
   "id": "9031ef1d970e7261"
  },
  {
   "cell_type": "code",
   "execution_count": 24,
   "outputs": [
    {
     "data": {
      "text/plain": "                                                    sirv  triunf  si  paz  \\\ntitulo                                                                      \nsirv triunf si paz coron lapazhabl                     0       0   0    0   \nmejor form mostr form pens sofi                        0       0   0    0   \nlosnacionalesxsenal bahi cupic                         0       0   0    0   \nlosnacionalesxsenal estudi utech balonman              0       0   0    0   \nlosnacionalesxsenal prueb triatlon llen emocion...     0       0   0    0   \n...                                                  ...     ...  ..  ...   \nensen pap recicl                                       0       0   0    0   \nmunicipi nin paicol cuent                              0       0   0    0   \nnin pod cambi mund                                     0       0   0    0   \nhari nin ejempl                                        0       0   0    0   \ngust senal nin dan opinion                             0       0   0    0   \n\n                                                    coron  lapazhabl  mejor  \\\ntitulo                                                                        \nsirv triunf si paz coron lapazhabl                      0          0      0   \nmejor form mostr form pens sofi                         0          0      0   \nlosnacionalesxsenal bahi cupic                          0          0      0   \nlosnacionalesxsenal estudi utech balonman               0          0      0   \nlosnacionalesxsenal prueb triatlon llen emocion...      0          0      0   \n...                                                   ...        ...    ...   \nensen pap recicl                                        0          0      0   \nmunicipi nin paicol cuent                               0          0      0   \nnin pod cambi mund                                      0          0      0   \nhari nin ejempl                                         0          0      0   \ngust senal nin dan opinion                              0          0      0   \n\n                                                    form  mostr  pens  ...  \\\ntitulo                                                                 ...   \nsirv triunf si paz coron lapazhabl                     0      0     0  ...   \nmejor form mostr form pens sofi                        0      0     0  ...   \nlosnacionalesxsenal bahi cupic                         0      0     0  ...   \nlosnacionalesxsenal estudi utech balonman              0      0     0  ...   \nlosnacionalesxsenal prueb triatlon llen emocion...     0      0     0  ...   \n...                                                  ...    ...   ...  ...   \nensen pap recicl                                       0      0     0  ...   \nmunicipi nin paicol cuent                              0      0     0  ...   \nnin pod cambi mund                                     0      0     0  ...   \nhari nin ejempl                                        0      0     0  ...   \ngust senal nin dan opinion                             0      0     0  ...   \n\n                                                    recuerd  90  ensen  \\\ntitulo                                                                   \nsirv triunf si paz coron lapazhabl                        0   0      0   \nmejor form mostr form pens sofi                           0   0      0   \nlosnacionalesxsenal bahi cupic                            0   0      0   \nlosnacionalesxsenal estudi utech balonman                 0   0      0   \nlosnacionalesxsenal prueb triatlon llen emocion...        0   0      0   \n...                                                     ...  ..    ...   \nensen pap recicl                                          0   0      0   \nmunicipi nin paicol cuent                                 0   0      0   \nnin pod cambi mund                                        0   0      0   \nhari nin ejempl                                           0   0      0   \ngust senal nin dan opinion                                0   0      0   \n\n                                                    recicl  paicol  pod  \\\ntitulo                                                                    \nsirv triunf si paz coron lapazhabl                       0       0    0   \nmejor form mostr form pens sofi                          0       0    0   \nlosnacionalesxsenal bahi cupic                           0       0    0   \nlosnacionalesxsenal estudi utech balonman                0       0    0   \nlosnacionalesxsenal prueb triatlon llen emocion...       0       0    0   \n...                                                    ...     ...  ...   \nensen pap recicl                                         0       0    0   \nmunicipi nin paicol cuent                                0       0    0   \nnin pod cambi mund                                       0       0    0   \nhari nin ejempl                                          0       0    0   \ngust senal nin dan opinion                               0       0    0   \n\n                                                    cambi  ejempl  dan  \\\ntitulo                                                                   \nsirv triunf si paz coron lapazhabl                      0       0    0   \nmejor form mostr form pens sofi                         0       0    0   \nlosnacionalesxsenal bahi cupic                          0       0    0   \nlosnacionalesxsenal estudi utech balonman               0       0    0   \nlosnacionalesxsenal prueb triatlon llen emocion...      0       0    0   \n...                                                   ...     ...  ...   \nensen pap recicl                                        0       0    0   \nmunicipi nin paicol cuent                               0       0    0   \nnin pod cambi mund                                      0       0    0   \nhari nin ejempl                                         0       0    0   \ngust senal nin dan opinion                              0       0    0   \n\n                                                    opinion  \ntitulo                                                       \nsirv triunf si paz coron lapazhabl                        0  \nmejor form mostr form pens sofi                           0  \nlosnacionalesxsenal bahi cupic                            0  \nlosnacionalesxsenal estudi utech balonman                 0  \nlosnacionalesxsenal prueb triatlon llen emocion...        0  \n...                                                     ...  \nensen pap recicl                                          0  \nmunicipi nin paicol cuent                                 0  \nnin pod cambi mund                                        0  \nhari nin ejempl                                           0  \ngust senal nin dan opinion                                0  \n\n[1000 rows x 1857 columns]",
      "text/html": "<div>\n<style scoped>\n    .dataframe tbody tr th:only-of-type {\n        vertical-align: middle;\n    }\n\n    .dataframe tbody tr th {\n        vertical-align: top;\n    }\n\n    .dataframe thead th {\n        text-align: right;\n    }\n</style>\n<table border=\"1\" class=\"dataframe\">\n  <thead>\n    <tr style=\"text-align: right;\">\n      <th></th>\n      <th>sirv</th>\n      <th>triunf</th>\n      <th>si</th>\n      <th>paz</th>\n      <th>coron</th>\n      <th>lapazhabl</th>\n      <th>mejor</th>\n      <th>form</th>\n      <th>mostr</th>\n      <th>pens</th>\n      <th>...</th>\n      <th>recuerd</th>\n      <th>90</th>\n      <th>ensen</th>\n      <th>recicl</th>\n      <th>paicol</th>\n      <th>pod</th>\n      <th>cambi</th>\n      <th>ejempl</th>\n      <th>dan</th>\n      <th>opinion</th>\n    </tr>\n    <tr>\n      <th>titulo</th>\n      <th></th>\n      <th></th>\n      <th></th>\n      <th></th>\n      <th></th>\n      <th></th>\n      <th></th>\n      <th></th>\n      <th></th>\n      <th></th>\n      <th></th>\n      <th></th>\n      <th></th>\n      <th></th>\n      <th></th>\n      <th></th>\n      <th></th>\n      <th></th>\n      <th></th>\n      <th></th>\n      <th></th>\n    </tr>\n  </thead>\n  <tbody>\n    <tr>\n      <th>sirv triunf si paz coron lapazhabl</th>\n      <td>0</td>\n      <td>0</td>\n      <td>0</td>\n      <td>0</td>\n      <td>0</td>\n      <td>0</td>\n      <td>0</td>\n      <td>0</td>\n      <td>0</td>\n      <td>0</td>\n      <td>...</td>\n      <td>0</td>\n      <td>0</td>\n      <td>0</td>\n      <td>0</td>\n      <td>0</td>\n      <td>0</td>\n      <td>0</td>\n      <td>0</td>\n      <td>0</td>\n      <td>0</td>\n    </tr>\n    <tr>\n      <th>mejor form mostr form pens sofi</th>\n      <td>0</td>\n      <td>0</td>\n      <td>0</td>\n      <td>0</td>\n      <td>0</td>\n      <td>0</td>\n      <td>0</td>\n      <td>0</td>\n      <td>0</td>\n      <td>0</td>\n      <td>...</td>\n      <td>0</td>\n      <td>0</td>\n      <td>0</td>\n      <td>0</td>\n      <td>0</td>\n      <td>0</td>\n      <td>0</td>\n      <td>0</td>\n      <td>0</td>\n      <td>0</td>\n    </tr>\n    <tr>\n      <th>losnacionalesxsenal bahi cupic</th>\n      <td>0</td>\n      <td>0</td>\n      <td>0</td>\n      <td>0</td>\n      <td>0</td>\n      <td>0</td>\n      <td>0</td>\n      <td>0</td>\n      <td>0</td>\n      <td>0</td>\n      <td>...</td>\n      <td>0</td>\n      <td>0</td>\n      <td>0</td>\n      <td>0</td>\n      <td>0</td>\n      <td>0</td>\n      <td>0</td>\n      <td>0</td>\n      <td>0</td>\n      <td>0</td>\n    </tr>\n    <tr>\n      <th>losnacionalesxsenal estudi utech balonman</th>\n      <td>0</td>\n      <td>0</td>\n      <td>0</td>\n      <td>0</td>\n      <td>0</td>\n      <td>0</td>\n      <td>0</td>\n      <td>0</td>\n      <td>0</td>\n      <td>0</td>\n      <td>...</td>\n      <td>0</td>\n      <td>0</td>\n      <td>0</td>\n      <td>0</td>\n      <td>0</td>\n      <td>0</td>\n      <td>0</td>\n      <td>0</td>\n      <td>0</td>\n      <td>0</td>\n    </tr>\n    <tr>\n      <th>losnacionalesxsenal prueb triatlon llen emocion municipi prad</th>\n      <td>0</td>\n      <td>0</td>\n      <td>0</td>\n      <td>0</td>\n      <td>0</td>\n      <td>0</td>\n      <td>0</td>\n      <td>0</td>\n      <td>0</td>\n      <td>0</td>\n      <td>...</td>\n      <td>0</td>\n      <td>0</td>\n      <td>0</td>\n      <td>0</td>\n      <td>0</td>\n      <td>0</td>\n      <td>0</td>\n      <td>0</td>\n      <td>0</td>\n      <td>0</td>\n    </tr>\n    <tr>\n      <th>...</th>\n      <td>...</td>\n      <td>...</td>\n      <td>...</td>\n      <td>...</td>\n      <td>...</td>\n      <td>...</td>\n      <td>...</td>\n      <td>...</td>\n      <td>...</td>\n      <td>...</td>\n      <td>...</td>\n      <td>...</td>\n      <td>...</td>\n      <td>...</td>\n      <td>...</td>\n      <td>...</td>\n      <td>...</td>\n      <td>...</td>\n      <td>...</td>\n      <td>...</td>\n      <td>...</td>\n    </tr>\n    <tr>\n      <th>ensen pap recicl</th>\n      <td>0</td>\n      <td>0</td>\n      <td>0</td>\n      <td>0</td>\n      <td>0</td>\n      <td>0</td>\n      <td>0</td>\n      <td>0</td>\n      <td>0</td>\n      <td>0</td>\n      <td>...</td>\n      <td>0</td>\n      <td>0</td>\n      <td>0</td>\n      <td>0</td>\n      <td>0</td>\n      <td>0</td>\n      <td>0</td>\n      <td>0</td>\n      <td>0</td>\n      <td>0</td>\n    </tr>\n    <tr>\n      <th>municipi nin paicol cuent</th>\n      <td>0</td>\n      <td>0</td>\n      <td>0</td>\n      <td>0</td>\n      <td>0</td>\n      <td>0</td>\n      <td>0</td>\n      <td>0</td>\n      <td>0</td>\n      <td>0</td>\n      <td>...</td>\n      <td>0</td>\n      <td>0</td>\n      <td>0</td>\n      <td>0</td>\n      <td>0</td>\n      <td>0</td>\n      <td>0</td>\n      <td>0</td>\n      <td>0</td>\n      <td>0</td>\n    </tr>\n    <tr>\n      <th>nin pod cambi mund</th>\n      <td>0</td>\n      <td>0</td>\n      <td>0</td>\n      <td>0</td>\n      <td>0</td>\n      <td>0</td>\n      <td>0</td>\n      <td>0</td>\n      <td>0</td>\n      <td>0</td>\n      <td>...</td>\n      <td>0</td>\n      <td>0</td>\n      <td>0</td>\n      <td>0</td>\n      <td>0</td>\n      <td>0</td>\n      <td>0</td>\n      <td>0</td>\n      <td>0</td>\n      <td>0</td>\n    </tr>\n    <tr>\n      <th>hari nin ejempl</th>\n      <td>0</td>\n      <td>0</td>\n      <td>0</td>\n      <td>0</td>\n      <td>0</td>\n      <td>0</td>\n      <td>0</td>\n      <td>0</td>\n      <td>0</td>\n      <td>0</td>\n      <td>...</td>\n      <td>0</td>\n      <td>0</td>\n      <td>0</td>\n      <td>0</td>\n      <td>0</td>\n      <td>0</td>\n      <td>0</td>\n      <td>0</td>\n      <td>0</td>\n      <td>0</td>\n    </tr>\n    <tr>\n      <th>gust senal nin dan opinion</th>\n      <td>0</td>\n      <td>0</td>\n      <td>0</td>\n      <td>0</td>\n      <td>0</td>\n      <td>0</td>\n      <td>0</td>\n      <td>0</td>\n      <td>0</td>\n      <td>0</td>\n      <td>...</td>\n      <td>0</td>\n      <td>0</td>\n      <td>0</td>\n      <td>0</td>\n      <td>0</td>\n      <td>0</td>\n      <td>0</td>\n      <td>0</td>\n      <td>0</td>\n      <td>0</td>\n    </tr>\n  </tbody>\n</table>\n<p>1000 rows × 1857 columns</p>\n</div>"
     },
     "execution_count": 24,
     "metadata": {},
     "output_type": "execute_result"
    }
   ],
   "source": [
    "df_matriz_TF = pd.DataFrame(palabras_unicas, index=titulo)\n",
    "df_matriz_frecuencia = pd.DataFrame(palabras_unicas, index=titulo)\n",
    "df_matriz_TF"
   ],
   "metadata": {
    "collapsed": false,
    "ExecuteTime": {
     "end_time": "2023-11-06T15:34:53.560507686Z",
     "start_time": "2023-11-06T15:34:53.441976228Z"
    }
   },
   "id": "d292012943b32b9d"
  },
  {
   "cell_type": "code",
   "execution_count": 25,
   "outputs": [
    {
     "data": {
      "text/plain": "                                                    sirv  triunf   si  paz  \\\ntitulo                                                                       \nsirv triunf si paz coron lapazhabl                   1.0     1.0  1.0  1.0   \nmejor form mostr form pens sofi                      0.0     0.0  0.0  0.0   \nlosnacionalesxsenal bahi cupic                       0.0     0.0  0.0  0.0   \nlosnacionalesxsenal estudi utech balonman            0.0     0.0  0.0  0.0   \nlosnacionalesxsenal prueb triatlon llen emocion...   0.0     0.0  0.0  0.0   \n...                                                  ...     ...  ...  ...   \nensen pap recicl                                     0.0     0.0  0.0  0.0   \nmunicipi nin paicol cuent                            0.0     0.0  0.0  0.0   \nnin pod cambi mund                                   0.0     0.0  0.0  0.0   \nhari nin ejempl                                      0.0     0.0  0.0  0.0   \ngust senal nin dan opinion                           0.0     0.0  0.0  0.0   \n\n                                                    coron  lapazhabl  mejor  \\\ntitulo                                                                        \nsirv triunf si paz coron lapazhabl                    1.0        1.0    0.0   \nmejor form mostr form pens sofi                       0.0        0.0    1.0   \nlosnacionalesxsenal bahi cupic                        0.0        0.0    0.0   \nlosnacionalesxsenal estudi utech balonman             0.0        0.0    0.0   \nlosnacionalesxsenal prueb triatlon llen emocion...    0.0        0.0    0.0   \n...                                                   ...        ...    ...   \nensen pap recicl                                      0.0        0.0    0.0   \nmunicipi nin paicol cuent                             0.0        0.0    0.0   \nnin pod cambi mund                                    0.0        0.0    0.0   \nhari nin ejempl                                       0.0        0.0    0.0   \ngust senal nin dan opinion                            0.0        0.0    0.0   \n\n                                                    form  mostr  pens  ...  \\\ntitulo                                                                 ...   \nsirv triunf si paz coron lapazhabl                   0.0    0.0   0.0  ...   \nmejor form mostr form pens sofi                      2.0    1.0   1.0  ...   \nlosnacionalesxsenal bahi cupic                       0.0    0.0   0.0  ...   \nlosnacionalesxsenal estudi utech balonman            0.0    0.0   0.0  ...   \nlosnacionalesxsenal prueb triatlon llen emocion...   0.0    0.0   0.0  ...   \n...                                                  ...    ...   ...  ...   \nensen pap recicl                                     0.0    0.0   0.0  ...   \nmunicipi nin paicol cuent                            0.0    0.0   0.0  ...   \nnin pod cambi mund                                   0.0    0.0   0.0  ...   \nhari nin ejempl                                      0.0    0.0   0.0  ...   \ngust senal nin dan opinion                           0.0    0.0   0.0  ...   \n\n                                                    recuerd   90  ensen  \\\ntitulo                                                                    \nsirv triunf si paz coron lapazhabl                      0.0  0.0    0.0   \nmejor form mostr form pens sofi                         0.0  0.0    0.0   \nlosnacionalesxsenal bahi cupic                          0.0  0.0    0.0   \nlosnacionalesxsenal estudi utech balonman               0.0  0.0    0.0   \nlosnacionalesxsenal prueb triatlon llen emocion...      0.0  0.0    0.0   \n...                                                     ...  ...    ...   \nensen pap recicl                                        0.0  0.0    1.0   \nmunicipi nin paicol cuent                               0.0  0.0    0.0   \nnin pod cambi mund                                      0.0  0.0    0.0   \nhari nin ejempl                                         0.0  0.0    0.0   \ngust senal nin dan opinion                              0.0  0.0    0.0   \n\n                                                    recicl  paicol  pod  \\\ntitulo                                                                    \nsirv triunf si paz coron lapazhabl                     0.0     0.0  0.0   \nmejor form mostr form pens sofi                        0.0     0.0  0.0   \nlosnacionalesxsenal bahi cupic                         0.0     0.0  0.0   \nlosnacionalesxsenal estudi utech balonman              0.0     0.0  0.0   \nlosnacionalesxsenal prueb triatlon llen emocion...     0.0     0.0  0.0   \n...                                                    ...     ...  ...   \nensen pap recicl                                       1.0     0.0  0.0   \nmunicipi nin paicol cuent                              0.0     1.0  0.0   \nnin pod cambi mund                                     0.0     0.0  1.0   \nhari nin ejempl                                        0.0     0.0  0.0   \ngust senal nin dan opinion                             0.0     0.0  0.0   \n\n                                                    cambi  ejempl  dan  \\\ntitulo                                                                   \nsirv triunf si paz coron lapazhabl                    0.0     0.0  0.0   \nmejor form mostr form pens sofi                       0.0     0.0  0.0   \nlosnacionalesxsenal bahi cupic                        0.0     0.0  0.0   \nlosnacionalesxsenal estudi utech balonman             0.0     0.0  0.0   \nlosnacionalesxsenal prueb triatlon llen emocion...    0.0     0.0  0.0   \n...                                                   ...     ...  ...   \nensen pap recicl                                      0.0     0.0  0.0   \nmunicipi nin paicol cuent                             0.0     0.0  0.0   \nnin pod cambi mund                                    1.0     0.0  0.0   \nhari nin ejempl                                       0.0     1.0  0.0   \ngust senal nin dan opinion                            0.0     0.0  1.0   \n\n                                                    opinion  \ntitulo                                                       \nsirv triunf si paz coron lapazhabl                      0.0  \nmejor form mostr form pens sofi                         0.0  \nlosnacionalesxsenal bahi cupic                          0.0  \nlosnacionalesxsenal estudi utech balonman               0.0  \nlosnacionalesxsenal prueb triatlon llen emocion...      0.0  \n...                                                     ...  \nensen pap recicl                                        0.0  \nmunicipi nin paicol cuent                               0.0  \nnin pod cambi mund                                      0.0  \nhari nin ejempl                                         0.0  \ngust senal nin dan opinion                              1.0  \n\n[1000 rows x 1857 columns]",
      "text/html": "<div>\n<style scoped>\n    .dataframe tbody tr th:only-of-type {\n        vertical-align: middle;\n    }\n\n    .dataframe tbody tr th {\n        vertical-align: top;\n    }\n\n    .dataframe thead th {\n        text-align: right;\n    }\n</style>\n<table border=\"1\" class=\"dataframe\">\n  <thead>\n    <tr style=\"text-align: right;\">\n      <th></th>\n      <th>sirv</th>\n      <th>triunf</th>\n      <th>si</th>\n      <th>paz</th>\n      <th>coron</th>\n      <th>lapazhabl</th>\n      <th>mejor</th>\n      <th>form</th>\n      <th>mostr</th>\n      <th>pens</th>\n      <th>...</th>\n      <th>recuerd</th>\n      <th>90</th>\n      <th>ensen</th>\n      <th>recicl</th>\n      <th>paicol</th>\n      <th>pod</th>\n      <th>cambi</th>\n      <th>ejempl</th>\n      <th>dan</th>\n      <th>opinion</th>\n    </tr>\n    <tr>\n      <th>titulo</th>\n      <th></th>\n      <th></th>\n      <th></th>\n      <th></th>\n      <th></th>\n      <th></th>\n      <th></th>\n      <th></th>\n      <th></th>\n      <th></th>\n      <th></th>\n      <th></th>\n      <th></th>\n      <th></th>\n      <th></th>\n      <th></th>\n      <th></th>\n      <th></th>\n      <th></th>\n      <th></th>\n      <th></th>\n    </tr>\n  </thead>\n  <tbody>\n    <tr>\n      <th>sirv triunf si paz coron lapazhabl</th>\n      <td>1.0</td>\n      <td>1.0</td>\n      <td>1.0</td>\n      <td>1.0</td>\n      <td>1.0</td>\n      <td>1.0</td>\n      <td>0.0</td>\n      <td>0.0</td>\n      <td>0.0</td>\n      <td>0.0</td>\n      <td>...</td>\n      <td>0.0</td>\n      <td>0.0</td>\n      <td>0.0</td>\n      <td>0.0</td>\n      <td>0.0</td>\n      <td>0.0</td>\n      <td>0.0</td>\n      <td>0.0</td>\n      <td>0.0</td>\n      <td>0.0</td>\n    </tr>\n    <tr>\n      <th>mejor form mostr form pens sofi</th>\n      <td>0.0</td>\n      <td>0.0</td>\n      <td>0.0</td>\n      <td>0.0</td>\n      <td>0.0</td>\n      <td>0.0</td>\n      <td>1.0</td>\n      <td>2.0</td>\n      <td>1.0</td>\n      <td>1.0</td>\n      <td>...</td>\n      <td>0.0</td>\n      <td>0.0</td>\n      <td>0.0</td>\n      <td>0.0</td>\n      <td>0.0</td>\n      <td>0.0</td>\n      <td>0.0</td>\n      <td>0.0</td>\n      <td>0.0</td>\n      <td>0.0</td>\n    </tr>\n    <tr>\n      <th>losnacionalesxsenal bahi cupic</th>\n      <td>0.0</td>\n      <td>0.0</td>\n      <td>0.0</td>\n      <td>0.0</td>\n      <td>0.0</td>\n      <td>0.0</td>\n      <td>0.0</td>\n      <td>0.0</td>\n      <td>0.0</td>\n      <td>0.0</td>\n      <td>...</td>\n      <td>0.0</td>\n      <td>0.0</td>\n      <td>0.0</td>\n      <td>0.0</td>\n      <td>0.0</td>\n      <td>0.0</td>\n      <td>0.0</td>\n      <td>0.0</td>\n      <td>0.0</td>\n      <td>0.0</td>\n    </tr>\n    <tr>\n      <th>losnacionalesxsenal estudi utech balonman</th>\n      <td>0.0</td>\n      <td>0.0</td>\n      <td>0.0</td>\n      <td>0.0</td>\n      <td>0.0</td>\n      <td>0.0</td>\n      <td>0.0</td>\n      <td>0.0</td>\n      <td>0.0</td>\n      <td>0.0</td>\n      <td>...</td>\n      <td>0.0</td>\n      <td>0.0</td>\n      <td>0.0</td>\n      <td>0.0</td>\n      <td>0.0</td>\n      <td>0.0</td>\n      <td>0.0</td>\n      <td>0.0</td>\n      <td>0.0</td>\n      <td>0.0</td>\n    </tr>\n    <tr>\n      <th>losnacionalesxsenal prueb triatlon llen emocion municipi prad</th>\n      <td>0.0</td>\n      <td>0.0</td>\n      <td>0.0</td>\n      <td>0.0</td>\n      <td>0.0</td>\n      <td>0.0</td>\n      <td>0.0</td>\n      <td>0.0</td>\n      <td>0.0</td>\n      <td>0.0</td>\n      <td>...</td>\n      <td>0.0</td>\n      <td>0.0</td>\n      <td>0.0</td>\n      <td>0.0</td>\n      <td>0.0</td>\n      <td>0.0</td>\n      <td>0.0</td>\n      <td>0.0</td>\n      <td>0.0</td>\n      <td>0.0</td>\n    </tr>\n    <tr>\n      <th>...</th>\n      <td>...</td>\n      <td>...</td>\n      <td>...</td>\n      <td>...</td>\n      <td>...</td>\n      <td>...</td>\n      <td>...</td>\n      <td>...</td>\n      <td>...</td>\n      <td>...</td>\n      <td>...</td>\n      <td>...</td>\n      <td>...</td>\n      <td>...</td>\n      <td>...</td>\n      <td>...</td>\n      <td>...</td>\n      <td>...</td>\n      <td>...</td>\n      <td>...</td>\n      <td>...</td>\n    </tr>\n    <tr>\n      <th>ensen pap recicl</th>\n      <td>0.0</td>\n      <td>0.0</td>\n      <td>0.0</td>\n      <td>0.0</td>\n      <td>0.0</td>\n      <td>0.0</td>\n      <td>0.0</td>\n      <td>0.0</td>\n      <td>0.0</td>\n      <td>0.0</td>\n      <td>...</td>\n      <td>0.0</td>\n      <td>0.0</td>\n      <td>1.0</td>\n      <td>1.0</td>\n      <td>0.0</td>\n      <td>0.0</td>\n      <td>0.0</td>\n      <td>0.0</td>\n      <td>0.0</td>\n      <td>0.0</td>\n    </tr>\n    <tr>\n      <th>municipi nin paicol cuent</th>\n      <td>0.0</td>\n      <td>0.0</td>\n      <td>0.0</td>\n      <td>0.0</td>\n      <td>0.0</td>\n      <td>0.0</td>\n      <td>0.0</td>\n      <td>0.0</td>\n      <td>0.0</td>\n      <td>0.0</td>\n      <td>...</td>\n      <td>0.0</td>\n      <td>0.0</td>\n      <td>0.0</td>\n      <td>0.0</td>\n      <td>1.0</td>\n      <td>0.0</td>\n      <td>0.0</td>\n      <td>0.0</td>\n      <td>0.0</td>\n      <td>0.0</td>\n    </tr>\n    <tr>\n      <th>nin pod cambi mund</th>\n      <td>0.0</td>\n      <td>0.0</td>\n      <td>0.0</td>\n      <td>0.0</td>\n      <td>0.0</td>\n      <td>0.0</td>\n      <td>0.0</td>\n      <td>0.0</td>\n      <td>0.0</td>\n      <td>0.0</td>\n      <td>...</td>\n      <td>0.0</td>\n      <td>0.0</td>\n      <td>0.0</td>\n      <td>0.0</td>\n      <td>0.0</td>\n      <td>1.0</td>\n      <td>1.0</td>\n      <td>0.0</td>\n      <td>0.0</td>\n      <td>0.0</td>\n    </tr>\n    <tr>\n      <th>hari nin ejempl</th>\n      <td>0.0</td>\n      <td>0.0</td>\n      <td>0.0</td>\n      <td>0.0</td>\n      <td>0.0</td>\n      <td>0.0</td>\n      <td>0.0</td>\n      <td>0.0</td>\n      <td>0.0</td>\n      <td>0.0</td>\n      <td>...</td>\n      <td>0.0</td>\n      <td>0.0</td>\n      <td>0.0</td>\n      <td>0.0</td>\n      <td>0.0</td>\n      <td>0.0</td>\n      <td>0.0</td>\n      <td>1.0</td>\n      <td>0.0</td>\n      <td>0.0</td>\n    </tr>\n    <tr>\n      <th>gust senal nin dan opinion</th>\n      <td>0.0</td>\n      <td>0.0</td>\n      <td>0.0</td>\n      <td>0.0</td>\n      <td>0.0</td>\n      <td>0.0</td>\n      <td>0.0</td>\n      <td>0.0</td>\n      <td>0.0</td>\n      <td>0.0</td>\n      <td>...</td>\n      <td>0.0</td>\n      <td>0.0</td>\n      <td>0.0</td>\n      <td>0.0</td>\n      <td>0.0</td>\n      <td>0.0</td>\n      <td>0.0</td>\n      <td>0.0</td>\n      <td>1.0</td>\n      <td>1.0</td>\n    </tr>\n  </tbody>\n</table>\n<p>1000 rows × 1857 columns</p>\n</div>"
     },
     "execution_count": 25,
     "metadata": {},
     "output_type": "execute_result"
    }
   ],
   "source": [
    "# Definir la nueva matriz de frecuencia con las nuevas palabras y hacer el conteo de cada palabra en cada titulo\n",
    "df_matriz_frecuencia = df_matriz_frecuencia.astype(float)\n",
    "for indice, fila in df_matriz_frecuencia.iterrows():\n",
    "    for palabra in df_matriz_frecuencia.columns:\n",
    "        titulo_interno = fila.name\n",
    "        titulo_interno_vector = titulo_interno.split()\n",
    "        df_matriz_frecuencia.at[titulo_interno,palabra] = titulo_interno_vector.count(palabra)\n",
    "df_matriz_frecuencia"
   ],
   "metadata": {
    "collapsed": false,
    "ExecuteTime": {
     "end_time": "2023-11-06T15:37:30.840688979Z",
     "start_time": "2023-11-06T15:34:53.544568945Z"
    }
   },
   "id": "acd6e422309a7eec"
  },
  {
   "cell_type": "code",
   "execution_count": 26,
   "outputs": [
    {
     "data": {
      "text/plain": "                                                        sirv    triunf  \\\ntitulo                                                                   \nsirv triunf si paz coron lapazhabl                  0.166667  0.166667   \nmejor form mostr form pens sofi                     0.000000  0.000000   \nlosnacionalesxsenal bahi cupic                      0.000000  0.000000   \nlosnacionalesxsenal estudi utech balonman           0.000000  0.000000   \nlosnacionalesxsenal prueb triatlon llen emocion...  0.000000  0.000000   \n...                                                      ...       ...   \nensen pap recicl                                    0.000000  0.000000   \nmunicipi nin paicol cuent                           0.000000  0.000000   \nnin pod cambi mund                                  0.000000  0.000000   \nhari nin ejempl                                     0.000000  0.000000   \ngust senal nin dan opinion                          0.000000  0.000000   \n\n                                                          si       paz  \\\ntitulo                                                                   \nsirv triunf si paz coron lapazhabl                  0.166667  0.166667   \nmejor form mostr form pens sofi                     0.000000  0.000000   \nlosnacionalesxsenal bahi cupic                      0.000000  0.000000   \nlosnacionalesxsenal estudi utech balonman           0.000000  0.000000   \nlosnacionalesxsenal prueb triatlon llen emocion...  0.000000  0.000000   \n...                                                      ...       ...   \nensen pap recicl                                    0.000000  0.000000   \nmunicipi nin paicol cuent                           0.000000  0.000000   \nnin pod cambi mund                                  0.000000  0.000000   \nhari nin ejempl                                     0.000000  0.000000   \ngust senal nin dan opinion                          0.000000  0.000000   \n\n                                                       coron  lapazhabl  \\\ntitulo                                                                    \nsirv triunf si paz coron lapazhabl                  0.166667   0.166667   \nmejor form mostr form pens sofi                     0.000000   0.000000   \nlosnacionalesxsenal bahi cupic                      0.000000   0.000000   \nlosnacionalesxsenal estudi utech balonman           0.000000   0.000000   \nlosnacionalesxsenal prueb triatlon llen emocion...  0.000000   0.000000   \n...                                                      ...        ...   \nensen pap recicl                                    0.000000   0.000000   \nmunicipi nin paicol cuent                           0.000000   0.000000   \nnin pod cambi mund                                  0.000000   0.000000   \nhari nin ejempl                                     0.000000   0.000000   \ngust senal nin dan opinion                          0.000000   0.000000   \n\n                                                       mejor      form  \\\ntitulo                                                                   \nsirv triunf si paz coron lapazhabl                  0.000000  0.000000   \nmejor form mostr form pens sofi                     0.166667  0.333333   \nlosnacionalesxsenal bahi cupic                      0.000000  0.000000   \nlosnacionalesxsenal estudi utech balonman           0.000000  0.000000   \nlosnacionalesxsenal prueb triatlon llen emocion...  0.000000  0.000000   \n...                                                      ...       ...   \nensen pap recicl                                    0.000000  0.000000   \nmunicipi nin paicol cuent                           0.000000  0.000000   \nnin pod cambi mund                                  0.000000  0.000000   \nhari nin ejempl                                     0.000000  0.000000   \ngust senal nin dan opinion                          0.000000  0.000000   \n\n                                                       mostr      pens  ...  \\\ntitulo                                                                  ...   \nsirv triunf si paz coron lapazhabl                  0.000000  0.000000  ...   \nmejor form mostr form pens sofi                     0.166667  0.166667  ...   \nlosnacionalesxsenal bahi cupic                      0.000000  0.000000  ...   \nlosnacionalesxsenal estudi utech balonman           0.000000  0.000000  ...   \nlosnacionalesxsenal prueb triatlon llen emocion...  0.000000  0.000000  ...   \n...                                                      ...       ...  ...   \nensen pap recicl                                    0.000000  0.000000  ...   \nmunicipi nin paicol cuent                           0.000000  0.000000  ...   \nnin pod cambi mund                                  0.000000  0.000000  ...   \nhari nin ejempl                                     0.000000  0.000000  ...   \ngust senal nin dan opinion                          0.000000  0.000000  ...   \n\n                                                    recuerd   90     ensen  \\\ntitulo                                                                       \nsirv triunf si paz coron lapazhabl                      0.0  0.0  0.000000   \nmejor form mostr form pens sofi                         0.0  0.0  0.000000   \nlosnacionalesxsenal bahi cupic                          0.0  0.0  0.000000   \nlosnacionalesxsenal estudi utech balonman               0.0  0.0  0.000000   \nlosnacionalesxsenal prueb triatlon llen emocion...      0.0  0.0  0.000000   \n...                                                     ...  ...       ...   \nensen pap recicl                                        0.0  0.0  0.333333   \nmunicipi nin paicol cuent                               0.0  0.0  0.000000   \nnin pod cambi mund                                      0.0  0.0  0.000000   \nhari nin ejempl                                         0.0  0.0  0.000000   \ngust senal nin dan opinion                              0.0  0.0  0.000000   \n\n                                                      recicl  paicol   pod  \\\ntitulo                                                                       \nsirv triunf si paz coron lapazhabl                  0.000000    0.00  0.00   \nmejor form mostr form pens sofi                     0.000000    0.00  0.00   \nlosnacionalesxsenal bahi cupic                      0.000000    0.00  0.00   \nlosnacionalesxsenal estudi utech balonman           0.000000    0.00  0.00   \nlosnacionalesxsenal prueb triatlon llen emocion...  0.000000    0.00  0.00   \n...                                                      ...     ...   ...   \nensen pap recicl                                    0.333333    0.00  0.00   \nmunicipi nin paicol cuent                           0.000000    0.25  0.00   \nnin pod cambi mund                                  0.000000    0.00  0.25   \nhari nin ejempl                                     0.000000    0.00  0.00   \ngust senal nin dan opinion                          0.000000    0.00  0.00   \n\n                                                    cambi    ejempl  dan  \\\ntitulo                                                                     \nsirv triunf si paz coron lapazhabl                   0.00  0.000000  0.0   \nmejor form mostr form pens sofi                      0.00  0.000000  0.0   \nlosnacionalesxsenal bahi cupic                       0.00  0.000000  0.0   \nlosnacionalesxsenal estudi utech balonman            0.00  0.000000  0.0   \nlosnacionalesxsenal prueb triatlon llen emocion...   0.00  0.000000  0.0   \n...                                                   ...       ...  ...   \nensen pap recicl                                     0.00  0.000000  0.0   \nmunicipi nin paicol cuent                            0.00  0.000000  0.0   \nnin pod cambi mund                                   0.25  0.000000  0.0   \nhari nin ejempl                                      0.00  0.333333  0.0   \ngust senal nin dan opinion                           0.00  0.000000  0.2   \n\n                                                    opinion  \ntitulo                                                       \nsirv triunf si paz coron lapazhabl                      0.0  \nmejor form mostr form pens sofi                         0.0  \nlosnacionalesxsenal bahi cupic                          0.0  \nlosnacionalesxsenal estudi utech balonman               0.0  \nlosnacionalesxsenal prueb triatlon llen emocion...      0.0  \n...                                                     ...  \nensen pap recicl                                        0.0  \nmunicipi nin paicol cuent                               0.0  \nnin pod cambi mund                                      0.0  \nhari nin ejempl                                         0.0  \ngust senal nin dan opinion                              0.2  \n\n[1000 rows x 1857 columns]",
      "text/html": "<div>\n<style scoped>\n    .dataframe tbody tr th:only-of-type {\n        vertical-align: middle;\n    }\n\n    .dataframe tbody tr th {\n        vertical-align: top;\n    }\n\n    .dataframe thead th {\n        text-align: right;\n    }\n</style>\n<table border=\"1\" class=\"dataframe\">\n  <thead>\n    <tr style=\"text-align: right;\">\n      <th></th>\n      <th>sirv</th>\n      <th>triunf</th>\n      <th>si</th>\n      <th>paz</th>\n      <th>coron</th>\n      <th>lapazhabl</th>\n      <th>mejor</th>\n      <th>form</th>\n      <th>mostr</th>\n      <th>pens</th>\n      <th>...</th>\n      <th>recuerd</th>\n      <th>90</th>\n      <th>ensen</th>\n      <th>recicl</th>\n      <th>paicol</th>\n      <th>pod</th>\n      <th>cambi</th>\n      <th>ejempl</th>\n      <th>dan</th>\n      <th>opinion</th>\n    </tr>\n    <tr>\n      <th>titulo</th>\n      <th></th>\n      <th></th>\n      <th></th>\n      <th></th>\n      <th></th>\n      <th></th>\n      <th></th>\n      <th></th>\n      <th></th>\n      <th></th>\n      <th></th>\n      <th></th>\n      <th></th>\n      <th></th>\n      <th></th>\n      <th></th>\n      <th></th>\n      <th></th>\n      <th></th>\n      <th></th>\n      <th></th>\n    </tr>\n  </thead>\n  <tbody>\n    <tr>\n      <th>sirv triunf si paz coron lapazhabl</th>\n      <td>0.166667</td>\n      <td>0.166667</td>\n      <td>0.166667</td>\n      <td>0.166667</td>\n      <td>0.166667</td>\n      <td>0.166667</td>\n      <td>0.000000</td>\n      <td>0.000000</td>\n      <td>0.000000</td>\n      <td>0.000000</td>\n      <td>...</td>\n      <td>0.0</td>\n      <td>0.0</td>\n      <td>0.000000</td>\n      <td>0.000000</td>\n      <td>0.00</td>\n      <td>0.00</td>\n      <td>0.00</td>\n      <td>0.000000</td>\n      <td>0.0</td>\n      <td>0.0</td>\n    </tr>\n    <tr>\n      <th>mejor form mostr form pens sofi</th>\n      <td>0.000000</td>\n      <td>0.000000</td>\n      <td>0.000000</td>\n      <td>0.000000</td>\n      <td>0.000000</td>\n      <td>0.000000</td>\n      <td>0.166667</td>\n      <td>0.333333</td>\n      <td>0.166667</td>\n      <td>0.166667</td>\n      <td>...</td>\n      <td>0.0</td>\n      <td>0.0</td>\n      <td>0.000000</td>\n      <td>0.000000</td>\n      <td>0.00</td>\n      <td>0.00</td>\n      <td>0.00</td>\n      <td>0.000000</td>\n      <td>0.0</td>\n      <td>0.0</td>\n    </tr>\n    <tr>\n      <th>losnacionalesxsenal bahi cupic</th>\n      <td>0.000000</td>\n      <td>0.000000</td>\n      <td>0.000000</td>\n      <td>0.000000</td>\n      <td>0.000000</td>\n      <td>0.000000</td>\n      <td>0.000000</td>\n      <td>0.000000</td>\n      <td>0.000000</td>\n      <td>0.000000</td>\n      <td>...</td>\n      <td>0.0</td>\n      <td>0.0</td>\n      <td>0.000000</td>\n      <td>0.000000</td>\n      <td>0.00</td>\n      <td>0.00</td>\n      <td>0.00</td>\n      <td>0.000000</td>\n      <td>0.0</td>\n      <td>0.0</td>\n    </tr>\n    <tr>\n      <th>losnacionalesxsenal estudi utech balonman</th>\n      <td>0.000000</td>\n      <td>0.000000</td>\n      <td>0.000000</td>\n      <td>0.000000</td>\n      <td>0.000000</td>\n      <td>0.000000</td>\n      <td>0.000000</td>\n      <td>0.000000</td>\n      <td>0.000000</td>\n      <td>0.000000</td>\n      <td>...</td>\n      <td>0.0</td>\n      <td>0.0</td>\n      <td>0.000000</td>\n      <td>0.000000</td>\n      <td>0.00</td>\n      <td>0.00</td>\n      <td>0.00</td>\n      <td>0.000000</td>\n      <td>0.0</td>\n      <td>0.0</td>\n    </tr>\n    <tr>\n      <th>losnacionalesxsenal prueb triatlon llen emocion municipi prad</th>\n      <td>0.000000</td>\n      <td>0.000000</td>\n      <td>0.000000</td>\n      <td>0.000000</td>\n      <td>0.000000</td>\n      <td>0.000000</td>\n      <td>0.000000</td>\n      <td>0.000000</td>\n      <td>0.000000</td>\n      <td>0.000000</td>\n      <td>...</td>\n      <td>0.0</td>\n      <td>0.0</td>\n      <td>0.000000</td>\n      <td>0.000000</td>\n      <td>0.00</td>\n      <td>0.00</td>\n      <td>0.00</td>\n      <td>0.000000</td>\n      <td>0.0</td>\n      <td>0.0</td>\n    </tr>\n    <tr>\n      <th>...</th>\n      <td>...</td>\n      <td>...</td>\n      <td>...</td>\n      <td>...</td>\n      <td>...</td>\n      <td>...</td>\n      <td>...</td>\n      <td>...</td>\n      <td>...</td>\n      <td>...</td>\n      <td>...</td>\n      <td>...</td>\n      <td>...</td>\n      <td>...</td>\n      <td>...</td>\n      <td>...</td>\n      <td>...</td>\n      <td>...</td>\n      <td>...</td>\n      <td>...</td>\n      <td>...</td>\n    </tr>\n    <tr>\n      <th>ensen pap recicl</th>\n      <td>0.000000</td>\n      <td>0.000000</td>\n      <td>0.000000</td>\n      <td>0.000000</td>\n      <td>0.000000</td>\n      <td>0.000000</td>\n      <td>0.000000</td>\n      <td>0.000000</td>\n      <td>0.000000</td>\n      <td>0.000000</td>\n      <td>...</td>\n      <td>0.0</td>\n      <td>0.0</td>\n      <td>0.333333</td>\n      <td>0.333333</td>\n      <td>0.00</td>\n      <td>0.00</td>\n      <td>0.00</td>\n      <td>0.000000</td>\n      <td>0.0</td>\n      <td>0.0</td>\n    </tr>\n    <tr>\n      <th>municipi nin paicol cuent</th>\n      <td>0.000000</td>\n      <td>0.000000</td>\n      <td>0.000000</td>\n      <td>0.000000</td>\n      <td>0.000000</td>\n      <td>0.000000</td>\n      <td>0.000000</td>\n      <td>0.000000</td>\n      <td>0.000000</td>\n      <td>0.000000</td>\n      <td>...</td>\n      <td>0.0</td>\n      <td>0.0</td>\n      <td>0.000000</td>\n      <td>0.000000</td>\n      <td>0.25</td>\n      <td>0.00</td>\n      <td>0.00</td>\n      <td>0.000000</td>\n      <td>0.0</td>\n      <td>0.0</td>\n    </tr>\n    <tr>\n      <th>nin pod cambi mund</th>\n      <td>0.000000</td>\n      <td>0.000000</td>\n      <td>0.000000</td>\n      <td>0.000000</td>\n      <td>0.000000</td>\n      <td>0.000000</td>\n      <td>0.000000</td>\n      <td>0.000000</td>\n      <td>0.000000</td>\n      <td>0.000000</td>\n      <td>...</td>\n      <td>0.0</td>\n      <td>0.0</td>\n      <td>0.000000</td>\n      <td>0.000000</td>\n      <td>0.00</td>\n      <td>0.25</td>\n      <td>0.25</td>\n      <td>0.000000</td>\n      <td>0.0</td>\n      <td>0.0</td>\n    </tr>\n    <tr>\n      <th>hari nin ejempl</th>\n      <td>0.000000</td>\n      <td>0.000000</td>\n      <td>0.000000</td>\n      <td>0.000000</td>\n      <td>0.000000</td>\n      <td>0.000000</td>\n      <td>0.000000</td>\n      <td>0.000000</td>\n      <td>0.000000</td>\n      <td>0.000000</td>\n      <td>...</td>\n      <td>0.0</td>\n      <td>0.0</td>\n      <td>0.000000</td>\n      <td>0.000000</td>\n      <td>0.00</td>\n      <td>0.00</td>\n      <td>0.00</td>\n      <td>0.333333</td>\n      <td>0.0</td>\n      <td>0.0</td>\n    </tr>\n    <tr>\n      <th>gust senal nin dan opinion</th>\n      <td>0.000000</td>\n      <td>0.000000</td>\n      <td>0.000000</td>\n      <td>0.000000</td>\n      <td>0.000000</td>\n      <td>0.000000</td>\n      <td>0.000000</td>\n      <td>0.000000</td>\n      <td>0.000000</td>\n      <td>0.000000</td>\n      <td>...</td>\n      <td>0.0</td>\n      <td>0.0</td>\n      <td>0.000000</td>\n      <td>0.000000</td>\n      <td>0.00</td>\n      <td>0.00</td>\n      <td>0.00</td>\n      <td>0.000000</td>\n      <td>0.2</td>\n      <td>0.2</td>\n    </tr>\n  </tbody>\n</table>\n<p>1000 rows × 1857 columns</p>\n</div>"
     },
     "execution_count": 26,
     "metadata": {},
     "output_type": "execute_result"
    }
   ],
   "source": [
    "df_matriz_TF = df_matriz_TF.astype(float)\n",
    "for indice, fila in df_matriz_TF.iterrows():\n",
    "    titulo_interno = fila.name\n",
    "    titulo_interno_vector = titulo_interno.split()\n",
    "    for palabra in df_matriz_TF.columns:\n",
    "        df_matriz_TF.at[titulo_interno,palabra] = (titulo_interno_vector.count(palabra))/len(titulo_interno_vector)\n",
    "df_matriz_TF"
   ],
   "metadata": {
    "collapsed": false,
    "ExecuteTime": {
     "end_time": "2023-11-06T15:40:01.990556832Z",
     "start_time": "2023-11-06T15:37:30.812565749Z"
    }
   },
   "id": "c977c95203ea6e85"
  },
  {
   "cell_type": "markdown",
   "source": [
    "# Inverse Document Frequency (Vector IDF)"
   ],
   "metadata": {
    "collapsed": false
   },
   "id": "5cfe7555bc6d070e"
  },
  {
   "cell_type": "code",
   "execution_count": 27,
   "outputs": [
    {
     "data": {
      "text/plain": "        Transformacion\nsirv           2.69897\ntriunf         2.30103\nsi            2.221849\npaz            2.30103\ncoron          2.69897\n...                ...\npod            2.69897\ncambi          2.69897\nejempl         2.69897\ndan            2.69897\nopinion        2.69897\n\n[1857 rows x 1 columns]",
      "text/html": "<div>\n<style scoped>\n    .dataframe tbody tr th:only-of-type {\n        vertical-align: middle;\n    }\n\n    .dataframe tbody tr th {\n        vertical-align: top;\n    }\n\n    .dataframe thead th {\n        text-align: right;\n    }\n</style>\n<table border=\"1\" class=\"dataframe\">\n  <thead>\n    <tr style=\"text-align: right;\">\n      <th></th>\n      <th>Transformacion</th>\n    </tr>\n  </thead>\n  <tbody>\n    <tr>\n      <th>sirv</th>\n      <td>2.69897</td>\n    </tr>\n    <tr>\n      <th>triunf</th>\n      <td>2.30103</td>\n    </tr>\n    <tr>\n      <th>si</th>\n      <td>2.221849</td>\n    </tr>\n    <tr>\n      <th>paz</th>\n      <td>2.30103</td>\n    </tr>\n    <tr>\n      <th>coron</th>\n      <td>2.69897</td>\n    </tr>\n    <tr>\n      <th>...</th>\n      <td>...</td>\n    </tr>\n    <tr>\n      <th>pod</th>\n      <td>2.69897</td>\n    </tr>\n    <tr>\n      <th>cambi</th>\n      <td>2.69897</td>\n    </tr>\n    <tr>\n      <th>ejempl</th>\n      <td>2.69897</td>\n    </tr>\n    <tr>\n      <th>dan</th>\n      <td>2.69897</td>\n    </tr>\n    <tr>\n      <th>opinion</th>\n      <td>2.69897</td>\n    </tr>\n  </tbody>\n</table>\n<p>1857 rows × 1 columns</p>\n</div>"
     },
     "execution_count": 27,
     "metadata": {},
     "output_type": "execute_result"
    }
   ],
   "source": [
    "cantidad_documentos = len(df_matriz_frecuencia)\n",
    "df_matriz_IDF = pd.DataFrame(columns=['Transformacion'], index=palabras_unicas)\n",
    "for indice, fila in df_matriz_IDF.iterrows():\n",
    "    palabra_interna = fila.name\n",
    "    cantidad_total_palabra = df_matriz_frecuencia[f'{palabra_interna}'].sum()\n",
    "    df_matriz_IDF.loc[palabra_interna] = np.log10(cantidad_documentos/(cantidad_total_palabra+1))\n",
    "df_matriz_IDF"
   ],
   "metadata": {
    "collapsed": false,
    "ExecuteTime": {
     "end_time": "2023-11-06T15:40:02.586940069Z",
     "start_time": "2023-11-06T15:40:01.993445798Z"
    }
   },
   "id": "2754792e9000e534"
  },
  {
   "cell_type": "code",
   "execution_count": 28,
   "outputs": [],
   "source": [
    "df_matriz_IDF = df_matriz_IDF.transpose()"
   ],
   "metadata": {
    "collapsed": false,
    "ExecuteTime": {
     "end_time": "2023-11-06T15:40:02.587550613Z",
     "start_time": "2023-11-06T15:40:02.567888378Z"
    }
   },
   "id": "ba1cda5381ef1701"
  },
  {
   "cell_type": "code",
   "execution_count": 29,
   "outputs": [],
   "source": [
    "df_matriz_tf_idf = df_matriz_TF.copy()"
   ],
   "metadata": {
    "collapsed": false,
    "ExecuteTime": {
     "end_time": "2023-11-06T15:40:02.635662993Z",
     "start_time": "2023-11-06T15:40:02.573286476Z"
    }
   },
   "id": "d90036803b6bef59"
  },
  {
   "cell_type": "code",
   "execution_count": 30,
   "outputs": [],
   "source": [
    "for indice, fila in df_matriz_TF.iterrows():\n",
    "    titulo_interno = fila.name\n",
    "    for palabra in df_matriz_TF.columns:\n",
    "        df_matriz_tf_idf.at[titulo_interno,palabra] = df_matriz_tf_idf.at[titulo_interno,palabra]*df_matriz_IDF.at['Transformacion',palabra]"
   ],
   "metadata": {
    "collapsed": false,
    "ExecuteTime": {
     "end_time": "2023-11-06T15:45:22.656800638Z",
     "start_time": "2023-11-06T15:40:02.660395702Z"
    }
   },
   "id": "f434476012ec9c1a"
  },
  {
   "cell_type": "code",
   "execution_count": 31,
   "outputs": [
    {
     "data": {
      "text/plain": "                                                        sirv    triunf  \\\ntitulo                                                                   \nsirv triunf si paz coron lapazhabl                  0.449828  0.383505   \nmejor form mostr form pens sofi                     0.000000  0.000000   \nlosnacionalesxsenal bahi cupic                      0.000000  0.000000   \nlosnacionalesxsenal estudi utech balonman           0.000000  0.000000   \nlosnacionalesxsenal prueb triatlon llen emocion...  0.000000  0.000000   \n...                                                      ...       ...   \nensen pap recicl                                    0.000000  0.000000   \nmunicipi nin paicol cuent                           0.000000  0.000000   \nnin pod cambi mund                                  0.000000  0.000000   \nhari nin ejempl                                     0.000000  0.000000   \ngust senal nin dan opinion                          0.000000  0.000000   \n\n                                                          si       paz  \\\ntitulo                                                                   \nsirv triunf si paz coron lapazhabl                  0.370308  0.383505   \nmejor form mostr form pens sofi                     0.000000  0.000000   \nlosnacionalesxsenal bahi cupic                      0.000000  0.000000   \nlosnacionalesxsenal estudi utech balonman           0.000000  0.000000   \nlosnacionalesxsenal prueb triatlon llen emocion...  0.000000  0.000000   \n...                                                      ...       ...   \nensen pap recicl                                    0.000000  0.000000   \nmunicipi nin paicol cuent                           0.000000  0.000000   \nnin pod cambi mund                                  0.000000  0.000000   \nhari nin ejempl                                     0.000000  0.000000   \ngust senal nin dan opinion                          0.000000  0.000000   \n\n                                                       coron  lapazhabl  \\\ntitulo                                                                    \nsirv triunf si paz coron lapazhabl                  0.449828    0.42048   \nmejor form mostr form pens sofi                     0.000000    0.00000   \nlosnacionalesxsenal bahi cupic                      0.000000    0.00000   \nlosnacionalesxsenal estudi utech balonman           0.000000    0.00000   \nlosnacionalesxsenal prueb triatlon llen emocion...  0.000000    0.00000   \n...                                                      ...        ...   \nensen pap recicl                                    0.000000    0.00000   \nmunicipi nin paicol cuent                           0.000000    0.00000   \nnin pod cambi mund                                  0.000000    0.00000   \nhari nin ejempl                                     0.000000    0.00000   \ngust senal nin dan opinion                          0.000000    0.00000   \n\n                                                       mejor      form  \\\ntitulo                                                                   \nsirv triunf si paz coron lapazhabl                  0.000000  0.000000   \nmejor form mostr form pens sofi                     0.299313  0.799313   \nlosnacionalesxsenal bahi cupic                      0.000000  0.000000   \nlosnacionalesxsenal estudi utech balonman           0.000000  0.000000   \nlosnacionalesxsenal prueb triatlon llen emocion...  0.000000  0.000000   \n...                                                      ...       ...   \nensen pap recicl                                    0.000000  0.000000   \nmunicipi nin paicol cuent                           0.000000  0.000000   \nnin pod cambi mund                                  0.000000  0.000000   \nhari nin ejempl                                     0.000000  0.000000   \ngust senal nin dan opinion                          0.000000  0.000000   \n\n                                                       mostr      pens  ...  \\\ntitulo                                                                  ...   \nsirv triunf si paz coron lapazhabl                  0.000000  0.000000  ...   \nmejor form mostr form pens sofi                     0.449828  0.449828  ...   \nlosnacionalesxsenal bahi cupic                      0.000000  0.000000  ...   \nlosnacionalesxsenal estudi utech balonman           0.000000  0.000000  ...   \nlosnacionalesxsenal prueb triatlon llen emocion...  0.000000  0.000000  ...   \n...                                                      ...       ...  ...   \nensen pap recicl                                    0.000000  0.000000  ...   \nmunicipi nin paicol cuent                           0.000000  0.000000  ...   \nnin pod cambi mund                                  0.000000  0.000000  ...   \nhari nin ejempl                                     0.000000  0.000000  ...   \ngust senal nin dan opinion                          0.000000  0.000000  ...   \n\n                                                    recuerd   90     ensen  \\\ntitulo                                                                       \nsirv triunf si paz coron lapazhabl                      0.0  0.0  0.000000   \nmejor form mostr form pens sofi                         0.0  0.0  0.000000   \nlosnacionalesxsenal bahi cupic                          0.0  0.0  0.000000   \nlosnacionalesxsenal estudi utech balonman               0.0  0.0  0.000000   \nlosnacionalesxsenal prueb triatlon llen emocion...      0.0  0.0  0.000000   \n...                                                     ...  ...       ...   \nensen pap recicl                                        0.0  0.0  0.899657   \nmunicipi nin paicol cuent                               0.0  0.0  0.000000   \nnin pod cambi mund                                      0.0  0.0  0.000000   \nhari nin ejempl                                         0.0  0.0  0.000000   \ngust senal nin dan opinion                              0.0  0.0  0.000000   \n\n                                                      recicl    paicol  \\\ntitulo                                                                   \nsirv triunf si paz coron lapazhabl                  0.000000  0.000000   \nmejor form mostr form pens sofi                     0.000000  0.000000   \nlosnacionalesxsenal bahi cupic                      0.000000  0.000000   \nlosnacionalesxsenal estudi utech balonman           0.000000  0.000000   \nlosnacionalesxsenal prueb triatlon llen emocion...  0.000000  0.000000   \n...                                                      ...       ...   \nensen pap recicl                                    0.899657  0.000000   \nmunicipi nin paicol cuent                           0.000000  0.674743   \nnin pod cambi mund                                  0.000000  0.000000   \nhari nin ejempl                                     0.000000  0.000000   \ngust senal nin dan opinion                          0.000000  0.000000   \n\n                                                         pod     cambi  \\\ntitulo                                                                   \nsirv triunf si paz coron lapazhabl                  0.000000  0.000000   \nmejor form mostr form pens sofi                     0.000000  0.000000   \nlosnacionalesxsenal bahi cupic                      0.000000  0.000000   \nlosnacionalesxsenal estudi utech balonman           0.000000  0.000000   \nlosnacionalesxsenal prueb triatlon llen emocion...  0.000000  0.000000   \n...                                                      ...       ...   \nensen pap recicl                                    0.000000  0.000000   \nmunicipi nin paicol cuent                           0.000000  0.000000   \nnin pod cambi mund                                  0.674743  0.674743   \nhari nin ejempl                                     0.000000  0.000000   \ngust senal nin dan opinion                          0.000000  0.000000   \n\n                                                      ejempl       dan  \\\ntitulo                                                                   \nsirv triunf si paz coron lapazhabl                  0.000000  0.000000   \nmejor form mostr form pens sofi                     0.000000  0.000000   \nlosnacionalesxsenal bahi cupic                      0.000000  0.000000   \nlosnacionalesxsenal estudi utech balonman           0.000000  0.000000   \nlosnacionalesxsenal prueb triatlon llen emocion...  0.000000  0.000000   \n...                                                      ...       ...   \nensen pap recicl                                    0.000000  0.000000   \nmunicipi nin paicol cuent                           0.000000  0.000000   \nnin pod cambi mund                                  0.000000  0.000000   \nhari nin ejempl                                     0.899657  0.000000   \ngust senal nin dan opinion                          0.000000  0.539794   \n\n                                                     opinion  \ntitulo                                                        \nsirv triunf si paz coron lapazhabl                  0.000000  \nmejor form mostr form pens sofi                     0.000000  \nlosnacionalesxsenal bahi cupic                      0.000000  \nlosnacionalesxsenal estudi utech balonman           0.000000  \nlosnacionalesxsenal prueb triatlon llen emocion...  0.000000  \n...                                                      ...  \nensen pap recicl                                    0.000000  \nmunicipi nin paicol cuent                           0.000000  \nnin pod cambi mund                                  0.000000  \nhari nin ejempl                                     0.000000  \ngust senal nin dan opinion                          0.539794  \n\n[1000 rows x 1857 columns]",
      "text/html": "<div>\n<style scoped>\n    .dataframe tbody tr th:only-of-type {\n        vertical-align: middle;\n    }\n\n    .dataframe tbody tr th {\n        vertical-align: top;\n    }\n\n    .dataframe thead th {\n        text-align: right;\n    }\n</style>\n<table border=\"1\" class=\"dataframe\">\n  <thead>\n    <tr style=\"text-align: right;\">\n      <th></th>\n      <th>sirv</th>\n      <th>triunf</th>\n      <th>si</th>\n      <th>paz</th>\n      <th>coron</th>\n      <th>lapazhabl</th>\n      <th>mejor</th>\n      <th>form</th>\n      <th>mostr</th>\n      <th>pens</th>\n      <th>...</th>\n      <th>recuerd</th>\n      <th>90</th>\n      <th>ensen</th>\n      <th>recicl</th>\n      <th>paicol</th>\n      <th>pod</th>\n      <th>cambi</th>\n      <th>ejempl</th>\n      <th>dan</th>\n      <th>opinion</th>\n    </tr>\n    <tr>\n      <th>titulo</th>\n      <th></th>\n      <th></th>\n      <th></th>\n      <th></th>\n      <th></th>\n      <th></th>\n      <th></th>\n      <th></th>\n      <th></th>\n      <th></th>\n      <th></th>\n      <th></th>\n      <th></th>\n      <th></th>\n      <th></th>\n      <th></th>\n      <th></th>\n      <th></th>\n      <th></th>\n      <th></th>\n      <th></th>\n    </tr>\n  </thead>\n  <tbody>\n    <tr>\n      <th>sirv triunf si paz coron lapazhabl</th>\n      <td>0.449828</td>\n      <td>0.383505</td>\n      <td>0.370308</td>\n      <td>0.383505</td>\n      <td>0.449828</td>\n      <td>0.42048</td>\n      <td>0.000000</td>\n      <td>0.000000</td>\n      <td>0.000000</td>\n      <td>0.000000</td>\n      <td>...</td>\n      <td>0.0</td>\n      <td>0.0</td>\n      <td>0.000000</td>\n      <td>0.000000</td>\n      <td>0.000000</td>\n      <td>0.000000</td>\n      <td>0.000000</td>\n      <td>0.000000</td>\n      <td>0.000000</td>\n      <td>0.000000</td>\n    </tr>\n    <tr>\n      <th>mejor form mostr form pens sofi</th>\n      <td>0.000000</td>\n      <td>0.000000</td>\n      <td>0.000000</td>\n      <td>0.000000</td>\n      <td>0.000000</td>\n      <td>0.00000</td>\n      <td>0.299313</td>\n      <td>0.799313</td>\n      <td>0.449828</td>\n      <td>0.449828</td>\n      <td>...</td>\n      <td>0.0</td>\n      <td>0.0</td>\n      <td>0.000000</td>\n      <td>0.000000</td>\n      <td>0.000000</td>\n      <td>0.000000</td>\n      <td>0.000000</td>\n      <td>0.000000</td>\n      <td>0.000000</td>\n      <td>0.000000</td>\n    </tr>\n    <tr>\n      <th>losnacionalesxsenal bahi cupic</th>\n      <td>0.000000</td>\n      <td>0.000000</td>\n      <td>0.000000</td>\n      <td>0.000000</td>\n      <td>0.000000</td>\n      <td>0.00000</td>\n      <td>0.000000</td>\n      <td>0.000000</td>\n      <td>0.000000</td>\n      <td>0.000000</td>\n      <td>...</td>\n      <td>0.0</td>\n      <td>0.0</td>\n      <td>0.000000</td>\n      <td>0.000000</td>\n      <td>0.000000</td>\n      <td>0.000000</td>\n      <td>0.000000</td>\n      <td>0.000000</td>\n      <td>0.000000</td>\n      <td>0.000000</td>\n    </tr>\n    <tr>\n      <th>losnacionalesxsenal estudi utech balonman</th>\n      <td>0.000000</td>\n      <td>0.000000</td>\n      <td>0.000000</td>\n      <td>0.000000</td>\n      <td>0.000000</td>\n      <td>0.00000</td>\n      <td>0.000000</td>\n      <td>0.000000</td>\n      <td>0.000000</td>\n      <td>0.000000</td>\n      <td>...</td>\n      <td>0.0</td>\n      <td>0.0</td>\n      <td>0.000000</td>\n      <td>0.000000</td>\n      <td>0.000000</td>\n      <td>0.000000</td>\n      <td>0.000000</td>\n      <td>0.000000</td>\n      <td>0.000000</td>\n      <td>0.000000</td>\n    </tr>\n    <tr>\n      <th>losnacionalesxsenal prueb triatlon llen emocion municipi prad</th>\n      <td>0.000000</td>\n      <td>0.000000</td>\n      <td>0.000000</td>\n      <td>0.000000</td>\n      <td>0.000000</td>\n      <td>0.00000</td>\n      <td>0.000000</td>\n      <td>0.000000</td>\n      <td>0.000000</td>\n      <td>0.000000</td>\n      <td>...</td>\n      <td>0.0</td>\n      <td>0.0</td>\n      <td>0.000000</td>\n      <td>0.000000</td>\n      <td>0.000000</td>\n      <td>0.000000</td>\n      <td>0.000000</td>\n      <td>0.000000</td>\n      <td>0.000000</td>\n      <td>0.000000</td>\n    </tr>\n    <tr>\n      <th>...</th>\n      <td>...</td>\n      <td>...</td>\n      <td>...</td>\n      <td>...</td>\n      <td>...</td>\n      <td>...</td>\n      <td>...</td>\n      <td>...</td>\n      <td>...</td>\n      <td>...</td>\n      <td>...</td>\n      <td>...</td>\n      <td>...</td>\n      <td>...</td>\n      <td>...</td>\n      <td>...</td>\n      <td>...</td>\n      <td>...</td>\n      <td>...</td>\n      <td>...</td>\n      <td>...</td>\n    </tr>\n    <tr>\n      <th>ensen pap recicl</th>\n      <td>0.000000</td>\n      <td>0.000000</td>\n      <td>0.000000</td>\n      <td>0.000000</td>\n      <td>0.000000</td>\n      <td>0.00000</td>\n      <td>0.000000</td>\n      <td>0.000000</td>\n      <td>0.000000</td>\n      <td>0.000000</td>\n      <td>...</td>\n      <td>0.0</td>\n      <td>0.0</td>\n      <td>0.899657</td>\n      <td>0.899657</td>\n      <td>0.000000</td>\n      <td>0.000000</td>\n      <td>0.000000</td>\n      <td>0.000000</td>\n      <td>0.000000</td>\n      <td>0.000000</td>\n    </tr>\n    <tr>\n      <th>municipi nin paicol cuent</th>\n      <td>0.000000</td>\n      <td>0.000000</td>\n      <td>0.000000</td>\n      <td>0.000000</td>\n      <td>0.000000</td>\n      <td>0.00000</td>\n      <td>0.000000</td>\n      <td>0.000000</td>\n      <td>0.000000</td>\n      <td>0.000000</td>\n      <td>...</td>\n      <td>0.0</td>\n      <td>0.0</td>\n      <td>0.000000</td>\n      <td>0.000000</td>\n      <td>0.674743</td>\n      <td>0.000000</td>\n      <td>0.000000</td>\n      <td>0.000000</td>\n      <td>0.000000</td>\n      <td>0.000000</td>\n    </tr>\n    <tr>\n      <th>nin pod cambi mund</th>\n      <td>0.000000</td>\n      <td>0.000000</td>\n      <td>0.000000</td>\n      <td>0.000000</td>\n      <td>0.000000</td>\n      <td>0.00000</td>\n      <td>0.000000</td>\n      <td>0.000000</td>\n      <td>0.000000</td>\n      <td>0.000000</td>\n      <td>...</td>\n      <td>0.0</td>\n      <td>0.0</td>\n      <td>0.000000</td>\n      <td>0.000000</td>\n      <td>0.000000</td>\n      <td>0.674743</td>\n      <td>0.674743</td>\n      <td>0.000000</td>\n      <td>0.000000</td>\n      <td>0.000000</td>\n    </tr>\n    <tr>\n      <th>hari nin ejempl</th>\n      <td>0.000000</td>\n      <td>0.000000</td>\n      <td>0.000000</td>\n      <td>0.000000</td>\n      <td>0.000000</td>\n      <td>0.00000</td>\n      <td>0.000000</td>\n      <td>0.000000</td>\n      <td>0.000000</td>\n      <td>0.000000</td>\n      <td>...</td>\n      <td>0.0</td>\n      <td>0.0</td>\n      <td>0.000000</td>\n      <td>0.000000</td>\n      <td>0.000000</td>\n      <td>0.000000</td>\n      <td>0.000000</td>\n      <td>0.899657</td>\n      <td>0.000000</td>\n      <td>0.000000</td>\n    </tr>\n    <tr>\n      <th>gust senal nin dan opinion</th>\n      <td>0.000000</td>\n      <td>0.000000</td>\n      <td>0.000000</td>\n      <td>0.000000</td>\n      <td>0.000000</td>\n      <td>0.00000</td>\n      <td>0.000000</td>\n      <td>0.000000</td>\n      <td>0.000000</td>\n      <td>0.000000</td>\n      <td>...</td>\n      <td>0.0</td>\n      <td>0.0</td>\n      <td>0.000000</td>\n      <td>0.000000</td>\n      <td>0.000000</td>\n      <td>0.000000</td>\n      <td>0.000000</td>\n      <td>0.000000</td>\n      <td>0.539794</td>\n      <td>0.539794</td>\n    </tr>\n  </tbody>\n</table>\n<p>1000 rows × 1857 columns</p>\n</div>"
     },
     "execution_count": 31,
     "metadata": {},
     "output_type": "execute_result"
    }
   ],
   "source": [
    "df_matriz_tf_idf"
   ],
   "metadata": {
    "collapsed": false,
    "ExecuteTime": {
     "end_time": "2023-11-06T15:45:22.695152064Z",
     "start_time": "2023-11-06T15:45:22.669212627Z"
    }
   },
   "id": "c6e61d0b3beabaa2"
  },
  {
   "cell_type": "markdown",
   "source": [
    "# Entrenamientos:\n",
    "### Regresion logistica"
   ],
   "metadata": {
    "collapsed": false
   },
   "id": "c3335c9e91ca2795"
  },
  {
   "cell_type": "code",
   "execution_count": 32,
   "outputs": [],
   "source": [
    "from sklearn.feature_extraction.text import CountVectorizer\n",
    "from  sklearn.linear_model import LogisticRegression\n",
    "from sklearn.metrics import accuracy_score, precision_score, recall_score, f1_score\n",
    "from sklearn.metrics import confusion_matrix, ConfusionMatrixDisplay\n",
    "from sklearn.model_selection import train_test_split"
   ],
   "metadata": {
    "collapsed": false,
    "ExecuteTime": {
     "end_time": "2023-11-06T15:45:22.697494765Z",
     "start_time": "2023-11-06T15:45:22.688815928Z"
    }
   },
   "id": "1cc48acfe3a31735"
  },
  {
   "cell_type": "code",
   "execution_count": 37,
   "outputs": [],
   "source": [
    "X_train,X_test, y_train,y_test = train_test_split(df_matriz_tf_idf.head(800),categoria,test_size=0.2)"
   ],
   "metadata": {
    "collapsed": false,
    "ExecuteTime": {
     "end_time": "2023-11-06T15:49:25.178671312Z",
     "start_time": "2023-11-06T15:49:25.085425305Z"
    }
   },
   "id": "6d8014c44dece6f7"
  },
  {
   "cell_type": "code",
   "execution_count": 38,
   "outputs": [],
   "source": [
    "count_vect = CountVectorizer(min_df=1, max_df=100000, binary=False, ngram_range=(1,1))\n",
    "count_vect_train = count_vect.fit_transform(df_train)\n",
    "count_vect_test = count_vect.transform(df_test)"
   ],
   "metadata": {
    "collapsed": false,
    "ExecuteTime": {
     "end_time": "2023-11-06T15:49:28.905960064Z",
     "start_time": "2023-11-06T15:49:28.874852421Z"
    }
   },
   "id": "38ce69e5ce65493"
  },
  {
   "cell_type": "code",
   "execution_count": 39,
   "outputs": [],
   "source": [
    "logistic_model = LogisticRegression(penalty=\"l2\", max_iter=800, C=1.0, random_state=42)"
   ],
   "metadata": {
    "collapsed": false,
    "ExecuteTime": {
     "end_time": "2023-11-06T15:49:34.879213249Z",
     "start_time": "2023-11-06T15:49:34.869285756Z"
    }
   },
   "id": "4f5c4c9d804f4624"
  },
  {
   "cell_type": "code",
   "execution_count": 40,
   "outputs": [
    {
     "data": {
      "text/plain": "LogisticRegression(max_iter=800, random_state=42)",
      "text/html": "<style>#sk-container-id-1 {color: black;}#sk-container-id-1 pre{padding: 0;}#sk-container-id-1 div.sk-toggleable {background-color: white;}#sk-container-id-1 label.sk-toggleable__label {cursor: pointer;display: block;width: 100%;margin-bottom: 0;padding: 0.3em;box-sizing: border-box;text-align: center;}#sk-container-id-1 label.sk-toggleable__label-arrow:before {content: \"▸\";float: left;margin-right: 0.25em;color: #696969;}#sk-container-id-1 label.sk-toggleable__label-arrow:hover:before {color: black;}#sk-container-id-1 div.sk-estimator:hover label.sk-toggleable__label-arrow:before {color: black;}#sk-container-id-1 div.sk-toggleable__content {max-height: 0;max-width: 0;overflow: hidden;text-align: left;background-color: #f0f8ff;}#sk-container-id-1 div.sk-toggleable__content pre {margin: 0.2em;color: black;border-radius: 0.25em;background-color: #f0f8ff;}#sk-container-id-1 input.sk-toggleable__control:checked~div.sk-toggleable__content {max-height: 200px;max-width: 100%;overflow: auto;}#sk-container-id-1 input.sk-toggleable__control:checked~label.sk-toggleable__label-arrow:before {content: \"▾\";}#sk-container-id-1 div.sk-estimator input.sk-toggleable__control:checked~label.sk-toggleable__label {background-color: #d4ebff;}#sk-container-id-1 div.sk-label input.sk-toggleable__control:checked~label.sk-toggleable__label {background-color: #d4ebff;}#sk-container-id-1 input.sk-hidden--visually {border: 0;clip: rect(1px 1px 1px 1px);clip: rect(1px, 1px, 1px, 1px);height: 1px;margin: -1px;overflow: hidden;padding: 0;position: absolute;width: 1px;}#sk-container-id-1 div.sk-estimator {font-family: monospace;background-color: #f0f8ff;border: 1px dotted black;border-radius: 0.25em;box-sizing: border-box;margin-bottom: 0.5em;}#sk-container-id-1 div.sk-estimator:hover {background-color: #d4ebff;}#sk-container-id-1 div.sk-parallel-item::after {content: \"\";width: 100%;border-bottom: 1px solid gray;flex-grow: 1;}#sk-container-id-1 div.sk-label:hover label.sk-toggleable__label {background-color: #d4ebff;}#sk-container-id-1 div.sk-serial::before {content: \"\";position: absolute;border-left: 1px solid gray;box-sizing: border-box;top: 0;bottom: 0;left: 50%;z-index: 0;}#sk-container-id-1 div.sk-serial {display: flex;flex-direction: column;align-items: center;background-color: white;padding-right: 0.2em;padding-left: 0.2em;position: relative;}#sk-container-id-1 div.sk-item {position: relative;z-index: 1;}#sk-container-id-1 div.sk-parallel {display: flex;align-items: stretch;justify-content: center;background-color: white;position: relative;}#sk-container-id-1 div.sk-item::before, #sk-container-id-1 div.sk-parallel-item::before {content: \"\";position: absolute;border-left: 1px solid gray;box-sizing: border-box;top: 0;bottom: 0;left: 50%;z-index: -1;}#sk-container-id-1 div.sk-parallel-item {display: flex;flex-direction: column;z-index: 1;position: relative;background-color: white;}#sk-container-id-1 div.sk-parallel-item:first-child::after {align-self: flex-end;width: 50%;}#sk-container-id-1 div.sk-parallel-item:last-child::after {align-self: flex-start;width: 50%;}#sk-container-id-1 div.sk-parallel-item:only-child::after {width: 0;}#sk-container-id-1 div.sk-dashed-wrapped {border: 1px dashed gray;margin: 0 0.4em 0.5em 0.4em;box-sizing: border-box;padding-bottom: 0.4em;background-color: white;}#sk-container-id-1 div.sk-label label {font-family: monospace;font-weight: bold;display: inline-block;line-height: 1.2em;}#sk-container-id-1 div.sk-label-container {text-align: center;}#sk-container-id-1 div.sk-container {/* jupyter's `normalize.less` sets `[hidden] { display: none; }` but bootstrap.min.css set `[hidden] { display: none !important; }` so we also need the `!important` here to be able to override the default hidden behavior on the sphinx rendered scikit-learn.org. See: https://github.com/scikit-learn/scikit-learn/issues/21755 */display: inline-block !important;position: relative;}#sk-container-id-1 div.sk-text-repr-fallback {display: none;}</style><div id=\"sk-container-id-1\" class=\"sk-top-container\"><div class=\"sk-text-repr-fallback\"><pre>LogisticRegression(max_iter=800, random_state=42)</pre><b>In a Jupyter environment, please rerun this cell to show the HTML representation or trust the notebook. <br />On GitHub, the HTML representation is unable to render, please try loading this page with nbviewer.org.</b></div><div class=\"sk-container\" hidden><div class=\"sk-item\"><div class=\"sk-estimator sk-toggleable\"><input class=\"sk-toggleable__control sk-hidden--visually\" id=\"sk-estimator-id-1\" type=\"checkbox\" checked><label for=\"sk-estimator-id-1\" class=\"sk-toggleable__label sk-toggleable__label-arrow\">LogisticRegression</label><div class=\"sk-toggleable__content\"><pre>LogisticRegression(max_iter=800, random_state=42)</pre></div></div></div></div></div>"
     },
     "execution_count": 40,
     "metadata": {},
     "output_type": "execute_result"
    }
   ],
   "source": [
    "logistic_model.fit(X_train, y_train)"
   ],
   "metadata": {
    "collapsed": false,
    "ExecuteTime": {
     "end_time": "2023-11-06T15:49:36.453919379Z",
     "start_time": "2023-11-06T15:49:35.286939948Z"
    }
   },
   "id": "51a705b45ad034e0"
  },
  {
   "cell_type": "code",
   "execution_count": 41,
   "outputs": [],
   "source": [
    "logistic_prediction = logistic_model.predict(X_test)"
   ],
   "metadata": {
    "collapsed": false,
    "ExecuteTime": {
     "end_time": "2023-11-06T15:49:46.134187295Z",
     "start_time": "2023-11-06T15:49:46.079493328Z"
    }
   },
   "id": "4800b6ad9c143e29"
  },
  {
   "cell_type": "markdown",
   "source": [
    "Evaluemos las metricas sobre los mismos datos que estamos entrenando"
   ],
   "metadata": {
    "collapsed": false
   },
   "id": "7346716fa9770d0"
  },
  {
   "cell_type": "code",
   "execution_count": 42,
   "outputs": [
    {
     "name": "stdout",
     "output_type": "stream",
     "text": [
      "Exactitud: 0.60625\n"
     ]
    }
   ],
   "source": [
    "print(f'Exactitud: {accuracy_score(y_test,logistic_prediction)}')"
   ],
   "metadata": {
    "collapsed": false,
    "ExecuteTime": {
     "end_time": "2023-11-06T15:49:49.484942550Z",
     "start_time": "2023-11-06T15:49:49.445646924Z"
    }
   },
   "id": "c179cfb727bdc48a"
  },
  {
   "cell_type": "code",
   "execution_count": 43,
   "outputs": [
    {
     "data": {
      "text/plain": "array(['Película y Animación', 'Deportes', 'Gente y Blogs',\n       'Entretenimiento', 'Otros', 'Educación'], dtype=object)"
     },
     "execution_count": 43,
     "metadata": {},
     "output_type": "execute_result"
    }
   ],
   "source": [
    "df_train['categoria'].unique()"
   ],
   "metadata": {
    "collapsed": false,
    "ExecuteTime": {
     "end_time": "2023-11-06T15:49:52.732197521Z",
     "start_time": "2023-11-06T15:49:52.716456895Z"
    }
   },
   "id": "6fb2aee049107d5d"
  },
  {
   "cell_type": "code",
   "execution_count": 44,
   "outputs": [
    {
     "data": {
      "text/plain": "<Figure size 640x480 with 1 Axes>",
      "image/png": "[encoded data removed]"
     },
     "metadata": {},
     "output_type": "display_data"
    }
   ],
   "source": [
    "matriz_confusion_regresion = confusion_matrix(y_test, logistic_prediction)\n",
    "sns.heatmap(matriz_confusion_regresion, annot=True, fmt='d', cmap='Blues', cbar=False)\n",
    "plt.xlabel('Predicción')\n",
    "plt.ylabel('Real')\n",
    "plt.title('Matriz de Confusión Para Regresion Logistica')\n",
    "plt.show()"
   ],
   "metadata": {
    "collapsed": false,
    "ExecuteTime": {
     "end_time": "2023-11-06T15:49:56.867751888Z",
     "start_time": "2023-11-06T15:49:56.453348535Z"
    }
   },
   "id": "533fb959d14dbd7"
  },
  {
   "cell_type": "markdown",
   "source": [
    "### Random Forest"
   ],
   "metadata": {
    "collapsed": false
   },
   "id": "7cde85ba606fcd61"
  },
  {
   "cell_type": "code",
   "execution_count": 45,
   "outputs": [],
   "source": [
    "from sklearn.ensemble import RandomForestClassifier"
   ],
   "metadata": {
    "collapsed": false,
    "ExecuteTime": {
     "end_time": "2023-11-06T15:50:04.645648956Z",
     "start_time": "2023-11-06T15:50:04.206028384Z"
    }
   },
   "id": "2c28a9f4dc64e5cf"
  },
  {
   "cell_type": "code",
   "execution_count": 46,
   "outputs": [],
   "source": [
    "random_forest_model = RandomForestClassifier(random_state=42)\n",
    "random_forest_model.fit(X_train, y_train)\n",
    "random_forest_prediction = random_forest_model.predict(X_test)"
   ],
   "metadata": {
    "collapsed": false,
    "ExecuteTime": {
     "end_time": "2023-11-06T15:50:05.580121581Z",
     "start_time": "2023-11-06T15:50:04.804917358Z"
    }
   },
   "id": "d073c6b38653774b"
  },
  {
   "cell_type": "code",
   "execution_count": 47,
   "outputs": [
    {
     "name": "stdout",
     "output_type": "stream",
     "text": [
      "Exactitud: 0.68125\n"
     ]
    }
   ],
   "source": [
    "print(f'Exactitud: {accuracy_score(y_test,random_forest_prediction)}')"
   ],
   "metadata": {
    "collapsed": false,
    "ExecuteTime": {
     "end_time": "2023-11-06T15:50:10.250485069Z",
     "start_time": "2023-11-06T15:50:10.217401907Z"
    }
   },
   "id": "c35f191c1d46ea00"
  },
  {
   "cell_type": "code",
   "execution_count": 48,
   "outputs": [
    {
     "data": {
      "text/plain": "<Figure size 640x480 with 1 Axes>",
      "image/png": "[encoded data removed]"
     },
     "metadata": {},
     "output_type": "display_data"
    }
   ],
   "source": [
    "matriz_confusion_rf = confusion_matrix(y_test, random_forest_prediction)\n",
    "sns.heatmap(matriz_confusion_rf, annot=True, fmt='d', cmap='Blues', cbar=False)\n",
    "plt.xlabel('Predicción')\n",
    "plt.ylabel('Real')\n",
    "plt.title('Matriz de Confusión Para Random Forest')\n",
    "plt.show()"
   ],
   "metadata": {
    "collapsed": false,
    "ExecuteTime": {
     "end_time": "2023-11-06T15:50:12.691723628Z",
     "start_time": "2023-11-06T15:50:12.422912842Z"
    }
   },
   "id": "30f8ef8f1fb3018a"
  },
  {
   "cell_type": "markdown",
   "source": [
    "### LSTM"
   ],
   "metadata": {
    "collapsed": false
   },
   "id": "3e7bdb2a32c7e714"
  },
  {
   "cell_type": "code",
   "execution_count": 73,
   "outputs": [],
   "source": [
    "from keras.models import Sequential\n",
    "from keras import layers\n",
    "from tensorflow.keras.preprocessing.text import Tokenizer\n",
    "from tensorflow.keras.utils import pad_sequences"
   ],
   "metadata": {
    "collapsed": false,
    "ExecuteTime": {
     "end_time": "2023-11-06T16:48:57.309260207Z",
     "start_time": "2023-11-06T16:48:57.287316405Z"
    }
   },
   "id": "48bd038519767711"
  },
  {
   "cell_type": "code",
   "execution_count": null,
   "outputs": [],
   "source": [
    "max_words = 1857\n",
    "max_len = 200\n",
    "tokenizer = Tokenizer(num_words=max_words)"
   ],
   "metadata": {
    "collapsed": false
   },
   "id": "145123f64070313a"
  },
  {
   "cell_type": "code",
   "execution_count": 74,
   "outputs": [
    {
     "name": "stdout",
     "output_type": "stream",
     "text": [
      "Epoch 1/70\n"
     ]
    },
    {
     "ename": "ValueError",
     "evalue": "in user code:\n\n    File \"/home/boris/Documentos/GitHub/Estadistica-III/venv/lib/python3.10/site-packages/keras/src/engine/training.py\", line 1377, in train_function  *\n        return step_function(self, iterator)\n    File \"/home/boris/Documentos/GitHub/Estadistica-III/venv/lib/python3.10/site-packages/keras/src/engine/training.py\", line 1360, in step_function  **\n        outputs = model.distribute_strategy.run(run_step, args=(data,))\n    File \"/home/boris/Documentos/GitHub/Estadistica-III/venv/lib/python3.10/site-packages/keras/src/engine/training.py\", line 1349, in run_step  **\n        outputs = model.train_step(data)\n    File \"/home/boris/Documentos/GitHub/Estadistica-III/venv/lib/python3.10/site-packages/keras/src/engine/training.py\", line 1126, in train_step\n        y_pred = self(x, training=True)\n    File \"/home/boris/Documentos/GitHub/Estadistica-III/venv/lib/python3.10/site-packages/keras/src/utils/traceback_utils.py\", line 70, in error_handler\n        raise e.with_traceback(filtered_tb) from None\n    File \"/home/boris/Documentos/GitHub/Estadistica-III/venv/lib/python3.10/site-packages/keras/src/engine/input_spec.py\", line 298, in assert_input_compatibility\n        raise ValueError(\n\n    ValueError: Input 0 of layer \"sequential_1\" is incompatible with the layer: expected shape=(None, 150), found shape=(None, 1857)\n",
     "output_type": "error",
     "traceback": [
      "\u001B[0;31m---------------------------------------------------------------------------\u001B[0m",
      "\u001B[0;31mValueError\u001B[0m                                Traceback (most recent call last)",
      "Cell \u001B[0;32mIn[74], line 6\u001B[0m\n\u001B[1;32m      4\u001B[0m lstm_model\u001B[38;5;241m.\u001B[39madd(layers\u001B[38;5;241m.\u001B[39mDense(\u001B[38;5;241m1\u001B[39m,activation\u001B[38;5;241m=\u001B[39m\u001B[38;5;124m'\u001B[39m\u001B[38;5;124msigmoid\u001B[39m\u001B[38;5;124m'\u001B[39m))\n\u001B[1;32m      5\u001B[0m lstm_model\u001B[38;5;241m.\u001B[39mcompile(optimizer\u001B[38;5;241m=\u001B[39m\u001B[38;5;124m'\u001B[39m\u001B[38;5;124mrmsprop\u001B[39m\u001B[38;5;124m'\u001B[39m,loss\u001B[38;5;241m=\u001B[39m\u001B[38;5;124m'\u001B[39m\u001B[38;5;124mcrossentropy\u001B[39m\u001B[38;5;124m'\u001B[39m, metrics\u001B[38;5;241m=\u001B[39m[\u001B[38;5;124m'\u001B[39m\u001B[38;5;124maccuracy\u001B[39m\u001B[38;5;124m'\u001B[39m])\n\u001B[0;32m----> 6\u001B[0m \u001B[43mlstm_model\u001B[49m\u001B[38;5;241;43m.\u001B[39;49m\u001B[43mfit\u001B[49m\u001B[43m(\u001B[49m\u001B[43mX_train\u001B[49m\u001B[43m,\u001B[49m\u001B[43m \u001B[49m\u001B[43my_train\u001B[49m\u001B[43m,\u001B[49m\u001B[43m \u001B[49m\u001B[43mepochs\u001B[49m\u001B[38;5;241;43m=\u001B[39;49m\u001B[38;5;241;43m70\u001B[39;49m\u001B[43m,\u001B[49m\u001B[43m \u001B[49m\u001B[43mbatch_size\u001B[49m\u001B[38;5;241;43m=\u001B[39;49m\u001B[43m \u001B[49m\u001B[38;5;241;43m500\u001B[39;49m\u001B[43m,\u001B[49m\n\u001B[1;32m      7\u001B[0m \u001B[43m           \u001B[49m\u001B[43mvalidation_data\u001B[49m\u001B[38;5;241;43m=\u001B[39;49m\u001B[43m(\u001B[49m\u001B[43mX_test\u001B[49m\u001B[43m,\u001B[49m\u001B[43m \u001B[49m\u001B[43my_test\u001B[49m\u001B[43m)\u001B[49m\u001B[43m)\u001B[49m\n",
      "File \u001B[0;32m~/Documentos/GitHub/Estadistica-III/venv/lib/python3.10/site-packages/keras/src/utils/traceback_utils.py:70\u001B[0m, in \u001B[0;36mfilter_traceback.<locals>.error_handler\u001B[0;34m(*args, **kwargs)\u001B[0m\n\u001B[1;32m     67\u001B[0m     filtered_tb \u001B[38;5;241m=\u001B[39m _process_traceback_frames(e\u001B[38;5;241m.\u001B[39m__traceback__)\n\u001B[1;32m     68\u001B[0m     \u001B[38;5;66;03m# To get the full stack trace, call:\u001B[39;00m\n\u001B[1;32m     69\u001B[0m     \u001B[38;5;66;03m# `tf.debugging.disable_traceback_filtering()`\u001B[39;00m\n\u001B[0;32m---> 70\u001B[0m     \u001B[38;5;28;01mraise\u001B[39;00m e\u001B[38;5;241m.\u001B[39mwith_traceback(filtered_tb) \u001B[38;5;28;01mfrom\u001B[39;00m \u001B[38;5;28;01mNone\u001B[39;00m\n\u001B[1;32m     71\u001B[0m \u001B[38;5;28;01mfinally\u001B[39;00m:\n\u001B[1;32m     72\u001B[0m     \u001B[38;5;28;01mdel\u001B[39;00m filtered_tb\n",
      "File \u001B[0;32m/tmp/__autograph_generated_fileuaoobi5d.py:15\u001B[0m, in \u001B[0;36mouter_factory.<locals>.inner_factory.<locals>.tf__train_function\u001B[0;34m(iterator)\u001B[0m\n\u001B[1;32m     13\u001B[0m \u001B[38;5;28;01mtry\u001B[39;00m:\n\u001B[1;32m     14\u001B[0m     do_return \u001B[38;5;241m=\u001B[39m \u001B[38;5;28;01mTrue\u001B[39;00m\n\u001B[0;32m---> 15\u001B[0m     retval_ \u001B[38;5;241m=\u001B[39m ag__\u001B[38;5;241m.\u001B[39mconverted_call(ag__\u001B[38;5;241m.\u001B[39mld(step_function), (ag__\u001B[38;5;241m.\u001B[39mld(\u001B[38;5;28mself\u001B[39m), ag__\u001B[38;5;241m.\u001B[39mld(iterator)), \u001B[38;5;28;01mNone\u001B[39;00m, fscope)\n\u001B[1;32m     16\u001B[0m \u001B[38;5;28;01mexcept\u001B[39;00m:\n\u001B[1;32m     17\u001B[0m     do_return \u001B[38;5;241m=\u001B[39m \u001B[38;5;28;01mFalse\u001B[39;00m\n",
      "\u001B[0;31mValueError\u001B[0m: in user code:\n\n    File \"/home/boris/Documentos/GitHub/Estadistica-III/venv/lib/python3.10/site-packages/keras/src/engine/training.py\", line 1377, in train_function  *\n        return step_function(self, iterator)\n    File \"/home/boris/Documentos/GitHub/Estadistica-III/venv/lib/python3.10/site-packages/keras/src/engine/training.py\", line 1360, in step_function  **\n        outputs = model.distribute_strategy.run(run_step, args=(data,))\n    File \"/home/boris/Documentos/GitHub/Estadistica-III/venv/lib/python3.10/site-packages/keras/src/engine/training.py\", line 1349, in run_step  **\n        outputs = model.train_step(data)\n    File \"/home/boris/Documentos/GitHub/Estadistica-III/venv/lib/python3.10/site-packages/keras/src/engine/training.py\", line 1126, in train_step\n        y_pred = self(x, training=True)\n    File \"/home/boris/Documentos/GitHub/Estadistica-III/venv/lib/python3.10/site-packages/keras/src/utils/traceback_utils.py\", line 70, in error_handler\n        raise e.with_traceback(filtered_tb) from None\n    File \"/home/boris/Documentos/GitHub/Estadistica-III/venv/lib/python3.10/site-packages/keras/src/engine/input_spec.py\", line 298, in assert_input_compatibility\n        raise ValueError(\n\n    ValueError: Input 0 of layer \"sequential_1\" is incompatible with the layer: expected shape=(None, 150), found shape=(None, 1857)\n"
     ]
    }
   ],
   "source": [],
   "metadata": {
    "collapsed": false,
    "ExecuteTime": {
     "end_time": "2023-11-06T16:48:59.929687318Z",
     "start_time": "2023-11-06T16:48:59.101823141Z"
    }
   },
   "id": "bed1fabc6a410f13"
  },
  {
   "cell_type": "markdown",
   "source": [
    "# Resultado final\n",
    "Para este caso ya no vamos a divir el modelo de entrenamiento sino que vamos a entrenar completamente cada modelo con todos los datos de etrenamiento"
   ],
   "metadata": {
    "collapsed": false
   },
   "id": "cefcee8a6ef89f4d"
  },
  {
   "cell_type": "markdown",
   "source": [
    "### Regresion Logistica"
   ],
   "metadata": {
    "collapsed": false
   },
   "id": "8c9c163a593f1777"
  },
  {
   "cell_type": "code",
   "execution_count": 54,
   "outputs": [
    {
     "data": {
      "text/plain": "LogisticRegression(max_iter=800, random_state=42)",
      "text/html": "<style>#sk-container-id-2 {color: black;}#sk-container-id-2 pre{padding: 0;}#sk-container-id-2 div.sk-toggleable {background-color: white;}#sk-container-id-2 label.sk-toggleable__label {cursor: pointer;display: block;width: 100%;margin-bottom: 0;padding: 0.3em;box-sizing: border-box;text-align: center;}#sk-container-id-2 label.sk-toggleable__label-arrow:before {content: \"▸\";float: left;margin-right: 0.25em;color: #696969;}#sk-container-id-2 label.sk-toggleable__label-arrow:hover:before {color: black;}#sk-container-id-2 div.sk-estimator:hover label.sk-toggleable__label-arrow:before {color: black;}#sk-container-id-2 div.sk-toggleable__content {max-height: 0;max-width: 0;overflow: hidden;text-align: left;background-color: #f0f8ff;}#sk-container-id-2 div.sk-toggleable__content pre {margin: 0.2em;color: black;border-radius: 0.25em;background-color: #f0f8ff;}#sk-container-id-2 input.sk-toggleable__control:checked~div.sk-toggleable__content {max-height: 200px;max-width: 100%;overflow: auto;}#sk-container-id-2 input.sk-toggleable__control:checked~label.sk-toggleable__label-arrow:before {content: \"▾\";}#sk-container-id-2 div.sk-estimator input.sk-toggleable__control:checked~label.sk-toggleable__label {background-color: #d4ebff;}#sk-container-id-2 div.sk-label input.sk-toggleable__control:checked~label.sk-toggleable__label {background-color: #d4ebff;}#sk-container-id-2 input.sk-hidden--visually {border: 0;clip: rect(1px 1px 1px 1px);clip: rect(1px, 1px, 1px, 1px);height: 1px;margin: -1px;overflow: hidden;padding: 0;position: absolute;width: 1px;}#sk-container-id-2 div.sk-estimator {font-family: monospace;background-color: #f0f8ff;border: 1px dotted black;border-radius: 0.25em;box-sizing: border-box;margin-bottom: 0.5em;}#sk-container-id-2 div.sk-estimator:hover {background-color: #d4ebff;}#sk-container-id-2 div.sk-parallel-item::after {content: \"\";width: 100%;border-bottom: 1px solid gray;flex-grow: 1;}#sk-container-id-2 div.sk-label:hover label.sk-toggleable__label {background-color: #d4ebff;}#sk-container-id-2 div.sk-serial::before {content: \"\";position: absolute;border-left: 1px solid gray;box-sizing: border-box;top: 0;bottom: 0;left: 50%;z-index: 0;}#sk-container-id-2 div.sk-serial {display: flex;flex-direction: column;align-items: center;background-color: white;padding-right: 0.2em;padding-left: 0.2em;position: relative;}#sk-container-id-2 div.sk-item {position: relative;z-index: 1;}#sk-container-id-2 div.sk-parallel {display: flex;align-items: stretch;justify-content: center;background-color: white;position: relative;}#sk-container-id-2 div.sk-item::before, #sk-container-id-2 div.sk-parallel-item::before {content: \"\";position: absolute;border-left: 1px solid gray;box-sizing: border-box;top: 0;bottom: 0;left: 50%;z-index: -1;}#sk-container-id-2 div.sk-parallel-item {display: flex;flex-direction: column;z-index: 1;position: relative;background-color: white;}#sk-container-id-2 div.sk-parallel-item:first-child::after {align-self: flex-end;width: 50%;}#sk-container-id-2 div.sk-parallel-item:last-child::after {align-self: flex-start;width: 50%;}#sk-container-id-2 div.sk-parallel-item:only-child::after {width: 0;}#sk-container-id-2 div.sk-dashed-wrapped {border: 1px dashed gray;margin: 0 0.4em 0.5em 0.4em;box-sizing: border-box;padding-bottom: 0.4em;background-color: white;}#sk-container-id-2 div.sk-label label {font-family: monospace;font-weight: bold;display: inline-block;line-height: 1.2em;}#sk-container-id-2 div.sk-label-container {text-align: center;}#sk-container-id-2 div.sk-container {/* jupyter's `normalize.less` sets `[hidden] { display: none; }` but bootstrap.min.css set `[hidden] { display: none !important; }` so we also need the `!important` here to be able to override the default hidden behavior on the sphinx rendered scikit-learn.org. See: https://github.com/scikit-learn/scikit-learn/issues/21755 */display: inline-block !important;position: relative;}#sk-container-id-2 div.sk-text-repr-fallback {display: none;}</style><div id=\"sk-container-id-2\" class=\"sk-top-container\"><div class=\"sk-text-repr-fallback\"><pre>LogisticRegression(max_iter=800, random_state=42)</pre><b>In a Jupyter environment, please rerun this cell to show the HTML representation or trust the notebook. <br />On GitHub, the HTML representation is unable to render, please try loading this page with nbviewer.org.</b></div><div class=\"sk-container\" hidden><div class=\"sk-item\"><div class=\"sk-estimator sk-toggleable\"><input class=\"sk-toggleable__control sk-hidden--visually\" id=\"sk-estimator-id-2\" type=\"checkbox\" checked><label for=\"sk-estimator-id-2\" class=\"sk-toggleable__label sk-toggleable__label-arrow\">LogisticRegression</label><div class=\"sk-toggleable__content\"><pre>LogisticRegression(max_iter=800, random_state=42)</pre></div></div></div></div></div>"
     },
     "execution_count": 54,
     "metadata": {},
     "output_type": "execute_result"
    }
   ],
   "source": [
    "logistic_model = LogisticRegression(penalty=\"l2\", max_iter=800, C=1.0, random_state=42)\n",
    "logistic_model.fit(df_matriz_tf_idf.head(800), categoria)"
   ],
   "metadata": {
    "collapsed": false,
    "ExecuteTime": {
     "end_time": "2023-11-06T16:20:14.825628296Z",
     "start_time": "2023-11-06T16:20:13.088571141Z"
    }
   },
   "id": "4779e5234879eec4"
  },
  {
   "cell_type": "markdown",
   "source": [
    "Se escogen los ultimos 200 datos ya que esos son los datos de test que fusionamos anteriormente"
   ],
   "metadata": {
    "collapsed": false
   },
   "id": "e5973f65f2581df3"
  },
  {
   "cell_type": "code",
   "execution_count": 55,
   "outputs": [],
   "source": [
    "logistic_prediction = logistic_model.predict(df_matriz_tf_idf.tail(200))"
   ],
   "metadata": {
    "collapsed": false,
    "ExecuteTime": {
     "end_time": "2023-11-06T16:20:18.914030075Z",
     "start_time": "2023-11-06T16:20:18.832753640Z"
    }
   },
   "id": "49bb81bff5f3275b"
  },
  {
   "cell_type": "code",
   "execution_count": 67,
   "outputs": [],
   "source": [
    "df_answer_logistic = pd.DataFrame(data= zip(index_test,logistic_prediction),\n",
    "                         columns=[\"ID\",\"categoria\"])"
   ],
   "metadata": {
    "collapsed": false,
    "ExecuteTime": {
     "end_time": "2023-11-06T16:26:20.664945707Z",
     "start_time": "2023-11-06T16:26:20.600692552Z"
    }
   },
   "id": "e518608d1b6d1b8d"
  },
  {
   "cell_type": "code",
   "execution_count": 68,
   "outputs": [],
   "source": [
    "df_answer_logistic.to_csv(\"./predictions/categories/prediction_logistic.csv\", index=False)"
   ],
   "metadata": {
    "collapsed": false,
    "ExecuteTime": {
     "end_time": "2023-11-06T16:26:21.378054932Z",
     "start_time": "2023-11-06T16:26:21.335525581Z"
    }
   },
   "id": "ef1214b5509c0f0"
  },
  {
   "cell_type": "markdown",
   "source": [
    "### Random Forest"
   ],
   "metadata": {
    "collapsed": false
   },
   "id": "dcbbe5d9bbacea36"
  },
  {
   "cell_type": "code",
   "execution_count": 60,
   "outputs": [
    {
     "data": {
      "text/plain": "RandomForestClassifier(random_state=42)",
      "text/html": "<style>#sk-container-id-3 {color: black;}#sk-container-id-3 pre{padding: 0;}#sk-container-id-3 div.sk-toggleable {background-color: white;}#sk-container-id-3 label.sk-toggleable__label {cursor: pointer;display: block;width: 100%;margin-bottom: 0;padding: 0.3em;box-sizing: border-box;text-align: center;}#sk-container-id-3 label.sk-toggleable__label-arrow:before {content: \"▸\";float: left;margin-right: 0.25em;color: #696969;}#sk-container-id-3 label.sk-toggleable__label-arrow:hover:before {color: black;}#sk-container-id-3 div.sk-estimator:hover label.sk-toggleable__label-arrow:before {color: black;}#sk-container-id-3 div.sk-toggleable__content {max-height: 0;max-width: 0;overflow: hidden;text-align: left;background-color: #f0f8ff;}#sk-container-id-3 div.sk-toggleable__content pre {margin: 0.2em;color: black;border-radius: 0.25em;background-color: #f0f8ff;}#sk-container-id-3 input.sk-toggleable__control:checked~div.sk-toggleable__content {max-height: 200px;max-width: 100%;overflow: auto;}#sk-container-id-3 input.sk-toggleable__control:checked~label.sk-toggleable__label-arrow:before {content: \"▾\";}#sk-container-id-3 div.sk-estimator input.sk-toggleable__control:checked~label.sk-toggleable__label {background-color: #d4ebff;}#sk-container-id-3 div.sk-label input.sk-toggleable__control:checked~label.sk-toggleable__label {background-color: #d4ebff;}#sk-container-id-3 input.sk-hidden--visually {border: 0;clip: rect(1px 1px 1px 1px);clip: rect(1px, 1px, 1px, 1px);height: 1px;margin: -1px;overflow: hidden;padding: 0;position: absolute;width: 1px;}#sk-container-id-3 div.sk-estimator {font-family: monospace;background-color: #f0f8ff;border: 1px dotted black;border-radius: 0.25em;box-sizing: border-box;margin-bottom: 0.5em;}#sk-container-id-3 div.sk-estimator:hover {background-color: #d4ebff;}#sk-container-id-3 div.sk-parallel-item::after {content: \"\";width: 100%;border-bottom: 1px solid gray;flex-grow: 1;}#sk-container-id-3 div.sk-label:hover label.sk-toggleable__label {background-color: #d4ebff;}#sk-container-id-3 div.sk-serial::before {content: \"\";position: absolute;border-left: 1px solid gray;box-sizing: border-box;top: 0;bottom: 0;left: 50%;z-index: 0;}#sk-container-id-3 div.sk-serial {display: flex;flex-direction: column;align-items: center;background-color: white;padding-right: 0.2em;padding-left: 0.2em;position: relative;}#sk-container-id-3 div.sk-item {position: relative;z-index: 1;}#sk-container-id-3 div.sk-parallel {display: flex;align-items: stretch;justify-content: center;background-color: white;position: relative;}#sk-container-id-3 div.sk-item::before, #sk-container-id-3 div.sk-parallel-item::before {content: \"\";position: absolute;border-left: 1px solid gray;box-sizing: border-box;top: 0;bottom: 0;left: 50%;z-index: -1;}#sk-container-id-3 div.sk-parallel-item {display: flex;flex-direction: column;z-index: 1;position: relative;background-color: white;}#sk-container-id-3 div.sk-parallel-item:first-child::after {align-self: flex-end;width: 50%;}#sk-container-id-3 div.sk-parallel-item:last-child::after {align-self: flex-start;width: 50%;}#sk-container-id-3 div.sk-parallel-item:only-child::after {width: 0;}#sk-container-id-3 div.sk-dashed-wrapped {border: 1px dashed gray;margin: 0 0.4em 0.5em 0.4em;box-sizing: border-box;padding-bottom: 0.4em;background-color: white;}#sk-container-id-3 div.sk-label label {font-family: monospace;font-weight: bold;display: inline-block;line-height: 1.2em;}#sk-container-id-3 div.sk-label-container {text-align: center;}#sk-container-id-3 div.sk-container {/* jupyter's `normalize.less` sets `[hidden] { display: none; }` but bootstrap.min.css set `[hidden] { display: none !important; }` so we also need the `!important` here to be able to override the default hidden behavior on the sphinx rendered scikit-learn.org. See: https://github.com/scikit-learn/scikit-learn/issues/21755 */display: inline-block !important;position: relative;}#sk-container-id-3 div.sk-text-repr-fallback {display: none;}</style><div id=\"sk-container-id-3\" class=\"sk-top-container\"><div class=\"sk-text-repr-fallback\"><pre>RandomForestClassifier(random_state=42)</pre><b>In a Jupyter environment, please rerun this cell to show the HTML representation or trust the notebook. <br />On GitHub, the HTML representation is unable to render, please try loading this page with nbviewer.org.</b></div><div class=\"sk-container\" hidden><div class=\"sk-item\"><div class=\"sk-estimator sk-toggleable\"><input class=\"sk-toggleable__control sk-hidden--visually\" id=\"sk-estimator-id-3\" type=\"checkbox\" checked><label for=\"sk-estimator-id-3\" class=\"sk-toggleable__label sk-toggleable__label-arrow\">RandomForestClassifier</label><div class=\"sk-toggleable__content\"><pre>RandomForestClassifier(random_state=42)</pre></div></div></div></div></div>"
     },
     "execution_count": 60,
     "metadata": {},
     "output_type": "execute_result"
    }
   ],
   "source": [
    "random_forest_model = RandomForestClassifier(random_state=42)\n",
    "random_forest_model.fit(df_matriz_tf_idf.head(800), categoria)"
   ],
   "metadata": {
    "collapsed": false,
    "ExecuteTime": {
     "end_time": "2023-11-06T16:23:15.710963657Z",
     "start_time": "2023-11-06T16:23:14.631056223Z"
    }
   },
   "id": "55d0d7ee4d15b7fb"
  },
  {
   "cell_type": "code",
   "execution_count": 61,
   "outputs": [],
   "source": [
    "random_forest_prediction = random_forest_model.predict(df_matriz_tf_idf.tail(200))"
   ],
   "metadata": {
    "collapsed": false,
    "ExecuteTime": {
     "end_time": "2023-11-06T16:23:17.054087163Z",
     "start_time": "2023-11-06T16:23:16.996530094Z"
    }
   },
   "id": "d71c43c0f60892e"
  },
  {
   "cell_type": "code",
   "execution_count": 69,
   "outputs": [],
   "source": [
    "df_answer_random_forest = pd.DataFrame(data= zip(index_test,random_forest_prediction),\n",
    "columns=[\"ID\",\"categoria\"])"
   ],
   "metadata": {
    "collapsed": false,
    "ExecuteTime": {
     "end_time": "2023-11-06T16:27:16.437232792Z",
     "start_time": "2023-11-06T16:27:16.363620565Z"
    }
   },
   "id": "ae38aa95e7d6e761"
  },
  {
   "cell_type": "code",
   "execution_count": 70,
   "outputs": [],
   "source": [
    "df_answer_random_forest.to_csv(\"./predictions/categories/prediction_random_forest.csv\", index=False)"
   ],
   "metadata": {
    "collapsed": false,
    "ExecuteTime": {
     "end_time": "2023-11-06T16:27:16.778901029Z",
     "start_time": "2023-11-06T16:27:16.759155390Z"
    }
   },
   "id": "88884d1e903655ed"
  },
  {
   "cell_type": "markdown",
   "source": [
    "### LSTM"
   ],
   "metadata": {
    "collapsed": false
   },
   "id": "97a4c082d7965599"
  },
  {
   "cell_type": "code",
   "execution_count": null,
   "outputs": [],
   "source": [],
   "metadata": {
    "collapsed": false
   },
   "id": "3e3b235ab9d92e55"
  }
 ],
 "metadata": {
  "kernelspec": {
   "display_name": "Python 3",
   "language": "python",
   "name": "python3"
  },
  "language_info": {
   "codemirror_mode": {
    "name": "ipython",
    "version": 2
   },
   "file_extension": ".py",
   "mimetype": "text/x-python",
   "name": "python",
   "nbconvert_exporter": "python",
   "pygments_lexer": "ipython2",
   "version": "2.7.6"
  }
 },
 "nbformat": 4,
 "nbformat_minor": 5
}
