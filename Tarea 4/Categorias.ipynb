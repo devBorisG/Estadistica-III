{
 "cells": [
  {
   "cell_type": "code",
   "execution_count": 45,
   "outputs": [
    {
     "name": "stdout",
     "output_type": "stream",
     "text": [
      "Requirement already satisfied: unidecode in c:\\users\\david\\documents\\github\\estadistica iii\\venv\\lib\\site-packages (1.3.7)\n"
     ]
    },
    {
     "name": "stderr",
     "output_type": "stream",
     "text": [
      "\n",
      "[notice] A new release of pip is available: 23.2.1 -> 23.3.1\n",
      "[notice] To update, run: python.exe -m pip install --upgrade pip\n"
     ]
    }
   ],
   "source": [
    "!pip install unidecode"
   ],
   "metadata": {
    "collapsed": false,
    "ExecuteTime": {
     "end_time": "2023-11-07T08:20:21.902823200Z",
     "start_time": "2023-11-07T08:20:17.852577600Z"
    }
   },
   "id": "593f0afdb64257df"
  },
  {
   "cell_type": "markdown",
   "source": [
    "# Intalacion de librerias\n",
    "Empezamos instalando las librerias necesarias para el desarrollo del punto"
   ],
   "metadata": {
    "collapsed": false
   },
   "id": "d54cc2efb6279823"
  },
  {
   "cell_type": "code",
   "execution_count": 46,
   "outputs": [
    {
     "name": "stderr",
     "output_type": "stream",
     "text": [
      "[nltk_data] Downloading package stopwords to\n",
      "[nltk_data]     C:\\Users\\David\\AppData\\Roaming\\nltk_data...\n",
      "[nltk_data]   Package stopwords is already up-to-date!\n"
     ]
    },
    {
     "data": {
      "text/plain": "True"
     },
     "execution_count": 46,
     "metadata": {},
     "output_type": "execute_result"
    }
   ],
   "source": [
    "import pandas as pd\n",
    "from unidecode import unidecode\n",
    "import re\n",
    "from nltk.tokenize.toktok import ToktokTokenizer\n",
    "from nltk.corpus import stopwords\n",
    "from nltk.stem import SnowballStemmer\n",
    "import nltk\n",
    "import matplotlib.pyplot as plt\n",
    "import seaborn as sns\n",
    "import math\n",
    "import numpy as np\n",
    "nltk.download('stopwords')"
   ],
   "metadata": {
    "collapsed": false,
    "ExecuteTime": {
     "end_time": "2023-11-07T08:20:21.931258300Z",
     "start_time": "2023-11-07T08:20:21.899823600Z"
    }
   },
   "id": "initial_id"
  },
  {
   "cell_type": "markdown",
   "source": [
    "### Lectura de los datos"
   ],
   "metadata": {
    "collapsed": false
   },
   "id": "db0826ad897fe520"
  },
  {
   "cell_type": "code",
   "execution_count": 47,
   "outputs": [],
   "source": [
    "df_train = pd.read_csv(\"./data/categories/train.csv\")\n",
    "df_test = pd.read_csv(\"./data/categories/test.csv\")\n",
    "index_test = df_test['index']\n",
    "df_complete = pd.concat([df_train,df_test])\n",
    "index = df_complete['index']\n",
    "titulo = df_complete['titulo']\n",
    "categoria = df_train['categoria']"
   ],
   "metadata": {
    "collapsed": false,
    "ExecuteTime": {
     "end_time": "2023-11-07T08:20:21.931258300Z",
     "start_time": "2023-11-07T08:20:21.911623400Z"
    }
   },
   "id": "27a0df0062972549"
  },
  {
   "cell_type": "code",
   "execution_count": 48,
   "outputs": [
    {
     "data": {
      "text/plain": "   index                                             titulo  \\\n0    610  \"De nada sirven los triunfos si la paz no los ...   \n1    819  \"Hay mejores formas para uno mostrar su forma ...   \n2    637                #LosNacionalesXSeñal - Bahía Cupica   \n3    740  #LosNacionalesXSeñal - Estudiantes Utech balon...   \n4    160  #LosNacionalesXSeñal - Las pruebas de triatlón...   \n5    101  #LosNacionalesXSeñal - María Elena Hurtado, la...   \n6    405           #LosNacionalesXSeñal - Niños voley playa   \n7    681          #LosNacionalesXSeñal - ¡Hicimos historia!   \n8    428  #PedaleoPor: Ariel Molina envía un saludo a lo...   \n9     13  #PedaleoPor: Ariel Molina envía un saludo a lo...   \n\n              categoria  \n0  Película y Animación  \n1  Película y Animación  \n2              Deportes  \n3              Deportes  \n4              Deportes  \n5              Deportes  \n6              Deportes  \n7              Deportes  \n8              Deportes  \n9              Deportes  ",
      "text/html": "<div>\n<style scoped>\n    .dataframe tbody tr th:only-of-type {\n        vertical-align: middle;\n    }\n\n    .dataframe tbody tr th {\n        vertical-align: top;\n    }\n\n    .dataframe thead th {\n        text-align: right;\n    }\n</style>\n<table border=\"1\" class=\"dataframe\">\n  <thead>\n    <tr style=\"text-align: right;\">\n      <th></th>\n      <th>index</th>\n      <th>titulo</th>\n      <th>categoria</th>\n    </tr>\n  </thead>\n  <tbody>\n    <tr>\n      <th>0</th>\n      <td>610</td>\n      <td>\"De nada sirven los triunfos si la paz no los ...</td>\n      <td>Película y Animación</td>\n    </tr>\n    <tr>\n      <th>1</th>\n      <td>819</td>\n      <td>\"Hay mejores formas para uno mostrar su forma ...</td>\n      <td>Película y Animación</td>\n    </tr>\n    <tr>\n      <th>2</th>\n      <td>637</td>\n      <td>#LosNacionalesXSeñal - Bahía Cupica</td>\n      <td>Deportes</td>\n    </tr>\n    <tr>\n      <th>3</th>\n      <td>740</td>\n      <td>#LosNacionalesXSeñal - Estudiantes Utech balon...</td>\n      <td>Deportes</td>\n    </tr>\n    <tr>\n      <th>4</th>\n      <td>160</td>\n      <td>#LosNacionalesXSeñal - Las pruebas de triatlón...</td>\n      <td>Deportes</td>\n    </tr>\n    <tr>\n      <th>5</th>\n      <td>101</td>\n      <td>#LosNacionalesXSeñal - María Elena Hurtado, la...</td>\n      <td>Deportes</td>\n    </tr>\n    <tr>\n      <th>6</th>\n      <td>405</td>\n      <td>#LosNacionalesXSeñal - Niños voley playa</td>\n      <td>Deportes</td>\n    </tr>\n    <tr>\n      <th>7</th>\n      <td>681</td>\n      <td>#LosNacionalesXSeñal - ¡Hicimos historia!</td>\n      <td>Deportes</td>\n    </tr>\n    <tr>\n      <th>8</th>\n      <td>428</td>\n      <td>#PedaleoPor: Ariel Molina envía un saludo a lo...</td>\n      <td>Deportes</td>\n    </tr>\n    <tr>\n      <th>9</th>\n      <td>13</td>\n      <td>#PedaleoPor: Ariel Molina envía un saludo a lo...</td>\n      <td>Deportes</td>\n    </tr>\n  </tbody>\n</table>\n</div>"
     },
     "execution_count": 48,
     "metadata": {},
     "output_type": "execute_result"
    }
   ],
   "source": [
    "df_complete.head(10)"
   ],
   "metadata": {
    "collapsed": false,
    "ExecuteTime": {
     "end_time": "2023-11-07T08:20:22.179752800Z",
     "start_time": "2023-11-07T08:20:21.929256100Z"
    }
   },
   "id": "3fc290c6b43ed33"
  },
  {
   "cell_type": "code",
   "execution_count": 49,
   "outputs": [
    {
     "data": {
      "text/plain": "0     \"De nada sirven los triunfos si la paz no los ...\n1     \"Hay mejores formas para uno mostrar su forma ...\n2                   #LosNacionalesXSeñal - Bahía Cupica\n3     #LosNacionalesXSeñal - Estudiantes Utech balon...\n4     #LosNacionalesXSeñal - Las pruebas de triatlón...\n5     #LosNacionalesXSeñal - María Elena Hurtado, la...\n6              #LosNacionalesXSeñal - Niños voley playa\n7             #LosNacionalesXSeñal - ¡Hicimos historia!\n8     #PedaleoPor: Ariel Molina envía un saludo a lo...\n9     #PedaleoPor: Ariel Molina envía un saludo a lo...\n10    #PedaleoPor: Dagoberto López envía un saludo a...\n11    #PedaleoPor: Esteban Kekessy envía un saludo a...\n12    #PedaleoPor: Henry García envía un saludo a lo...\n13    #PedaleoPor: James Guevara envía un saludo a l...\n14    #PedaleoPor: Javier Cruz envía un saludo a los...\n15    #PedaleoPor: Javier Rodríguez envía un saludo ...\n16    #PedaleoPor: Jonathan Devía envía un saludo a ...\n17    #PedaleoPor: Jorge Merchán envía un saludo a l...\n18    #PedaleoPor: Jorge envía un saludo a los escar...\n19    #PedaleoPor: Jorge envía un saludo a los escar...\nName: titulo, dtype: object"
     },
     "execution_count": 49,
     "metadata": {},
     "output_type": "execute_result"
    }
   ],
   "source": [
    "titulo.head(20)"
   ],
   "metadata": {
    "collapsed": false,
    "ExecuteTime": {
     "end_time": "2023-11-07T08:20:22.180751700Z",
     "start_time": "2023-11-07T08:20:21.946095500Z"
    }
   },
   "id": "d4be78d211a1fd5e"
  },
  {
   "cell_type": "markdown",
   "source": [
    "# Modificacion de los datos\n",
    "Para este caso y para que funcione correctamente la tokenizacion y el stemmer debemos de hacer las siguientes modificaciones a los datos:\n",
    "- Poner el contenido en minuscula\n",
    "- Eliminar los acentos\n",
    "- Eliminar los caracteres especiales"
   ],
   "metadata": {
    "collapsed": false
   },
   "id": "902b9b6b1d125055"
  },
  {
   "cell_type": "code",
   "execution_count": 50,
   "outputs": [],
   "source": [
    "titulo = titulo.str.lower()"
   ],
   "metadata": {
    "collapsed": false,
    "ExecuteTime": {
     "end_time": "2023-11-07T08:20:22.181753300Z",
     "start_time": "2023-11-07T08:20:21.954344200Z"
    }
   },
   "id": "26d592f76c34fd79"
  },
  {
   "cell_type": "code",
   "execution_count": 51,
   "outputs": [
    {
     "data": {
      "text/plain": "0     \"de nada sirven los triunfos si la paz no los ...\n1     \"hay mejores formas para uno mostrar su forma ...\n2                   #losnacionalesxseñal - bahía cupica\n3     #losnacionalesxseñal - estudiantes utech balon...\n4     #losnacionalesxseñal - las pruebas de triatlón...\n5     #losnacionalesxseñal - maría elena hurtado, la...\n6              #losnacionalesxseñal - niños voley playa\n7             #losnacionalesxseñal - ¡hicimos historia!\n8     #pedaleopor: ariel molina envía un saludo a lo...\n9     #pedaleopor: ariel molina envía un saludo a lo...\n10    #pedaleopor: dagoberto lópez envía un saludo a...\n11    #pedaleopor: esteban kekessy envía un saludo a...\n12    #pedaleopor: henry garcía envía un saludo a lo...\n13    #pedaleopor: james guevara envía un saludo a l...\n14    #pedaleopor: javier cruz envía un saludo a los...\n15    #pedaleopor: javier rodríguez envía un saludo ...\n16    #pedaleopor: jonathan devía envía un saludo a ...\n17    #pedaleopor: jorge merchán envía un saludo a l...\n18    #pedaleopor: jorge envía un saludo a los escar...\n19    #pedaleopor: jorge envía un saludo a los escar...\nName: titulo, dtype: object"
     },
     "execution_count": 51,
     "metadata": {},
     "output_type": "execute_result"
    }
   ],
   "source": [
    "titulo.head(20)"
   ],
   "metadata": {
    "collapsed": false,
    "ExecuteTime": {
     "end_time": "2023-11-07T08:20:22.184752300Z",
     "start_time": "2023-11-07T08:20:21.962701400Z"
    }
   },
   "id": "6ad9aea0be7810b6"
  },
  {
   "cell_type": "code",
   "execution_count": 52,
   "outputs": [],
   "source": [
    "titulo = titulo.apply(unidecode)"
   ],
   "metadata": {
    "collapsed": false,
    "ExecuteTime": {
     "end_time": "2023-11-07T08:20:22.184752300Z",
     "start_time": "2023-11-07T08:20:21.976894800Z"
    }
   },
   "id": "d1b37853508b8c66"
  },
  {
   "cell_type": "code",
   "execution_count": 53,
   "outputs": [
    {
     "data": {
      "text/plain": "0     \"de nada sirven los triunfos si la paz no los ...\n1     \"hay mejores formas para uno mostrar su forma ...\n2                   #losnacionalesxsenal - bahia cupica\n3     #losnacionalesxsenal - estudiantes utech balon...\n4     #losnacionalesxsenal - las pruebas de triatlon...\n5     #losnacionalesxsenal - maria elena hurtado, la...\n6              #losnacionalesxsenal - ninos voley playa\n7             #losnacionalesxsenal - !hicimos historia!\n8     #pedaleopor: ariel molina envia un saludo a lo...\n9     #pedaleopor: ariel molina envia un saludo a lo...\n10    #pedaleopor: dagoberto lopez envia un saludo a...\n11    #pedaleopor: esteban kekessy envia un saludo a...\n12    #pedaleopor: henry garcia envia un saludo a lo...\n13    #pedaleopor: james guevara envia un saludo a l...\n14    #pedaleopor: javier cruz envia un saludo a los...\n15    #pedaleopor: javier rodriguez envia un saludo ...\n16    #pedaleopor: jonathan devia envia un saludo a ...\n17    #pedaleopor: jorge merchan envia un saludo a l...\n18    #pedaleopor: jorge envia un saludo a los escar...\n19    #pedaleopor: jorge envia un saludo a los escar...\nName: titulo, dtype: object"
     },
     "execution_count": 53,
     "metadata": {},
     "output_type": "execute_result"
    }
   ],
   "source": [
    "titulo.head(20)"
   ],
   "metadata": {
    "collapsed": false,
    "ExecuteTime": {
     "end_time": "2023-11-07T08:20:22.187754700Z",
     "start_time": "2023-11-07T08:20:21.994034300Z"
    }
   },
   "id": "e800e10a7222be1f"
  },
  {
   "cell_type": "code",
   "execution_count": 54,
   "outputs": [],
   "source": [
    "def quitar_caracteres_especiales(texto):\n",
    "    return re.sub(r'[^A-Za-z ]+', '', texto)\n",
    "titulo = titulo.apply(quitar_caracteres_especiales)"
   ],
   "metadata": {
    "collapsed": false,
    "ExecuteTime": {
     "end_time": "2023-11-07T08:20:22.187754700Z",
     "start_time": "2023-11-07T08:20:22.014307900Z"
    }
   },
   "id": "e70bd33d818b4fe0"
  },
  {
   "cell_type": "code",
   "execution_count": 55,
   "outputs": [
    {
     "data": {
      "text/plain": "0     de nada sirven los triunfos si la paz no los c...\n1     hay mejores formas para uno mostrar su forma d...\n2                     losnacionalesxsenal  bahia cupica\n3      losnacionalesxsenal  estudiantes utech balonmano\n4     losnacionalesxsenal  las pruebas de triatlon l...\n5     losnacionalesxsenal  maria elena hurtado la pe...\n6                losnacionalesxsenal  ninos voley playa\n7                 losnacionalesxsenal  hicimos historia\n8     pedaleopor ariel molina envia un saludo a los ...\n9     pedaleopor ariel molina envia un saludo a los ...\n10    pedaleopor dagoberto lopez envia un saludo a l...\n11    pedaleopor esteban kekessy envia un saludo a l...\n12    pedaleopor henry garcia envia un saludo a los ...\n13    pedaleopor james guevara envia un saludo a los...\n14    pedaleopor javier cruz envia un saludo a los e...\n15    pedaleopor javier rodriguez envia un saludo a ...\n16    pedaleopor jonathan devia envia un saludo a lo...\n17    pedaleopor jorge merchan envia un saludo a los...\n18    pedaleopor jorge envia un saludo a los escarab...\n19    pedaleopor jorge envia un saludo a los escarab...\nName: titulo, dtype: object"
     },
     "execution_count": 55,
     "metadata": {},
     "output_type": "execute_result"
    }
   ],
   "source": [
    "titulo.head(20)"
   ],
   "metadata": {
    "collapsed": false,
    "ExecuteTime": {
     "end_time": "2023-11-07T08:20:22.188754300Z",
     "start_time": "2023-11-07T08:20:22.027103800Z"
    }
   },
   "id": "9cea9060caa7da6f"
  },
  {
   "cell_type": "markdown",
   "source": [
    "## Obtener todas las palabras que se tienen en todos los textos"
   ],
   "metadata": {
    "collapsed": false
   },
   "id": "ef4092fb9bd0845d"
  },
  {
   "cell_type": "code",
   "execution_count": 56,
   "outputs": [
    {
     "data": {
      "text/plain": "       Palabra\n0           de\n1         nada\n2       sirven\n3          los\n4     triunfos\n5           si\n6           la\n7          paz\n8           no\n9       corona\n10  lapazhabla\n11         hay\n12     mejores\n13      formas\n14        para\n15         uno\n16     mostrar\n17          su\n18       forma\n19      pensar",
      "text/html": "<div>\n<style scoped>\n    .dataframe tbody tr th:only-of-type {\n        vertical-align: middle;\n    }\n\n    .dataframe tbody tr th {\n        vertical-align: top;\n    }\n\n    .dataframe thead th {\n        text-align: right;\n    }\n</style>\n<table border=\"1\" class=\"dataframe\">\n  <thead>\n    <tr style=\"text-align: right;\">\n      <th></th>\n      <th>Palabra</th>\n    </tr>\n  </thead>\n  <tbody>\n    <tr>\n      <th>0</th>\n      <td>de</td>\n    </tr>\n    <tr>\n      <th>1</th>\n      <td>nada</td>\n    </tr>\n    <tr>\n      <th>2</th>\n      <td>sirven</td>\n    </tr>\n    <tr>\n      <th>3</th>\n      <td>los</td>\n    </tr>\n    <tr>\n      <th>4</th>\n      <td>triunfos</td>\n    </tr>\n    <tr>\n      <th>5</th>\n      <td>si</td>\n    </tr>\n    <tr>\n      <th>6</th>\n      <td>la</td>\n    </tr>\n    <tr>\n      <th>7</th>\n      <td>paz</td>\n    </tr>\n    <tr>\n      <th>8</th>\n      <td>no</td>\n    </tr>\n    <tr>\n      <th>9</th>\n      <td>corona</td>\n    </tr>\n    <tr>\n      <th>10</th>\n      <td>lapazhabla</td>\n    </tr>\n    <tr>\n      <th>11</th>\n      <td>hay</td>\n    </tr>\n    <tr>\n      <th>12</th>\n      <td>mejores</td>\n    </tr>\n    <tr>\n      <th>13</th>\n      <td>formas</td>\n    </tr>\n    <tr>\n      <th>14</th>\n      <td>para</td>\n    </tr>\n    <tr>\n      <th>15</th>\n      <td>uno</td>\n    </tr>\n    <tr>\n      <th>16</th>\n      <td>mostrar</td>\n    </tr>\n    <tr>\n      <th>17</th>\n      <td>su</td>\n    </tr>\n    <tr>\n      <th>18</th>\n      <td>forma</td>\n    </tr>\n    <tr>\n      <th>19</th>\n      <td>pensar</td>\n    </tr>\n  </tbody>\n</table>\n</div>"
     },
     "execution_count": 56,
     "metadata": {},
     "output_type": "execute_result"
    }
   ],
   "source": [
    "def obtener_palabras_unicas(texto, diccionario):\n",
    "    palabras = re.findall(r'\\b\\w+\\b', texto)\n",
    "    for palabra in palabras:\n",
    "        diccionario[palabra] = 0\n",
    "        \n",
    "palabras_unicas = {}\n",
    "\n",
    "titulo.apply(lambda x: obtener_palabras_unicas(x, palabras_unicas))\n",
    "\n",
    "df_palabras_unicas = pd.DataFrame(palabras_unicas.keys(), columns=[\"Palabra\"])\n",
    "df_palabras_unicas.head(20)"
   ],
   "metadata": {
    "collapsed": false,
    "ExecuteTime": {
     "end_time": "2023-11-07T08:20:22.189754400Z",
     "start_time": "2023-11-07T08:20:22.034372900Z"
    }
   },
   "id": "e2f6a243171394ea"
  },
  {
   "cell_type": "code",
   "execution_count": 57,
   "outputs": [
    {
     "data": {
      "text/plain": "1848"
     },
     "execution_count": 57,
     "metadata": {},
     "output_type": "execute_result"
    }
   ],
   "source": [
    "len(df_palabras_unicas)"
   ],
   "metadata": {
    "collapsed": false,
    "ExecuteTime": {
     "end_time": "2023-11-07T08:20:22.197751900Z",
     "start_time": "2023-11-07T08:20:22.053852200Z"
    }
   },
   "id": "3dd26bc6eaeed7"
  },
  {
   "cell_type": "markdown",
   "source": [
    "## Contar cuantas veces se muestra cada palabra en cada texto\n",
    "\n",
    "Primero copiamos el Dataframe antes generado"
   ],
   "metadata": {
    "collapsed": false
   },
   "id": "5f15d58b65a8b42c"
  },
  {
   "cell_type": "code",
   "execution_count": 58,
   "outputs": [
    {
     "data": {
      "text/plain": "                                                    de  nada  sirven  los  \\\ntitulo                                                                      \nde nada sirven los triunfos si la paz no los co...   0     0       0    0   \nhay mejores formas para uno mostrar su forma de...   0     0       0    0   \nlosnacionalesxsenal  bahia cupica                    0     0       0    0   \nlosnacionalesxsenal  estudiantes utech balonmano     0     0       0    0   \nlosnacionalesxsenal  las pruebas de triatlon ll...   0     0       0    0   \n...                                                 ..   ...     ...  ...   \ncomo ensenarle a los papas a reciclar                0     0       0    0   \ncomo es tu municipio los ninos de paicol nos cu...   0     0       0    0   \nlos ninos podemos cambiar el mundo                   0     0       0    0   \nque harias tu  una nina ejemplar                     0     0       0    0   \nque te gusta de mi senal los ninos nos dan su o...   0     0       0    0   \n\n                                                    triunfos  si  la  \ntitulo                                                                \nde nada sirven los triunfos si la paz no los co...         0   0   0  \nhay mejores formas para uno mostrar su forma de...         0   0   0  \nlosnacionalesxsenal  bahia cupica                          0   0   0  \nlosnacionalesxsenal  estudiantes utech balonmano           0   0   0  \nlosnacionalesxsenal  las pruebas de triatlon ll...         0   0   0  \n...                                                      ...  ..  ..  \ncomo ensenarle a los papas a reciclar                      0   0   0  \ncomo es tu municipio los ninos de paicol nos cu...         0   0   0  \nlos ninos podemos cambiar el mundo                         0   0   0  \nque harias tu  una nina ejemplar                           0   0   0  \nque te gusta de mi senal los ninos nos dan su o...         0   0   0  \n\n[1000 rows x 7 columns]",
      "text/html": "<div>\n<style scoped>\n    .dataframe tbody tr th:only-of-type {\n        vertical-align: middle;\n    }\n\n    .dataframe tbody tr th {\n        vertical-align: top;\n    }\n\n    .dataframe thead th {\n        text-align: right;\n    }\n</style>\n<table border=\"1\" class=\"dataframe\">\n  <thead>\n    <tr style=\"text-align: right;\">\n      <th></th>\n      <th>de</th>\n      <th>nada</th>\n      <th>sirven</th>\n      <th>los</th>\n      <th>triunfos</th>\n      <th>si</th>\n      <th>la</th>\n    </tr>\n    <tr>\n      <th>titulo</th>\n      <th></th>\n      <th></th>\n      <th></th>\n      <th></th>\n      <th></th>\n      <th></th>\n      <th></th>\n    </tr>\n  </thead>\n  <tbody>\n    <tr>\n      <th>de nada sirven los triunfos si la paz no los corona lapazhabla</th>\n      <td>0</td>\n      <td>0</td>\n      <td>0</td>\n      <td>0</td>\n      <td>0</td>\n      <td>0</td>\n      <td>0</td>\n    </tr>\n    <tr>\n      <th>hay mejores formas para uno mostrar su forma de pensar sofia</th>\n      <td>0</td>\n      <td>0</td>\n      <td>0</td>\n      <td>0</td>\n      <td>0</td>\n      <td>0</td>\n      <td>0</td>\n    </tr>\n    <tr>\n      <th>losnacionalesxsenal  bahia cupica</th>\n      <td>0</td>\n      <td>0</td>\n      <td>0</td>\n      <td>0</td>\n      <td>0</td>\n      <td>0</td>\n      <td>0</td>\n    </tr>\n    <tr>\n      <th>losnacionalesxsenal  estudiantes utech balonmano</th>\n      <td>0</td>\n      <td>0</td>\n      <td>0</td>\n      <td>0</td>\n      <td>0</td>\n      <td>0</td>\n      <td>0</td>\n    </tr>\n    <tr>\n      <th>losnacionalesxsenal  las pruebas de triatlon llenaron de emocion al municipio de prado</th>\n      <td>0</td>\n      <td>0</td>\n      <td>0</td>\n      <td>0</td>\n      <td>0</td>\n      <td>0</td>\n      <td>0</td>\n    </tr>\n    <tr>\n      <th>...</th>\n      <td>...</td>\n      <td>...</td>\n      <td>...</td>\n      <td>...</td>\n      <td>...</td>\n      <td>...</td>\n      <td>...</td>\n    </tr>\n    <tr>\n      <th>como ensenarle a los papas a reciclar</th>\n      <td>0</td>\n      <td>0</td>\n      <td>0</td>\n      <td>0</td>\n      <td>0</td>\n      <td>0</td>\n      <td>0</td>\n    </tr>\n    <tr>\n      <th>como es tu municipio los ninos de paicol nos cuentan</th>\n      <td>0</td>\n      <td>0</td>\n      <td>0</td>\n      <td>0</td>\n      <td>0</td>\n      <td>0</td>\n      <td>0</td>\n    </tr>\n    <tr>\n      <th>los ninos podemos cambiar el mundo</th>\n      <td>0</td>\n      <td>0</td>\n      <td>0</td>\n      <td>0</td>\n      <td>0</td>\n      <td>0</td>\n      <td>0</td>\n    </tr>\n    <tr>\n      <th>que harias tu  una nina ejemplar</th>\n      <td>0</td>\n      <td>0</td>\n      <td>0</td>\n      <td>0</td>\n      <td>0</td>\n      <td>0</td>\n      <td>0</td>\n    </tr>\n    <tr>\n      <th>que te gusta de mi senal los ninos nos dan su opinion</th>\n      <td>0</td>\n      <td>0</td>\n      <td>0</td>\n      <td>0</td>\n      <td>0</td>\n      <td>0</td>\n      <td>0</td>\n    </tr>\n  </tbody>\n</table>\n<p>1000 rows × 7 columns</p>\n</div>"
     },
     "execution_count": 58,
     "metadata": {},
     "output_type": "execute_result"
    }
   ],
   "source": [
    "df_matriz_frecuencia = pd.DataFrame(palabras_unicas, index=titulo)\n",
    "df_matriz_frecuencia.iloc[:,:7]"
   ],
   "metadata": {
    "collapsed": false,
    "ExecuteTime": {
     "end_time": "2023-11-07T08:20:22.200754700Z",
     "start_time": "2023-11-07T08:20:22.061736400Z"
    }
   },
   "id": "2c4c7104d32c850b"
  },
  {
   "cell_type": "code",
   "execution_count": 59,
   "outputs": [
    {
     "data": {
      "text/plain": "Index(['de', 'nada', 'sirven', 'los', 'triunfos', 'si', 'la', 'paz', 'no',\n       'corona',\n       ...\n       'ensenarle', 'papas', 'reciclar', 'paicol', 'cuentan', 'podemos',\n       'cambiar', 'ejemplar', 'dan', 'opinion'],\n      dtype='object', length=1848)"
     },
     "execution_count": 59,
     "metadata": {},
     "output_type": "execute_result"
    }
   ],
   "source": [
    "df_matriz_frecuencia.columns"
   ],
   "metadata": {
    "collapsed": false,
    "ExecuteTime": {
     "end_time": "2023-11-07T08:20:22.201754400Z",
     "start_time": "2023-11-07T08:20:22.120556400Z"
    }
   },
   "id": "fdfa333fe7c0d354"
  },
  {
   "cell_type": "markdown",
   "source": [
    "Ahora si contamos la frecuencia de cada palabra en cada texto"
   ],
   "metadata": {
    "collapsed": false
   },
   "id": "ad38e5b6bfb4d3a"
  },
  {
   "cell_type": "code",
   "execution_count": 60,
   "outputs": [],
   "source": [
    "for indice, fila in df_matriz_frecuencia.iterrows():\n",
    "    for palabra in df_matriz_frecuencia.columns:\n",
    "        titulo_interno = fila.name\n",
    "        df_matriz_frecuencia.at[fila.name,palabra] = titulo_interno.split().count(palabra)"
   ],
   "metadata": {
    "collapsed": false,
    "ExecuteTime": {
     "end_time": "2023-11-07T08:23:10.963045300Z",
     "start_time": "2023-11-07T08:20:22.128748500Z"
    }
   },
   "id": "31f44d1abdc9bfba"
  },
  {
   "cell_type": "code",
   "execution_count": 61,
   "outputs": [
    {
     "data": {
      "text/plain": "                                                    de  nada  sirven  los  \\\ntitulo                                                                      \nde nada sirven los triunfos si la paz no los co...   1     1       1    2   \nhay mejores formas para uno mostrar su forma de...   1     0       0    0   \nlosnacionalesxsenal  bahia cupica                    0     0       0    0   \nlosnacionalesxsenal  estudiantes utech balonmano     0     0       0    0   \nlosnacionalesxsenal  las pruebas de triatlon ll...   3     0       0    0   \n...                                                 ..   ...     ...  ...   \ncomo ensenarle a los papas a reciclar                0     0       0    1   \ncomo es tu municipio los ninos de paicol nos cu...   1     0       0    1   \nlos ninos podemos cambiar el mundo                   0     0       0    1   \nque harias tu  una nina ejemplar                     0     0       0    0   \nque te gusta de mi senal los ninos nos dan su o...   1     0       0    1   \n\n                                                    triunfos  si  la  \ntitulo                                                                \nde nada sirven los triunfos si la paz no los co...         1   1   1  \nhay mejores formas para uno mostrar su forma de...         0   0   0  \nlosnacionalesxsenal  bahia cupica                          0   0   0  \nlosnacionalesxsenal  estudiantes utech balonmano           0   0   0  \nlosnacionalesxsenal  las pruebas de triatlon ll...         0   0   0  \n...                                                      ...  ..  ..  \ncomo ensenarle a los papas a reciclar                      0   0   0  \ncomo es tu municipio los ninos de paicol nos cu...         0   0   0  \nlos ninos podemos cambiar el mundo                         0   0   0  \nque harias tu  una nina ejemplar                           0   0   0  \nque te gusta de mi senal los ninos nos dan su o...         0   0   0  \n\n[1000 rows x 7 columns]",
      "text/html": "<div>\n<style scoped>\n    .dataframe tbody tr th:only-of-type {\n        vertical-align: middle;\n    }\n\n    .dataframe tbody tr th {\n        vertical-align: top;\n    }\n\n    .dataframe thead th {\n        text-align: right;\n    }\n</style>\n<table border=\"1\" class=\"dataframe\">\n  <thead>\n    <tr style=\"text-align: right;\">\n      <th></th>\n      <th>de</th>\n      <th>nada</th>\n      <th>sirven</th>\n      <th>los</th>\n      <th>triunfos</th>\n      <th>si</th>\n      <th>la</th>\n    </tr>\n    <tr>\n      <th>titulo</th>\n      <th></th>\n      <th></th>\n      <th></th>\n      <th></th>\n      <th></th>\n      <th></th>\n      <th></th>\n    </tr>\n  </thead>\n  <tbody>\n    <tr>\n      <th>de nada sirven los triunfos si la paz no los corona lapazhabla</th>\n      <td>1</td>\n      <td>1</td>\n      <td>1</td>\n      <td>2</td>\n      <td>1</td>\n      <td>1</td>\n      <td>1</td>\n    </tr>\n    <tr>\n      <th>hay mejores formas para uno mostrar su forma de pensar sofia</th>\n      <td>1</td>\n      <td>0</td>\n      <td>0</td>\n      <td>0</td>\n      <td>0</td>\n      <td>0</td>\n      <td>0</td>\n    </tr>\n    <tr>\n      <th>losnacionalesxsenal  bahia cupica</th>\n      <td>0</td>\n      <td>0</td>\n      <td>0</td>\n      <td>0</td>\n      <td>0</td>\n      <td>0</td>\n      <td>0</td>\n    </tr>\n    <tr>\n      <th>losnacionalesxsenal  estudiantes utech balonmano</th>\n      <td>0</td>\n      <td>0</td>\n      <td>0</td>\n      <td>0</td>\n      <td>0</td>\n      <td>0</td>\n      <td>0</td>\n    </tr>\n    <tr>\n      <th>losnacionalesxsenal  las pruebas de triatlon llenaron de emocion al municipio de prado</th>\n      <td>3</td>\n      <td>0</td>\n      <td>0</td>\n      <td>0</td>\n      <td>0</td>\n      <td>0</td>\n      <td>0</td>\n    </tr>\n    <tr>\n      <th>...</th>\n      <td>...</td>\n      <td>...</td>\n      <td>...</td>\n      <td>...</td>\n      <td>...</td>\n      <td>...</td>\n      <td>...</td>\n    </tr>\n    <tr>\n      <th>como ensenarle a los papas a reciclar</th>\n      <td>0</td>\n      <td>0</td>\n      <td>0</td>\n      <td>1</td>\n      <td>0</td>\n      <td>0</td>\n      <td>0</td>\n    </tr>\n    <tr>\n      <th>como es tu municipio los ninos de paicol nos cuentan</th>\n      <td>1</td>\n      <td>0</td>\n      <td>0</td>\n      <td>1</td>\n      <td>0</td>\n      <td>0</td>\n      <td>0</td>\n    </tr>\n    <tr>\n      <th>los ninos podemos cambiar el mundo</th>\n      <td>0</td>\n      <td>0</td>\n      <td>0</td>\n      <td>1</td>\n      <td>0</td>\n      <td>0</td>\n      <td>0</td>\n    </tr>\n    <tr>\n      <th>que harias tu  una nina ejemplar</th>\n      <td>0</td>\n      <td>0</td>\n      <td>0</td>\n      <td>0</td>\n      <td>0</td>\n      <td>0</td>\n      <td>0</td>\n    </tr>\n    <tr>\n      <th>que te gusta de mi senal los ninos nos dan su opinion</th>\n      <td>1</td>\n      <td>0</td>\n      <td>0</td>\n      <td>1</td>\n      <td>0</td>\n      <td>0</td>\n      <td>0</td>\n    </tr>\n  </tbody>\n</table>\n<p>1000 rows × 7 columns</p>\n</div>"
     },
     "execution_count": 61,
     "metadata": {},
     "output_type": "execute_result"
    }
   ],
   "source": [
    "df_matriz_frecuencia.iloc[:,:7]"
   ],
   "metadata": {
    "collapsed": false,
    "ExecuteTime": {
     "end_time": "2023-11-07T08:23:10.989642800Z",
     "start_time": "2023-11-07T08:23:10.964047700Z"
    }
   },
   "id": "606382a00d2e9487"
  },
  {
   "cell_type": "markdown",
   "source": [
    "## Aplicacion de token y stemmer\n",
    "\n",
    "llego el momento de aplicar el stemmer y el tokenizado a todos los texto esto para generar las palabras raices de cada una de las palabras y ademas vamos a ayudarnos de las \"Stop Words\" para eliminar contenido que no nos sirve mucho de ayuda ya que son palabras que se son considerabas \"inaportantes\" en nuestro contexto"
   ],
   "metadata": {
    "collapsed": false
   },
   "id": "a6c56717bf6ed4c5"
  },
  {
   "cell_type": "code",
   "execution_count": 62,
   "outputs": [],
   "source": [
    "#Stemmer\n",
    "stop_words = set(stopwords.words('spanish'))\n",
    "def simple_stemmer(text):\n",
    "    stemmer = SnowballStemmer(\"spanish\")\n",
    "    tokenizers = ToktokTokenizer()\n",
    "    tokens = tokenizers.tokenize(text)\n",
    "    tokens = [stemmer.stem(token.strip()) for token in tokens if token not in stop_words]\n",
    "    text = \" \".join(tokens)\n",
    "    return text\n",
    "\n",
    "titulo = titulo.apply(simple_stemmer)"
   ],
   "metadata": {
    "collapsed": false,
    "ExecuteTime": {
     "end_time": "2023-11-07T08:23:11.225204Z",
     "start_time": "2023-11-07T08:23:10.979643800Z"
    }
   },
   "id": "90e5cfc2d9ef3625"
  },
  {
   "cell_type": "code",
   "execution_count": 63,
   "outputs": [
    {
     "data": {
      "text/plain": "0                   sirv triunf si paz coron lapazhabl\n1                      mejor form mostr form pens sofi\n2                       losnacionalesxsenal bahi cupic\n3            losnacionalesxsenal estudi utech balonman\n4    losnacionalesxsenal prueb triatlon llen emocio...\n5     losnacionalesxsenal mari elen hurt pel antioquen\n6                   losnacionalesxsenal nin voley play\n7                      losnacionalesxsenal hic histori\n8          pedaleopor ariel molin envi salud escarabaj\n9          pedaleopor ariel molin envi salud escarabaj\nName: titulo, dtype: object"
     },
     "execution_count": 63,
     "metadata": {},
     "output_type": "execute_result"
    }
   ],
   "source": [
    "titulo.head(10)"
   ],
   "metadata": {
    "collapsed": false,
    "ExecuteTime": {
     "end_time": "2023-11-07T08:23:11.254211200Z",
     "start_time": "2023-11-07T08:23:11.174883500Z"
    }
   },
   "id": "75a5e076e1237608"
  },
  {
   "cell_type": "code",
   "execution_count": 64,
   "outputs": [
    {
     "data": {
      "text/plain": "                      Educación  Entretenimiento  Gente y Blogs     Otros  \\\nEducación              1.000000        -0.252130      -0.109116 -0.102464   \nEntretenimiento       -0.252130         1.000000      -0.167260 -0.157064   \nGente y Blogs         -0.109116        -0.167260       1.000000 -0.067973   \nOtros                 -0.102464        -0.157064      -0.067973  1.000000   \nPelícula y Animación  -0.213035        -0.326553      -0.141324 -0.132709   \n\n                      Película y Animación  \nEducación                        -0.213035  \nEntretenimiento                  -0.326553  \nGente y Blogs                    -0.141324  \nOtros                            -0.132709  \nPelícula y Animación              1.000000  ",
      "text/html": "<div>\n<style scoped>\n    .dataframe tbody tr th:only-of-type {\n        vertical-align: middle;\n    }\n\n    .dataframe tbody tr th {\n        vertical-align: top;\n    }\n\n    .dataframe thead th {\n        text-align: right;\n    }\n</style>\n<table border=\"1\" class=\"dataframe\">\n  <thead>\n    <tr style=\"text-align: right;\">\n      <th></th>\n      <th>Educación</th>\n      <th>Entretenimiento</th>\n      <th>Gente y Blogs</th>\n      <th>Otros</th>\n      <th>Película y Animación</th>\n    </tr>\n  </thead>\n  <tbody>\n    <tr>\n      <th>Educación</th>\n      <td>1.000000</td>\n      <td>-0.252130</td>\n      <td>-0.109116</td>\n      <td>-0.102464</td>\n      <td>-0.213035</td>\n    </tr>\n    <tr>\n      <th>Entretenimiento</th>\n      <td>-0.252130</td>\n      <td>1.000000</td>\n      <td>-0.167260</td>\n      <td>-0.157064</td>\n      <td>-0.326553</td>\n    </tr>\n    <tr>\n      <th>Gente y Blogs</th>\n      <td>-0.109116</td>\n      <td>-0.167260</td>\n      <td>1.000000</td>\n      <td>-0.067973</td>\n      <td>-0.141324</td>\n    </tr>\n    <tr>\n      <th>Otros</th>\n      <td>-0.102464</td>\n      <td>-0.157064</td>\n      <td>-0.067973</td>\n      <td>1.000000</td>\n      <td>-0.132709</td>\n    </tr>\n    <tr>\n      <th>Película y Animación</th>\n      <td>-0.213035</td>\n      <td>-0.326553</td>\n      <td>-0.141324</td>\n      <td>-0.132709</td>\n      <td>1.000000</td>\n    </tr>\n  </tbody>\n</table>\n</div>"
     },
     "execution_count": 64,
     "metadata": {},
     "output_type": "execute_result"
    }
   ],
   "source": [
    "df_corr_dummies = pd.get_dummies(df_complete['categoria'].head(800), columns=['categoria'], drop_first=True)\n",
    "df_corr_dummies.corr()"
   ],
   "metadata": {
    "collapsed": false,
    "ExecuteTime": {
     "end_time": "2023-11-07T08:23:11.255213800Z",
     "start_time": "2023-11-07T08:23:11.184166700Z"
    }
   },
   "id": "6e6d9ffed669c95c"
  },
  {
   "cell_type": "markdown",
   "source": [
    "## Visualizacion de la matriz de correlacion"
   ],
   "metadata": {
    "collapsed": false
   },
   "id": "37c2484f8013d219"
  },
  {
   "cell_type": "code",
   "execution_count": 65,
   "outputs": [
    {
     "data": {
      "text/plain": "<Figure size 640x480 with 2 Axes>",
      "image/png": "[encoded data removed]"
     },
     "metadata": {},
     "output_type": "display_data"
    }
   ],
   "source": [
    "plt.Figure(figsize=(8,6))\n",
    "sns.heatmap(df_corr_dummies.corr(),annot=True, cmap='coolwarm', linewidths=0.5)\n",
    "plt.show()"
   ],
   "metadata": {
    "collapsed": false,
    "ExecuteTime": {
     "end_time": "2023-11-07T08:23:11.625206700Z",
     "start_time": "2023-11-07T08:23:11.201205200Z"
    }
   },
   "id": "4a29323b5118cea2"
  },
  {
   "cell_type": "markdown",
   "source": [
    "Para este caso podemos ver que todas tienen una correlacion negativa, unas mas que otras, pero en general podriamos concluir a partir de esto que entre mas cantidad de categorias haya de una variable pues menos categorias habra de las otras, y tiene mucho sentido"
   ],
   "metadata": {
    "collapsed": false
   },
   "id": "d98da094f2c02500"
  },
  {
   "cell_type": "markdown",
   "source": [
    "# Term Frequency (Matriz TF)"
   ],
   "metadata": {
    "collapsed": false
   },
   "id": "f19bf9f337c35b34"
  },
  {
   "cell_type": "markdown",
   "source": [
    "Para realizar el Term Frequency necesitamos contar la frecuencia precisamente que aparece cada palabra en cada texto"
   ],
   "metadata": {
    "collapsed": false
   },
   "id": "c9d10e8f4a92cf1b"
  },
  {
   "cell_type": "code",
   "execution_count": 66,
   "outputs": [
    {
     "data": {
      "text/plain": "                Palabra\n0                  sirv\n1                triunf\n2                    si\n3                   paz\n4                 coron\n5             lapazhabl\n6                 mejor\n7                  form\n8                 mostr\n9                  pens\n10                 sofi\n11  losnacionalesxsenal\n12                 bahi\n13                cupic\n14               estudi\n15                utech\n16             balonman\n17                prueb\n18             triatlon\n19                 llen",
      "text/html": "<div>\n<style scoped>\n    .dataframe tbody tr th:only-of-type {\n        vertical-align: middle;\n    }\n\n    .dataframe tbody tr th {\n        vertical-align: top;\n    }\n\n    .dataframe thead th {\n        text-align: right;\n    }\n</style>\n<table border=\"1\" class=\"dataframe\">\n  <thead>\n    <tr style=\"text-align: right;\">\n      <th></th>\n      <th>Palabra</th>\n    </tr>\n  </thead>\n  <tbody>\n    <tr>\n      <th>0</th>\n      <td>sirv</td>\n    </tr>\n    <tr>\n      <th>1</th>\n      <td>triunf</td>\n    </tr>\n    <tr>\n      <th>2</th>\n      <td>si</td>\n    </tr>\n    <tr>\n      <th>3</th>\n      <td>paz</td>\n    </tr>\n    <tr>\n      <th>4</th>\n      <td>coron</td>\n    </tr>\n    <tr>\n      <th>5</th>\n      <td>lapazhabl</td>\n    </tr>\n    <tr>\n      <th>6</th>\n      <td>mejor</td>\n    </tr>\n    <tr>\n      <th>7</th>\n      <td>form</td>\n    </tr>\n    <tr>\n      <th>8</th>\n      <td>mostr</td>\n    </tr>\n    <tr>\n      <th>9</th>\n      <td>pens</td>\n    </tr>\n    <tr>\n      <th>10</th>\n      <td>sofi</td>\n    </tr>\n    <tr>\n      <th>11</th>\n      <td>losnacionalesxsenal</td>\n    </tr>\n    <tr>\n      <th>12</th>\n      <td>bahi</td>\n    </tr>\n    <tr>\n      <th>13</th>\n      <td>cupic</td>\n    </tr>\n    <tr>\n      <th>14</th>\n      <td>estudi</td>\n    </tr>\n    <tr>\n      <th>15</th>\n      <td>utech</td>\n    </tr>\n    <tr>\n      <th>16</th>\n      <td>balonman</td>\n    </tr>\n    <tr>\n      <th>17</th>\n      <td>prueb</td>\n    </tr>\n    <tr>\n      <th>18</th>\n      <td>triatlon</td>\n    </tr>\n    <tr>\n      <th>19</th>\n      <td>llen</td>\n    </tr>\n  </tbody>\n</table>\n</div>"
     },
     "execution_count": 66,
     "metadata": {},
     "output_type": "execute_result"
    }
   ],
   "source": [
    "palabras_unicas = {}\n",
    "\n",
    "titulo.apply(lambda x: obtener_palabras_unicas(x, palabras_unicas))\n",
    "\n",
    "df_palabras_unicas = pd.DataFrame(palabras_unicas.keys(), columns=[\"Palabra\"])\n",
    "df_palabras_unicas.head(20)"
   ],
   "metadata": {
    "collapsed": false,
    "ExecuteTime": {
     "end_time": "2023-11-07T08:23:11.626205900Z",
     "start_time": "2023-11-07T08:23:11.585341100Z"
    }
   },
   "id": "99e7821c42136eb1"
  },
  {
   "cell_type": "code",
   "execution_count": 67,
   "outputs": [
    {
     "data": {
      "text/plain": "1596"
     },
     "execution_count": 67,
     "metadata": {},
     "output_type": "execute_result"
    }
   ],
   "source": [
    "len(df_palabras_unicas)"
   ],
   "metadata": {
    "collapsed": false,
    "ExecuteTime": {
     "end_time": "2023-11-07T08:23:11.627206700Z",
     "start_time": "2023-11-07T08:23:11.605891800Z"
    }
   },
   "id": "9031ef1d970e7261"
  },
  {
   "cell_type": "code",
   "execution_count": 68,
   "outputs": [
    {
     "data": {
      "text/plain": "                                                    sirv  triunf  si  paz  \\\ntitulo                                                                      \nsirv triunf si paz coron lapazhabl                     0       0   0    0   \nmejor form mostr form pens sofi                        0       0   0    0   \nlosnacionalesxsenal bahi cupic                         0       0   0    0   \nlosnacionalesxsenal estudi utech balonman              0       0   0    0   \nlosnacionalesxsenal prueb triatlon llen emocion...     0       0   0    0   \n...                                                  ...     ...  ..  ...   \nensen pap recicl                                       0       0   0    0   \nmunicipi nin paicol cuent                              0       0   0    0   \nnin pod cambi mund                                     0       0   0    0   \nhari nin ejempl                                        0       0   0    0   \ngust senal nin dan opinion                             0       0   0    0   \n\n                                                    coron  lapazhabl  mejor  \ntitulo                                                                       \nsirv triunf si paz coron lapazhabl                      0          0      0  \nmejor form mostr form pens sofi                         0          0      0  \nlosnacionalesxsenal bahi cupic                          0          0      0  \nlosnacionalesxsenal estudi utech balonman               0          0      0  \nlosnacionalesxsenal prueb triatlon llen emocion...      0          0      0  \n...                                                   ...        ...    ...  \nensen pap recicl                                        0          0      0  \nmunicipi nin paicol cuent                               0          0      0  \nnin pod cambi mund                                      0          0      0  \nhari nin ejempl                                         0          0      0  \ngust senal nin dan opinion                              0          0      0  \n\n[1000 rows x 7 columns]",
      "text/html": "<div>\n<style scoped>\n    .dataframe tbody tr th:only-of-type {\n        vertical-align: middle;\n    }\n\n    .dataframe tbody tr th {\n        vertical-align: top;\n    }\n\n    .dataframe thead th {\n        text-align: right;\n    }\n</style>\n<table border=\"1\" class=\"dataframe\">\n  <thead>\n    <tr style=\"text-align: right;\">\n      <th></th>\n      <th>sirv</th>\n      <th>triunf</th>\n      <th>si</th>\n      <th>paz</th>\n      <th>coron</th>\n      <th>lapazhabl</th>\n      <th>mejor</th>\n    </tr>\n    <tr>\n      <th>titulo</th>\n      <th></th>\n      <th></th>\n      <th></th>\n      <th></th>\n      <th></th>\n      <th></th>\n      <th></th>\n    </tr>\n  </thead>\n  <tbody>\n    <tr>\n      <th>sirv triunf si paz coron lapazhabl</th>\n      <td>0</td>\n      <td>0</td>\n      <td>0</td>\n      <td>0</td>\n      <td>0</td>\n      <td>0</td>\n      <td>0</td>\n    </tr>\n    <tr>\n      <th>mejor form mostr form pens sofi</th>\n      <td>0</td>\n      <td>0</td>\n      <td>0</td>\n      <td>0</td>\n      <td>0</td>\n      <td>0</td>\n      <td>0</td>\n    </tr>\n    <tr>\n      <th>losnacionalesxsenal bahi cupic</th>\n      <td>0</td>\n      <td>0</td>\n      <td>0</td>\n      <td>0</td>\n      <td>0</td>\n      <td>0</td>\n      <td>0</td>\n    </tr>\n    <tr>\n      <th>losnacionalesxsenal estudi utech balonman</th>\n      <td>0</td>\n      <td>0</td>\n      <td>0</td>\n      <td>0</td>\n      <td>0</td>\n      <td>0</td>\n      <td>0</td>\n    </tr>\n    <tr>\n      <th>losnacionalesxsenal prueb triatlon llen emocion municipi prad</th>\n      <td>0</td>\n      <td>0</td>\n      <td>0</td>\n      <td>0</td>\n      <td>0</td>\n      <td>0</td>\n      <td>0</td>\n    </tr>\n    <tr>\n      <th>...</th>\n      <td>...</td>\n      <td>...</td>\n      <td>...</td>\n      <td>...</td>\n      <td>...</td>\n      <td>...</td>\n      <td>...</td>\n    </tr>\n    <tr>\n      <th>ensen pap recicl</th>\n      <td>0</td>\n      <td>0</td>\n      <td>0</td>\n      <td>0</td>\n      <td>0</td>\n      <td>0</td>\n      <td>0</td>\n    </tr>\n    <tr>\n      <th>municipi nin paicol cuent</th>\n      <td>0</td>\n      <td>0</td>\n      <td>0</td>\n      <td>0</td>\n      <td>0</td>\n      <td>0</td>\n      <td>0</td>\n    </tr>\n    <tr>\n      <th>nin pod cambi mund</th>\n      <td>0</td>\n      <td>0</td>\n      <td>0</td>\n      <td>0</td>\n      <td>0</td>\n      <td>0</td>\n      <td>0</td>\n    </tr>\n    <tr>\n      <th>hari nin ejempl</th>\n      <td>0</td>\n      <td>0</td>\n      <td>0</td>\n      <td>0</td>\n      <td>0</td>\n      <td>0</td>\n      <td>0</td>\n    </tr>\n    <tr>\n      <th>gust senal nin dan opinion</th>\n      <td>0</td>\n      <td>0</td>\n      <td>0</td>\n      <td>0</td>\n      <td>0</td>\n      <td>0</td>\n      <td>0</td>\n    </tr>\n  </tbody>\n</table>\n<p>1000 rows × 7 columns</p>\n</div>"
     },
     "execution_count": 68,
     "metadata": {},
     "output_type": "execute_result"
    }
   ],
   "source": [
    "df_matriz_TF = pd.DataFrame(palabras_unicas, index=titulo)\n",
    "df_matriz_frecuencia = pd.DataFrame(palabras_unicas, index=titulo)\n",
    "df_matriz_TF.iloc[:,:7]"
   ],
   "metadata": {
    "collapsed": false,
    "ExecuteTime": {
     "end_time": "2023-11-07T08:23:11.941630100Z",
     "start_time": "2023-11-07T08:23:11.613204700Z"
    }
   },
   "id": "d292012943b32b9d"
  },
  {
   "cell_type": "markdown",
   "source": [
    "Procedemos a contar la cantidad que aparece cada palabra, pero esta vez en su forma raiz, asi podremos reducir la cantidad de datos que vayamos a procesar ya que puede ser que en cada texto se produzca la misma palabra raiz"
   ],
   "metadata": {
    "collapsed": false
   },
   "id": "90ede4f147e6c6df"
  },
  {
   "cell_type": "code",
   "execution_count": 69,
   "outputs": [],
   "source": [
    "# Definir la nueva matriz de frecuencia con las nuevas palabras y hacer el conteo de cada palabra en cada titulo\n",
    "df_matriz_frecuencia = df_matriz_frecuencia.astype(float)\n",
    "for indice, fila in df_matriz_frecuencia.iterrows():\n",
    "    for palabra in df_matriz_frecuencia.columns:\n",
    "        titulo_interno = fila.name\n",
    "        titulo_interno_vector = titulo_interno.split()\n",
    "        df_matriz_frecuencia.at[titulo_interno,palabra] = titulo_interno_vector.count(palabra)"
   ],
   "metadata": {
    "collapsed": false,
    "ExecuteTime": {
     "end_time": "2023-11-07T08:25:34.950639800Z",
     "start_time": "2023-11-07T08:23:11.692611600Z"
    }
   },
   "id": "acd6e422309a7eec"
  },
  {
   "cell_type": "code",
   "execution_count": 70,
   "outputs": [
    {
     "data": {
      "text/plain": "                                                    sirv  triunf   si  paz  \\\ntitulo                                                                       \nsirv triunf si paz coron lapazhabl                   1.0     1.0  1.0  1.0   \nmejor form mostr form pens sofi                      0.0     0.0  0.0  0.0   \nlosnacionalesxsenal bahi cupic                       0.0     0.0  0.0  0.0   \nlosnacionalesxsenal estudi utech balonman            0.0     0.0  0.0  0.0   \nlosnacionalesxsenal prueb triatlon llen emocion...   0.0     0.0  0.0  0.0   \n...                                                  ...     ...  ...  ...   \nensen pap recicl                                     0.0     0.0  0.0  0.0   \nmunicipi nin paicol cuent                            0.0     0.0  0.0  0.0   \nnin pod cambi mund                                   0.0     0.0  0.0  0.0   \nhari nin ejempl                                      0.0     0.0  0.0  0.0   \ngust senal nin dan opinion                           0.0     0.0  0.0  0.0   \n\n                                                    coron  lapazhabl  mejor  \ntitulo                                                                       \nsirv triunf si paz coron lapazhabl                    1.0        1.0    0.0  \nmejor form mostr form pens sofi                       0.0        0.0    1.0  \nlosnacionalesxsenal bahi cupic                        0.0        0.0    0.0  \nlosnacionalesxsenal estudi utech balonman             0.0        0.0    0.0  \nlosnacionalesxsenal prueb triatlon llen emocion...    0.0        0.0    0.0  \n...                                                   ...        ...    ...  \nensen pap recicl                                      0.0        0.0    0.0  \nmunicipi nin paicol cuent                             0.0        0.0    0.0  \nnin pod cambi mund                                    0.0        0.0    0.0  \nhari nin ejempl                                       0.0        0.0    0.0  \ngust senal nin dan opinion                            0.0        0.0    0.0  \n\n[1000 rows x 7 columns]",
      "text/html": "<div>\n<style scoped>\n    .dataframe tbody tr th:only-of-type {\n        vertical-align: middle;\n    }\n\n    .dataframe tbody tr th {\n        vertical-align: top;\n    }\n\n    .dataframe thead th {\n        text-align: right;\n    }\n</style>\n<table border=\"1\" class=\"dataframe\">\n  <thead>\n    <tr style=\"text-align: right;\">\n      <th></th>\n      <th>sirv</th>\n      <th>triunf</th>\n      <th>si</th>\n      <th>paz</th>\n      <th>coron</th>\n      <th>lapazhabl</th>\n      <th>mejor</th>\n    </tr>\n    <tr>\n      <th>titulo</th>\n      <th></th>\n      <th></th>\n      <th></th>\n      <th></th>\n      <th></th>\n      <th></th>\n      <th></th>\n    </tr>\n  </thead>\n  <tbody>\n    <tr>\n      <th>sirv triunf si paz coron lapazhabl</th>\n      <td>1.0</td>\n      <td>1.0</td>\n      <td>1.0</td>\n      <td>1.0</td>\n      <td>1.0</td>\n      <td>1.0</td>\n      <td>0.0</td>\n    </tr>\n    <tr>\n      <th>mejor form mostr form pens sofi</th>\n      <td>0.0</td>\n      <td>0.0</td>\n      <td>0.0</td>\n      <td>0.0</td>\n      <td>0.0</td>\n      <td>0.0</td>\n      <td>1.0</td>\n    </tr>\n    <tr>\n      <th>losnacionalesxsenal bahi cupic</th>\n      <td>0.0</td>\n      <td>0.0</td>\n      <td>0.0</td>\n      <td>0.0</td>\n      <td>0.0</td>\n      <td>0.0</td>\n      <td>0.0</td>\n    </tr>\n    <tr>\n      <th>losnacionalesxsenal estudi utech balonman</th>\n      <td>0.0</td>\n      <td>0.0</td>\n      <td>0.0</td>\n      <td>0.0</td>\n      <td>0.0</td>\n      <td>0.0</td>\n      <td>0.0</td>\n    </tr>\n    <tr>\n      <th>losnacionalesxsenal prueb triatlon llen emocion municipi prad</th>\n      <td>0.0</td>\n      <td>0.0</td>\n      <td>0.0</td>\n      <td>0.0</td>\n      <td>0.0</td>\n      <td>0.0</td>\n      <td>0.0</td>\n    </tr>\n    <tr>\n      <th>...</th>\n      <td>...</td>\n      <td>...</td>\n      <td>...</td>\n      <td>...</td>\n      <td>...</td>\n      <td>...</td>\n      <td>...</td>\n    </tr>\n    <tr>\n      <th>ensen pap recicl</th>\n      <td>0.0</td>\n      <td>0.0</td>\n      <td>0.0</td>\n      <td>0.0</td>\n      <td>0.0</td>\n      <td>0.0</td>\n      <td>0.0</td>\n    </tr>\n    <tr>\n      <th>municipi nin paicol cuent</th>\n      <td>0.0</td>\n      <td>0.0</td>\n      <td>0.0</td>\n      <td>0.0</td>\n      <td>0.0</td>\n      <td>0.0</td>\n      <td>0.0</td>\n    </tr>\n    <tr>\n      <th>nin pod cambi mund</th>\n      <td>0.0</td>\n      <td>0.0</td>\n      <td>0.0</td>\n      <td>0.0</td>\n      <td>0.0</td>\n      <td>0.0</td>\n      <td>0.0</td>\n    </tr>\n    <tr>\n      <th>hari nin ejempl</th>\n      <td>0.0</td>\n      <td>0.0</td>\n      <td>0.0</td>\n      <td>0.0</td>\n      <td>0.0</td>\n      <td>0.0</td>\n      <td>0.0</td>\n    </tr>\n    <tr>\n      <th>gust senal nin dan opinion</th>\n      <td>0.0</td>\n      <td>0.0</td>\n      <td>0.0</td>\n      <td>0.0</td>\n      <td>0.0</td>\n      <td>0.0</td>\n      <td>0.0</td>\n    </tr>\n  </tbody>\n</table>\n<p>1000 rows × 7 columns</p>\n</div>"
     },
     "execution_count": 70,
     "metadata": {},
     "output_type": "execute_result"
    }
   ],
   "source": [
    "df_matriz_frecuencia.iloc[:,:7]"
   ],
   "metadata": {
    "collapsed": false,
    "ExecuteTime": {
     "end_time": "2023-11-07T08:25:34.983034500Z",
     "start_time": "2023-11-07T08:25:34.949642100Z"
    }
   },
   "id": "8d1bdf5b0e35316a"
  },
  {
   "cell_type": "markdown",
   "source": [
    "Por ultimo sacamos los valores del TF dividiendo la cantidad que aparece esa palabra en el texto por el total de palabras que hay en cada texto, que basicamente seria un porcentaje, de la siguiente forma:\n",
    "\n",
    "<center>$TF = \\frac{Palabra}{Total Palabras Texto}$</center>"
   ],
   "metadata": {
    "collapsed": false
   },
   "id": "14230b5675694c5a"
  },
  {
   "cell_type": "code",
   "execution_count": 71,
   "outputs": [
    {
     "data": {
      "text/plain": "                                                        sirv    triunf  \\\ntitulo                                                                   \nsirv triunf si paz coron lapazhabl                  0.166667  0.166667   \nmejor form mostr form pens sofi                     0.000000  0.000000   \nlosnacionalesxsenal bahi cupic                      0.000000  0.000000   \nlosnacionalesxsenal estudi utech balonman           0.000000  0.000000   \nlosnacionalesxsenal prueb triatlon llen emocion...  0.000000  0.000000   \n...                                                      ...       ...   \nensen pap recicl                                    0.000000  0.000000   \nmunicipi nin paicol cuent                           0.000000  0.000000   \nnin pod cambi mund                                  0.000000  0.000000   \nhari nin ejempl                                     0.000000  0.000000   \ngust senal nin dan opinion                          0.000000  0.000000   \n\n                                                          si       paz  \\\ntitulo                                                                   \nsirv triunf si paz coron lapazhabl                  0.166667  0.166667   \nmejor form mostr form pens sofi                     0.000000  0.000000   \nlosnacionalesxsenal bahi cupic                      0.000000  0.000000   \nlosnacionalesxsenal estudi utech balonman           0.000000  0.000000   \nlosnacionalesxsenal prueb triatlon llen emocion...  0.000000  0.000000   \n...                                                      ...       ...   \nensen pap recicl                                    0.000000  0.000000   \nmunicipi nin paicol cuent                           0.000000  0.000000   \nnin pod cambi mund                                  0.000000  0.000000   \nhari nin ejempl                                     0.000000  0.000000   \ngust senal nin dan opinion                          0.000000  0.000000   \n\n                                                       coron  lapazhabl  \\\ntitulo                                                                    \nsirv triunf si paz coron lapazhabl                  0.166667   0.166667   \nmejor form mostr form pens sofi                     0.000000   0.000000   \nlosnacionalesxsenal bahi cupic                      0.000000   0.000000   \nlosnacionalesxsenal estudi utech balonman           0.000000   0.000000   \nlosnacionalesxsenal prueb triatlon llen emocion...  0.000000   0.000000   \n...                                                      ...        ...   \nensen pap recicl                                    0.000000   0.000000   \nmunicipi nin paicol cuent                           0.000000   0.000000   \nnin pod cambi mund                                  0.000000   0.000000   \nhari nin ejempl                                     0.000000   0.000000   \ngust senal nin dan opinion                          0.000000   0.000000   \n\n                                                       mejor  \ntitulo                                                        \nsirv triunf si paz coron lapazhabl                  0.000000  \nmejor form mostr form pens sofi                     0.166667  \nlosnacionalesxsenal bahi cupic                      0.000000  \nlosnacionalesxsenal estudi utech balonman           0.000000  \nlosnacionalesxsenal prueb triatlon llen emocion...  0.000000  \n...                                                      ...  \nensen pap recicl                                    0.000000  \nmunicipi nin paicol cuent                           0.000000  \nnin pod cambi mund                                  0.000000  \nhari nin ejempl                                     0.000000  \ngust senal nin dan opinion                          0.000000  \n\n[1000 rows x 7 columns]",
      "text/html": "<div>\n<style scoped>\n    .dataframe tbody tr th:only-of-type {\n        vertical-align: middle;\n    }\n\n    .dataframe tbody tr th {\n        vertical-align: top;\n    }\n\n    .dataframe thead th {\n        text-align: right;\n    }\n</style>\n<table border=\"1\" class=\"dataframe\">\n  <thead>\n    <tr style=\"text-align: right;\">\n      <th></th>\n      <th>sirv</th>\n      <th>triunf</th>\n      <th>si</th>\n      <th>paz</th>\n      <th>coron</th>\n      <th>lapazhabl</th>\n      <th>mejor</th>\n    </tr>\n    <tr>\n      <th>titulo</th>\n      <th></th>\n      <th></th>\n      <th></th>\n      <th></th>\n      <th></th>\n      <th></th>\n      <th></th>\n    </tr>\n  </thead>\n  <tbody>\n    <tr>\n      <th>sirv triunf si paz coron lapazhabl</th>\n      <td>0.166667</td>\n      <td>0.166667</td>\n      <td>0.166667</td>\n      <td>0.166667</td>\n      <td>0.166667</td>\n      <td>0.166667</td>\n      <td>0.000000</td>\n    </tr>\n    <tr>\n      <th>mejor form mostr form pens sofi</th>\n      <td>0.000000</td>\n      <td>0.000000</td>\n      <td>0.000000</td>\n      <td>0.000000</td>\n      <td>0.000000</td>\n      <td>0.000000</td>\n      <td>0.166667</td>\n    </tr>\n    <tr>\n      <th>losnacionalesxsenal bahi cupic</th>\n      <td>0.000000</td>\n      <td>0.000000</td>\n      <td>0.000000</td>\n      <td>0.000000</td>\n      <td>0.000000</td>\n      <td>0.000000</td>\n      <td>0.000000</td>\n    </tr>\n    <tr>\n      <th>losnacionalesxsenal estudi utech balonman</th>\n      <td>0.000000</td>\n      <td>0.000000</td>\n      <td>0.000000</td>\n      <td>0.000000</td>\n      <td>0.000000</td>\n      <td>0.000000</td>\n      <td>0.000000</td>\n    </tr>\n    <tr>\n      <th>losnacionalesxsenal prueb triatlon llen emocion municipi prad</th>\n      <td>0.000000</td>\n      <td>0.000000</td>\n      <td>0.000000</td>\n      <td>0.000000</td>\n      <td>0.000000</td>\n      <td>0.000000</td>\n      <td>0.000000</td>\n    </tr>\n    <tr>\n      <th>...</th>\n      <td>...</td>\n      <td>...</td>\n      <td>...</td>\n      <td>...</td>\n      <td>...</td>\n      <td>...</td>\n      <td>...</td>\n    </tr>\n    <tr>\n      <th>ensen pap recicl</th>\n      <td>0.000000</td>\n      <td>0.000000</td>\n      <td>0.000000</td>\n      <td>0.000000</td>\n      <td>0.000000</td>\n      <td>0.000000</td>\n      <td>0.000000</td>\n    </tr>\n    <tr>\n      <th>municipi nin paicol cuent</th>\n      <td>0.000000</td>\n      <td>0.000000</td>\n      <td>0.000000</td>\n      <td>0.000000</td>\n      <td>0.000000</td>\n      <td>0.000000</td>\n      <td>0.000000</td>\n    </tr>\n    <tr>\n      <th>nin pod cambi mund</th>\n      <td>0.000000</td>\n      <td>0.000000</td>\n      <td>0.000000</td>\n      <td>0.000000</td>\n      <td>0.000000</td>\n      <td>0.000000</td>\n      <td>0.000000</td>\n    </tr>\n    <tr>\n      <th>hari nin ejempl</th>\n      <td>0.000000</td>\n      <td>0.000000</td>\n      <td>0.000000</td>\n      <td>0.000000</td>\n      <td>0.000000</td>\n      <td>0.000000</td>\n      <td>0.000000</td>\n    </tr>\n    <tr>\n      <th>gust senal nin dan opinion</th>\n      <td>0.000000</td>\n      <td>0.000000</td>\n      <td>0.000000</td>\n      <td>0.000000</td>\n      <td>0.000000</td>\n      <td>0.000000</td>\n      <td>0.000000</td>\n    </tr>\n  </tbody>\n</table>\n<p>1000 rows × 7 columns</p>\n</div>"
     },
     "execution_count": 71,
     "metadata": {},
     "output_type": "execute_result"
    }
   ],
   "source": [
    "df_matriz_TF = df_matriz_TF.astype(float)\n",
    "for indice, fila in df_matriz_TF.iterrows():\n",
    "    titulo_interno = fila.name\n",
    "    titulo_interno_vector = titulo_interno.split()\n",
    "    for palabra in df_matriz_TF.columns:\n",
    "        df_matriz_TF.at[titulo_interno,palabra] = (titulo_interno_vector.count(palabra))/len(titulo_interno_vector)\n",
    "df_matriz_TF.iloc[:,:7]"
   ],
   "metadata": {
    "collapsed": false,
    "ExecuteTime": {
     "end_time": "2023-11-07T08:27:57.837833600Z",
     "start_time": "2023-11-07T08:25:34.975038700Z"
    }
   },
   "id": "c977c95203ea6e85"
  },
  {
   "cell_type": "markdown",
   "source": [
    "# Inverse Document Frequency (Vector IDF)\n",
    "El IDF refleja la proporcion de textos que contienen cada palabra, para nuestro caso vamos a usar logaritmo natural y la formual es la siguiente:\n",
    "\n",
    "<center>$TF = log(\\frac{CantidadTextos}{NumeroDocuementosContienenPalabra+1})$</center>\n",
    "\n",
    "Se le suma un 1 al denominador para evitar la singularidad de dividir por 0"
   ],
   "metadata": {
    "collapsed": false
   },
   "id": "5cfe7555bc6d070e"
  },
  {
   "cell_type": "code",
   "execution_count": 72,
   "outputs": [
    {
     "data": {
      "text/plain": "        Transformacion\nsirv          6.214608\ntriunf        5.298317\nsi            5.115996\npaz           5.298317\ncoron         6.214608\n...                ...\npod           6.214608\ncambi         6.214608\nejempl        6.214608\ndan           6.214608\nopinion       6.214608\n\n[1596 rows x 1 columns]",
      "text/html": "<div>\n<style scoped>\n    .dataframe tbody tr th:only-of-type {\n        vertical-align: middle;\n    }\n\n    .dataframe tbody tr th {\n        vertical-align: top;\n    }\n\n    .dataframe thead th {\n        text-align: right;\n    }\n</style>\n<table border=\"1\" class=\"dataframe\">\n  <thead>\n    <tr style=\"text-align: right;\">\n      <th></th>\n      <th>Transformacion</th>\n    </tr>\n  </thead>\n  <tbody>\n    <tr>\n      <th>sirv</th>\n      <td>6.214608</td>\n    </tr>\n    <tr>\n      <th>triunf</th>\n      <td>5.298317</td>\n    </tr>\n    <tr>\n      <th>si</th>\n      <td>5.115996</td>\n    </tr>\n    <tr>\n      <th>paz</th>\n      <td>5.298317</td>\n    </tr>\n    <tr>\n      <th>coron</th>\n      <td>6.214608</td>\n    </tr>\n    <tr>\n      <th>...</th>\n      <td>...</td>\n    </tr>\n    <tr>\n      <th>pod</th>\n      <td>6.214608</td>\n    </tr>\n    <tr>\n      <th>cambi</th>\n      <td>6.214608</td>\n    </tr>\n    <tr>\n      <th>ejempl</th>\n      <td>6.214608</td>\n    </tr>\n    <tr>\n      <th>dan</th>\n      <td>6.214608</td>\n    </tr>\n    <tr>\n      <th>opinion</th>\n      <td>6.214608</td>\n    </tr>\n  </tbody>\n</table>\n<p>1596 rows × 1 columns</p>\n</div>"
     },
     "execution_count": 72,
     "metadata": {},
     "output_type": "execute_result"
    }
   ],
   "source": [
    "cantidad_documentos = len(df_matriz_frecuencia)\n",
    "df_matriz_IDF = pd.DataFrame(columns=['Transformacion'], index=palabras_unicas)\n",
    "for indice, fila in df_matriz_IDF.iterrows():\n",
    "    palabra_interna = fila.name\n",
    "    cantidad_total_palabra = df_matriz_frecuencia[f'{palabra_interna}'].sum()\n",
    "    df_matriz_IDF.loc[palabra_interna] = math.log(cantidad_documentos/(cantidad_total_palabra+1))\n",
    "df_matriz_IDF.iloc[:,:7]"
   ],
   "metadata": {
    "collapsed": false,
    "ExecuteTime": {
     "end_time": "2023-11-07T08:27:58.298894600Z",
     "start_time": "2023-11-07T08:27:57.840835400Z"
    }
   },
   "id": "2754792e9000e534"
  },
  {
   "cell_type": "code",
   "execution_count": 73,
   "outputs": [],
   "source": [
    "df_matriz_IDF = df_matriz_IDF.transpose()"
   ],
   "metadata": {
    "collapsed": false,
    "ExecuteTime": {
     "end_time": "2023-11-07T08:27:58.300893100Z",
     "start_time": "2023-11-07T08:27:58.267794900Z"
    }
   },
   "id": "ba1cda5381ef1701"
  },
  {
   "cell_type": "markdown",
   "source": [
    "## TF-IDF\n",
    "\n",
    "Esta es la multiplicacion entre la matriz TF y el vector IDF:\n",
    "\n",
    "<center>$TF-IDF=TF*IDF$</center>"
   ],
   "metadata": {
    "collapsed": false
   },
   "id": "1de1183982ff67ca"
  },
  {
   "cell_type": "code",
   "execution_count": 74,
   "outputs": [],
   "source": [
    "df_matriz_tf_idf = df_matriz_TF.copy()"
   ],
   "metadata": {
    "collapsed": false,
    "ExecuteTime": {
     "end_time": "2023-11-07T08:27:58.301894500Z",
     "start_time": "2023-11-07T08:27:58.274148200Z"
    }
   },
   "id": "d90036803b6bef59"
  },
  {
   "cell_type": "code",
   "execution_count": 75,
   "outputs": [],
   "source": [
    "for indice, fila in df_matriz_TF.iterrows():\n",
    "    titulo_interno = fila.name\n",
    "    for palabra in df_matriz_TF.columns:\n",
    "        df_matriz_tf_idf.at[titulo_interno,palabra] = df_matriz_tf_idf.at[titulo_interno,palabra]*df_matriz_IDF.at['Transformacion',palabra]"
   ],
   "metadata": {
    "collapsed": false,
    "ExecuteTime": {
     "end_time": "2023-11-07T08:34:27.617402600Z",
     "start_time": "2023-11-07T08:27:58.284893900Z"
    }
   },
   "id": "f434476012ec9c1a"
  },
  {
   "cell_type": "code",
   "execution_count": 76,
   "outputs": [
    {
     "data": {
      "text/plain": "                                                        sirv    triunf  \\\ntitulo                                                                   \nsirv triunf si paz coron lapazhabl                  1.035768  0.883053   \nmejor form mostr form pens sofi                     0.000000  0.000000   \nlosnacionalesxsenal bahi cupic                      0.000000  0.000000   \nlosnacionalesxsenal estudi utech balonman           0.000000  0.000000   \nlosnacionalesxsenal prueb triatlon llen emocion...  0.000000  0.000000   \n...                                                      ...       ...   \nensen pap recicl                                    0.000000  0.000000   \nmunicipi nin paicol cuent                           0.000000  0.000000   \nnin pod cambi mund                                  0.000000  0.000000   \nhari nin ejempl                                     0.000000  0.000000   \ngust senal nin dan opinion                          0.000000  0.000000   \n\n                                                          si       paz  \\\ntitulo                                                                   \nsirv triunf si paz coron lapazhabl                  0.852666  0.883053   \nmejor form mostr form pens sofi                     0.000000  0.000000   \nlosnacionalesxsenal bahi cupic                      0.000000  0.000000   \nlosnacionalesxsenal estudi utech balonman           0.000000  0.000000   \nlosnacionalesxsenal prueb triatlon llen emocion...  0.000000  0.000000   \n...                                                      ...       ...   \nensen pap recicl                                    0.000000  0.000000   \nmunicipi nin paicol cuent                           0.000000  0.000000   \nnin pod cambi mund                                  0.000000  0.000000   \nhari nin ejempl                                     0.000000  0.000000   \ngust senal nin dan opinion                          0.000000  0.000000   \n\n                                                       coron  lapazhabl  \\\ntitulo                                                                    \nsirv triunf si paz coron lapazhabl                  1.035768    0.96819   \nmejor form mostr form pens sofi                     0.000000    0.00000   \nlosnacionalesxsenal bahi cupic                      0.000000    0.00000   \nlosnacionalesxsenal estudi utech balonman           0.000000    0.00000   \nlosnacionalesxsenal prueb triatlon llen emocion...  0.000000    0.00000   \n...                                                      ...        ...   \nensen pap recicl                                    0.000000    0.00000   \nmunicipi nin paicol cuent                           0.000000    0.00000   \nnin pod cambi mund                                  0.000000    0.00000   \nhari nin ejempl                                     0.000000    0.00000   \ngust senal nin dan opinion                          0.000000    0.00000   \n\n                                                       mejor  \ntitulo                                                        \nsirv triunf si paz coron lapazhabl                  0.000000  \nmejor form mostr form pens sofi                     0.689194  \nlosnacionalesxsenal bahi cupic                      0.000000  \nlosnacionalesxsenal estudi utech balonman           0.000000  \nlosnacionalesxsenal prueb triatlon llen emocion...  0.000000  \n...                                                      ...  \nensen pap recicl                                    0.000000  \nmunicipi nin paicol cuent                           0.000000  \nnin pod cambi mund                                  0.000000  \nhari nin ejempl                                     0.000000  \ngust senal nin dan opinion                          0.000000  \n\n[1000 rows x 7 columns]",
      "text/html": "<div>\n<style scoped>\n    .dataframe tbody tr th:only-of-type {\n        vertical-align: middle;\n    }\n\n    .dataframe tbody tr th {\n        vertical-align: top;\n    }\n\n    .dataframe thead th {\n        text-align: right;\n    }\n</style>\n<table border=\"1\" class=\"dataframe\">\n  <thead>\n    <tr style=\"text-align: right;\">\n      <th></th>\n      <th>sirv</th>\n      <th>triunf</th>\n      <th>si</th>\n      <th>paz</th>\n      <th>coron</th>\n      <th>lapazhabl</th>\n      <th>mejor</th>\n    </tr>\n    <tr>\n      <th>titulo</th>\n      <th></th>\n      <th></th>\n      <th></th>\n      <th></th>\n      <th></th>\n      <th></th>\n      <th></th>\n    </tr>\n  </thead>\n  <tbody>\n    <tr>\n      <th>sirv triunf si paz coron lapazhabl</th>\n      <td>1.035768</td>\n      <td>0.883053</td>\n      <td>0.852666</td>\n      <td>0.883053</td>\n      <td>1.035768</td>\n      <td>0.96819</td>\n      <td>0.000000</td>\n    </tr>\n    <tr>\n      <th>mejor form mostr form pens sofi</th>\n      <td>0.000000</td>\n      <td>0.000000</td>\n      <td>0.000000</td>\n      <td>0.000000</td>\n      <td>0.000000</td>\n      <td>0.00000</td>\n      <td>0.689194</td>\n    </tr>\n    <tr>\n      <th>losnacionalesxsenal bahi cupic</th>\n      <td>0.000000</td>\n      <td>0.000000</td>\n      <td>0.000000</td>\n      <td>0.000000</td>\n      <td>0.000000</td>\n      <td>0.00000</td>\n      <td>0.000000</td>\n    </tr>\n    <tr>\n      <th>losnacionalesxsenal estudi utech balonman</th>\n      <td>0.000000</td>\n      <td>0.000000</td>\n      <td>0.000000</td>\n      <td>0.000000</td>\n      <td>0.000000</td>\n      <td>0.00000</td>\n      <td>0.000000</td>\n    </tr>\n    <tr>\n      <th>losnacionalesxsenal prueb triatlon llen emocion municipi prad</th>\n      <td>0.000000</td>\n      <td>0.000000</td>\n      <td>0.000000</td>\n      <td>0.000000</td>\n      <td>0.000000</td>\n      <td>0.00000</td>\n      <td>0.000000</td>\n    </tr>\n    <tr>\n      <th>...</th>\n      <td>...</td>\n      <td>...</td>\n      <td>...</td>\n      <td>...</td>\n      <td>...</td>\n      <td>...</td>\n      <td>...</td>\n    </tr>\n    <tr>\n      <th>ensen pap recicl</th>\n      <td>0.000000</td>\n      <td>0.000000</td>\n      <td>0.000000</td>\n      <td>0.000000</td>\n      <td>0.000000</td>\n      <td>0.00000</td>\n      <td>0.000000</td>\n    </tr>\n    <tr>\n      <th>municipi nin paicol cuent</th>\n      <td>0.000000</td>\n      <td>0.000000</td>\n      <td>0.000000</td>\n      <td>0.000000</td>\n      <td>0.000000</td>\n      <td>0.00000</td>\n      <td>0.000000</td>\n    </tr>\n    <tr>\n      <th>nin pod cambi mund</th>\n      <td>0.000000</td>\n      <td>0.000000</td>\n      <td>0.000000</td>\n      <td>0.000000</td>\n      <td>0.000000</td>\n      <td>0.00000</td>\n      <td>0.000000</td>\n    </tr>\n    <tr>\n      <th>hari nin ejempl</th>\n      <td>0.000000</td>\n      <td>0.000000</td>\n      <td>0.000000</td>\n      <td>0.000000</td>\n      <td>0.000000</td>\n      <td>0.00000</td>\n      <td>0.000000</td>\n    </tr>\n    <tr>\n      <th>gust senal nin dan opinion</th>\n      <td>0.000000</td>\n      <td>0.000000</td>\n      <td>0.000000</td>\n      <td>0.000000</td>\n      <td>0.000000</td>\n      <td>0.00000</td>\n      <td>0.000000</td>\n    </tr>\n  </tbody>\n</table>\n<p>1000 rows × 7 columns</p>\n</div>"
     },
     "execution_count": 76,
     "metadata": {},
     "output_type": "execute_result"
    }
   ],
   "source": [
    "df_matriz_tf_idf.iloc[:,:7]"
   ],
   "metadata": {
    "collapsed": false,
    "ExecuteTime": {
     "end_time": "2023-11-07T08:34:27.646351100Z",
     "start_time": "2023-11-07T08:34:27.619405600Z"
    }
   },
   "id": "c6e61d0b3beabaa2"
  },
  {
   "cell_type": "markdown",
   "source": [
    "Con esta matriz generada vamos a entrenar los modelos de Regresion logistica y Random Forest"
   ],
   "metadata": {
    "collapsed": false
   },
   "id": "39ceda50bbcfedea"
  },
  {
   "cell_type": "markdown",
   "source": [
    "# Entrenamientos:\n",
    "### Regresion logistica"
   ],
   "metadata": {
    "collapsed": false
   },
   "id": "c3335c9e91ca2795"
  },
  {
   "cell_type": "code",
   "execution_count": 77,
   "outputs": [],
   "source": [
    "from sklearn.feature_extraction.text import CountVectorizer\n",
    "from  sklearn.linear_model import LogisticRegression\n",
    "from sklearn.metrics import accuracy_score, precision_score, recall_score, f1_score\n",
    "from sklearn.metrics import confusion_matrix, ConfusionMatrixDisplay\n",
    "from sklearn.model_selection import train_test_split"
   ],
   "metadata": {
    "collapsed": false,
    "ExecuteTime": {
     "end_time": "2023-11-07T08:34:27.646351100Z",
     "start_time": "2023-11-07T08:34:27.636202300Z"
    }
   },
   "id": "1cc48acfe3a31735"
  },
  {
   "cell_type": "code",
   "execution_count": 78,
   "outputs": [],
   "source": [
    "X_train,X_test, y_train,y_test = train_test_split(df_matriz_tf_idf.head(800),categoria,test_size=0.2)"
   ],
   "metadata": {
    "collapsed": false,
    "ExecuteTime": {
     "end_time": "2023-11-07T08:34:27.722881100Z",
     "start_time": "2023-11-07T08:34:27.642350300Z"
    }
   },
   "id": "6d8014c44dece6f7"
  },
  {
   "cell_type": "code",
   "execution_count": 79,
   "outputs": [],
   "source": [
    "count_vect = CountVectorizer(min_df=1, max_df=100000, binary=False, ngram_range=(1,1))\n",
    "count_vect_train = count_vect.fit_transform(df_train)\n",
    "count_vect_test = count_vect.transform(df_test)"
   ],
   "metadata": {
    "collapsed": false,
    "ExecuteTime": {
     "end_time": "2023-11-07T08:34:27.723885100Z",
     "start_time": "2023-11-07T08:34:27.668063800Z"
    }
   },
   "id": "38ce69e5ce65493"
  },
  {
   "cell_type": "code",
   "execution_count": 80,
   "outputs": [],
   "source": [
    "logistic_model = LogisticRegression(penalty=\"l2\", max_iter=500, C=1.0, random_state=42)"
   ],
   "metadata": {
    "collapsed": false,
    "ExecuteTime": {
     "end_time": "2023-11-07T08:34:27.726883700Z",
     "start_time": "2023-11-07T08:34:27.677253800Z"
    }
   },
   "id": "4f5c4c9d804f4624"
  },
  {
   "cell_type": "code",
   "execution_count": 81,
   "outputs": [
    {
     "data": {
      "text/plain": "LogisticRegression(max_iter=800, random_state=42)",
      "text/html": "<style>#sk-container-id-2 {color: black;}#sk-container-id-2 pre{padding: 0;}#sk-container-id-2 div.sk-toggleable {background-color: white;}#sk-container-id-2 label.sk-toggleable__label {cursor: pointer;display: block;width: 100%;margin-bottom: 0;padding: 0.3em;box-sizing: border-box;text-align: center;}#sk-container-id-2 label.sk-toggleable__label-arrow:before {content: \"▸\";float: left;margin-right: 0.25em;color: #696969;}#sk-container-id-2 label.sk-toggleable__label-arrow:hover:before {color: black;}#sk-container-id-2 div.sk-estimator:hover label.sk-toggleable__label-arrow:before {color: black;}#sk-container-id-2 div.sk-toggleable__content {max-height: 0;max-width: 0;overflow: hidden;text-align: left;background-color: #f0f8ff;}#sk-container-id-2 div.sk-toggleable__content pre {margin: 0.2em;color: black;border-radius: 0.25em;background-color: #f0f8ff;}#sk-container-id-2 input.sk-toggleable__control:checked~div.sk-toggleable__content {max-height: 200px;max-width: 100%;overflow: auto;}#sk-container-id-2 input.sk-toggleable__control:checked~label.sk-toggleable__label-arrow:before {content: \"▾\";}#sk-container-id-2 div.sk-estimator input.sk-toggleable__control:checked~label.sk-toggleable__label {background-color: #d4ebff;}#sk-container-id-2 div.sk-label input.sk-toggleable__control:checked~label.sk-toggleable__label {background-color: #d4ebff;}#sk-container-id-2 input.sk-hidden--visually {border: 0;clip: rect(1px 1px 1px 1px);clip: rect(1px, 1px, 1px, 1px);height: 1px;margin: -1px;overflow: hidden;padding: 0;position: absolute;width: 1px;}#sk-container-id-2 div.sk-estimator {font-family: monospace;background-color: #f0f8ff;border: 1px dotted black;border-radius: 0.25em;box-sizing: border-box;margin-bottom: 0.5em;}#sk-container-id-2 div.sk-estimator:hover {background-color: #d4ebff;}#sk-container-id-2 div.sk-parallel-item::after {content: \"\";width: 100%;border-bottom: 1px solid gray;flex-grow: 1;}#sk-container-id-2 div.sk-label:hover label.sk-toggleable__label {background-color: #d4ebff;}#sk-container-id-2 div.sk-serial::before {content: \"\";position: absolute;border-left: 1px solid gray;box-sizing: border-box;top: 0;bottom: 0;left: 50%;z-index: 0;}#sk-container-id-2 div.sk-serial {display: flex;flex-direction: column;align-items: center;background-color: white;padding-right: 0.2em;padding-left: 0.2em;position: relative;}#sk-container-id-2 div.sk-item {position: relative;z-index: 1;}#sk-container-id-2 div.sk-parallel {display: flex;align-items: stretch;justify-content: center;background-color: white;position: relative;}#sk-container-id-2 div.sk-item::before, #sk-container-id-2 div.sk-parallel-item::before {content: \"\";position: absolute;border-left: 1px solid gray;box-sizing: border-box;top: 0;bottom: 0;left: 50%;z-index: -1;}#sk-container-id-2 div.sk-parallel-item {display: flex;flex-direction: column;z-index: 1;position: relative;background-color: white;}#sk-container-id-2 div.sk-parallel-item:first-child::after {align-self: flex-end;width: 50%;}#sk-container-id-2 div.sk-parallel-item:last-child::after {align-self: flex-start;width: 50%;}#sk-container-id-2 div.sk-parallel-item:only-child::after {width: 0;}#sk-container-id-2 div.sk-dashed-wrapped {border: 1px dashed gray;margin: 0 0.4em 0.5em 0.4em;box-sizing: border-box;padding-bottom: 0.4em;background-color: white;}#sk-container-id-2 div.sk-label label {font-family: monospace;font-weight: bold;display: inline-block;line-height: 1.2em;}#sk-container-id-2 div.sk-label-container {text-align: center;}#sk-container-id-2 div.sk-container {/* jupyter's `normalize.less` sets `[hidden] { display: none; }` but bootstrap.min.css set `[hidden] { display: none !important; }` so we also need the `!important` here to be able to override the default hidden behavior on the sphinx rendered scikit-learn.org. See: https://github.com/scikit-learn/scikit-learn/issues/21755 */display: inline-block !important;position: relative;}#sk-container-id-2 div.sk-text-repr-fallback {display: none;}</style><div id=\"sk-container-id-2\" class=\"sk-top-container\"><div class=\"sk-text-repr-fallback\"><pre>LogisticRegression(max_iter=800, random_state=42)</pre><b>In a Jupyter environment, please rerun this cell to show the HTML representation or trust the notebook. <br />On GitHub, the HTML representation is unable to render, please try loading this page with nbviewer.org.</b></div><div class=\"sk-container\" hidden><div class=\"sk-item\"><div class=\"sk-estimator sk-toggleable\"><input class=\"sk-toggleable__control sk-hidden--visually\" id=\"sk-estimator-id-2\" type=\"checkbox\" checked><label for=\"sk-estimator-id-2\" class=\"sk-toggleable__label sk-toggleable__label-arrow\">LogisticRegression</label><div class=\"sk-toggleable__content\"><pre>LogisticRegression(max_iter=800, random_state=42)</pre></div></div></div></div></div>"
     },
     "execution_count": 81,
     "metadata": {},
     "output_type": "execute_result"
    }
   ],
   "source": [
    "logistic_model.fit(X_train, y_train)"
   ],
   "metadata": {
    "collapsed": false,
    "ExecuteTime": {
     "end_time": "2023-11-07T08:34:32.273871900Z",
     "start_time": "2023-11-07T08:34:27.683877700Z"
    }
   },
   "id": "51a705b45ad034e0"
  },
  {
   "cell_type": "code",
   "execution_count": 82,
   "outputs": [],
   "source": [
    "logistic_prediction = logistic_model.predict(X_test)"
   ],
   "metadata": {
    "collapsed": false,
    "ExecuteTime": {
     "end_time": "2023-11-07T08:34:32.316722100Z",
     "start_time": "2023-11-07T08:34:32.266873900Z"
    }
   },
   "id": "4800b6ad9c143e29"
  },
  {
   "cell_type": "markdown",
   "source": [
    "Evaluemos las metricas sobre los mismos datos que estamos entrenando"
   ],
   "metadata": {
    "collapsed": false
   },
   "id": "7346716fa9770d0"
  },
  {
   "cell_type": "code",
   "execution_count": 83,
   "outputs": [
    {
     "name": "stdout",
     "output_type": "stream",
     "text": [
      "Exactitud: 0.7\n"
     ]
    }
   ],
   "source": [
    "print(f'Exactitud: {accuracy_score(y_test,logistic_prediction)}')"
   ],
   "metadata": {
    "collapsed": false,
    "ExecuteTime": {
     "end_time": "2023-11-07T08:34:32.317722800Z",
     "start_time": "2023-11-07T08:34:32.286106700Z"
    }
   },
   "id": "c179cfb727bdc48a"
  },
  {
   "cell_type": "code",
   "execution_count": 84,
   "outputs": [
    {
     "data": {
      "text/plain": "array(['Película y Animación', 'Deportes', 'Gente y Blogs',\n       'Entretenimiento', 'Otros', 'Educación'], dtype=object)"
     },
     "execution_count": 84,
     "metadata": {},
     "output_type": "execute_result"
    }
   ],
   "source": [
    "df_train['categoria'].unique()"
   ],
   "metadata": {
    "collapsed": false,
    "ExecuteTime": {
     "end_time": "2023-11-07T08:34:32.317722800Z",
     "start_time": "2023-11-07T08:34:32.297335Z"
    }
   },
   "id": "6fb2aee049107d5d"
  },
  {
   "cell_type": "code",
   "execution_count": 85,
   "outputs": [
    {
     "data": {
      "text/plain": "<Figure size 640x480 with 1 Axes>",
      "image/png": "[encoded data removed]"
     },
     "metadata": {},
     "output_type": "display_data"
    }
   ],
   "source": [
    "matriz_confusion_regresion = confusion_matrix(y_test, logistic_prediction)\n",
    "sns.heatmap(matriz_confusion_regresion, annot=True, fmt='d', cmap='Blues', cbar=False)\n",
    "plt.xlabel('Predicción')\n",
    "plt.ylabel('Real')\n",
    "plt.title('Matriz de Confusión Para Regresion Logistica')\n",
    "plt.show()"
   ],
   "metadata": {
    "collapsed": false,
    "ExecuteTime": {
     "end_time": "2023-11-07T08:34:32.621795900Z",
     "start_time": "2023-11-07T08:34:32.302724900Z"
    }
   },
   "id": "533fb959d14dbd7"
  },
  {
   "cell_type": "markdown",
   "source": [
    "### Random Forest"
   ],
   "metadata": {
    "collapsed": false
   },
   "id": "7cde85ba606fcd61"
  },
  {
   "cell_type": "code",
   "execution_count": 86,
   "outputs": [],
   "source": [
    "from sklearn.ensemble import RandomForestClassifier\n",
    "from sklearn.model_selection import GridSearchCV\n",
    "from scipy.stats import randint"
   ],
   "metadata": {
    "collapsed": false,
    "ExecuteTime": {
     "end_time": "2023-11-07T08:34:32.622795800Z",
     "start_time": "2023-11-07T08:34:32.597752300Z"
    }
   },
   "id": "2c28a9f4dc64e5cf"
  },
  {
   "cell_type": "code",
   "execution_count": 87,
   "outputs": [],
   "source": [
    "param_grid = {\n",
    "    'n_estimators': [50, 100, 200,300],  # Diferentes cantidades de árboles\n",
    "    'max_depth': [None, 10, 20, 30, 35],  # Profundidad máxima de los árboles\n",
    "    'min_samples_split': [2, 5, 10, 15]  # Número mínimo de muestras para dividir un nodo\n",
    "}"
   ],
   "metadata": {
    "collapsed": false,
    "ExecuteTime": {
     "end_time": "2023-11-07T08:34:32.628796Z",
     "start_time": "2023-11-07T08:34:32.608762300Z"
    }
   },
   "id": "217c8bf716c59077"
  },
  {
   "cell_type": "code",
   "execution_count": 88,
   "outputs": [
    {
     "data": {
      "text/plain": "GridSearchCV(cv=5, estimator=RandomForestClassifier(),\n             param_grid={'max_depth': [None, 10, 20, 30, 35],\n                         'min_samples_split': [2, 5, 10, 15],\n                         'n_estimators': [50, 100, 200, 300]},\n             scoring='accuracy')",
      "text/html": "<style>#sk-container-id-3 {color: black;}#sk-container-id-3 pre{padding: 0;}#sk-container-id-3 div.sk-toggleable {background-color: white;}#sk-container-id-3 label.sk-toggleable__label {cursor: pointer;display: block;width: 100%;margin-bottom: 0;padding: 0.3em;box-sizing: border-box;text-align: center;}#sk-container-id-3 label.sk-toggleable__label-arrow:before {content: \"▸\";float: left;margin-right: 0.25em;color: #696969;}#sk-container-id-3 label.sk-toggleable__label-arrow:hover:before {color: black;}#sk-container-id-3 div.sk-estimator:hover label.sk-toggleable__label-arrow:before {color: black;}#sk-container-id-3 div.sk-toggleable__content {max-height: 0;max-width: 0;overflow: hidden;text-align: left;background-color: #f0f8ff;}#sk-container-id-3 div.sk-toggleable__content pre {margin: 0.2em;color: black;border-radius: 0.25em;background-color: #f0f8ff;}#sk-container-id-3 input.sk-toggleable__control:checked~div.sk-toggleable__content {max-height: 200px;max-width: 100%;overflow: auto;}#sk-container-id-3 input.sk-toggleable__control:checked~label.sk-toggleable__label-arrow:before {content: \"▾\";}#sk-container-id-3 div.sk-estimator input.sk-toggleable__control:checked~label.sk-toggleable__label {background-color: #d4ebff;}#sk-container-id-3 div.sk-label input.sk-toggleable__control:checked~label.sk-toggleable__label {background-color: #d4ebff;}#sk-container-id-3 input.sk-hidden--visually {border: 0;clip: rect(1px 1px 1px 1px);clip: rect(1px, 1px, 1px, 1px);height: 1px;margin: -1px;overflow: hidden;padding: 0;position: absolute;width: 1px;}#sk-container-id-3 div.sk-estimator {font-family: monospace;background-color: #f0f8ff;border: 1px dotted black;border-radius: 0.25em;box-sizing: border-box;margin-bottom: 0.5em;}#sk-container-id-3 div.sk-estimator:hover {background-color: #d4ebff;}#sk-container-id-3 div.sk-parallel-item::after {content: \"\";width: 100%;border-bottom: 1px solid gray;flex-grow: 1;}#sk-container-id-3 div.sk-label:hover label.sk-toggleable__label {background-color: #d4ebff;}#sk-container-id-3 div.sk-serial::before {content: \"\";position: absolute;border-left: 1px solid gray;box-sizing: border-box;top: 0;bottom: 0;left: 50%;z-index: 0;}#sk-container-id-3 div.sk-serial {display: flex;flex-direction: column;align-items: center;background-color: white;padding-right: 0.2em;padding-left: 0.2em;position: relative;}#sk-container-id-3 div.sk-item {position: relative;z-index: 1;}#sk-container-id-3 div.sk-parallel {display: flex;align-items: stretch;justify-content: center;background-color: white;position: relative;}#sk-container-id-3 div.sk-item::before, #sk-container-id-3 div.sk-parallel-item::before {content: \"\";position: absolute;border-left: 1px solid gray;box-sizing: border-box;top: 0;bottom: 0;left: 50%;z-index: -1;}#sk-container-id-3 div.sk-parallel-item {display: flex;flex-direction: column;z-index: 1;position: relative;background-color: white;}#sk-container-id-3 div.sk-parallel-item:first-child::after {align-self: flex-end;width: 50%;}#sk-container-id-3 div.sk-parallel-item:last-child::after {align-self: flex-start;width: 50%;}#sk-container-id-3 div.sk-parallel-item:only-child::after {width: 0;}#sk-container-id-3 div.sk-dashed-wrapped {border: 1px dashed gray;margin: 0 0.4em 0.5em 0.4em;box-sizing: border-box;padding-bottom: 0.4em;background-color: white;}#sk-container-id-3 div.sk-label label {font-family: monospace;font-weight: bold;display: inline-block;line-height: 1.2em;}#sk-container-id-3 div.sk-label-container {text-align: center;}#sk-container-id-3 div.sk-container {/* jupyter's `normalize.less` sets `[hidden] { display: none; }` but bootstrap.min.css set `[hidden] { display: none !important; }` so we also need the `!important` here to be able to override the default hidden behavior on the sphinx rendered scikit-learn.org. See: https://github.com/scikit-learn/scikit-learn/issues/21755 */display: inline-block !important;position: relative;}#sk-container-id-3 div.sk-text-repr-fallback {display: none;}</style><div id=\"sk-container-id-3\" class=\"sk-top-container\"><div class=\"sk-text-repr-fallback\"><pre>GridSearchCV(cv=5, estimator=RandomForestClassifier(),\n             param_grid={&#x27;max_depth&#x27;: [None, 10, 20, 30, 35],\n                         &#x27;min_samples_split&#x27;: [2, 5, 10, 15],\n                         &#x27;n_estimators&#x27;: [50, 100, 200, 300]},\n             scoring=&#x27;accuracy&#x27;)</pre><b>In a Jupyter environment, please rerun this cell to show the HTML representation or trust the notebook. <br />On GitHub, the HTML representation is unable to render, please try loading this page with nbviewer.org.</b></div><div class=\"sk-container\" hidden><div class=\"sk-item sk-dashed-wrapped\"><div class=\"sk-label-container\"><div class=\"sk-label sk-toggleable\"><input class=\"sk-toggleable__control sk-hidden--visually\" id=\"sk-estimator-id-3\" type=\"checkbox\" ><label for=\"sk-estimator-id-3\" class=\"sk-toggleable__label sk-toggleable__label-arrow\">GridSearchCV</label><div class=\"sk-toggleable__content\"><pre>GridSearchCV(cv=5, estimator=RandomForestClassifier(),\n             param_grid={&#x27;max_depth&#x27;: [None, 10, 20, 30, 35],\n                         &#x27;min_samples_split&#x27;: [2, 5, 10, 15],\n                         &#x27;n_estimators&#x27;: [50, 100, 200, 300]},\n             scoring=&#x27;accuracy&#x27;)</pre></div></div></div><div class=\"sk-parallel\"><div class=\"sk-parallel-item\"><div class=\"sk-item\"><div class=\"sk-label-container\"><div class=\"sk-label sk-toggleable\"><input class=\"sk-toggleable__control sk-hidden--visually\" id=\"sk-estimator-id-4\" type=\"checkbox\" ><label for=\"sk-estimator-id-4\" class=\"sk-toggleable__label sk-toggleable__label-arrow\">estimator: RandomForestClassifier</label><div class=\"sk-toggleable__content\"><pre>RandomForestClassifier()</pre></div></div></div><div class=\"sk-serial\"><div class=\"sk-item\"><div class=\"sk-estimator sk-toggleable\"><input class=\"sk-toggleable__control sk-hidden--visually\" id=\"sk-estimator-id-5\" type=\"checkbox\" ><label for=\"sk-estimator-id-5\" class=\"sk-toggleable__label sk-toggleable__label-arrow\">RandomForestClassifier</label><div class=\"sk-toggleable__content\"><pre>RandomForestClassifier()</pre></div></div></div></div></div></div></div></div></div></div>"
     },
     "execution_count": 88,
     "metadata": {},
     "output_type": "execute_result"
    }
   ],
   "source": [
    "random_forest_model = RandomForestClassifier()\n",
    "grid_search = GridSearchCV(estimator=random_forest_model, param_grid=param_grid, cv=5, scoring='accuracy')\n",
    "grid_search.fit(X_train,y_train)"
   ],
   "metadata": {
    "collapsed": false,
    "ExecuteTime": {
     "end_time": "2023-11-07T08:39:13.432975500Z",
     "start_time": "2023-11-07T08:34:32.616796100Z"
    }
   },
   "id": "d073c6b38653774b"
  },
  {
   "cell_type": "code",
   "execution_count": 89,
   "outputs": [
    {
     "data": {
      "text/plain": "RandomForestClassifier(n_estimators=300)",
      "text/html": "<style>#sk-container-id-4 {color: black;}#sk-container-id-4 pre{padding: 0;}#sk-container-id-4 div.sk-toggleable {background-color: white;}#sk-container-id-4 label.sk-toggleable__label {cursor: pointer;display: block;width: 100%;margin-bottom: 0;padding: 0.3em;box-sizing: border-box;text-align: center;}#sk-container-id-4 label.sk-toggleable__label-arrow:before {content: \"▸\";float: left;margin-right: 0.25em;color: #696969;}#sk-container-id-4 label.sk-toggleable__label-arrow:hover:before {color: black;}#sk-container-id-4 div.sk-estimator:hover label.sk-toggleable__label-arrow:before {color: black;}#sk-container-id-4 div.sk-toggleable__content {max-height: 0;max-width: 0;overflow: hidden;text-align: left;background-color: #f0f8ff;}#sk-container-id-4 div.sk-toggleable__content pre {margin: 0.2em;color: black;border-radius: 0.25em;background-color: #f0f8ff;}#sk-container-id-4 input.sk-toggleable__control:checked~div.sk-toggleable__content {max-height: 200px;max-width: 100%;overflow: auto;}#sk-container-id-4 input.sk-toggleable__control:checked~label.sk-toggleable__label-arrow:before {content: \"▾\";}#sk-container-id-4 div.sk-estimator input.sk-toggleable__control:checked~label.sk-toggleable__label {background-color: #d4ebff;}#sk-container-id-4 div.sk-label input.sk-toggleable__control:checked~label.sk-toggleable__label {background-color: #d4ebff;}#sk-container-id-4 input.sk-hidden--visually {border: 0;clip: rect(1px 1px 1px 1px);clip: rect(1px, 1px, 1px, 1px);height: 1px;margin: -1px;overflow: hidden;padding: 0;position: absolute;width: 1px;}#sk-container-id-4 div.sk-estimator {font-family: monospace;background-color: #f0f8ff;border: 1px dotted black;border-radius: 0.25em;box-sizing: border-box;margin-bottom: 0.5em;}#sk-container-id-4 div.sk-estimator:hover {background-color: #d4ebff;}#sk-container-id-4 div.sk-parallel-item::after {content: \"\";width: 100%;border-bottom: 1px solid gray;flex-grow: 1;}#sk-container-id-4 div.sk-label:hover label.sk-toggleable__label {background-color: #d4ebff;}#sk-container-id-4 div.sk-serial::before {content: \"\";position: absolute;border-left: 1px solid gray;box-sizing: border-box;top: 0;bottom: 0;left: 50%;z-index: 0;}#sk-container-id-4 div.sk-serial {display: flex;flex-direction: column;align-items: center;background-color: white;padding-right: 0.2em;padding-left: 0.2em;position: relative;}#sk-container-id-4 div.sk-item {position: relative;z-index: 1;}#sk-container-id-4 div.sk-parallel {display: flex;align-items: stretch;justify-content: center;background-color: white;position: relative;}#sk-container-id-4 div.sk-item::before, #sk-container-id-4 div.sk-parallel-item::before {content: \"\";position: absolute;border-left: 1px solid gray;box-sizing: border-box;top: 0;bottom: 0;left: 50%;z-index: -1;}#sk-container-id-4 div.sk-parallel-item {display: flex;flex-direction: column;z-index: 1;position: relative;background-color: white;}#sk-container-id-4 div.sk-parallel-item:first-child::after {align-self: flex-end;width: 50%;}#sk-container-id-4 div.sk-parallel-item:last-child::after {align-self: flex-start;width: 50%;}#sk-container-id-4 div.sk-parallel-item:only-child::after {width: 0;}#sk-container-id-4 div.sk-dashed-wrapped {border: 1px dashed gray;margin: 0 0.4em 0.5em 0.4em;box-sizing: border-box;padding-bottom: 0.4em;background-color: white;}#sk-container-id-4 div.sk-label label {font-family: monospace;font-weight: bold;display: inline-block;line-height: 1.2em;}#sk-container-id-4 div.sk-label-container {text-align: center;}#sk-container-id-4 div.sk-container {/* jupyter's `normalize.less` sets `[hidden] { display: none; }` but bootstrap.min.css set `[hidden] { display: none !important; }` so we also need the `!important` here to be able to override the default hidden behavior on the sphinx rendered scikit-learn.org. See: https://github.com/scikit-learn/scikit-learn/issues/21755 */display: inline-block !important;position: relative;}#sk-container-id-4 div.sk-text-repr-fallback {display: none;}</style><div id=\"sk-container-id-4\" class=\"sk-top-container\"><div class=\"sk-text-repr-fallback\"><pre>RandomForestClassifier(n_estimators=300)</pre><b>In a Jupyter environment, please rerun this cell to show the HTML representation or trust the notebook. <br />On GitHub, the HTML representation is unable to render, please try loading this page with nbviewer.org.</b></div><div class=\"sk-container\" hidden><div class=\"sk-item\"><div class=\"sk-estimator sk-toggleable\"><input class=\"sk-toggleable__control sk-hidden--visually\" id=\"sk-estimator-id-6\" type=\"checkbox\" checked><label for=\"sk-estimator-id-6\" class=\"sk-toggleable__label sk-toggleable__label-arrow\">RandomForestClassifier</label><div class=\"sk-toggleable__content\"><pre>RandomForestClassifier(n_estimators=300)</pre></div></div></div></div></div>"
     },
     "execution_count": 89,
     "metadata": {},
     "output_type": "execute_result"
    }
   ],
   "source": [
    "best_random_forest_model = grid_search.best_estimator_\n",
    "best_random_forest_model.fit(X_train, y_train)"
   ],
   "metadata": {
    "collapsed": false,
    "ExecuteTime": {
     "end_time": "2023-11-07T08:39:16.292001600Z",
     "start_time": "2023-11-07T08:39:13.431974200Z"
    }
   },
   "id": "38186379a676caa4"
  },
  {
   "cell_type": "code",
   "execution_count": 90,
   "outputs": [],
   "source": [
    "random_forest_prediction = best_random_forest_model.predict(X_test)"
   ],
   "metadata": {
    "collapsed": false,
    "ExecuteTime": {
     "end_time": "2023-11-07T08:39:16.363538Z",
     "start_time": "2023-11-07T08:39:16.287003600Z"
    }
   },
   "id": "c59c876015974dae"
  },
  {
   "cell_type": "code",
   "execution_count": 91,
   "outputs": [
    {
     "name": "stdout",
     "output_type": "stream",
     "text": [
      "Exactitud: 0.7375\n"
     ]
    }
   ],
   "source": [
    "print(f'Exactitud: {accuracy_score(y_test,random_forest_prediction)}')"
   ],
   "metadata": {
    "collapsed": false,
    "ExecuteTime": {
     "end_time": "2023-11-07T08:39:16.364538900Z",
     "start_time": "2023-11-07T08:39:16.354583600Z"
    }
   },
   "id": "c35f191c1d46ea00"
  },
  {
   "cell_type": "code",
   "execution_count": 92,
   "outputs": [
    {
     "data": {
      "text/plain": "<Figure size 640x480 with 1 Axes>",
      "image/png": "[encoded data removed]"
     },
     "metadata": {},
     "output_type": "display_data"
    }
   ],
   "source": [
    "matriz_confusion_rf = confusion_matrix(y_test, random_forest_prediction)\n",
    "sns.heatmap(matriz_confusion_rf, annot=True, fmt='d', cmap='Blues', cbar=False)\n",
    "plt.xlabel('Predicción')\n",
    "plt.ylabel('Real')\n",
    "plt.title('Matriz de Confusión Para Random Forest')\n",
    "plt.show()"
   ],
   "metadata": {
    "collapsed": false,
    "ExecuteTime": {
     "end_time": "2023-11-07T08:39:16.628022900Z",
     "start_time": "2023-11-07T08:39:16.362536700Z"
    }
   },
   "id": "30f8ef8f1fb3018a"
  },
  {
   "cell_type": "markdown",
   "source": [
    "### LSTM"
   ],
   "metadata": {
    "collapsed": false
   },
   "id": "3e7bdb2a32c7e714"
  },
  {
   "cell_type": "code",
   "execution_count": 93,
   "outputs": [],
   "source": [
    "from keras.models import Sequential\n",
    "from keras import layers\n",
    "from tensorflow.keras.preprocessing.text import Tokenizer\n",
    "from tensorflow.keras.utils import pad_sequences\n",
    "from sklearn.preprocessing import LabelBinarizer"
   ],
   "metadata": {
    "collapsed": false,
    "ExecuteTime": {
     "end_time": "2023-11-07T08:39:23.480411800Z",
     "start_time": "2023-11-07T08:39:16.627025600Z"
    }
   },
   "id": "48bd038519767711"
  },
  {
   "cell_type": "code",
   "execution_count": 101,
   "outputs": [],
   "source": [
    "label = LabelBinarizer()\n",
    "max_words = 1700\n",
    "max_len = 15\n",
    "tokenizer = Tokenizer(num_words=max_words)\n",
    "tokenizer.fit_on_texts(df_train[\"titulo\"])\n",
    "sequences = tokenizer.texts_to_sequences(df_train[\"titulo\"])\n",
    "sequences = pad_sequences(sequences, maxlen=max_len)\n",
    "y = label.fit_transform(categoria)\n",
    "X_train, X_test, y_train, y_test = train_test_split(sequences, y, test_size=0.2)"
   ],
   "metadata": {
    "collapsed": false,
    "ExecuteTime": {
     "end_time": "2023-11-07T08:41:56.028431500Z",
     "start_time": "2023-11-07T08:41:55.922123600Z"
    }
   },
   "id": "145123f64070313a"
  },
  {
   "cell_type": "code",
   "execution_count": 102,
   "outputs": [
    {
     "name": "stdout",
     "output_type": "stream",
     "text": [
      "Epoch 1/100\n",
      "2/2 [==============================] - 7s 507ms/step - loss: 1.7891 - accuracy: 0.1953 - val_loss: 1.7739 - val_accuracy: 0.2313\n",
      "Epoch 2/100\n",
      "2/2 [==============================] - 0s 96ms/step - loss: 1.7689 - accuracy: 0.2906 - val_loss: 1.7533 - val_accuracy: 0.2313\n",
      "Epoch 3/100\n",
      "2/2 [==============================] - 0s 99ms/step - loss: 1.7432 - accuracy: 0.2906 - val_loss: 1.7200 - val_accuracy: 0.2313\n",
      "Epoch 4/100\n",
      "2/2 [==============================] - 0s 88ms/step - loss: 1.6989 - accuracy: 0.2906 - val_loss: 1.6907 - val_accuracy: 0.2313\n",
      "Epoch 5/100\n",
      "2/2 [==============================] - 0s 92ms/step - loss: 1.6668 - accuracy: 0.2906 - val_loss: 1.7088 - val_accuracy: 0.2313\n",
      "Epoch 6/100\n",
      "2/2 [==============================] - 0s 92ms/step - loss: 1.6661 - accuracy: 0.2906 - val_loss: 1.6777 - val_accuracy: 0.2313\n",
      "Epoch 7/100\n",
      "2/2 [==============================] - 0s 91ms/step - loss: 1.6535 - accuracy: 0.2906 - val_loss: 1.6679 - val_accuracy: 0.2313\n",
      "Epoch 8/100\n",
      "2/2 [==============================] - 0s 102ms/step - loss: 1.6481 - accuracy: 0.2906 - val_loss: 1.6769 - val_accuracy: 0.2313\n",
      "Epoch 9/100\n",
      "2/2 [==============================] - 0s 100ms/step - loss: 1.6494 - accuracy: 0.2906 - val_loss: 1.6659 - val_accuracy: 0.2313\n",
      "Epoch 10/100\n",
      "2/2 [==============================] - 0s 95ms/step - loss: 1.6478 - accuracy: 0.2937 - val_loss: 1.6624 - val_accuracy: 0.2313\n",
      "Epoch 11/100\n",
      "2/2 [==============================] - 0s 92ms/step - loss: 1.6437 - accuracy: 0.2922 - val_loss: 1.6545 - val_accuracy: 0.2313\n",
      "Epoch 12/100\n",
      "2/2 [==============================] - 0s 96ms/step - loss: 1.6335 - accuracy: 0.2922 - val_loss: 1.6527 - val_accuracy: 0.3125\n",
      "Epoch 13/100\n",
      "2/2 [==============================] - 0s 110ms/step - loss: 1.6312 - accuracy: 0.3703 - val_loss: 1.6942 - val_accuracy: 0.2313\n",
      "Epoch 14/100\n",
      "2/2 [==============================] - 0s 94ms/step - loss: 1.6426 - accuracy: 0.3031 - val_loss: 1.6541 - val_accuracy: 0.2313\n",
      "Epoch 15/100\n",
      "2/2 [==============================] - 0s 89ms/step - loss: 1.6217 - accuracy: 0.3000 - val_loss: 1.6502 - val_accuracy: 0.2438\n",
      "Epoch 16/100\n",
      "2/2 [==============================] - 0s 94ms/step - loss: 1.6173 - accuracy: 0.3375 - val_loss: 1.6433 - val_accuracy: 0.2313\n",
      "Epoch 17/100\n",
      "2/2 [==============================] - 0s 92ms/step - loss: 1.6125 - accuracy: 0.3203 - val_loss: 1.6410 - val_accuracy: 0.2875\n",
      "Epoch 18/100\n",
      "2/2 [==============================] - 0s 86ms/step - loss: 1.6029 - accuracy: 0.3516 - val_loss: 1.6346 - val_accuracy: 0.4313\n",
      "Epoch 19/100\n",
      "2/2 [==============================] - 0s 88ms/step - loss: 1.6104 - accuracy: 0.4406 - val_loss: 1.6207 - val_accuracy: 0.4125\n",
      "Epoch 20/100\n",
      "2/2 [==============================] - 0s 102ms/step - loss: 1.5885 - accuracy: 0.4484 - val_loss: 1.6115 - val_accuracy: 0.3375\n",
      "Epoch 21/100\n",
      "2/2 [==============================] - 0s 91ms/step - loss: 1.5711 - accuracy: 0.3875 - val_loss: 1.5977 - val_accuracy: 0.4563\n",
      "Epoch 22/100\n",
      "2/2 [==============================] - 0s 96ms/step - loss: 1.5569 - accuracy: 0.4516 - val_loss: 1.5826 - val_accuracy: 0.3938\n",
      "Epoch 23/100\n",
      "2/2 [==============================] - 0s 91ms/step - loss: 1.5428 - accuracy: 0.4344 - val_loss: 1.5784 - val_accuracy: 0.4125\n",
      "Epoch 24/100\n",
      "2/2 [==============================] - 0s 100ms/step - loss: 1.5186 - accuracy: 0.4484 - val_loss: 1.5660 - val_accuracy: 0.5188\n",
      "Epoch 25/100\n",
      "2/2 [==============================] - 0s 100ms/step - loss: 1.5058 - accuracy: 0.4797 - val_loss: 1.5407 - val_accuracy: 0.4313\n",
      "Epoch 26/100\n",
      "2/2 [==============================] - 0s 102ms/step - loss: 1.4938 - accuracy: 0.4469 - val_loss: 1.5417 - val_accuracy: 0.3812\n",
      "Epoch 27/100\n",
      "2/2 [==============================] - 0s 94ms/step - loss: 1.4817 - accuracy: 0.4563 - val_loss: 1.5200 - val_accuracy: 0.4375\n",
      "Epoch 28/100\n",
      "2/2 [==============================] - 0s 92ms/step - loss: 1.4634 - accuracy: 0.4719 - val_loss: 1.5263 - val_accuracy: 0.3812\n",
      "Epoch 29/100\n",
      "2/2 [==============================] - 0s 101ms/step - loss: 1.4719 - accuracy: 0.4328 - val_loss: 1.5052 - val_accuracy: 0.4125\n",
      "Epoch 30/100\n",
      "2/2 [==============================] - 0s 103ms/step - loss: 1.4298 - accuracy: 0.4844 - val_loss: 1.5318 - val_accuracy: 0.3875\n",
      "Epoch 31/100\n",
      "2/2 [==============================] - 0s 104ms/step - loss: 1.4337 - accuracy: 0.5016 - val_loss: 1.4807 - val_accuracy: 0.4437\n",
      "Epoch 32/100\n",
      "2/2 [==============================] - 0s 107ms/step - loss: 1.3911 - accuracy: 0.5250 - val_loss: 1.4757 - val_accuracy: 0.4625\n",
      "Epoch 33/100\n",
      "2/2 [==============================] - 0s 102ms/step - loss: 1.3942 - accuracy: 0.5344 - val_loss: 1.4811 - val_accuracy: 0.4500\n",
      "Epoch 34/100\n",
      "2/2 [==============================] - 0s 92ms/step - loss: 1.3474 - accuracy: 0.5219 - val_loss: 1.4511 - val_accuracy: 0.5125\n",
      "Epoch 35/100\n",
      "2/2 [==============================] - 0s 92ms/step - loss: 1.3583 - accuracy: 0.5172 - val_loss: 1.4354 - val_accuracy: 0.5375\n",
      "Epoch 36/100\n",
      "2/2 [==============================] - 0s 96ms/step - loss: 1.3252 - accuracy: 0.5609 - val_loss: 1.4340 - val_accuracy: 0.5125\n",
      "Epoch 37/100\n",
      "2/2 [==============================] - 0s 100ms/step - loss: 1.2831 - accuracy: 0.5625 - val_loss: 1.4225 - val_accuracy: 0.4938\n",
      "Epoch 38/100\n",
      "2/2 [==============================] - 0s 103ms/step - loss: 1.2882 - accuracy: 0.5781 - val_loss: 1.4016 - val_accuracy: 0.4812\n",
      "Epoch 39/100\n",
      "2/2 [==============================] - 0s 94ms/step - loss: 1.2643 - accuracy: 0.5547 - val_loss: 1.3825 - val_accuracy: 0.5125\n",
      "Epoch 40/100\n",
      "2/2 [==============================] - 0s 97ms/step - loss: 1.2598 - accuracy: 0.5703 - val_loss: 1.3601 - val_accuracy: 0.4812\n",
      "Epoch 41/100\n",
      "2/2 [==============================] - 0s 92ms/step - loss: 1.2244 - accuracy: 0.5734 - val_loss: 1.3985 - val_accuracy: 0.4750\n",
      "Epoch 42/100\n",
      "2/2 [==============================] - 0s 92ms/step - loss: 1.2271 - accuracy: 0.5547 - val_loss: 1.3719 - val_accuracy: 0.4938\n",
      "Epoch 43/100\n",
      "2/2 [==============================] - 0s 85ms/step - loss: 1.2107 - accuracy: 0.5766 - val_loss: 1.3499 - val_accuracy: 0.5250\n",
      "Epoch 44/100\n",
      "2/2 [==============================] - 0s 94ms/step - loss: 1.1809 - accuracy: 0.5906 - val_loss: 1.3322 - val_accuracy: 0.5375\n",
      "Epoch 45/100\n",
      "2/2 [==============================] - 0s 106ms/step - loss: 1.1610 - accuracy: 0.5938 - val_loss: 1.3773 - val_accuracy: 0.4688\n",
      "Epoch 46/100\n",
      "2/2 [==============================] - 0s 92ms/step - loss: 1.1559 - accuracy: 0.6016 - val_loss: 1.3297 - val_accuracy: 0.5125\n",
      "Epoch 47/100\n",
      "2/2 [==============================] - 0s 100ms/step - loss: 1.1347 - accuracy: 0.6016 - val_loss: 1.3284 - val_accuracy: 0.4875\n",
      "Epoch 48/100\n",
      "2/2 [==============================] - 0s 95ms/step - loss: 1.1243 - accuracy: 0.6219 - val_loss: 1.3345 - val_accuracy: 0.5000\n",
      "Epoch 49/100\n",
      "2/2 [==============================] - 0s 100ms/step - loss: 1.1151 - accuracy: 0.6078 - val_loss: 1.2921 - val_accuracy: 0.5500\n",
      "Epoch 50/100\n",
      "2/2 [==============================] - 0s 99ms/step - loss: 1.0880 - accuracy: 0.6359 - val_loss: 1.2862 - val_accuracy: 0.5375\n",
      "Epoch 51/100\n",
      "2/2 [==============================] - 0s 105ms/step - loss: 1.0700 - accuracy: 0.6141 - val_loss: 1.2968 - val_accuracy: 0.5188\n",
      "Epoch 52/100\n",
      "2/2 [==============================] - 0s 90ms/step - loss: 1.0434 - accuracy: 0.6328 - val_loss: 1.2907 - val_accuracy: 0.5125\n",
      "Epoch 53/100\n",
      "2/2 [==============================] - 0s 94ms/step - loss: 1.0508 - accuracy: 0.6297 - val_loss: 1.3136 - val_accuracy: 0.5000\n",
      "Epoch 54/100\n",
      "2/2 [==============================] - 0s 100ms/step - loss: 1.0464 - accuracy: 0.6297 - val_loss: 1.2664 - val_accuracy: 0.5312\n",
      "Epoch 55/100\n",
      "2/2 [==============================] - 0s 100ms/step - loss: 1.0398 - accuracy: 0.6297 - val_loss: 1.2564 - val_accuracy: 0.5188\n",
      "Epoch 56/100\n",
      "2/2 [==============================] - 0s 107ms/step - loss: 1.0108 - accuracy: 0.6375 - val_loss: 1.2591 - val_accuracy: 0.5188\n",
      "Epoch 57/100\n",
      "2/2 [==============================] - 0s 100ms/step - loss: 0.9840 - accuracy: 0.6281 - val_loss: 1.2649 - val_accuracy: 0.5063\n",
      "Epoch 58/100\n",
      "2/2 [==============================] - 0s 97ms/step - loss: 0.9751 - accuracy: 0.6547 - val_loss: 1.3252 - val_accuracy: 0.4812\n",
      "Epoch 59/100\n",
      "2/2 [==============================] - 0s 87ms/step - loss: 0.9786 - accuracy: 0.6516 - val_loss: 1.2617 - val_accuracy: 0.4875\n",
      "Epoch 60/100\n",
      "2/2 [==============================] - 0s 96ms/step - loss: 0.9423 - accuracy: 0.6609 - val_loss: 1.2755 - val_accuracy: 0.4875\n",
      "Epoch 61/100\n",
      "2/2 [==============================] - 0s 93ms/step - loss: 0.9429 - accuracy: 0.6578 - val_loss: 1.2329 - val_accuracy: 0.5312\n",
      "Epoch 62/100\n",
      "2/2 [==============================] - 0s 108ms/step - loss: 0.9305 - accuracy: 0.6484 - val_loss: 1.2463 - val_accuracy: 0.5375\n",
      "Epoch 63/100\n",
      "2/2 [==============================] - 0s 99ms/step - loss: 0.8838 - accuracy: 0.6547 - val_loss: 1.2164 - val_accuracy: 0.5688\n",
      "Epoch 64/100\n",
      "2/2 [==============================] - 0s 95ms/step - loss: 0.9129 - accuracy: 0.6875 - val_loss: 1.2811 - val_accuracy: 0.4688\n",
      "Epoch 65/100\n",
      "2/2 [==============================] - 0s 103ms/step - loss: 0.9083 - accuracy: 0.6641 - val_loss: 1.2631 - val_accuracy: 0.5562\n",
      "Epoch 66/100\n",
      "2/2 [==============================] - 0s 86ms/step - loss: 0.8665 - accuracy: 0.6859 - val_loss: 1.2348 - val_accuracy: 0.5250\n",
      "Epoch 67/100\n",
      "2/2 [==============================] - 0s 101ms/step - loss: 0.8709 - accuracy: 0.6984 - val_loss: 1.2495 - val_accuracy: 0.5500\n",
      "Epoch 68/100\n",
      "2/2 [==============================] - 0s 93ms/step - loss: 0.8259 - accuracy: 0.6938 - val_loss: 1.2516 - val_accuracy: 0.5125\n",
      "Epoch 69/100\n",
      "2/2 [==============================] - 0s 93ms/step - loss: 0.8555 - accuracy: 0.6922 - val_loss: 1.2385 - val_accuracy: 0.5688\n",
      "Epoch 70/100\n",
      "2/2 [==============================] - 0s 91ms/step - loss: 0.8453 - accuracy: 0.7281 - val_loss: 1.2784 - val_accuracy: 0.5437\n"
     ]
    }
   ],
   "source": [
    "from keras.src.callbacks import EarlyStopping\n",
    "\n",
    "lstm_model = Sequential()\n",
    "lstm_model.add(layers.Embedding(input_dim=max_words, output_dim=40, input_length=max_len))\n",
    "lstm_model.add(layers.SpatialDropout1D(0.7))\n",
    "lstm_model.add(layers.LSTM(128, dropout=0.3, recurrent_dropout=0.3))\n",
    "lstm_model.add(layers.Dense(6, activation='softmax'))\n",
    "lstm_model.compile(optimizer='rmsprop', loss='categorical_crossentropy', metrics=['accuracy'])\n",
    "\n",
    "history = lstm_model.fit(X_train,y_train, epochs=100, validation_data=(X_test,y_test),batch_size=512, callbacks=[EarlyStopping(monitor='val_loss',patience=7, min_delta=0.0001)])"
   ],
   "metadata": {
    "collapsed": false,
    "ExecuteTime": {
     "end_time": "2023-11-07T08:42:19.734913600Z",
     "start_time": "2023-11-07T08:41:56.294345800Z"
    }
   },
   "id": "1432e6d7a4c557d5"
  },
  {
   "cell_type": "code",
   "execution_count": 103,
   "outputs": [
    {
     "name": "stdout",
     "output_type": "stream",
     "text": [
      "5/5 [==============================] - 0s 6ms/step - loss: 1.2784 - accuracy: 0.5437\n",
      "Test set\n",
      "  Loss: 1.278\n",
      "  Accuracy: 0.544\n"
     ]
    }
   ],
   "source": [
    "accr = lstm_model.evaluate(X_test,y_test)\n",
    "print('Test set\\n  Loss: {:0.3f}\\n  Accuracy: {:0.3f}'.format(accr[0],accr[1]))"
   ],
   "metadata": {
    "collapsed": false,
    "ExecuteTime": {
     "end_time": "2023-11-07T08:42:25.561938600Z",
     "start_time": "2023-11-07T08:42:25.443606500Z"
    }
   },
   "id": "c210549702ad0b4f"
  },
  {
   "cell_type": "code",
   "execution_count": 104,
   "outputs": [
    {
     "data": {
      "text/plain": "<Figure size 800x800 with 2 Axes>",
      "image/png": "[encoded data removed]"
     },
     "metadata": {},
     "output_type": "display_data"
    }
   ],
   "source": [
    "acc = history.history['accuracy']\n",
    "val_acc = history.history['val_accuracy']\n",
    "loss = history.history['loss']\n",
    "val_loss = history.history['val_loss']\n",
    "epochs_range = range(70)\n",
    "\n",
    "plt.figure(figsize=(8,8))\n",
    "plt.subplot(1, 2, 1)\n",
    "plt.plot(epochs_range, acc, label='Training Accuracy')\n",
    "plt.plot(epochs_range, val_acc, label='Validation Accuracy')\n",
    "plt.legend(loc='lower right')\n",
    "plt.title('Training and Validation Accuracy')\n",
    "plt.subplot(1, 2, 2)\n",
    "plt.plot(epochs_range, loss, label='Training Loss')\n",
    "plt.plot(epochs_range, val_loss, label='Validation Loss')\n",
    "plt.legend(loc='upper right')\n",
    "plt.title('Training and Validation Loss')\n",
    "plt.show()"
   ],
   "metadata": {
    "collapsed": false,
    "ExecuteTime": {
     "end_time": "2023-11-07T08:42:35.981082200Z",
     "start_time": "2023-11-07T08:42:34.917255900Z"
    }
   },
   "id": "bed1fabc6a410f13"
  },
  {
   "cell_type": "code",
   "execution_count": 105,
   "outputs": [
    {
     "name": "stdout",
     "output_type": "stream",
     "text": [
      "5/5 [==============================] - 1s 7ms/step\n"
     ]
    }
   ],
   "source": [
    "lstm_prediction = lstm_model.predict(X_test)"
   ],
   "metadata": {
    "collapsed": false,
    "ExecuteTime": {
     "end_time": "2023-11-07T08:42:48.474333400Z",
     "start_time": "2023-11-07T08:42:47.836582100Z"
    }
   },
   "id": "751d42d34d9ef4dd"
  },
  {
   "cell_type": "code",
   "execution_count": 106,
   "outputs": [],
   "source": [
    "lstm_prediction = np.argmax(lstm_prediction, axis=1)\n",
    "y_real = np.argmax(y_test, axis=1)"
   ],
   "metadata": {
    "collapsed": false,
    "ExecuteTime": {
     "end_time": "2023-11-07T08:42:50.061786300Z",
     "start_time": "2023-11-07T08:42:50.025196700Z"
    }
   },
   "id": "f7ff3ccf05e049b0"
  },
  {
   "cell_type": "code",
   "execution_count": 107,
   "outputs": [
    {
     "name": "stdout",
     "output_type": "stream",
     "text": [
      "Exactitud: 0.54375\n"
     ]
    }
   ],
   "source": [
    "print(f'Exactitud: {accuracy_score(y_real,lstm_prediction)}')"
   ],
   "metadata": {
    "collapsed": false,
    "ExecuteTime": {
     "end_time": "2023-11-07T08:42:52.715254100Z",
     "start_time": "2023-11-07T08:42:52.678775900Z"
    }
   },
   "id": "fd44f5e91dceda05"
  },
  {
   "cell_type": "code",
   "execution_count": 108,
   "outputs": [
    {
     "data": {
      "text/plain": "<Figure size 640x480 with 1 Axes>",
      "image/png": "[encoded data removed]"
     },
     "metadata": {},
     "output_type": "display_data"
    }
   ],
   "source": [
    "matriz_confusion_rf = confusion_matrix(y_real, lstm_prediction)\n",
    "sns.heatmap(matriz_confusion_rf, annot=True, fmt='d', cmap='Blues', cbar=False)\n",
    "plt.xlabel('Predicción')\n",
    "plt.ylabel('Real')\n",
    "plt.title('Matriz de Confusión Para Random Forest')\n",
    "plt.show()"
   ],
   "metadata": {
    "collapsed": false,
    "ExecuteTime": {
     "end_time": "2023-11-07T08:42:59.508856600Z",
     "start_time": "2023-11-07T08:42:59.237041500Z"
    }
   },
   "id": "27ed501cc3b6cfe1"
  },
  {
   "cell_type": "markdown",
   "source": [
    "# Resultado final\n",
    "Para este caso ya no vamos a divir el modelo de entrenamiento sino que vamos a entrenar completamente cada modelo con todos los datos de etrenamiento"
   ],
   "metadata": {
    "collapsed": false
   },
   "id": "cefcee8a6ef89f4d"
  },
  {
   "cell_type": "markdown",
   "source": [
    "### Regresion Logistica"
   ],
   "metadata": {
    "collapsed": false
   },
   "id": "8c9c163a593f1777"
  },
  {
   "cell_type": "code",
   "execution_count": 110,
   "outputs": [
    {
     "data": {
      "text/plain": "LogisticRegression(max_iter=500, random_state=42)",
      "text/html": "<style>#sk-container-id-6 {color: black;}#sk-container-id-6 pre{padding: 0;}#sk-container-id-6 div.sk-toggleable {background-color: white;}#sk-container-id-6 label.sk-toggleable__label {cursor: pointer;display: block;width: 100%;margin-bottom: 0;padding: 0.3em;box-sizing: border-box;text-align: center;}#sk-container-id-6 label.sk-toggleable__label-arrow:before {content: \"▸\";float: left;margin-right: 0.25em;color: #696969;}#sk-container-id-6 label.sk-toggleable__label-arrow:hover:before {color: black;}#sk-container-id-6 div.sk-estimator:hover label.sk-toggleable__label-arrow:before {color: black;}#sk-container-id-6 div.sk-toggleable__content {max-height: 0;max-width: 0;overflow: hidden;text-align: left;background-color: #f0f8ff;}#sk-container-id-6 div.sk-toggleable__content pre {margin: 0.2em;color: black;border-radius: 0.25em;background-color: #f0f8ff;}#sk-container-id-6 input.sk-toggleable__control:checked~div.sk-toggleable__content {max-height: 200px;max-width: 100%;overflow: auto;}#sk-container-id-6 input.sk-toggleable__control:checked~label.sk-toggleable__label-arrow:before {content: \"▾\";}#sk-container-id-6 div.sk-estimator input.sk-toggleable__control:checked~label.sk-toggleable__label {background-color: #d4ebff;}#sk-container-id-6 div.sk-label input.sk-toggleable__control:checked~label.sk-toggleable__label {background-color: #d4ebff;}#sk-container-id-6 input.sk-hidden--visually {border: 0;clip: rect(1px 1px 1px 1px);clip: rect(1px, 1px, 1px, 1px);height: 1px;margin: -1px;overflow: hidden;padding: 0;position: absolute;width: 1px;}#sk-container-id-6 div.sk-estimator {font-family: monospace;background-color: #f0f8ff;border: 1px dotted black;border-radius: 0.25em;box-sizing: border-box;margin-bottom: 0.5em;}#sk-container-id-6 div.sk-estimator:hover {background-color: #d4ebff;}#sk-container-id-6 div.sk-parallel-item::after {content: \"\";width: 100%;border-bottom: 1px solid gray;flex-grow: 1;}#sk-container-id-6 div.sk-label:hover label.sk-toggleable__label {background-color: #d4ebff;}#sk-container-id-6 div.sk-serial::before {content: \"\";position: absolute;border-left: 1px solid gray;box-sizing: border-box;top: 0;bottom: 0;left: 50%;z-index: 0;}#sk-container-id-6 div.sk-serial {display: flex;flex-direction: column;align-items: center;background-color: white;padding-right: 0.2em;padding-left: 0.2em;position: relative;}#sk-container-id-6 div.sk-item {position: relative;z-index: 1;}#sk-container-id-6 div.sk-parallel {display: flex;align-items: stretch;justify-content: center;background-color: white;position: relative;}#sk-container-id-6 div.sk-item::before, #sk-container-id-6 div.sk-parallel-item::before {content: \"\";position: absolute;border-left: 1px solid gray;box-sizing: border-box;top: 0;bottom: 0;left: 50%;z-index: -1;}#sk-container-id-6 div.sk-parallel-item {display: flex;flex-direction: column;z-index: 1;position: relative;background-color: white;}#sk-container-id-6 div.sk-parallel-item:first-child::after {align-self: flex-end;width: 50%;}#sk-container-id-6 div.sk-parallel-item:last-child::after {align-self: flex-start;width: 50%;}#sk-container-id-6 div.sk-parallel-item:only-child::after {width: 0;}#sk-container-id-6 div.sk-dashed-wrapped {border: 1px dashed gray;margin: 0 0.4em 0.5em 0.4em;box-sizing: border-box;padding-bottom: 0.4em;background-color: white;}#sk-container-id-6 div.sk-label label {font-family: monospace;font-weight: bold;display: inline-block;line-height: 1.2em;}#sk-container-id-6 div.sk-label-container {text-align: center;}#sk-container-id-6 div.sk-container {/* jupyter's `normalize.less` sets `[hidden] { display: none; }` but bootstrap.min.css set `[hidden] { display: none !important; }` so we also need the `!important` here to be able to override the default hidden behavior on the sphinx rendered scikit-learn.org. See: https://github.com/scikit-learn/scikit-learn/issues/21755 */display: inline-block !important;position: relative;}#sk-container-id-6 div.sk-text-repr-fallback {display: none;}</style><div id=\"sk-container-id-6\" class=\"sk-top-container\"><div class=\"sk-text-repr-fallback\"><pre>LogisticRegression(max_iter=500, random_state=42)</pre><b>In a Jupyter environment, please rerun this cell to show the HTML representation or trust the notebook. <br />On GitHub, the HTML representation is unable to render, please try loading this page with nbviewer.org.</b></div><div class=\"sk-container\" hidden><div class=\"sk-item\"><div class=\"sk-estimator sk-toggleable\"><input class=\"sk-toggleable__control sk-hidden--visually\" id=\"sk-estimator-id-8\" type=\"checkbox\" checked><label for=\"sk-estimator-id-8\" class=\"sk-toggleable__label sk-toggleable__label-arrow\">LogisticRegression</label><div class=\"sk-toggleable__content\"><pre>LogisticRegression(max_iter=500, random_state=42)</pre></div></div></div></div></div>"
     },
     "execution_count": 110,
     "metadata": {},
     "output_type": "execute_result"
    }
   ],
   "source": [
    "logistic_model = LogisticRegression(penalty=\"l2\", max_iter=500, C=1.0, random_state=42)\n",
    "logistic_model.fit(df_matriz_tf_idf.head(800), categoria)"
   ],
   "metadata": {
    "collapsed": false,
    "ExecuteTime": {
     "end_time": "2023-11-07T08:43:57.435627100Z",
     "start_time": "2023-11-07T08:43:56.538981300Z"
    }
   },
   "id": "4779e5234879eec4"
  },
  {
   "cell_type": "markdown",
   "source": [
    "Se escogen los ultimos 200 datos ya que esos son los datos de test que fusionamos anteriormente"
   ],
   "metadata": {
    "collapsed": false
   },
   "id": "e5973f65f2581df3"
  },
  {
   "cell_type": "code",
   "execution_count": 111,
   "outputs": [],
   "source": [
    "logistic_prediction = logistic_model.predict(df_matriz_tf_idf.tail(200))"
   ],
   "metadata": {
    "collapsed": false,
    "ExecuteTime": {
     "end_time": "2023-11-07T08:44:11.449289900Z",
     "start_time": "2023-11-07T08:44:11.415604500Z"
    }
   },
   "id": "49bb81bff5f3275b"
  },
  {
   "cell_type": "code",
   "execution_count": 112,
   "outputs": [],
   "source": [
    "df_answer_logistic = pd.DataFrame(data= zip(index_test,logistic_prediction),\n",
    "                         columns=[\"ID\",\"categoria\"])"
   ],
   "metadata": {
    "collapsed": false,
    "ExecuteTime": {
     "end_time": "2023-11-07T08:44:12.198177700Z",
     "start_time": "2023-11-07T08:44:12.163224900Z"
    }
   },
   "id": "e518608d1b6d1b8d"
  },
  {
   "cell_type": "code",
   "execution_count": 122,
   "outputs": [],
   "source": [
    "df_answer_logistic.to_csv(\"./predictions/categories/prediction_logistic.csv\", index=False)"
   ],
   "metadata": {
    "collapsed": false,
    "ExecuteTime": {
     "end_time": "2023-11-07T08:45:30.357934600Z",
     "start_time": "2023-11-07T08:45:30.327011500Z"
    }
   },
   "id": "ef1214b5509c0f0"
  },
  {
   "cell_type": "markdown",
   "source": [
    "### Random Forest"
   ],
   "metadata": {
    "collapsed": false
   },
   "id": "dcbbe5d9bbacea36"
  },
  {
   "cell_type": "code",
   "execution_count": 115,
   "outputs": [],
   "source": [
    "random_forest_prediction = best_random_forest_model.predict(df_matriz_tf_idf.tail(200))"
   ],
   "metadata": {
    "collapsed": false,
    "ExecuteTime": {
     "end_time": "2023-11-07T08:44:44.772639Z",
     "start_time": "2023-11-07T08:44:44.660217900Z"
    }
   },
   "id": "d71c43c0f60892e"
  },
  {
   "cell_type": "code",
   "execution_count": 116,
   "outputs": [],
   "source": [
    "df_answer_random_forest = pd.DataFrame(data= zip(index_test,random_forest_prediction),\n",
    "columns=[\"ID\",\"categoria\"])"
   ],
   "metadata": {
    "collapsed": false,
    "ExecuteTime": {
     "end_time": "2023-11-07T08:44:46.551087300Z",
     "start_time": "2023-11-07T08:44:46.518026800Z"
    }
   },
   "id": "ae38aa95e7d6e761"
  },
  {
   "cell_type": "code",
   "execution_count": 117,
   "outputs": [],
   "source": [
    "df_answer_random_forest.to_csv(\"./predictions/categories/prediction_random_forest.csv\", index=False)"
   ],
   "metadata": {
    "collapsed": false,
    "ExecuteTime": {
     "end_time": "2023-11-07T08:44:47.180865Z",
     "start_time": "2023-11-07T08:44:47.122938Z"
    }
   },
   "id": "88884d1e903655ed"
  },
  {
   "cell_type": "markdown",
   "source": [
    "### LSTM"
   ],
   "metadata": {
    "collapsed": false
   },
   "id": "97a4c082d7965599"
  },
  {
   "cell_type": "code",
   "execution_count": 118,
   "outputs": [],
   "source": [
    "tokenizer = Tokenizer(num_words=max_words)\n",
    "tokenizer.fit_on_texts(df_test['titulo'])\n",
    "sequences = tokenizer.texts_to_sequences(df_test['titulo'])\n",
    "sequences = pad_sequences(sequences, maxlen=max_len)"
   ],
   "metadata": {
    "collapsed": false,
    "ExecuteTime": {
     "end_time": "2023-11-07T08:44:52.132525500Z",
     "start_time": "2023-11-07T08:44:52.090740300Z"
    }
   },
   "id": "df1a7094b4de99e5"
  },
  {
   "cell_type": "code",
   "execution_count": 119,
   "outputs": [
    {
     "name": "stdout",
     "output_type": "stream",
     "text": [
      "7/7 [==============================] - 1s 7ms/step\n"
     ]
    }
   ],
   "source": [
    "lstm_prediction = lstm_model.predict(sequences)\n",
    "lstm_prediction = label.inverse_transform(lstm_prediction)"
   ],
   "metadata": {
    "collapsed": false,
    "ExecuteTime": {
     "end_time": "2023-11-07T08:44:53.432239Z",
     "start_time": "2023-11-07T08:44:52.708786700Z"
    }
   },
   "id": "a9bcefa745b5effb"
  },
  {
   "cell_type": "code",
   "execution_count": 120,
   "outputs": [],
   "source": [
    "df_answer_lstm = pd.DataFrame(data= zip(index_test,lstm_prediction),\n",
    "                                       columns=[\"ID\",\"categoria\"])"
   ],
   "metadata": {
    "collapsed": false,
    "ExecuteTime": {
     "end_time": "2023-11-07T08:44:54.361852600Z",
     "start_time": "2023-11-07T08:44:54.316895400Z"
    }
   },
   "id": "aa2e67021946b7cc"
  },
  {
   "cell_type": "code",
   "execution_count": 121,
   "outputs": [],
   "source": [
    "df_answer_lstm.to_csv(\"./predictions/categories/prediction_lstm.csv\", index=False)"
   ],
   "metadata": {
    "collapsed": false,
    "ExecuteTime": {
     "end_time": "2023-11-07T08:44:54.880425900Z",
     "start_time": "2023-11-07T08:44:54.821766300Z"
    }
   },
   "id": "8bee2e94239c77b9"
  },
  {
   "cell_type": "markdown",
   "source": [
    "# Conclusion"
   ],
   "metadata": {
    "collapsed": false
   },
   "id": "2156a4801f99e3f5"
  },
  {
   "cell_type": "markdown",
   "source": [
    "Segun los datos analizados y el accuracy y la matriz de confusion de cada uno de los modelos, el mejor modelo para este contexto en especifico es el modelo de Random Forest"
   ],
   "metadata": {
    "collapsed": false
   },
   "id": "90d3111a1303119"
  },
  {
   "cell_type": "code",
   "execution_count": null,
   "outputs": [],
   "source": [],
   "metadata": {
    "collapsed": false,
    "ExecuteTime": {
     "start_time": "2023-11-07T08:39:33.646368300Z"
    }
   },
   "id": "86d8d000fffcbe30"
  }
 ],
 "metadata": {
  "kernelspec": {
   "display_name": "Python 3",
   "language": "python",
   "name": "python3"
  },
  "language_info": {
   "codemirror_mode": {
    "name": "ipython",
    "version": 2
   },
   "file_extension": ".py",
   "mimetype": "text/x-python",
   "name": "python",
   "nbconvert_exporter": "python",
   "pygments_lexer": "ipython2",
   "version": "2.7.6"
  }
 },
 "nbformat": 4,
 "nbformat_minor": 5
}
